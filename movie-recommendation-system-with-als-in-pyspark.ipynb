{
 "cells": [
  {
   "cell_type": "code",
   "execution_count": 1,
   "metadata": {
    "_kg_hide-input": true,
    "_kg_hide-output": true
   },
   "outputs": [
    {
     "data": {
      "text/html": [
       "<style type=\"text/css\">\n",
       "                                       \n",
       "div.h2 {\n",
       "    background-color: #3E5AE6;\n",
       "    background-image: linear-gradient(120deg, #3E5AE6, #A37CE6);\n",
       "    text-align: left;\n",
       "    color: white;              \n",
       "    padding:9px;\n",
       "    padding-right: 100px; \n",
       "    font-size: 20px; \n",
       "    max-width: 1500px; \n",
       "    margin: auto; \n",
       "    margin-top: 40px; \n",
       "}                                  \n",
       "                                      \n",
       "body {\n",
       "  font-size: 12px;\n",
       "}    \n",
       "                                                                               \n",
       "div.h3 {\n",
       "    color: #3E5AE6; \n",
       "    font-size: 18px; \n",
       "    margin-top: 20px; \n",
       "    margin-bottom:4px;\n",
       "}\n",
       "                                     \n",
       "div.h4 {\n",
       "    color: #159957;\n",
       "    font-size: 15px; \n",
       "    margin-top: 20px; \n",
       "    margin-bottom: 8px;\n",
       "}\n",
       "                                         \n",
       "span.note {\n",
       "    font-size: 5; \n",
       "    color: gray; \n",
       "    font-style: italic;\n",
       "}\n",
       "                                        \n",
       "hr {\n",
       "    display: block; \n",
       "    color: gray\n",
       "    height: 1px; \n",
       "    border: 0; \n",
       "    border-top: 1px solid;\n",
       "}\n",
       "  \n",
       "                                      \n",
       "hr.light {\n",
       "    display: block; \n",
       "    color: lightgray\n",
       "    height: 1px; \n",
       "    border: 0; \n",
       "    border-top: 1px solid;\n",
       "}   \n",
       "                                         \n",
       "table.dataframe th \n",
       "{\n",
       "    border: 1px darkgray solid;\n",
       "    color: black;\n",
       "    background-color: white;\n",
       "}\n",
       "                                       \n",
       "table.dataframe td \n",
       "{\n",
       "    border: 1px darkgray solid;\n",
       "    color: black;\n",
       "    background-color: white;\n",
       "    font-size: 14px;\n",
       "    text-align: center;\n",
       "} \n",
       "                                         \n",
       "table.rules th \n",
       "{\n",
       "    border: 1px darkgray solid;\n",
       "    color: black;\n",
       "    background-color: white;\n",
       "    font-size: 14px;\n",
       "}\n",
       "                                          \n",
       "table.rules td \n",
       "{\n",
       "    border: 1px darkgray solid;\n",
       "    color: black;\n",
       "    background-color: white;\n",
       "    font-size: 13px;\n",
       "    text-align: center;\n",
       "} \n",
       "                                      \n",
       "                                      \n",
       "table.rules tr.best\n",
       "{\n",
       "    color: green;\n",
       "}    \n",
       "                                       \n",
       ".output { \n",
       "    align-items: center; \n",
       "}\n",
       "                                      \n",
       ".output_png {\n",
       "    display: table-cell;\n",
       "    text-align: center;\n",
       "    margin:auto;\n",
       "}                                          \n",
       "                                                                                                                                                                                                                                      \n",
       "</style>  \n"
      ],
      "text/plain": [
       "<IPython.core.display.HTML object>"
      ]
     },
     "metadata": {},
     "output_type": "display_data"
    }
   ],
   "source": [
    "%%HTML\n",
    "<style type=\"text/css\">\n",
    "                                       \n",
    "div.h2 {\n",
    "    background-color: #3E5AE6;\n",
    "    background-image: linear-gradient(120deg, #3E5AE6, #A37CE6);\n",
    "    text-align: left;\n",
    "    color: white;              \n",
    "    padding:9px;\n",
    "    padding-right: 100px; \n",
    "    font-size: 20px; \n",
    "    max-width: 1500px; \n",
    "    margin: auto; \n",
    "    margin-top: 40px; \n",
    "}                                  \n",
    "                                      \n",
    "body {\n",
    "  font-size: 12px;\n",
    "}    \n",
    "                                                                               \n",
    "div.h3 {\n",
    "    color: #3E5AE6; \n",
    "    font-size: 18px; \n",
    "    margin-top: 20px; \n",
    "    margin-bottom:4px;\n",
    "}\n",
    "                                     \n",
    "div.h4 {\n",
    "    color: #159957;\n",
    "    font-size: 15px; \n",
    "    margin-top: 20px; \n",
    "    margin-bottom: 8px;\n",
    "}\n",
    "                                         \n",
    "span.note {\n",
    "    font-size: 5; \n",
    "    color: gray; \n",
    "    font-style: italic;\n",
    "}\n",
    "                                        \n",
    "hr {\n",
    "    display: block; \n",
    "    color: gray\n",
    "    height: 1px; \n",
    "    border: 0; \n",
    "    border-top: 1px solid;\n",
    "}\n",
    "  \n",
    "                                      \n",
    "hr.light {\n",
    "    display: block; \n",
    "    color: lightgray\n",
    "    height: 1px; \n",
    "    border: 0; \n",
    "    border-top: 1px solid;\n",
    "}   \n",
    "                                         \n",
    "table.dataframe th \n",
    "{\n",
    "    border: 1px darkgray solid;\n",
    "    color: black;\n",
    "    background-color: white;\n",
    "}\n",
    "                                       \n",
    "table.dataframe td \n",
    "{\n",
    "    border: 1px darkgray solid;\n",
    "    color: black;\n",
    "    background-color: white;\n",
    "    font-size: 14px;\n",
    "    text-align: center;\n",
    "} \n",
    "                                         \n",
    "table.rules th \n",
    "{\n",
    "    border: 1px darkgray solid;\n",
    "    color: black;\n",
    "    background-color: white;\n",
    "    font-size: 14px;\n",
    "}\n",
    "                                          \n",
    "table.rules td \n",
    "{\n",
    "    border: 1px darkgray solid;\n",
    "    color: black;\n",
    "    background-color: white;\n",
    "    font-size: 13px;\n",
    "    text-align: center;\n",
    "} \n",
    "                                      \n",
    "                                      \n",
    "table.rules tr.best\n",
    "{\n",
    "    color: green;\n",
    "}    \n",
    "                                       \n",
    ".output { \n",
    "    align-items: center; \n",
    "}\n",
    "                                      \n",
    ".output_png {\n",
    "    display: table-cell;\n",
    "    text-align: center;\n",
    "    margin:auto;\n",
    "}                                          \n",
    "                                                                                                                                                                                                                                      \n",
    "</style>  "
   ]
  },
  {
   "cell_type": "markdown",
   "metadata": {},
   "source": [
    "<center><iframe src='https://gfycat.com/ifr/AngelicAgonizingEidolonhelvum' frameborder='0' scrolling='no' allowfullscreen width='640' height='412'></iframe></center>"
   ]
  },
  {
   "cell_type": "markdown",
   "metadata": {},
   "source": [
    "<br>\n",
    "<a id='bkground'></a>\n",
    "<div class=\"h2\"><center>Introduction</center></div>\n",
    "<br>\n",
    "\n",
    "Recommendation systems having been much present right now, there are so many approaches to make and improve they.<br>\n",
    "We can find they in online shops, music streaming and video streaming services.<br>\n",
    "In this Kernel, I make an EDA on [The Movies Dataset](https://www.kaggle.com/rounakbanik/the-movies-dataset) and got the data used for movie ratings to build a Recommendation System with Alternating Least Square (ALS), with it, it will be possible make a user based system or a item based system.<br>\n",
    "<br>\n",
    "For this job, I will work with Pandas Dataframes, visualizations with Altair, printable text with BeautifulText and PySpark for ALS.<br>\n",
    "This Kernel is inspired by the great work made by these guys:\n",
    "* @tombresee for made this awesome [kernel](https://www.kaggle.com/tombresee/next-gen-eda) with great use of HTML.\n",
    "* @artgor with his great kernels using Altair for Data Visualization, [here's an example](https://www.kaggle.com/artgor/dota-eda-fe-and-models)\n",
    "* @vchulski for made this [kernel](https://www.kaggle.com/vchulski/tutorial-collaborative-filtering-with-pyspark) that explain so good how to use ALS with PySpark.\n",
    "\n",
    "Alright, let's start installing all nedeed modules and imports, you can in the buttons to see the code or output."
   ]
  },
  {
   "cell_type": "code",
   "execution_count": 2,
   "metadata": {
    "_kg_hide-input": true,
    "_kg_hide-output": true
   },
   "outputs": [
    {
     "name": "stdout",
     "output_type": "stream",
     "text": [
      "Collecting vega_datasets\r\n",
      "  Downloading vega_datasets-0.8.0-py2.py3-none-any.whl (210 kB)\r\n",
      "\u001b[K     |████████████████████████████████| 210 kB 376 kB/s \r\n",
      "\u001b[?25hCollecting notebook\r\n",
      "  Downloading notebook-6.0.3-py3-none-any.whl (9.7 MB)\r\n",
      "\u001b[K     |████████████████████████████████| 9.7 MB 49.2 MB/s \r\n",
      "\u001b[?25hCollecting vega\r\n",
      "  Downloading vega-3.2.0-py3-none-any.whl (1.2 MB)\r\n",
      "\u001b[K     |████████████████████████████████| 1.2 MB 34.8 MB/s \r\n",
      "\u001b[?25hRequirement already satisfied, skipping upgrade: pandas in /opt/conda/lib/python3.6/site-packages (from vega_datasets) (0.25.3)\r\n",
      "Requirement already satisfied, skipping upgrade: tornado>=5.0 in /opt/conda/lib/python3.6/site-packages (from notebook) (5.0.2)\r\n",
      "Requirement already satisfied, skipping upgrade: ipykernel in /opt/conda/lib/python3.6/site-packages (from notebook) (5.1.1)\r\n",
      "Requirement already satisfied, skipping upgrade: Send2Trash in /opt/conda/lib/python3.6/site-packages (from notebook) (1.5.0)\r\n",
      "Requirement already satisfied, skipping upgrade: terminado>=0.8.1 in /opt/conda/lib/python3.6/site-packages (from notebook) (0.8.3)\r\n",
      "Requirement already satisfied, skipping upgrade: traitlets>=4.2.1 in /opt/conda/lib/python3.6/site-packages (from notebook) (4.3.3)\r\n",
      "Requirement already satisfied, skipping upgrade: prometheus-client in /opt/conda/lib/python3.6/site-packages (from notebook) (0.7.1)\r\n",
      "Requirement already satisfied, skipping upgrade: jupyter-core>=4.6.1 in /opt/conda/lib/python3.6/site-packages (from notebook) (4.6.1)\r\n",
      "Requirement already satisfied, skipping upgrade: pyzmq>=17 in /opt/conda/lib/python3.6/site-packages (from notebook) (18.1.1)\r\n",
      "Requirement already satisfied, skipping upgrade: jinja2 in /opt/conda/lib/python3.6/site-packages (from notebook) (2.11.1)\r\n",
      "Requirement already satisfied, skipping upgrade: nbconvert in /opt/conda/lib/python3.6/site-packages (from notebook) (5.6.1)\r\n",
      "Requirement already satisfied, skipping upgrade: jupyter-client>=5.3.4 in /opt/conda/lib/python3.6/site-packages (from notebook) (6.1.2)\r\n",
      "Requirement already satisfied, skipping upgrade: nbformat in /opt/conda/lib/python3.6/site-packages (from notebook) (5.0.4)\r\n",
      "Requirement already satisfied, skipping upgrade: ipython-genutils in /opt/conda/lib/python3.6/site-packages (from notebook) (0.2.0)\r\n",
      "Requirement already satisfied, skipping upgrade: jupyter<2.0.0,>=1.0.0 in /opt/conda/lib/python3.6/site-packages (from vega) (1.0.0)\r\n",
      "Requirement already satisfied, skipping upgrade: numpy>=1.13.3 in /opt/conda/lib/python3.6/site-packages (from pandas->vega_datasets) (1.18.2)\r\n",
      "Requirement already satisfied, skipping upgrade: python-dateutil>=2.6.1 in /opt/conda/lib/python3.6/site-packages (from pandas->vega_datasets) (2.8.1)\r\n",
      "Requirement already satisfied, skipping upgrade: pytz>=2017.2 in /opt/conda/lib/python3.6/site-packages (from pandas->vega_datasets) (2019.3)\r\n",
      "Requirement already satisfied, skipping upgrade: ipython>=5.0.0 in /opt/conda/lib/python3.6/site-packages (from ipykernel->notebook) (7.13.0)\r\n",
      "Requirement already satisfied, skipping upgrade: decorator in /opt/conda/lib/python3.6/site-packages (from traitlets>=4.2.1->notebook) (4.4.2)\r\n",
      "Requirement already satisfied, skipping upgrade: six in /opt/conda/lib/python3.6/site-packages (from traitlets>=4.2.1->notebook) (1.14.0)\r\n",
      "Requirement already satisfied, skipping upgrade: MarkupSafe>=0.23 in /opt/conda/lib/python3.6/site-packages (from jinja2->notebook) (1.1.1)\r\n",
      "Requirement already satisfied, skipping upgrade: defusedxml in /opt/conda/lib/python3.6/site-packages (from nbconvert->notebook) (0.6.0)\r\n",
      "Requirement already satisfied, skipping upgrade: mistune<2,>=0.8.1 in /opt/conda/lib/python3.6/site-packages (from nbconvert->notebook) (0.8.4)\r\n",
      "Requirement already satisfied, skipping upgrade: testpath in /opt/conda/lib/python3.6/site-packages (from nbconvert->notebook) (0.4.4)\r\n",
      "Requirement already satisfied, skipping upgrade: pandocfilters>=1.4.1 in /opt/conda/lib/python3.6/site-packages (from nbconvert->notebook) (1.4.2)\r\n",
      "Requirement already satisfied, skipping upgrade: bleach in /opt/conda/lib/python3.6/site-packages (from nbconvert->notebook) (3.1.0)\r\n",
      "Requirement already satisfied, skipping upgrade: pygments in /opt/conda/lib/python3.6/site-packages (from nbconvert->notebook) (2.6.1)\r\n",
      "Requirement already satisfied, skipping upgrade: entrypoints>=0.2.2 in /opt/conda/lib/python3.6/site-packages (from nbconvert->notebook) (0.3)\r\n",
      "Requirement already satisfied, skipping upgrade: jsonschema!=2.5.0,>=2.4 in /opt/conda/lib/python3.6/site-packages (from nbformat->notebook) (3.2.0)\r\n",
      "Requirement already satisfied, skipping upgrade: jupyter-console in /opt/conda/lib/python3.6/site-packages (from jupyter<2.0.0,>=1.0.0->vega) (6.1.0)\r\n",
      "Requirement already satisfied, skipping upgrade: ipywidgets in /opt/conda/lib/python3.6/site-packages (from jupyter<2.0.0,>=1.0.0->vega) (7.5.1)\r\n",
      "Requirement already satisfied, skipping upgrade: qtconsole in /opt/conda/lib/python3.6/site-packages (from jupyter<2.0.0,>=1.0.0->vega) (4.7.2)\r\n",
      "Requirement already satisfied, skipping upgrade: setuptools>=18.5 in /opt/conda/lib/python3.6/site-packages (from ipython>=5.0.0->ipykernel->notebook) (46.1.3.post20200330)\r\n",
      "Requirement already satisfied, skipping upgrade: prompt-toolkit!=3.0.0,!=3.0.1,<3.1.0,>=2.0.0 in /opt/conda/lib/python3.6/site-packages (from ipython>=5.0.0->ipykernel->notebook) (3.0.4)\r\n",
      "Requirement already satisfied, skipping upgrade: backcall in /opt/conda/lib/python3.6/site-packages (from ipython>=5.0.0->ipykernel->notebook) (0.1.0)\r\n",
      "Requirement already satisfied, skipping upgrade: pexpect; sys_platform != \"win32\" in /opt/conda/lib/python3.6/site-packages (from ipython>=5.0.0->ipykernel->notebook) (4.8.0)\r\n",
      "Requirement already satisfied, skipping upgrade: jedi>=0.10 in /opt/conda/lib/python3.6/site-packages (from ipython>=5.0.0->ipykernel->notebook) (0.15.2)\r\n",
      "Requirement already satisfied, skipping upgrade: pickleshare in /opt/conda/lib/python3.6/site-packages (from ipython>=5.0.0->ipykernel->notebook) (0.7.5)\r\n",
      "Requirement already satisfied, skipping upgrade: webencodings in /opt/conda/lib/python3.6/site-packages (from bleach->nbconvert->notebook) (0.5.1)\r\n",
      "Requirement already satisfied, skipping upgrade: pyrsistent>=0.14.0 in /opt/conda/lib/python3.6/site-packages (from jsonschema!=2.5.0,>=2.4->nbformat->notebook) (0.16.0)\r\n",
      "Requirement already satisfied, skipping upgrade: attrs>=17.4.0 in /opt/conda/lib/python3.6/site-packages (from jsonschema!=2.5.0,>=2.4->nbformat->notebook) (19.3.0)\r\n",
      "Requirement already satisfied, skipping upgrade: importlib-metadata; python_version < \"3.8\" in /opt/conda/lib/python3.6/site-packages (from jsonschema!=2.5.0,>=2.4->nbformat->notebook) (1.5.0)\r\n",
      "Requirement already satisfied, skipping upgrade: widgetsnbextension~=3.5.0 in /opt/conda/lib/python3.6/site-packages (from ipywidgets->jupyter<2.0.0,>=1.0.0->vega) (3.5.1)\r\n",
      "Requirement already satisfied, skipping upgrade: qtpy in /opt/conda/lib/python3.6/site-packages (from qtconsole->jupyter<2.0.0,>=1.0.0->vega) (1.9.0)\r\n",
      "Requirement already satisfied, skipping upgrade: wcwidth in /opt/conda/lib/python3.6/site-packages (from prompt-toolkit!=3.0.0,!=3.0.1,<3.1.0,>=2.0.0->ipython>=5.0.0->ipykernel->notebook) (0.1.9)\r\n",
      "Requirement already satisfied, skipping upgrade: ptyprocess>=0.5 in /opt/conda/lib/python3.6/site-packages (from pexpect; sys_platform != \"win32\"->ipython>=5.0.0->ipykernel->notebook) (0.6.0)\r\n",
      "Requirement already satisfied, skipping upgrade: parso>=0.5.2 in /opt/conda/lib/python3.6/site-packages (from jedi>=0.10->ipython>=5.0.0->ipykernel->notebook) (0.5.2)\r\n",
      "Requirement already satisfied, skipping upgrade: zipp>=0.5 in /opt/conda/lib/python3.6/site-packages (from importlib-metadata; python_version < \"3.8\"->jsonschema!=2.5.0,>=2.4->nbformat->notebook) (2.2.0)\r\n",
      "\u001b[31mERROR: vega 3.2.0 has requirement pandas<2.0.0,>=1.0.0, but you'll have pandas 0.25.3 which is incompatible.\u001b[0m\r\n",
      "Installing collected packages: vega-datasets, notebook, vega\r\n",
      "  Attempting uninstall: notebook\r\n",
      "    Found existing installation: notebook 5.5.0\r\n",
      "    Uninstalling notebook-5.5.0:\r\n",
      "      Successfully uninstalled notebook-5.5.0\r\n",
      "Successfully installed notebook-6.0.3 vega-3.2.0 vega-datasets-0.8.0\r\n"
     ]
    }
   ],
   "source": [
    "!pip install -U vega_datasets notebook vega"
   ]
  },
  {
   "cell_type": "code",
   "execution_count": 3,
   "metadata": {
    "_kg_hide-input": true,
    "_kg_hide-output": true
   },
   "outputs": [
    {
     "name": "stdout",
     "output_type": "stream",
     "text": [
      "Requirement already satisfied: ujson in /opt/conda/lib/python3.6/site-packages (1.35)\r\n"
     ]
    }
   ],
   "source": [
    "!pip install ujson"
   ]
  },
  {
   "cell_type": "code",
   "execution_count": 4,
   "metadata": {
    "_kg_hide-input": true,
    "_kg_hide-output": true
   },
   "outputs": [
    {
     "name": "stdout",
     "output_type": "stream",
     "text": [
      "env: JOBLIB_TEMP_FOLDER=/tmp\n",
      "Collecting pyspark\r\n",
      "  Downloading pyspark-2.4.5.tar.gz (217.8 MB)\r\n",
      "\u001b[K     |████████████████████████████████| 217.8 MB 4.3 kB/s \r\n",
      "\u001b[?25hCollecting py4j==0.10.7\r\n",
      "  Downloading py4j-0.10.7-py2.py3-none-any.whl (197 kB)\r\n",
      "\u001b[K     |████████████████████████████████| 197 kB 4.0 MB/s \r\n",
      "\u001b[?25hBuilding wheels for collected packages: pyspark\r\n",
      "  Building wheel for pyspark (setup.py) ... \u001b[?25l-\b \b\\\b \b|\b \b/\b \b-\b \b\\\b \b|\b \b/\b \b-\b \b\\\b \b|\b \b/\b \b-\b \b\\\b \b|\b \b/\b \b-\b \b\\\b \b|\b \b/\b \b-\b \b\\\b \b|\b \b/\b \b-\b \b\\\b \b|\b \b/\b \b-\b \b\\\b \b|\b \b/\b \b-\b \b\\\b \b|\b \b/\b \b-\b \b\\\b \b|\b \b/\b \b-\b \b\\\b \b|\b \b/\b \b-\b \b\\\b \b|\b \b/\b \b-\b \b\\\b \b|\b \b/\b \b-\b \b\\\b \b|\b \b/\b \b-\b \b\\\b \b|\b \b/\b \b-\b \bdone\r\n",
      "\u001b[?25h  Created wheel for pyspark: filename=pyspark-2.4.5-py2.py3-none-any.whl size=218258791 sha256=2d57c35b64d9a18e0a456230094683ea46d1b560a1d644c67f55196e44083fd9\r\n",
      "  Stored in directory: /root/.cache/pip/wheels/84/30/e3/c51c5cd0229631e662d29d7b578a3e5949a4c8db033ffb70aa\r\n",
      "Successfully built pyspark\r\n",
      "Installing collected packages: py4j, pyspark\r\n",
      "Successfully installed py4j-0.10.7 pyspark-2.4.5\r\n"
     ]
    }
   ],
   "source": [
    "%env JOBLIB_TEMP_FOLDER=/tmp\n",
    "!pip install pyspark"
   ]
  },
  {
   "cell_type": "code",
   "execution_count": 5,
   "metadata": {
    "_cell_guid": "b1076dfc-b9ad-4769-8c92-a6c4dae69d19",
    "_kg_hide-input": true,
    "_kg_hide-output": true,
    "_uuid": "8f2839f25d086af736a60e9eeb907d3b93b6e0e5"
   },
   "outputs": [
    {
     "data": {
      "text/html": [
       "        <script type=\"text/javascript\">\n",
       "        window.PlotlyConfig = {MathJaxConfig: 'local'};\n",
       "        if (window.MathJax) {MathJax.Hub.Config({SVG: {font: \"STIX-Web\"}});}\n",
       "        if (typeof require !== 'undefined') {\n",
       "        require.undef(\"plotly\");\n",
       "        requirejs.config({\n",
       "            paths: {\n",
       "                'plotly': ['https://cdn.plot.ly/plotly-latest.min']\n",
       "            }\n",
       "        });\n",
       "        require(['plotly'], function(Plotly) {\n",
       "            window._Plotly = Plotly;\n",
       "        });\n",
       "        }\n",
       "        </script>\n",
       "        "
      ]
     },
     "metadata": {},
     "output_type": "display_data"
    }
   ],
   "source": [
    "import numpy as np\n",
    "import pandas as pd\n",
    "pd.set_option('display.max_columns', 8)\n",
    "import os\n",
    "import gc\n",
    "import ujson as json\n",
    "import matplotlib.pyplot as plt\n",
    "%matplotlib inline\n",
    "import matplotlib.patches as patches\n",
    "import seaborn as sns\n",
    "\n",
    "import plotly as py\n",
    "import plotly.express as px\n",
    "import plotly.graph_objs as go\n",
    "from plotly.subplots import make_subplots\n",
    "from plotly.offline import download_plotlyjs\n",
    "from plotly.offline import init_notebook_mode\n",
    "from plotly.offline import plot,iplot\n",
    "\n",
    "init_notebook_mode(connected=True)\n",
    "\n",
    "import altair as alt\n",
    "from altair.vega import v5\n",
    "from IPython.display import HTML\n",
    "alt.renderers.enable('notebook')\n",
    "\n",
    "from IPython.display import HTML\n",
    "from IPython.display import Image\n",
    "from IPython.display import display\n",
    "from IPython.core.display import display\n",
    "from IPython.core.display import HTML\n",
    "from IPython.core.interactiveshell import InteractiveShell\n",
    "InteractiveShell.ast_node_interactivity = \"all\"\n",
    "\n",
    "import warnings\n",
    "warnings.filterwarnings('ignore')\n",
    "\n",
    "plt.style.use('seaborn') \n",
    "color_pal = [x['color'] for x in plt.rcParams['axes.prop_cycle']]\n",
    "%config InlineBackend.figure_format = 'svg'  \n",
    "th_props = [('font-size', '13px'), ('background-color', 'white'), ('color', '#666666')]\n",
    "td_props = [('font-size', '15px'), ('background-color', 'white')]\n",
    "styles = [dict(selector=\"td\", props=td_props), dict(selector=\"th\", props=th_props)]\n",
    "\n",
    "SMALL_SIZE = 8\n",
    "MEDIUM_SIZE = 10\n",
    "BIGGER_SIZE = 12\n",
    "plt.rc('font', size=SMALL_SIZE)          # controls default text sizes\n",
    "plt.rc('axes', titlesize=SMALL_SIZE)     # fontsize of the axes title\n",
    "plt.rc('axes', labelsize=MEDIUM_SIZE)    # fontsize of the x and y labels\n",
    "plt.rc('xtick', labelsize=SMALL_SIZE)    # fontsize of the tick labels\n",
    "plt.rc('ytick', labelsize=SMALL_SIZE)    # fontsize of the tick labels\n",
    "plt.rc('legend', fontsize=SMALL_SIZE)    # legend fontsize\n",
    "plt.rc('figure', titlesize=BIGGER_SIZE)  # fontsize of the figure title\n",
    "\n",
    "DATA_PATH = '../input/the-movies-dataset/'"
   ]
  },
  {
   "cell_type": "code",
   "execution_count": 6,
   "metadata": {
    "_kg_hide-input": true,
    "_kg_hide-output": true
   },
   "outputs": [
    {
     "data": {
      "text/html": [
       "<script>    requirejs.config({\n",
       "        baseUrl: 'https://cdn.jsdelivr.net/npm/',\n",
       "        paths: {'vega': 'https://cdn.jsdelivr.net/npm/vega@v5.9.0?noext', 'vega-lib': 'https://cdn.jsdelivr.net/npm/vega-lib?noext', 'vega-lite': 'https://cdn.jsdelivr.net/npm/vega-lite@v4.0.2?noext', 'vega-embed': 'https://cdn.jsdelivr.net/npm/vega-embed@3?noext'}\n",
       "    });\n",
       "    </script>"
      ],
      "text/plain": [
       "<IPython.core.display.HTML object>"
      ]
     },
     "execution_count": 6,
     "metadata": {},
     "output_type": "execute_result"
    }
   ],
   "source": [
    "# using ideas from this kernel: https://www.kaggle.com/notslush/altair-visualization-2018-stackoverflow-survey\n",
    "def prepare_altair():\n",
    "    \"\"\"\n",
    "    Helper function to prepare altair for working.\n",
    "    \"\"\"\n",
    "\n",
    "    vega_url = 'https://cdn.jsdelivr.net/npm/vega@' + v5.SCHEMA_VERSION\n",
    "    vega_lib_url = 'https://cdn.jsdelivr.net/npm/vega-lib'\n",
    "    vega_lite_url = 'https://cdn.jsdelivr.net/npm/vega-lite@' + alt.SCHEMA_VERSION\n",
    "    vega_embed_url = 'https://cdn.jsdelivr.net/npm/vega-embed@3'\n",
    "    noext = \"?noext\"\n",
    "    \n",
    "    paths = {\n",
    "        'vega': vega_url + noext,\n",
    "        'vega-lib': vega_lib_url + noext,\n",
    "        'vega-lite': vega_lite_url + noext,\n",
    "        'vega-embed': vega_embed_url + noext\n",
    "    }\n",
    "    \n",
    "    workaround = f\"\"\"    requirejs.config({{\n",
    "        baseUrl: 'https://cdn.jsdelivr.net/npm/',\n",
    "        paths: {paths}\n",
    "    }});\n",
    "    \"\"\"\n",
    "    \n",
    "    return workaround\n",
    "    \n",
    "def add_autoincrement(render_func):\n",
    "    # Keep track of unique <div/> IDs\n",
    "    cache = {}\n",
    "    def wrapped(chart, id=\"vega-chart\", autoincrement=True):\n",
    "        if autoincrement:\n",
    "            if id in cache:\n",
    "                counter = 1 + cache[id]\n",
    "                cache[id] = counter\n",
    "            else:\n",
    "                cache[id] = 0\n",
    "            actual_id = id if cache[id] == 0 else id + '-' + str(cache[id])\n",
    "        else:\n",
    "            if id not in cache:\n",
    "                cache[id] = 0\n",
    "            actual_id = id\n",
    "        return render_func(chart, id=actual_id)\n",
    "    # Cache will stay outside and \n",
    "    return wrapped\n",
    "           \n",
    "@add_autoincrement\n",
    "def render(chart, id=\"vega-chart\"):\n",
    "    \"\"\"\n",
    "    Helper function to plot altair visualizations.\n",
    "    \"\"\"\n",
    "    chart_str = \"\"\"\n",
    "    <div id=\"{id}\"></div><script>\n",
    "    require([\"vega-embed\"], function(vg_embed) {{\n",
    "        const spec = {chart};     \n",
    "        vg_embed(\"#{id}\", spec, {{defaultStyle: true}}).catch(console.warn);\n",
    "        console.log(\"anything?\");\n",
    "    }});\n",
    "    console.log(\"really...anything?\");\n",
    "    </script>\n",
    "    \"\"\"\n",
    "    return HTML(\n",
    "        chart_str.format(\n",
    "            id=id,\n",
    "            chart=json.dumps(chart) if isinstance(chart, dict) else chart.to_json(indent=None)\n",
    "        )\n",
    "    )\n",
    "\n",
    "# setting up altair\n",
    "workaround = prepare_altair()\n",
    "HTML(\"\".join((\n",
    "    \"<script>\",\n",
    "    workaround,\n",
    "    \"</script>\",\n",
    ")))"
   ]
  },
  {
   "cell_type": "markdown",
   "metadata": {},
   "source": [
    "It's time to take a look in all files provided by the dataset."
   ]
  },
  {
   "cell_type": "code",
   "execution_count": 7,
   "metadata": {
    "_kg_hide-input": true
   },
   "outputs": [
    {
     "name": "stdout",
     "output_type": "stream",
     "text": [
      "Data Files in Directory\n",
      "['ratings.csv', 'keywords.csv', 'movies_metadata.csv', 'links_small.csv', 'credits.csv', 'links.csv', 'ratings_small.csv']\n"
     ]
    }
   ],
   "source": [
    "print('Data Files in Directory')\n",
    "print(os.listdir(DATA_PATH))"
   ]
  },
  {
   "cell_type": "markdown",
   "metadata": {},
   "source": [
    "For now, I will ignore all small dataset versions.<br>\n",
    "Time to import relvant (Ratings, Links and Metadata) files and check the data."
   ]
  },
  {
   "cell_type": "code",
   "execution_count": 8,
   "metadata": {
    "_cell_guid": "79c7e3d0-c299-4dcb-8224-4455121ee9b0",
    "_kg_hide-input": true,
    "_kg_hide-output": true,
    "_uuid": "d629ff2d2480ee46fbb7e2d37f6b5fab8052498a"
   },
   "outputs": [],
   "source": [
    "ratings = pd.read_csv(DATA_PATH+'ratings.csv')\n",
    "links = pd.read_csv(DATA_PATH+'links.csv')\n",
    "metadata = pd.read_csv(DATA_PATH+'movies_metadata.csv')"
   ]
  },
  {
   "cell_type": "code",
   "execution_count": 9,
   "metadata": {
    "_kg_hide-input": true,
    "_kg_hide-output": true
   },
   "outputs": [],
   "source": [
    "# Function that I wrote to print all relevant infos in dataset\n",
    "import io\n",
    "\n",
    "def get_df_info(df):\n",
    "    display(df.head(3))\n",
    "    buf = io.StringIO()\n",
    "    df.info(buf=buf)\n",
    "    info = buf.getvalue().split('\\n')[-2]\n",
    "    display(f'Number of Rows: {df.shape[0]}, Number of Columns: {df.shape[1]}')\n",
    "    display('Data Types')\n",
    "    df_types = df.dtypes\n",
    "    df_types = pd.DataFrame({'Column':df_types.index, 'Type':df_types.values})\n",
    "    display(df_types) \n",
    "    display(info)\n",
    "    missing = df.isnull().sum().sort_values(ascending=False)\n",
    "    display('Missing Values')\n",
    "    if missing.values.sum() == 0:\n",
    "        display('No Missing Values')\n",
    "    else:\n",
    "        missing = missing[missing > 0]\n",
    "        missing = pd.DataFrame({'Column' : missing.index, 'Missing Values' : missing.values})\n",
    "        display(missing)"
   ]
  },
  {
   "cell_type": "markdown",
   "metadata": {},
   "source": [
    "<a id='bkground'></a>\n",
    "<div class=\"h3\"><center>Ratings Content</center></div>"
   ]
  },
  {
   "cell_type": "code",
   "execution_count": 10,
   "metadata": {
    "_kg_hide-input": true
   },
   "outputs": [
    {
     "data": {
      "text/html": [
       "<div>\n",
       "<style scoped>\n",
       "    .dataframe tbody tr th:only-of-type {\n",
       "        vertical-align: middle;\n",
       "    }\n",
       "\n",
       "    .dataframe tbody tr th {\n",
       "        vertical-align: top;\n",
       "    }\n",
       "\n",
       "    .dataframe thead th {\n",
       "        text-align: right;\n",
       "    }\n",
       "</style>\n",
       "<table border=\"1\" class=\"dataframe\">\n",
       "  <thead>\n",
       "    <tr style=\"text-align: right;\">\n",
       "      <th></th>\n",
       "      <th>userId</th>\n",
       "      <th>movieId</th>\n",
       "      <th>rating</th>\n",
       "      <th>timestamp</th>\n",
       "    </tr>\n",
       "  </thead>\n",
       "  <tbody>\n",
       "    <tr>\n",
       "      <th>0</th>\n",
       "      <td>1</td>\n",
       "      <td>110</td>\n",
       "      <td>1.0</td>\n",
       "      <td>1425941529</td>\n",
       "    </tr>\n",
       "    <tr>\n",
       "      <th>1</th>\n",
       "      <td>1</td>\n",
       "      <td>147</td>\n",
       "      <td>4.5</td>\n",
       "      <td>1425942435</td>\n",
       "    </tr>\n",
       "    <tr>\n",
       "      <th>2</th>\n",
       "      <td>1</td>\n",
       "      <td>858</td>\n",
       "      <td>5.0</td>\n",
       "      <td>1425941523</td>\n",
       "    </tr>\n",
       "  </tbody>\n",
       "</table>\n",
       "</div>"
      ],
      "text/plain": [
       "   userId  movieId  rating   timestamp\n",
       "0       1      110     1.0  1425941529\n",
       "1       1      147     4.5  1425942435\n",
       "2       1      858     5.0  1425941523"
      ]
     },
     "metadata": {},
     "output_type": "display_data"
    },
    {
     "data": {
      "text/plain": [
       "'Number of Rows: 26024289, Number of Columns: 4'"
      ]
     },
     "metadata": {},
     "output_type": "display_data"
    },
    {
     "data": {
      "text/plain": [
       "'Data Types'"
      ]
     },
     "metadata": {},
     "output_type": "display_data"
    },
    {
     "data": {
      "text/html": [
       "<div>\n",
       "<style scoped>\n",
       "    .dataframe tbody tr th:only-of-type {\n",
       "        vertical-align: middle;\n",
       "    }\n",
       "\n",
       "    .dataframe tbody tr th {\n",
       "        vertical-align: top;\n",
       "    }\n",
       "\n",
       "    .dataframe thead th {\n",
       "        text-align: right;\n",
       "    }\n",
       "</style>\n",
       "<table border=\"1\" class=\"dataframe\">\n",
       "  <thead>\n",
       "    <tr style=\"text-align: right;\">\n",
       "      <th></th>\n",
       "      <th>Column</th>\n",
       "      <th>Type</th>\n",
       "    </tr>\n",
       "  </thead>\n",
       "  <tbody>\n",
       "    <tr>\n",
       "      <th>0</th>\n",
       "      <td>userId</td>\n",
       "      <td>int64</td>\n",
       "    </tr>\n",
       "    <tr>\n",
       "      <th>1</th>\n",
       "      <td>movieId</td>\n",
       "      <td>int64</td>\n",
       "    </tr>\n",
       "    <tr>\n",
       "      <th>2</th>\n",
       "      <td>rating</td>\n",
       "      <td>float64</td>\n",
       "    </tr>\n",
       "    <tr>\n",
       "      <th>3</th>\n",
       "      <td>timestamp</td>\n",
       "      <td>int64</td>\n",
       "    </tr>\n",
       "  </tbody>\n",
       "</table>\n",
       "</div>"
      ],
      "text/plain": [
       "      Column     Type\n",
       "0     userId    int64\n",
       "1    movieId    int64\n",
       "2     rating  float64\n",
       "3  timestamp    int64"
      ]
     },
     "metadata": {},
     "output_type": "display_data"
    },
    {
     "data": {
      "text/plain": [
       "'memory usage: 794.2 MB'"
      ]
     },
     "metadata": {},
     "output_type": "display_data"
    },
    {
     "data": {
      "text/plain": [
       "'Missing Values'"
      ]
     },
     "metadata": {},
     "output_type": "display_data"
    },
    {
     "data": {
      "text/plain": [
       "'No Missing Values'"
      ]
     },
     "metadata": {},
     "output_type": "display_data"
    }
   ],
   "source": [
    "get_df_info(ratings)"
   ]
  },
  {
   "cell_type": "markdown",
   "metadata": {},
   "source": [
    "<a id='bkground'></a>\n",
    "<div class=\"h3\"><center>Links Content</center></div>"
   ]
  },
  {
   "cell_type": "code",
   "execution_count": 11,
   "metadata": {
    "_kg_hide-input": true
   },
   "outputs": [
    {
     "data": {
      "text/html": [
       "<div>\n",
       "<style scoped>\n",
       "    .dataframe tbody tr th:only-of-type {\n",
       "        vertical-align: middle;\n",
       "    }\n",
       "\n",
       "    .dataframe tbody tr th {\n",
       "        vertical-align: top;\n",
       "    }\n",
       "\n",
       "    .dataframe thead th {\n",
       "        text-align: right;\n",
       "    }\n",
       "</style>\n",
       "<table border=\"1\" class=\"dataframe\">\n",
       "  <thead>\n",
       "    <tr style=\"text-align: right;\">\n",
       "      <th></th>\n",
       "      <th>movieId</th>\n",
       "      <th>imdbId</th>\n",
       "      <th>tmdbId</th>\n",
       "    </tr>\n",
       "  </thead>\n",
       "  <tbody>\n",
       "    <tr>\n",
       "      <th>0</th>\n",
       "      <td>1</td>\n",
       "      <td>114709</td>\n",
       "      <td>862.0</td>\n",
       "    </tr>\n",
       "    <tr>\n",
       "      <th>1</th>\n",
       "      <td>2</td>\n",
       "      <td>113497</td>\n",
       "      <td>8844.0</td>\n",
       "    </tr>\n",
       "    <tr>\n",
       "      <th>2</th>\n",
       "      <td>3</td>\n",
       "      <td>113228</td>\n",
       "      <td>15602.0</td>\n",
       "    </tr>\n",
       "  </tbody>\n",
       "</table>\n",
       "</div>"
      ],
      "text/plain": [
       "   movieId  imdbId   tmdbId\n",
       "0        1  114709    862.0\n",
       "1        2  113497   8844.0\n",
       "2        3  113228  15602.0"
      ]
     },
     "metadata": {},
     "output_type": "display_data"
    },
    {
     "data": {
      "text/plain": [
       "'Number of Rows: 45843, Number of Columns: 3'"
      ]
     },
     "metadata": {},
     "output_type": "display_data"
    },
    {
     "data": {
      "text/plain": [
       "'Data Types'"
      ]
     },
     "metadata": {},
     "output_type": "display_data"
    },
    {
     "data": {
      "text/html": [
       "<div>\n",
       "<style scoped>\n",
       "    .dataframe tbody tr th:only-of-type {\n",
       "        vertical-align: middle;\n",
       "    }\n",
       "\n",
       "    .dataframe tbody tr th {\n",
       "        vertical-align: top;\n",
       "    }\n",
       "\n",
       "    .dataframe thead th {\n",
       "        text-align: right;\n",
       "    }\n",
       "</style>\n",
       "<table border=\"1\" class=\"dataframe\">\n",
       "  <thead>\n",
       "    <tr style=\"text-align: right;\">\n",
       "      <th></th>\n",
       "      <th>Column</th>\n",
       "      <th>Type</th>\n",
       "    </tr>\n",
       "  </thead>\n",
       "  <tbody>\n",
       "    <tr>\n",
       "      <th>0</th>\n",
       "      <td>movieId</td>\n",
       "      <td>int64</td>\n",
       "    </tr>\n",
       "    <tr>\n",
       "      <th>1</th>\n",
       "      <td>imdbId</td>\n",
       "      <td>int64</td>\n",
       "    </tr>\n",
       "    <tr>\n",
       "      <th>2</th>\n",
       "      <td>tmdbId</td>\n",
       "      <td>float64</td>\n",
       "    </tr>\n",
       "  </tbody>\n",
       "</table>\n",
       "</div>"
      ],
      "text/plain": [
       "    Column     Type\n",
       "0  movieId    int64\n",
       "1   imdbId    int64\n",
       "2   tmdbId  float64"
      ]
     },
     "metadata": {},
     "output_type": "display_data"
    },
    {
     "data": {
      "text/plain": [
       "'memory usage: 1.0 MB'"
      ]
     },
     "metadata": {},
     "output_type": "display_data"
    },
    {
     "data": {
      "text/plain": [
       "'Missing Values'"
      ]
     },
     "metadata": {},
     "output_type": "display_data"
    },
    {
     "data": {
      "text/html": [
       "<div>\n",
       "<style scoped>\n",
       "    .dataframe tbody tr th:only-of-type {\n",
       "        vertical-align: middle;\n",
       "    }\n",
       "\n",
       "    .dataframe tbody tr th {\n",
       "        vertical-align: top;\n",
       "    }\n",
       "\n",
       "    .dataframe thead th {\n",
       "        text-align: right;\n",
       "    }\n",
       "</style>\n",
       "<table border=\"1\" class=\"dataframe\">\n",
       "  <thead>\n",
       "    <tr style=\"text-align: right;\">\n",
       "      <th></th>\n",
       "      <th>Column</th>\n",
       "      <th>Missing Values</th>\n",
       "    </tr>\n",
       "  </thead>\n",
       "  <tbody>\n",
       "    <tr>\n",
       "      <th>0</th>\n",
       "      <td>tmdbId</td>\n",
       "      <td>219</td>\n",
       "    </tr>\n",
       "  </tbody>\n",
       "</table>\n",
       "</div>"
      ],
      "text/plain": [
       "   Column  Missing Values\n",
       "0  tmdbId             219"
      ]
     },
     "metadata": {},
     "output_type": "display_data"
    }
   ],
   "source": [
    "get_df_info(links)"
   ]
  },
  {
   "cell_type": "markdown",
   "metadata": {},
   "source": [
    "<a id='bkground'></a>\n",
    "<div class=\"h3\"><center>Metadata Content</center></div>"
   ]
  },
  {
   "cell_type": "code",
   "execution_count": 12,
   "metadata": {
    "_kg_hide-input": true
   },
   "outputs": [
    {
     "data": {
      "text/html": [
       "<div>\n",
       "<style scoped>\n",
       "    .dataframe tbody tr th:only-of-type {\n",
       "        vertical-align: middle;\n",
       "    }\n",
       "\n",
       "    .dataframe tbody tr th {\n",
       "        vertical-align: top;\n",
       "    }\n",
       "\n",
       "    .dataframe thead th {\n",
       "        text-align: right;\n",
       "    }\n",
       "</style>\n",
       "<table border=\"1\" class=\"dataframe\">\n",
       "  <thead>\n",
       "    <tr style=\"text-align: right;\">\n",
       "      <th></th>\n",
       "      <th>adult</th>\n",
       "      <th>belongs_to_collection</th>\n",
       "      <th>budget</th>\n",
       "      <th>genres</th>\n",
       "      <th>...</th>\n",
       "      <th>title</th>\n",
       "      <th>video</th>\n",
       "      <th>vote_average</th>\n",
       "      <th>vote_count</th>\n",
       "    </tr>\n",
       "  </thead>\n",
       "  <tbody>\n",
       "    <tr>\n",
       "      <th>0</th>\n",
       "      <td>False</td>\n",
       "      <td>{'id': 10194, 'name': 'Toy Story Collection', ...</td>\n",
       "      <td>30000000</td>\n",
       "      <td>[{'id': 16, 'name': 'Animation'}, {'id': 35, '...</td>\n",
       "      <td>...</td>\n",
       "      <td>Toy Story</td>\n",
       "      <td>False</td>\n",
       "      <td>7.7</td>\n",
       "      <td>5415.0</td>\n",
       "    </tr>\n",
       "    <tr>\n",
       "      <th>1</th>\n",
       "      <td>False</td>\n",
       "      <td>NaN</td>\n",
       "      <td>65000000</td>\n",
       "      <td>[{'id': 12, 'name': 'Adventure'}, {'id': 14, '...</td>\n",
       "      <td>...</td>\n",
       "      <td>Jumanji</td>\n",
       "      <td>False</td>\n",
       "      <td>6.9</td>\n",
       "      <td>2413.0</td>\n",
       "    </tr>\n",
       "    <tr>\n",
       "      <th>2</th>\n",
       "      <td>False</td>\n",
       "      <td>{'id': 119050, 'name': 'Grumpy Old Men Collect...</td>\n",
       "      <td>0</td>\n",
       "      <td>[{'id': 10749, 'name': 'Romance'}, {'id': 35, ...</td>\n",
       "      <td>...</td>\n",
       "      <td>Grumpier Old Men</td>\n",
       "      <td>False</td>\n",
       "      <td>6.5</td>\n",
       "      <td>92.0</td>\n",
       "    </tr>\n",
       "  </tbody>\n",
       "</table>\n",
       "<p>3 rows × 24 columns</p>\n",
       "</div>"
      ],
      "text/plain": [
       "   adult                              belongs_to_collection    budget  \\\n",
       "0  False  {'id': 10194, 'name': 'Toy Story Collection', ...  30000000   \n",
       "1  False                                                NaN  65000000   \n",
       "2  False  {'id': 119050, 'name': 'Grumpy Old Men Collect...         0   \n",
       "\n",
       "                                              genres  ...             title  \\\n",
       "0  [{'id': 16, 'name': 'Animation'}, {'id': 35, '...  ...         Toy Story   \n",
       "1  [{'id': 12, 'name': 'Adventure'}, {'id': 14, '...  ...           Jumanji   \n",
       "2  [{'id': 10749, 'name': 'Romance'}, {'id': 35, ...  ...  Grumpier Old Men   \n",
       "\n",
       "   video vote_average vote_count  \n",
       "0  False          7.7     5415.0  \n",
       "1  False          6.9     2413.0  \n",
       "2  False          6.5       92.0  \n",
       "\n",
       "[3 rows x 24 columns]"
      ]
     },
     "metadata": {},
     "output_type": "display_data"
    },
    {
     "data": {
      "text/plain": [
       "'Number of Rows: 45466, Number of Columns: 24'"
      ]
     },
     "metadata": {},
     "output_type": "display_data"
    },
    {
     "data": {
      "text/plain": [
       "'Data Types'"
      ]
     },
     "metadata": {},
     "output_type": "display_data"
    },
    {
     "data": {
      "text/html": [
       "<div>\n",
       "<style scoped>\n",
       "    .dataframe tbody tr th:only-of-type {\n",
       "        vertical-align: middle;\n",
       "    }\n",
       "\n",
       "    .dataframe tbody tr th {\n",
       "        vertical-align: top;\n",
       "    }\n",
       "\n",
       "    .dataframe thead th {\n",
       "        text-align: right;\n",
       "    }\n",
       "</style>\n",
       "<table border=\"1\" class=\"dataframe\">\n",
       "  <thead>\n",
       "    <tr style=\"text-align: right;\">\n",
       "      <th></th>\n",
       "      <th>Column</th>\n",
       "      <th>Type</th>\n",
       "    </tr>\n",
       "  </thead>\n",
       "  <tbody>\n",
       "    <tr>\n",
       "      <th>0</th>\n",
       "      <td>adult</td>\n",
       "      <td>object</td>\n",
       "    </tr>\n",
       "    <tr>\n",
       "      <th>1</th>\n",
       "      <td>belongs_to_collection</td>\n",
       "      <td>object</td>\n",
       "    </tr>\n",
       "    <tr>\n",
       "      <th>2</th>\n",
       "      <td>budget</td>\n",
       "      <td>object</td>\n",
       "    </tr>\n",
       "    <tr>\n",
       "      <th>3</th>\n",
       "      <td>genres</td>\n",
       "      <td>object</td>\n",
       "    </tr>\n",
       "    <tr>\n",
       "      <th>4</th>\n",
       "      <td>homepage</td>\n",
       "      <td>object</td>\n",
       "    </tr>\n",
       "    <tr>\n",
       "      <th>5</th>\n",
       "      <td>id</td>\n",
       "      <td>object</td>\n",
       "    </tr>\n",
       "    <tr>\n",
       "      <th>6</th>\n",
       "      <td>imdb_id</td>\n",
       "      <td>object</td>\n",
       "    </tr>\n",
       "    <tr>\n",
       "      <th>7</th>\n",
       "      <td>original_language</td>\n",
       "      <td>object</td>\n",
       "    </tr>\n",
       "    <tr>\n",
       "      <th>8</th>\n",
       "      <td>original_title</td>\n",
       "      <td>object</td>\n",
       "    </tr>\n",
       "    <tr>\n",
       "      <th>9</th>\n",
       "      <td>overview</td>\n",
       "      <td>object</td>\n",
       "    </tr>\n",
       "    <tr>\n",
       "      <th>10</th>\n",
       "      <td>popularity</td>\n",
       "      <td>object</td>\n",
       "    </tr>\n",
       "    <tr>\n",
       "      <th>11</th>\n",
       "      <td>poster_path</td>\n",
       "      <td>object</td>\n",
       "    </tr>\n",
       "    <tr>\n",
       "      <th>12</th>\n",
       "      <td>production_companies</td>\n",
       "      <td>object</td>\n",
       "    </tr>\n",
       "    <tr>\n",
       "      <th>13</th>\n",
       "      <td>production_countries</td>\n",
       "      <td>object</td>\n",
       "    </tr>\n",
       "    <tr>\n",
       "      <th>14</th>\n",
       "      <td>release_date</td>\n",
       "      <td>object</td>\n",
       "    </tr>\n",
       "    <tr>\n",
       "      <th>15</th>\n",
       "      <td>revenue</td>\n",
       "      <td>float64</td>\n",
       "    </tr>\n",
       "    <tr>\n",
       "      <th>16</th>\n",
       "      <td>runtime</td>\n",
       "      <td>float64</td>\n",
       "    </tr>\n",
       "    <tr>\n",
       "      <th>17</th>\n",
       "      <td>spoken_languages</td>\n",
       "      <td>object</td>\n",
       "    </tr>\n",
       "    <tr>\n",
       "      <th>18</th>\n",
       "      <td>status</td>\n",
       "      <td>object</td>\n",
       "    </tr>\n",
       "    <tr>\n",
       "      <th>19</th>\n",
       "      <td>tagline</td>\n",
       "      <td>object</td>\n",
       "    </tr>\n",
       "    <tr>\n",
       "      <th>20</th>\n",
       "      <td>title</td>\n",
       "      <td>object</td>\n",
       "    </tr>\n",
       "    <tr>\n",
       "      <th>21</th>\n",
       "      <td>video</td>\n",
       "      <td>object</td>\n",
       "    </tr>\n",
       "    <tr>\n",
       "      <th>22</th>\n",
       "      <td>vote_average</td>\n",
       "      <td>float64</td>\n",
       "    </tr>\n",
       "    <tr>\n",
       "      <th>23</th>\n",
       "      <td>vote_count</td>\n",
       "      <td>float64</td>\n",
       "    </tr>\n",
       "  </tbody>\n",
       "</table>\n",
       "</div>"
      ],
      "text/plain": [
       "                   Column     Type\n",
       "0                   adult   object\n",
       "1   belongs_to_collection   object\n",
       "2                  budget   object\n",
       "3                  genres   object\n",
       "4                homepage   object\n",
       "5                      id   object\n",
       "6                 imdb_id   object\n",
       "7       original_language   object\n",
       "8          original_title   object\n",
       "9                overview   object\n",
       "10             popularity   object\n",
       "11            poster_path   object\n",
       "12   production_companies   object\n",
       "13   production_countries   object\n",
       "14           release_date   object\n",
       "15                revenue  float64\n",
       "16                runtime  float64\n",
       "17       spoken_languages   object\n",
       "18                 status   object\n",
       "19                tagline   object\n",
       "20                  title   object\n",
       "21                  video   object\n",
       "22           vote_average  float64\n",
       "23             vote_count  float64"
      ]
     },
     "metadata": {},
     "output_type": "display_data"
    },
    {
     "data": {
      "text/plain": [
       "'memory usage: 8.3+ MB'"
      ]
     },
     "metadata": {},
     "output_type": "display_data"
    },
    {
     "data": {
      "text/plain": [
       "'Missing Values'"
      ]
     },
     "metadata": {},
     "output_type": "display_data"
    },
    {
     "data": {
      "text/html": [
       "<div>\n",
       "<style scoped>\n",
       "    .dataframe tbody tr th:only-of-type {\n",
       "        vertical-align: middle;\n",
       "    }\n",
       "\n",
       "    .dataframe tbody tr th {\n",
       "        vertical-align: top;\n",
       "    }\n",
       "\n",
       "    .dataframe thead th {\n",
       "        text-align: right;\n",
       "    }\n",
       "</style>\n",
       "<table border=\"1\" class=\"dataframe\">\n",
       "  <thead>\n",
       "    <tr style=\"text-align: right;\">\n",
       "      <th></th>\n",
       "      <th>Column</th>\n",
       "      <th>Missing Values</th>\n",
       "    </tr>\n",
       "  </thead>\n",
       "  <tbody>\n",
       "    <tr>\n",
       "      <th>0</th>\n",
       "      <td>belongs_to_collection</td>\n",
       "      <td>40972</td>\n",
       "    </tr>\n",
       "    <tr>\n",
       "      <th>1</th>\n",
       "      <td>homepage</td>\n",
       "      <td>37684</td>\n",
       "    </tr>\n",
       "    <tr>\n",
       "      <th>2</th>\n",
       "      <td>tagline</td>\n",
       "      <td>25054</td>\n",
       "    </tr>\n",
       "    <tr>\n",
       "      <th>3</th>\n",
       "      <td>overview</td>\n",
       "      <td>954</td>\n",
       "    </tr>\n",
       "    <tr>\n",
       "      <th>4</th>\n",
       "      <td>poster_path</td>\n",
       "      <td>386</td>\n",
       "    </tr>\n",
       "    <tr>\n",
       "      <th>5</th>\n",
       "      <td>runtime</td>\n",
       "      <td>263</td>\n",
       "    </tr>\n",
       "    <tr>\n",
       "      <th>6</th>\n",
       "      <td>status</td>\n",
       "      <td>87</td>\n",
       "    </tr>\n",
       "    <tr>\n",
       "      <th>7</th>\n",
       "      <td>release_date</td>\n",
       "      <td>87</td>\n",
       "    </tr>\n",
       "    <tr>\n",
       "      <th>8</th>\n",
       "      <td>imdb_id</td>\n",
       "      <td>17</td>\n",
       "    </tr>\n",
       "    <tr>\n",
       "      <th>9</th>\n",
       "      <td>original_language</td>\n",
       "      <td>11</td>\n",
       "    </tr>\n",
       "    <tr>\n",
       "      <th>10</th>\n",
       "      <td>vote_average</td>\n",
       "      <td>6</td>\n",
       "    </tr>\n",
       "    <tr>\n",
       "      <th>11</th>\n",
       "      <td>vote_count</td>\n",
       "      <td>6</td>\n",
       "    </tr>\n",
       "    <tr>\n",
       "      <th>12</th>\n",
       "      <td>revenue</td>\n",
       "      <td>6</td>\n",
       "    </tr>\n",
       "    <tr>\n",
       "      <th>13</th>\n",
       "      <td>spoken_languages</td>\n",
       "      <td>6</td>\n",
       "    </tr>\n",
       "    <tr>\n",
       "      <th>14</th>\n",
       "      <td>title</td>\n",
       "      <td>6</td>\n",
       "    </tr>\n",
       "    <tr>\n",
       "      <th>15</th>\n",
       "      <td>video</td>\n",
       "      <td>6</td>\n",
       "    </tr>\n",
       "    <tr>\n",
       "      <th>16</th>\n",
       "      <td>popularity</td>\n",
       "      <td>5</td>\n",
       "    </tr>\n",
       "    <tr>\n",
       "      <th>17</th>\n",
       "      <td>production_companies</td>\n",
       "      <td>3</td>\n",
       "    </tr>\n",
       "    <tr>\n",
       "      <th>18</th>\n",
       "      <td>production_countries</td>\n",
       "      <td>3</td>\n",
       "    </tr>\n",
       "  </tbody>\n",
       "</table>\n",
       "</div>"
      ],
      "text/plain": [
       "                   Column  Missing Values\n",
       "0   belongs_to_collection           40972\n",
       "1                homepage           37684\n",
       "2                 tagline           25054\n",
       "3                overview             954\n",
       "4             poster_path             386\n",
       "5                 runtime             263\n",
       "6                  status              87\n",
       "7            release_date              87\n",
       "8                 imdb_id              17\n",
       "9       original_language              11\n",
       "10           vote_average               6\n",
       "11             vote_count               6\n",
       "12                revenue               6\n",
       "13       spoken_languages               6\n",
       "14                  title               6\n",
       "15                  video               6\n",
       "16             popularity               5\n",
       "17   production_companies               3\n",
       "18   production_countries               3"
      ]
     },
     "metadata": {},
     "output_type": "display_data"
    }
   ],
   "source": [
    "get_df_info(metadata)"
   ]
  },
  {
   "cell_type": "markdown",
   "metadata": {},
   "source": [
    "In all the data info displayed, we can see that only ratings have a large memory usage, and I will use this dataset to make the recommendation system based on user ratings, the dataset have the relevant data like userId, movieId and ratings.<br>\n",
    "It's important to say that the ratings dataset doesn't have any missing value, therefore, will not needed any treatment like data imputation or drop NA rows.<br>\n",
    "The other datasets will be used for Exploratory Data Analysis.\n"
   ]
  },
  {
   "cell_type": "markdown",
   "metadata": {},
   "source": [
    "<br>\n",
    "<a id='bkground'></a>\n",
    "<div class=\"h2\"><center>Exploratory Data Analysis</center></div>\n",
    "<br>"
   ]
  },
  {
   "cell_type": "markdown",
   "metadata": {},
   "source": [
    "<div class=\"h3\">Let's start with the following approaches</div><br>\n",
    "* Rating Frequency.\n",
    "* Analysis of most rated movies.\n",
    "* World cloud with most common words.\n",
    "\n",
    "Let's start plotting an Histogram to see the rating distribution."
   ]
  },
  {
   "cell_type": "code",
   "execution_count": 13,
   "metadata": {
    "_kg_hide-input": true
   },
   "outputs": [
    {
     "data": {
      "image/svg+xml": [
       "<?xml version=\"1.0\" encoding=\"utf-8\" standalone=\"no\"?>\n",
       "<!DOCTYPE svg PUBLIC \"-//W3C//DTD SVG 1.1//EN\"\n",
       "  \"http://www.w3.org/Graphics/SVG/1.1/DTD/svg11.dtd\">\n",
       "<!-- Created with matplotlib (https://matplotlib.org/) -->\n",
       "<svg height=\"381.58625pt\" version=\"1.1\" viewBox=\"0 0 429.770625 381.58625\" width=\"429.770625pt\" xmlns=\"http://www.w3.org/2000/svg\" xmlns:xlink=\"http://www.w3.org/1999/xlink\">\n",
       " <defs>\n",
       "  <style type=\"text/css\">\n",
       "*{stroke-linecap:butt;stroke-linejoin:round;}\n",
       "  </style>\n",
       " </defs>\n",
       " <g id=\"figure_1\">\n",
       "  <g id=\"patch_1\">\n",
       "   <path d=\"M 0 381.58625 \n",
       "L 429.770625 381.58625 \n",
       "L 429.770625 0 \n",
       "L 0 0 \n",
       "z\n",
       "\" style=\"fill:#ffffff;\"/>\n",
       "  </g>\n",
       "  <g id=\"axes_1\">\n",
       "   <g id=\"patch_2\">\n",
       "    <path d=\"M 31.970625 346.606875 \n",
       "L 422.570625 346.606875 \n",
       "L 422.570625 20.446875 \n",
       "L 31.970625 20.446875 \n",
       "z\n",
       "\" style=\"fill:#eaeaf2;\"/>\n",
       "   </g>\n",
       "   <g id=\"matplotlib.axis_1\">\n",
       "    <g id=\"xtick_1\">\n",
       "     <g id=\"line2d_1\">\n",
       "      <path clip-path=\"url(#pfd8209083c)\" d=\"M 89.179716 346.606875 \n",
       "L 89.179716 20.446875 \n",
       "\" style=\"fill:none;stroke:#ffffff;stroke-linecap:round;\"/>\n",
       "     </g>\n",
       "     <g id=\"line2d_2\"/>\n",
       "     <g id=\"text_1\">\n",
       "      <!-- 1 -->\n",
       "      <defs>\n",
       "       <path d=\"M 7.625 0 \n",
       "L 7.625 7.46875 \n",
       "L 25.140625 7.46875 \n",
       "L 25.140625 60.40625 \n",
       "L 9.625 49.3125 \n",
       "L 9.625 57.625 \n",
       "L 25.875 68.796875 \n",
       "L 33.984375 68.796875 \n",
       "L 33.984375 7.46875 \n",
       "L 50.734375 7.46875 \n",
       "L 50.734375 0 \n",
       "z\n",
       "\" id=\"LiberationSans-49\"/>\n",
       "      </defs>\n",
       "      <g style=\"fill:#262626;\" transform=\"translate(86.955341 359.404375)scale(0.08 -0.08)\">\n",
       "       <use xlink:href=\"#LiberationSans-49\"/>\n",
       "      </g>\n",
       "     </g>\n",
       "    </g>\n",
       "    <g id=\"xtick_2\">\n",
       "     <g id=\"line2d_3\">\n",
       "      <path clip-path=\"url(#pfd8209083c)\" d=\"M 168.088807 346.606875 \n",
       "L 168.088807 20.446875 \n",
       "\" style=\"fill:none;stroke:#ffffff;stroke-linecap:round;\"/>\n",
       "     </g>\n",
       "     <g id=\"line2d_4\"/>\n",
       "     <g id=\"text_2\">\n",
       "      <!-- 2 -->\n",
       "      <defs>\n",
       "       <path d=\"M 5.03125 0 \n",
       "L 5.03125 6.203125 \n",
       "Q 7.515625 11.921875 11.109375 16.28125 \n",
       "Q 14.703125 20.65625 18.65625 24.1875 \n",
       "Q 22.609375 27.734375 26.484375 30.765625 \n",
       "Q 30.375 33.796875 33.5 36.8125 \n",
       "Q 36.625 39.84375 38.546875 43.15625 \n",
       "Q 40.484375 46.484375 40.484375 50.6875 \n",
       "Q 40.484375 53.609375 39.59375 55.828125 \n",
       "Q 38.71875 58.0625 37.0625 59.5625 \n",
       "Q 35.40625 61.078125 33.078125 61.828125 \n",
       "Q 30.765625 62.59375 27.9375 62.59375 \n",
       "Q 25.296875 62.59375 22.96875 61.859375 \n",
       "Q 20.65625 61.140625 18.84375 59.671875 \n",
       "Q 17.046875 58.203125 15.890625 56.03125 \n",
       "Q 14.75 53.859375 14.40625 50.984375 \n",
       "L 5.421875 51.8125 \n",
       "Q 5.859375 55.515625 7.46875 58.78125 \n",
       "Q 9.078125 62.0625 11.90625 64.53125 \n",
       "Q 14.75 67 18.71875 68.40625 \n",
       "Q 22.703125 69.828125 27.9375 69.828125 \n",
       "Q 33.0625 69.828125 37.0625 68.609375 \n",
       "Q 41.0625 67.390625 43.8125 64.984375 \n",
       "Q 46.578125 62.59375 48.046875 59.078125 \n",
       "Q 49.515625 55.5625 49.515625 50.984375 \n",
       "Q 49.515625 47.515625 48.265625 44.390625 \n",
       "Q 47.015625 41.265625 44.9375 38.421875 \n",
       "Q 42.875 35.59375 40.140625 32.953125 \n",
       "Q 37.40625 30.328125 34.421875 27.8125 \n",
       "Q 31.453125 25.296875 28.421875 22.828125 \n",
       "Q 25.390625 20.359375 22.71875 17.859375 \n",
       "Q 20.0625 15.375 17.96875 12.8125 \n",
       "Q 15.875 10.25 14.703125 7.46875 \n",
       "L 50.59375 7.46875 \n",
       "L 50.59375 0 \n",
       "z\n",
       "\" id=\"LiberationSans-50\"/>\n",
       "      </defs>\n",
       "      <g style=\"fill:#262626;\" transform=\"translate(165.864432 359.404375)scale(0.08 -0.08)\">\n",
       "       <use xlink:href=\"#LiberationSans-50\"/>\n",
       "      </g>\n",
       "     </g>\n",
       "    </g>\n",
       "    <g id=\"xtick_3\">\n",
       "     <g id=\"line2d_5\">\n",
       "      <path clip-path=\"url(#pfd8209083c)\" d=\"M 246.997898 346.606875 \n",
       "L 246.997898 20.446875 \n",
       "\" style=\"fill:none;stroke:#ffffff;stroke-linecap:round;\"/>\n",
       "     </g>\n",
       "     <g id=\"line2d_6\"/>\n",
       "     <g id=\"text_3\">\n",
       "      <!-- 3 -->\n",
       "      <defs>\n",
       "       <path d=\"M 51.21875 19 \n",
       "Q 51.21875 14.265625 49.671875 10.546875 \n",
       "Q 48.140625 6.84375 45.1875 4.265625 \n",
       "Q 42.234375 1.703125 37.859375 0.359375 \n",
       "Q 33.5 -0.984375 27.875 -0.984375 \n",
       "Q 21.484375 -0.984375 17.109375 0.609375 \n",
       "Q 12.75 2.203125 9.90625 4.8125 \n",
       "Q 7.078125 7.421875 5.65625 10.765625 \n",
       "Q 4.25 14.109375 3.8125 17.671875 \n",
       "L 12.890625 18.5 \n",
       "Q 13.28125 15.765625 14.328125 13.515625 \n",
       "Q 15.375 11.28125 17.1875 9.671875 \n",
       "Q 19 8.0625 21.625 7.171875 \n",
       "Q 24.265625 6.296875 27.875 6.296875 \n",
       "Q 34.515625 6.296875 38.296875 9.5625 \n",
       "Q 42.09375 12.84375 42.09375 19.28125 \n",
       "Q 42.09375 23.09375 40.40625 25.40625 \n",
       "Q 38.71875 27.734375 36.203125 29.03125 \n",
       "Q 33.6875 30.328125 30.734375 30.765625 \n",
       "Q 27.78125 31.203125 25.296875 31.203125 \n",
       "L 20.3125 31.203125 \n",
       "L 20.3125 38.8125 \n",
       "L 25.09375 38.8125 \n",
       "Q 27.59375 38.8125 30.265625 39.328125 \n",
       "Q 32.953125 39.84375 35.171875 41.1875 \n",
       "Q 37.40625 42.53125 38.84375 44.828125 \n",
       "Q 40.28125 47.125 40.28125 50.6875 \n",
       "Q 40.28125 56.203125 37.03125 59.390625 \n",
       "Q 33.796875 62.59375 27.390625 62.59375 \n",
       "Q 21.578125 62.59375 17.984375 59.609375 \n",
       "Q 14.40625 56.640625 13.8125 51.21875 \n",
       "L 4.984375 51.90625 \n",
       "Q 5.515625 56.453125 7.46875 59.8125 \n",
       "Q 9.421875 63.1875 12.421875 65.40625 \n",
       "Q 15.4375 67.625 19.28125 68.71875 \n",
       "Q 23.140625 69.828125 27.484375 69.828125 \n",
       "Q 33.25 69.828125 37.390625 68.375 \n",
       "Q 41.546875 66.9375 44.1875 64.46875 \n",
       "Q 46.828125 62.015625 48.0625 58.6875 \n",
       "Q 49.3125 55.375 49.3125 51.609375 \n",
       "Q 49.3125 48.578125 48.484375 45.9375 \n",
       "Q 47.65625 43.3125 45.890625 41.203125 \n",
       "Q 44.140625 39.109375 41.421875 37.59375 \n",
       "Q 38.71875 36.078125 34.90625 35.296875 \n",
       "L 34.90625 35.109375 \n",
       "Q 39.0625 34.671875 42.140625 33.21875 \n",
       "Q 45.21875 31.78125 47.21875 29.625 \n",
       "Q 49.21875 27.484375 50.21875 24.75 \n",
       "Q 51.21875 22.015625 51.21875 19 \n",
       "z\n",
       "\" id=\"LiberationSans-51\"/>\n",
       "      </defs>\n",
       "      <g style=\"fill:#262626;\" transform=\"translate(244.773523 359.404375)scale(0.08 -0.08)\">\n",
       "       <use xlink:href=\"#LiberationSans-51\"/>\n",
       "      </g>\n",
       "     </g>\n",
       "    </g>\n",
       "    <g id=\"xtick_4\">\n",
       "     <g id=\"line2d_7\">\n",
       "      <path clip-path=\"url(#pfd8209083c)\" d=\"M 325.906989 346.606875 \n",
       "L 325.906989 20.446875 \n",
       "\" style=\"fill:none;stroke:#ffffff;stroke-linecap:round;\"/>\n",
       "     </g>\n",
       "     <g id=\"line2d_8\"/>\n",
       "     <g id=\"text_4\">\n",
       "      <!-- 4 -->\n",
       "      <defs>\n",
       "       <path d=\"M 43.015625 15.578125 \n",
       "L 43.015625 0 \n",
       "L 34.71875 0 \n",
       "L 34.71875 15.578125 \n",
       "L 2.296875 15.578125 \n",
       "L 2.296875 22.40625 \n",
       "L 33.796875 68.796875 \n",
       "L 43.015625 68.796875 \n",
       "L 43.015625 22.515625 \n",
       "L 52.6875 22.515625 \n",
       "L 52.6875 15.578125 \n",
       "z\n",
       "M 34.71875 58.890625 \n",
       "Q 34.625 58.640625 34.234375 57.9375 \n",
       "Q 33.84375 57.234375 33.34375 56.34375 \n",
       "Q 32.859375 55.46875 32.34375 54.5625 \n",
       "Q 31.84375 53.65625 31.453125 53.078125 \n",
       "L 13.8125 27.09375 \n",
       "Q 13.578125 26.703125 13.109375 26.0625 \n",
       "Q 12.640625 25.4375 12.15625 24.78125 \n",
       "Q 11.671875 24.125 11.171875 23.484375 \n",
       "Q 10.6875 22.859375 10.40625 22.515625 \n",
       "L 34.71875 22.515625 \n",
       "z\n",
       "\" id=\"LiberationSans-52\"/>\n",
       "      </defs>\n",
       "      <g style=\"fill:#262626;\" transform=\"translate(323.682614 359.404375)scale(0.08 -0.08)\">\n",
       "       <use xlink:href=\"#LiberationSans-52\"/>\n",
       "      </g>\n",
       "     </g>\n",
       "    </g>\n",
       "    <g id=\"xtick_5\">\n",
       "     <g id=\"line2d_9\">\n",
       "      <path clip-path=\"url(#pfd8209083c)\" d=\"M 404.81608 346.606875 \n",
       "L 404.81608 20.446875 \n",
       "\" style=\"fill:none;stroke:#ffffff;stroke-linecap:round;\"/>\n",
       "     </g>\n",
       "     <g id=\"line2d_10\"/>\n",
       "     <g id=\"text_5\">\n",
       "      <!-- 5 -->\n",
       "      <defs>\n",
       "       <path d=\"M 51.421875 22.40625 \n",
       "Q 51.421875 17.234375 49.859375 12.9375 \n",
       "Q 48.296875 8.640625 45.21875 5.53125 \n",
       "Q 42.140625 2.4375 37.578125 0.71875 \n",
       "Q 33.015625 -0.984375 27 -0.984375 \n",
       "Q 21.578125 -0.984375 17.546875 0.28125 \n",
       "Q 13.53125 1.5625 10.734375 3.78125 \n",
       "Q 7.953125 6 6.3125 8.984375 \n",
       "Q 4.6875 11.96875 4 15.375 \n",
       "L 12.890625 16.40625 \n",
       "Q 13.421875 14.453125 14.390625 12.625 \n",
       "Q 15.375 10.796875 17.0625 9.34375 \n",
       "Q 18.75 7.90625 21.21875 7.046875 \n",
       "Q 23.6875 6.203125 27.203125 6.203125 \n",
       "Q 30.609375 6.203125 33.390625 7.25 \n",
       "Q 36.1875 8.296875 38.15625 10.34375 \n",
       "Q 40.140625 12.40625 41.203125 15.375 \n",
       "Q 42.28125 18.359375 42.28125 22.21875 \n",
       "Q 42.28125 25.390625 41.25 28.046875 \n",
       "Q 40.234375 30.71875 38.328125 32.640625 \n",
       "Q 36.421875 34.578125 33.65625 35.640625 \n",
       "Q 30.90625 36.71875 27.390625 36.71875 \n",
       "Q 25.203125 36.71875 23.34375 36.328125 \n",
       "Q 21.484375 35.9375 19.890625 35.25 \n",
       "Q 18.3125 34.578125 17.015625 33.671875 \n",
       "Q 15.71875 32.765625 14.59375 31.78125 \n",
       "L 6 31.78125 \n",
       "L 8.296875 68.796875 \n",
       "L 47.40625 68.796875 \n",
       "L 47.40625 61.328125 \n",
       "L 16.3125 61.328125 \n",
       "L 14.984375 39.5 \n",
       "Q 17.328125 41.3125 20.84375 42.59375 \n",
       "Q 24.359375 43.890625 29.203125 43.890625 \n",
       "Q 34.328125 43.890625 38.421875 42.328125 \n",
       "Q 42.53125 40.765625 45.40625 37.90625 \n",
       "Q 48.296875 35.0625 49.859375 31.109375 \n",
       "Q 51.421875 27.15625 51.421875 22.40625 \n",
       "z\n",
       "\" id=\"LiberationSans-53\"/>\n",
       "      </defs>\n",
       "      <g style=\"fill:#262626;\" transform=\"translate(402.591705 359.404375)scale(0.08 -0.08)\">\n",
       "       <use xlink:href=\"#LiberationSans-53\"/>\n",
       "      </g>\n",
       "     </g>\n",
       "    </g>\n",
       "    <g id=\"text_6\">\n",
       "     <!-- Rating -->\n",
       "     <defs>\n",
       "      <path d=\"M 56.84375 0 \n",
       "L 38.96875 28.5625 \n",
       "L 17.53125 28.5625 \n",
       "L 17.53125 0 \n",
       "L 8.203125 0 \n",
       "L 8.203125 68.796875 \n",
       "L 40.578125 68.796875 \n",
       "Q 46.4375 68.796875 50.953125 67.453125 \n",
       "Q 55.46875 66.109375 58.546875 63.5625 \n",
       "Q 61.625 61.03125 63.234375 57.375 \n",
       "Q 64.84375 53.71875 64.84375 49.125 \n",
       "Q 64.84375 45.84375 63.890625 42.671875 \n",
       "Q 62.9375 39.5 60.890625 36.859375 \n",
       "Q 58.84375 34.234375 55.65625 32.328125 \n",
       "Q 52.484375 30.421875 48.046875 29.640625 \n",
       "L 67.578125 0 \n",
       "z\n",
       "M 55.46875 49.03125 \n",
       "Q 55.46875 52.15625 54.390625 54.4375 \n",
       "Q 53.328125 56.734375 51.265625 58.265625 \n",
       "Q 49.21875 59.8125 46.28125 60.5625 \n",
       "Q 43.359375 61.328125 39.65625 61.328125 \n",
       "L 17.53125 61.328125 \n",
       "L 17.53125 35.9375 \n",
       "L 40.046875 35.9375 \n",
       "Q 44.046875 35.9375 46.96875 36.9375 \n",
       "Q 49.90625 37.9375 51.78125 39.6875 \n",
       "Q 53.65625 41.453125 54.5625 43.84375 \n",
       "Q 55.46875 46.234375 55.46875 49.03125 \n",
       "z\n",
       "\" id=\"LiberationSans-82\"/>\n",
       "      <path d=\"M 20.21875 -0.984375 \n",
       "Q 12.25 -0.984375 8.25 3.21875 \n",
       "Q 4.25 7.421875 4.25 14.75 \n",
       "Q 4.25 19.96875 6.21875 23.3125 \n",
       "Q 8.203125 26.65625 11.390625 28.5625 \n",
       "Q 14.59375 30.46875 18.6875 31.203125 \n",
       "Q 22.796875 31.9375 27.046875 32.03125 \n",
       "L 38.921875 32.234375 \n",
       "L 38.921875 35.109375 \n",
       "Q 38.921875 38.375 38.234375 40.671875 \n",
       "Q 37.546875 42.96875 36.125 44.375 \n",
       "Q 34.71875 45.796875 32.59375 46.453125 \n",
       "Q 30.46875 47.125 27.59375 47.125 \n",
       "Q 25.046875 47.125 23 46.75 \n",
       "Q 20.953125 46.390625 19.4375 45.4375 \n",
       "Q 17.921875 44.484375 16.984375 42.84375 \n",
       "Q 16.0625 41.21875 15.765625 38.71875 \n",
       "L 6.59375 39.546875 \n",
       "Q 7.078125 42.671875 8.4375 45.28125 \n",
       "Q 9.8125 47.90625 12.328125 49.796875 \n",
       "Q 14.84375 51.703125 18.625 52.75 \n",
       "Q 22.40625 53.8125 27.78125 53.8125 \n",
       "Q 37.75 53.8125 42.765625 49.234375 \n",
       "Q 47.796875 44.671875 47.796875 36.03125 \n",
       "L 47.796875 13.28125 \n",
       "Q 47.796875 9.375 48.828125 7.390625 \n",
       "Q 49.859375 5.421875 52.734375 5.421875 \n",
       "Q 53.46875 5.421875 54.203125 5.515625 \n",
       "Q 54.9375 5.609375 55.609375 5.765625 \n",
       "L 55.609375 0.296875 \n",
       "Q 53.953125 -0.09375 52.3125 -0.28125 \n",
       "Q 50.6875 -0.484375 48.828125 -0.484375 \n",
       "Q 46.34375 -0.484375 44.5625 0.171875 \n",
       "Q 42.78125 0.828125 41.65625 2.171875 \n",
       "Q 40.53125 3.515625 39.9375 5.484375 \n",
       "Q 39.359375 7.46875 39.203125 10.109375 \n",
       "L 38.921875 10.109375 \n",
       "Q 37.5 7.5625 35.8125 5.515625 \n",
       "Q 34.125 3.46875 31.875 2.03125 \n",
       "Q 29.640625 0.59375 26.78125 -0.1875 \n",
       "Q 23.921875 -0.984375 20.21875 -0.984375 \n",
       "z\n",
       "M 22.21875 5.609375 \n",
       "Q 26.421875 5.609375 29.5625 7.140625 \n",
       "Q 32.71875 8.6875 34.78125 11.078125 \n",
       "Q 36.859375 13.484375 37.890625 16.3125 \n",
       "Q 38.921875 19.140625 38.921875 21.734375 \n",
       "L 38.921875 26.078125 \n",
       "L 29.296875 25.875 \n",
       "Q 26.078125 25.828125 23.171875 25.40625 \n",
       "Q 20.265625 25 18.0625 23.78125 \n",
       "Q 15.875 22.5625 14.578125 20.359375 \n",
       "Q 13.28125 18.171875 13.28125 14.59375 \n",
       "Q 13.28125 10.296875 15.59375 7.953125 \n",
       "Q 17.921875 5.609375 22.21875 5.609375 \n",
       "z\n",
       "\" id=\"LiberationSans-97\"/>\n",
       "      <path d=\"M 27.046875 0.390625 \n",
       "Q 25.046875 -0.140625 22.96875 -0.453125 \n",
       "Q 20.90625 -0.78125 18.171875 -0.78125 \n",
       "Q 7.625 -0.78125 7.625 11.1875 \n",
       "L 7.625 46.4375 \n",
       "L 1.515625 46.4375 \n",
       "L 1.515625 52.828125 \n",
       "L 7.953125 52.828125 \n",
       "L 10.546875 64.65625 \n",
       "L 16.40625 64.65625 \n",
       "L 16.40625 52.828125 \n",
       "L 26.171875 52.828125 \n",
       "L 26.171875 46.4375 \n",
       "L 16.40625 46.4375 \n",
       "L 16.40625 13.09375 \n",
       "Q 16.40625 9.28125 17.640625 7.734375 \n",
       "Q 18.890625 6.203125 21.96875 6.203125 \n",
       "Q 23.25 6.203125 24.4375 6.390625 \n",
       "Q 25.640625 6.59375 27.046875 6.890625 \n",
       "z\n",
       "\" id=\"LiberationSans-116\"/>\n",
       "      <path d=\"M 6.6875 64.0625 \n",
       "L 6.6875 72.46875 \n",
       "L 15.484375 72.46875 \n",
       "L 15.484375 64.0625 \n",
       "z\n",
       "M 6.6875 0 \n",
       "L 6.6875 52.828125 \n",
       "L 15.484375 52.828125 \n",
       "L 15.484375 0 \n",
       "z\n",
       "\" id=\"LiberationSans-105\"/>\n",
       "      <path d=\"M 40.28125 0 \n",
       "L 40.28125 33.5 \n",
       "Q 40.28125 37.359375 39.71875 39.9375 \n",
       "Q 39.15625 42.53125 37.890625 44.109375 \n",
       "Q 36.625 45.703125 34.546875 46.359375 \n",
       "Q 32.46875 47.015625 29.390625 47.015625 \n",
       "Q 26.265625 47.015625 23.75 45.921875 \n",
       "Q 21.234375 44.828125 19.453125 42.75 \n",
       "Q 17.671875 40.671875 16.6875 37.625 \n",
       "Q 15.71875 34.578125 15.71875 30.609375 \n",
       "L 15.71875 0 \n",
       "L 6.9375 0 \n",
       "L 6.9375 41.546875 \n",
       "Q 6.9375 43.21875 6.90625 45.046875 \n",
       "Q 6.890625 46.875 6.828125 48.5 \n",
       "Q 6.78125 50.140625 6.734375 51.3125 \n",
       "Q 6.6875 52.484375 6.640625 52.828125 \n",
       "L 14.9375 52.828125 \n",
       "Q 14.984375 52.59375 15.03125 51.515625 \n",
       "Q 15.09375 50.4375 15.15625 49.046875 \n",
       "Q 15.234375 47.65625 15.28125 46.21875 \n",
       "Q 15.328125 44.78125 15.328125 43.796875 \n",
       "L 15.484375 43.796875 \n",
       "Q 16.75 46.09375 18.265625 47.953125 \n",
       "Q 19.78125 49.8125 21.78125 51.09375 \n",
       "Q 23.78125 52.390625 26.359375 53.09375 \n",
       "Q 28.953125 53.8125 32.375 53.8125 \n",
       "Q 36.765625 53.8125 39.9375 52.734375 \n",
       "Q 43.109375 51.65625 45.15625 49.40625 \n",
       "Q 47.21875 47.171875 48.171875 43.625 \n",
       "Q 49.125 40.09375 49.125 35.203125 \n",
       "L 49.125 0 \n",
       "z\n",
       "\" id=\"LiberationSans-110\"/>\n",
       "      <path d=\"M 26.765625 -20.75 \n",
       "Q 22.21875 -20.75 18.703125 -19.8125 \n",
       "Q 15.1875 -18.890625 12.6875 -17.15625 \n",
       "Q 10.203125 -15.4375 8.640625 -13.03125 \n",
       "Q 7.078125 -10.640625 6.390625 -7.71875 \n",
       "L 15.234375 -6.453125 \n",
       "Q 16.109375 -10.109375 19.109375 -12.078125 \n",
       "Q 22.125 -14.0625 27 -14.0625 \n",
       "Q 29.984375 -14.0625 32.421875 -13.234375 \n",
       "Q 34.859375 -12.40625 36.5625 -10.5625 \n",
       "Q 38.28125 -8.734375 39.203125 -5.796875 \n",
       "Q 40.140625 -2.875 40.140625 1.3125 \n",
       "L 40.140625 9.8125 \n",
       "L 40.046875 9.8125 \n",
       "Q 39.0625 7.8125 37.625 5.984375 \n",
       "Q 36.1875 4.15625 34.109375 2.734375 \n",
       "Q 32.03125 1.3125 29.296875 0.453125 \n",
       "Q 26.5625 -0.390625 23.046875 -0.390625 \n",
       "Q 18.015625 -0.390625 14.421875 1.296875 \n",
       "Q 10.84375 2.984375 8.5625 6.34375 \n",
       "Q 6.296875 9.71875 5.25 14.71875 \n",
       "Q 4.203125 19.734375 4.203125 26.3125 \n",
       "Q 4.203125 32.671875 5.25 37.75 \n",
       "Q 6.296875 42.828125 8.65625 46.359375 \n",
       "Q 11.03125 49.90625 14.8125 51.78125 \n",
       "Q 18.609375 53.65625 24.03125 53.65625 \n",
       "Q 29.640625 53.65625 33.765625 51.09375 \n",
       "Q 37.890625 48.53125 40.140625 43.796875 \n",
       "L 40.234375 43.796875 \n",
       "Q 40.234375 45.015625 40.296875 46.53125 \n",
       "Q 40.375 48.046875 40.453125 49.390625 \n",
       "Q 40.53125 50.734375 40.625 51.703125 \n",
       "Q 40.71875 52.6875 40.828125 52.828125 \n",
       "L 49.171875 52.828125 \n",
       "Q 49.125 52.390625 49.078125 51.34375 \n",
       "Q 49.03125 50.296875 48.96875 48.828125 \n",
       "Q 48.921875 47.359375 48.890625 45.578125 \n",
       "Q 48.875 43.796875 48.875 41.890625 \n",
       "L 48.875 1.515625 \n",
       "Q 48.875 -9.578125 43.421875 -15.15625 \n",
       "Q 37.984375 -20.75 26.765625 -20.75 \n",
       "z\n",
       "M 40.140625 26.421875 \n",
       "Q 40.140625 31.9375 38.9375 35.859375 \n",
       "Q 37.75 39.796875 35.796875 42.28125 \n",
       "Q 33.84375 44.78125 31.328125 45.953125 \n",
       "Q 28.8125 47.125 26.171875 47.125 \n",
       "Q 22.796875 47.125 20.375 45.953125 \n",
       "Q 17.96875 44.78125 16.375 42.265625 \n",
       "Q 14.796875 39.75 14.03125 35.8125 \n",
       "Q 13.28125 31.890625 13.28125 26.421875 \n",
       "Q 13.28125 20.703125 14.03125 16.8125 \n",
       "Q 14.796875 12.9375 16.359375 10.546875 \n",
       "Q 17.921875 8.15625 20.3125 7.125 \n",
       "Q 22.703125 6.109375 26.03125 6.109375 \n",
       "Q 28.65625 6.109375 31.171875 7.21875 \n",
       "Q 33.6875 8.34375 35.6875 10.78125 \n",
       "Q 37.703125 13.234375 38.921875 17.09375 \n",
       "Q 40.140625 20.953125 40.140625 26.421875 \n",
       "z\n",
       "\" id=\"LiberationSans-103\"/>\n",
       "     </defs>\n",
       "     <g style=\"fill:#262626;\" transform=\"translate(212.818281 372.31125)scale(0.1 -0.1)\">\n",
       "      <use xlink:href=\"#LiberationSans-82\"/>\n",
       "      <use x=\"72.216797\" xlink:href=\"#LiberationSans-97\"/>\n",
       "      <use x=\"127.832031\" xlink:href=\"#LiberationSans-116\"/>\n",
       "      <use x=\"155.615234\" xlink:href=\"#LiberationSans-105\"/>\n",
       "      <use x=\"177.832031\" xlink:href=\"#LiberationSans-110\"/>\n",
       "      <use x=\"233.447266\" xlink:href=\"#LiberationSans-103\"/>\n",
       "     </g>\n",
       "    </g>\n",
       "   </g>\n",
       "   <g id=\"matplotlib.axis_2\">\n",
       "    <g id=\"ytick_1\">\n",
       "     <g id=\"line2d_11\">\n",
       "      <path clip-path=\"url(#pfd8209083c)\" d=\"M 31.970625 346.606875 \n",
       "L 422.570625 346.606875 \n",
       "\" style=\"fill:none;stroke:#ffffff;stroke-linecap:round;\"/>\n",
       "     </g>\n",
       "     <g id=\"line2d_12\"/>\n",
       "     <g id=\"text_7\">\n",
       "      <!-- 0 -->\n",
       "      <defs>\n",
       "       <path d=\"M 51.703125 34.421875 \n",
       "Q 51.703125 24.515625 49.828125 17.75 \n",
       "Q 47.953125 10.984375 44.703125 6.8125 \n",
       "Q 41.453125 2.640625 37.0625 0.828125 \n",
       "Q 32.671875 -0.984375 27.6875 -0.984375 \n",
       "Q 22.65625 -0.984375 18.3125 0.828125 \n",
       "Q 13.96875 2.640625 10.765625 6.78125 \n",
       "Q 7.5625 10.9375 5.734375 17.703125 \n",
       "Q 3.90625 24.46875 3.90625 34.421875 \n",
       "Q 3.90625 44.828125 5.734375 51.640625 \n",
       "Q 7.5625 58.453125 10.78125 62.5 \n",
       "Q 14.015625 66.546875 18.40625 68.1875 \n",
       "Q 22.796875 69.828125 27.984375 69.828125 \n",
       "Q 32.90625 69.828125 37.21875 68.1875 \n",
       "Q 41.546875 66.546875 44.765625 62.5 \n",
       "Q 48 58.453125 49.84375 51.640625 \n",
       "Q 51.703125 44.828125 51.703125 34.421875 \n",
       "z\n",
       "M 42.78125 34.421875 \n",
       "Q 42.78125 42.625 41.796875 48.0625 \n",
       "Q 40.828125 53.515625 38.921875 56.765625 \n",
       "Q 37.015625 60.015625 34.25 61.359375 \n",
       "Q 31.5 62.703125 27.984375 62.703125 \n",
       "Q 24.265625 62.703125 21.4375 61.328125 \n",
       "Q 18.609375 59.96875 16.671875 56.71875 \n",
       "Q 14.75 53.46875 13.765625 48.015625 \n",
       "Q 12.796875 42.578125 12.796875 34.421875 \n",
       "Q 12.796875 26.515625 13.796875 21.09375 \n",
       "Q 14.796875 15.671875 16.71875 12.375 \n",
       "Q 18.65625 9.078125 21.4375 7.640625 \n",
       "Q 24.21875 6.203125 27.78125 6.203125 \n",
       "Q 31.25 6.203125 34.03125 7.640625 \n",
       "Q 36.8125 9.078125 38.734375 12.375 \n",
       "Q 40.671875 15.671875 41.71875 21.09375 \n",
       "Q 42.78125 26.515625 42.78125 34.421875 \n",
       "z\n",
       "\" id=\"LiberationSans-48\"/>\n",
       "      </defs>\n",
       "      <g style=\"fill:#262626;\" transform=\"translate(20.521875 349.505625)scale(0.08 -0.08)\">\n",
       "       <use xlink:href=\"#LiberationSans-48\"/>\n",
       "      </g>\n",
       "     </g>\n",
       "    </g>\n",
       "    <g id=\"ytick_2\">\n",
       "     <g id=\"line2d_13\">\n",
       "      <path clip-path=\"url(#pfd8209083c)\" d=\"M 31.970625 302.223769 \n",
       "L 422.570625 302.223769 \n",
       "\" style=\"fill:none;stroke:#ffffff;stroke-linecap:round;\"/>\n",
       "     </g>\n",
       "     <g id=\"line2d_14\"/>\n",
       "     <g id=\"text_8\">\n",
       "      <!-- 1 -->\n",
       "      <g style=\"fill:#262626;\" transform=\"translate(20.521875 305.122519)scale(0.08 -0.08)\">\n",
       "       <use xlink:href=\"#LiberationSans-49\"/>\n",
       "      </g>\n",
       "     </g>\n",
       "    </g>\n",
       "    <g id=\"ytick_3\">\n",
       "     <g id=\"line2d_15\">\n",
       "      <path clip-path=\"url(#pfd8209083c)\" d=\"M 31.970625 257.840663 \n",
       "L 422.570625 257.840663 \n",
       "\" style=\"fill:none;stroke:#ffffff;stroke-linecap:round;\"/>\n",
       "     </g>\n",
       "     <g id=\"line2d_16\"/>\n",
       "     <g id=\"text_9\">\n",
       "      <!-- 2 -->\n",
       "      <g style=\"fill:#262626;\" transform=\"translate(20.521875 260.739413)scale(0.08 -0.08)\">\n",
       "       <use xlink:href=\"#LiberationSans-50\"/>\n",
       "      </g>\n",
       "     </g>\n",
       "    </g>\n",
       "    <g id=\"ytick_4\">\n",
       "     <g id=\"line2d_17\">\n",
       "      <path clip-path=\"url(#pfd8209083c)\" d=\"M 31.970625 213.457557 \n",
       "L 422.570625 213.457557 \n",
       "\" style=\"fill:none;stroke:#ffffff;stroke-linecap:round;\"/>\n",
       "     </g>\n",
       "     <g id=\"line2d_18\"/>\n",
       "     <g id=\"text_10\">\n",
       "      <!-- 3 -->\n",
       "      <g style=\"fill:#262626;\" transform=\"translate(20.521875 216.356307)scale(0.08 -0.08)\">\n",
       "       <use xlink:href=\"#LiberationSans-51\"/>\n",
       "      </g>\n",
       "     </g>\n",
       "    </g>\n",
       "    <g id=\"ytick_5\">\n",
       "     <g id=\"line2d_19\">\n",
       "      <path clip-path=\"url(#pfd8209083c)\" d=\"M 31.970625 169.074451 \n",
       "L 422.570625 169.074451 \n",
       "\" style=\"fill:none;stroke:#ffffff;stroke-linecap:round;\"/>\n",
       "     </g>\n",
       "     <g id=\"line2d_20\"/>\n",
       "     <g id=\"text_11\">\n",
       "      <!-- 4 -->\n",
       "      <g style=\"fill:#262626;\" transform=\"translate(20.521875 171.973201)scale(0.08 -0.08)\">\n",
       "       <use xlink:href=\"#LiberationSans-52\"/>\n",
       "      </g>\n",
       "     </g>\n",
       "    </g>\n",
       "    <g id=\"ytick_6\">\n",
       "     <g id=\"line2d_21\">\n",
       "      <path clip-path=\"url(#pfd8209083c)\" d=\"M 31.970625 124.691345 \n",
       "L 422.570625 124.691345 \n",
       "\" style=\"fill:none;stroke:#ffffff;stroke-linecap:round;\"/>\n",
       "     </g>\n",
       "     <g id=\"line2d_22\"/>\n",
       "     <g id=\"text_12\">\n",
       "      <!-- 5 -->\n",
       "      <g style=\"fill:#262626;\" transform=\"translate(20.521875 127.590095)scale(0.08 -0.08)\">\n",
       "       <use xlink:href=\"#LiberationSans-53\"/>\n",
       "      </g>\n",
       "     </g>\n",
       "    </g>\n",
       "    <g id=\"ytick_7\">\n",
       "     <g id=\"line2d_23\">\n",
       "      <path clip-path=\"url(#pfd8209083c)\" d=\"M 31.970625 80.308239 \n",
       "L 422.570625 80.308239 \n",
       "\" style=\"fill:none;stroke:#ffffff;stroke-linecap:round;\"/>\n",
       "     </g>\n",
       "     <g id=\"line2d_24\"/>\n",
       "     <g id=\"text_13\">\n",
       "      <!-- 6 -->\n",
       "      <defs>\n",
       "       <path d=\"M 51.21875 22.515625 \n",
       "Q 51.21875 17.328125 49.78125 13 \n",
       "Q 48.34375 8.6875 45.53125 5.578125 \n",
       "Q 42.71875 2.484375 38.5625 0.75 \n",
       "Q 34.421875 -0.984375 29 -0.984375 \n",
       "Q 23 -0.984375 18.5 1.3125 \n",
       "Q 14.015625 3.609375 11.03125 7.921875 \n",
       "Q 8.0625 12.25 6.5625 18.53125 \n",
       "Q 5.078125 24.8125 5.078125 32.8125 \n",
       "Q 5.078125 42 6.765625 48.921875 \n",
       "Q 8.453125 55.859375 11.625 60.5 \n",
       "Q 14.796875 65.140625 19.359375 67.484375 \n",
       "Q 23.921875 69.828125 29.6875 69.828125 \n",
       "Q 33.203125 69.828125 36.28125 69.09375 \n",
       "Q 39.359375 68.359375 41.875 66.71875 \n",
       "Q 44.390625 65.09375 46.28125 62.40625 \n",
       "Q 48.1875 59.71875 49.3125 55.8125 \n",
       "L 40.921875 54.296875 \n",
       "Q 39.546875 58.734375 36.546875 60.71875 \n",
       "Q 33.546875 62.703125 29.59375 62.703125 \n",
       "Q 25.984375 62.703125 23.046875 60.984375 \n",
       "Q 20.125 59.28125 18.0625 55.875 \n",
       "Q 16.015625 52.484375 14.90625 47.359375 \n",
       "Q 13.8125 42.234375 13.8125 35.40625 \n",
       "Q 16.21875 39.84375 20.5625 42.15625 \n",
       "Q 24.90625 44.484375 30.515625 44.484375 \n",
       "Q 35.203125 44.484375 39.015625 42.96875 \n",
       "Q 42.828125 41.453125 45.53125 38.59375 \n",
       "Q 48.25 35.75 49.734375 31.671875 \n",
       "Q 51.21875 27.59375 51.21875 22.515625 \n",
       "z\n",
       "M 42.28125 22.125 \n",
       "Q 42.28125 25.6875 41.40625 28.5625 \n",
       "Q 40.53125 31.453125 38.765625 33.46875 \n",
       "Q 37.015625 35.5 34.421875 36.59375 \n",
       "Q 31.84375 37.703125 28.421875 37.703125 \n",
       "Q 26.03125 37.703125 23.578125 36.984375 \n",
       "Q 21.140625 36.28125 19.15625 34.6875 \n",
       "Q 17.1875 33.109375 15.9375 30.515625 \n",
       "Q 14.703125 27.9375 14.703125 24.21875 \n",
       "Q 14.703125 20.40625 15.671875 17.109375 \n",
       "Q 16.65625 13.8125 18.484375 11.375 \n",
       "Q 20.3125 8.9375 22.890625 7.515625 \n",
       "Q 25.484375 6.109375 28.71875 6.109375 \n",
       "Q 31.890625 6.109375 34.40625 7.203125 \n",
       "Q 36.921875 8.296875 38.671875 10.375 \n",
       "Q 40.4375 12.453125 41.359375 15.421875 \n",
       "Q 42.28125 18.40625 42.28125 22.125 \n",
       "z\n",
       "\" id=\"LiberationSans-54\"/>\n",
       "      </defs>\n",
       "      <g style=\"fill:#262626;\" transform=\"translate(20.521875 83.206989)scale(0.08 -0.08)\">\n",
       "       <use xlink:href=\"#LiberationSans-54\"/>\n",
       "      </g>\n",
       "     </g>\n",
       "    </g>\n",
       "    <g id=\"ytick_8\">\n",
       "     <g id=\"line2d_25\">\n",
       "      <path clip-path=\"url(#pfd8209083c)\" d=\"M 31.970625 35.925133 \n",
       "L 422.570625 35.925133 \n",
       "\" style=\"fill:none;stroke:#ffffff;stroke-linecap:round;\"/>\n",
       "     </g>\n",
       "     <g id=\"line2d_26\"/>\n",
       "     <g id=\"text_14\">\n",
       "      <!-- 7 -->\n",
       "      <defs>\n",
       "       <path d=\"M 50.59375 61.671875 \n",
       "Q 45.40625 53.765625 41.0625 46.453125 \n",
       "Q 36.71875 39.15625 33.59375 31.75 \n",
       "Q 30.46875 24.359375 28.734375 16.578125 \n",
       "Q 27 8.796875 27 0 \n",
       "L 17.828125 0 \n",
       "Q 17.828125 8.25 19.78125 16.1875 \n",
       "Q 21.734375 24.125 25.046875 31.765625 \n",
       "Q 28.375 39.40625 32.765625 46.78125 \n",
       "Q 37.15625 54.15625 42.09375 61.328125 \n",
       "L 5.125 61.328125 \n",
       "L 5.125 68.796875 \n",
       "L 50.59375 68.796875 \n",
       "z\n",
       "\" id=\"LiberationSans-55\"/>\n",
       "      </defs>\n",
       "      <g style=\"fill:#262626;\" transform=\"translate(20.521875 38.823883)scale(0.08 -0.08)\">\n",
       "       <use xlink:href=\"#LiberationSans-55\"/>\n",
       "      </g>\n",
       "     </g>\n",
       "    </g>\n",
       "    <g id=\"text_15\">\n",
       "     <!-- Frequency -->\n",
       "     <defs>\n",
       "      <path d=\"M 17.53125 61.1875 \n",
       "L 17.53125 35.59375 \n",
       "L 55.90625 35.59375 \n",
       "L 55.90625 27.875 \n",
       "L 17.53125 27.875 \n",
       "L 17.53125 0 \n",
       "L 8.203125 0 \n",
       "L 8.203125 68.796875 \n",
       "L 57.078125 68.796875 \n",
       "L 57.078125 61.1875 \n",
       "z\n",
       "\" id=\"LiberationSans-70\"/>\n",
       "      <path d=\"M 6.9375 0 \n",
       "L 6.9375 40.53125 \n",
       "Q 6.9375 42.1875 6.90625 43.921875 \n",
       "Q 6.890625 45.65625 6.828125 47.265625 \n",
       "Q 6.78125 48.875 6.734375 50.28125 \n",
       "Q 6.6875 51.703125 6.640625 52.828125 \n",
       "L 14.9375 52.828125 \n",
       "Q 14.984375 51.703125 15.0625 50.265625 \n",
       "Q 15.140625 48.828125 15.203125 47.3125 \n",
       "Q 15.28125 45.796875 15.296875 44.40625 \n",
       "Q 15.328125 43.015625 15.328125 42.046875 \n",
       "L 15.53125 42.046875 \n",
       "Q 16.453125 45.0625 17.5 47.28125 \n",
       "Q 18.5625 49.515625 19.96875 50.953125 \n",
       "Q 21.390625 52.390625 23.34375 53.09375 \n",
       "Q 25.296875 53.8125 28.078125 53.8125 \n",
       "Q 29.15625 53.8125 30.125 53.640625 \n",
       "Q 31.109375 53.46875 31.640625 53.328125 \n",
       "L 31.640625 45.265625 \n",
       "Q 30.765625 45.515625 29.59375 45.625 \n",
       "Q 28.421875 45.75 26.953125 45.75 \n",
       "Q 23.921875 45.75 21.796875 44.375 \n",
       "Q 19.671875 43.015625 18.328125 40.59375 \n",
       "Q 17 38.1875 16.359375 34.84375 \n",
       "Q 15.71875 31.5 15.71875 27.546875 \n",
       "L 15.71875 0 \n",
       "z\n",
       "\" id=\"LiberationSans-114\"/>\n",
       "      <path d=\"M 13.484375 24.5625 \n",
       "Q 13.484375 20.40625 14.328125 16.90625 \n",
       "Q 15.1875 13.421875 16.96875 10.90625 \n",
       "Q 18.75 8.40625 21.53125 7 \n",
       "Q 24.3125 5.609375 28.21875 5.609375 \n",
       "Q 33.9375 5.609375 37.375 7.90625 \n",
       "Q 40.828125 10.203125 42.046875 13.71875 \n",
       "L 49.75 11.53125 \n",
       "Q 48.921875 9.328125 47.4375 7.109375 \n",
       "Q 45.953125 4.890625 43.453125 3.09375 \n",
       "Q 40.96875 1.3125 37.234375 0.15625 \n",
       "Q 33.5 -0.984375 28.21875 -0.984375 \n",
       "Q 16.5 -0.984375 10.375 6 \n",
       "Q 4.25 12.984375 4.25 26.765625 \n",
       "Q 4.25 34.1875 6.09375 39.328125 \n",
       "Q 7.953125 44.484375 11.171875 47.703125 \n",
       "Q 14.40625 50.921875 18.703125 52.359375 \n",
       "Q 23 53.8125 27.875 53.8125 \n",
       "Q 34.515625 53.8125 38.984375 51.65625 \n",
       "Q 43.453125 49.515625 46.15625 45.71875 \n",
       "Q 48.875 41.9375 50.015625 36.8125 \n",
       "Q 51.171875 31.6875 51.171875 25.734375 \n",
       "L 51.171875 24.5625 \n",
       "z\n",
       "M 42.09375 31.296875 \n",
       "Q 41.359375 39.65625 37.84375 43.484375 \n",
       "Q 34.328125 47.3125 27.734375 47.3125 \n",
       "Q 25.53125 47.3125 23.109375 46.609375 \n",
       "Q 20.703125 45.90625 18.65625 44.09375 \n",
       "Q 16.609375 42.28125 15.1875 39.171875 \n",
       "Q 13.765625 36.078125 13.578125 31.296875 \n",
       "z\n",
       "\" id=\"LiberationSans-101\"/>\n",
       "      <path d=\"M 23.640625 -0.984375 \n",
       "Q 13.578125 -0.984375 8.890625 5.796875 \n",
       "Q 4.203125 12.59375 4.203125 26.171875 \n",
       "Q 4.203125 39.9375 9 46.875 \n",
       "Q 13.8125 53.8125 23.640625 53.8125 \n",
       "Q 26.90625 53.8125 29.421875 53.21875 \n",
       "Q 31.9375 52.640625 33.90625 51.484375 \n",
       "Q 35.890625 50.34375 37.375 48.625 \n",
       "Q 38.875 46.921875 40.09375 44.625 \n",
       "L 40.1875 44.625 \n",
       "Q 40.1875 45.84375 40.25 47.328125 \n",
       "Q 40.328125 48.828125 40.40625 50.140625 \n",
       "Q 40.484375 51.46875 40.578125 52.421875 \n",
       "Q 40.671875 53.375 40.765625 53.515625 \n",
       "L 49.21875 53.515625 \n",
       "Q 49.125 52.6875 49 49.171875 \n",
       "Q 48.875 45.65625 48.875 39.109375 \n",
       "L 48.875 -20.75 \n",
       "L 40.09375 -20.75 \n",
       "L 40.09375 0.6875 \n",
       "Q 40.09375 1.953125 40.109375 3.3125 \n",
       "Q 40.140625 4.6875 40.1875 5.90625 \n",
       "Q 40.234375 7.28125 40.28125 8.6875 \n",
       "L 40.1875 8.6875 \n",
       "Q 38.921875 6.203125 37.375 4.375 \n",
       "Q 35.84375 2.546875 33.84375 1.34375 \n",
       "Q 31.84375 0.140625 29.328125 -0.421875 \n",
       "Q 26.8125 -0.984375 23.640625 -0.984375 \n",
       "z\n",
       "M 40.09375 27.046875 \n",
       "Q 40.09375 32.8125 39.09375 36.71875 \n",
       "Q 38.09375 40.625 36.25 42.96875 \n",
       "Q 34.421875 45.3125 31.8125 46.3125 \n",
       "Q 29.203125 47.3125 25.984375 47.3125 \n",
       "Q 22.609375 47.3125 20.21875 46.0625 \n",
       "Q 17.828125 44.828125 16.328125 42.265625 \n",
       "Q 14.84375 39.703125 14.125 35.765625 \n",
       "Q 13.421875 31.84375 13.421875 26.46875 \n",
       "Q 13.421875 21.1875 14.078125 17.28125 \n",
       "Q 14.75 13.375 16.234375 10.828125 \n",
       "Q 17.71875 8.296875 20.09375 7.046875 \n",
       "Q 22.46875 5.8125 25.875 5.8125 \n",
       "Q 28.8125 5.8125 31.390625 6.71875 \n",
       "Q 33.984375 7.625 35.90625 9.984375 \n",
       "Q 37.84375 12.359375 38.96875 16.484375 \n",
       "Q 40.09375 20.609375 40.09375 27.046875 \n",
       "z\n",
       "\" id=\"LiberationSans-113\"/>\n",
       "      <path d=\"M 15.328125 52.828125 \n",
       "L 15.328125 19.34375 \n",
       "Q 15.328125 15.484375 15.890625 12.890625 \n",
       "Q 16.453125 10.296875 17.71875 8.703125 \n",
       "Q 19 7.125 21.0625 6.46875 \n",
       "Q 23.140625 5.8125 26.21875 5.8125 \n",
       "Q 29.34375 5.8125 31.859375 6.90625 \n",
       "Q 34.375 8.015625 36.15625 10.078125 \n",
       "Q 37.9375 12.15625 38.90625 15.203125 \n",
       "Q 39.890625 18.265625 39.890625 22.21875 \n",
       "L 39.890625 52.828125 \n",
       "L 48.6875 52.828125 \n",
       "L 48.6875 11.28125 \n",
       "Q 48.6875 9.625 48.703125 7.78125 \n",
       "Q 48.734375 5.953125 48.78125 4.3125 \n",
       "Q 48.828125 2.6875 48.875 1.515625 \n",
       "Q 48.921875 0.34375 48.96875 0 \n",
       "L 40.671875 0 \n",
       "Q 40.625 0.25 40.578125 1.3125 \n",
       "Q 40.53125 2.390625 40.453125 3.78125 \n",
       "Q 40.375 5.171875 40.328125 6.609375 \n",
       "Q 40.28125 8.0625 40.28125 9.03125 \n",
       "L 40.140625 9.03125 \n",
       "Q 38.875 6.734375 37.359375 4.875 \n",
       "Q 35.84375 3.03125 33.84375 1.734375 \n",
       "Q 31.84375 0.4375 29.25 -0.265625 \n",
       "Q 26.65625 -0.984375 23.25 -0.984375 \n",
       "Q 18.84375 -0.984375 15.671875 0.09375 \n",
       "Q 12.5 1.171875 10.453125 3.421875 \n",
       "Q 8.40625 5.671875 7.453125 9.1875 \n",
       "Q 6.5 12.703125 6.5 17.625 \n",
       "L 6.5 52.828125 \n",
       "z\n",
       "\" id=\"LiberationSans-117\"/>\n",
       "      <path d=\"M 13.421875 26.65625 \n",
       "Q 13.421875 22.125 14.078125 18.3125 \n",
       "Q 14.75 14.5 16.3125 11.734375 \n",
       "Q 17.875 8.984375 20.4375 7.46875 \n",
       "Q 23 5.953125 26.765625 5.953125 \n",
       "Q 31.453125 5.953125 34.59375 8.484375 \n",
       "Q 37.75 11.03125 38.484375 16.3125 \n",
       "L 47.359375 15.71875 \n",
       "Q 46.921875 12.453125 45.453125 9.421875 \n",
       "Q 44 6.390625 41.484375 4.09375 \n",
       "Q 38.96875 1.8125 35.34375 0.40625 \n",
       "Q 31.734375 -0.984375 27 -0.984375 \n",
       "Q 20.796875 -0.984375 16.453125 1.109375 \n",
       "Q 12.109375 3.21875 9.390625 6.90625 \n",
       "Q 6.6875 10.59375 5.46875 15.59375 \n",
       "Q 4.25 20.609375 4.25 26.46875 \n",
       "Q 4.25 31.78125 5.125 35.859375 \n",
       "Q 6 39.9375 7.59375 42.984375 \n",
       "Q 9.1875 46.046875 11.328125 48.125 \n",
       "Q 13.484375 50.203125 15.984375 51.4375 \n",
       "Q 18.5 52.6875 21.28125 53.25 \n",
       "Q 24.078125 53.8125 26.90625 53.8125 \n",
       "Q 31.34375 53.8125 34.8125 52.59375 \n",
       "Q 38.28125 51.375 40.796875 49.25 \n",
       "Q 43.3125 47.125 44.875 44.234375 \n",
       "Q 46.4375 41.359375 47.078125 38.03125 \n",
       "L 38.03125 37.359375 \n",
       "Q 37.359375 41.75 34.5625 44.328125 \n",
       "Q 31.78125 46.921875 26.65625 46.921875 \n",
       "Q 22.90625 46.921875 20.390625 45.671875 \n",
       "Q 17.875 44.4375 16.3125 41.921875 \n",
       "Q 14.75 39.40625 14.078125 35.59375 \n",
       "Q 13.421875 31.78125 13.421875 26.65625 \n",
       "z\n",
       "\" id=\"LiberationSans-99\"/>\n",
       "      <path d=\"M 29.5 0 \n",
       "Q 27.640625 -4.78125 25.703125 -8.609375 \n",
       "Q 23.78125 -12.453125 21.390625 -15.15625 \n",
       "Q 19 -17.875 16.0625 -19.3125 \n",
       "Q 13.140625 -20.75 9.328125 -20.75 \n",
       "Q 7.671875 -20.75 6.25 -20.65625 \n",
       "Q 4.828125 -20.5625 3.265625 -20.21875 \n",
       "L 3.265625 -13.625 \n",
       "Q 4.203125 -13.765625 5.375 -13.84375 \n",
       "Q 6.546875 -13.921875 7.375 -13.921875 \n",
       "Q 11.234375 -13.921875 14.546875 -11.03125 \n",
       "Q 17.875 -8.15625 20.359375 -1.859375 \n",
       "L 21.1875 0.25 \n",
       "L 0.25 52.828125 \n",
       "L 9.625 52.828125 \n",
       "L 20.75 23.640625 \n",
       "Q 21.234375 22.3125 21.984375 20.109375 \n",
       "Q 22.75 17.921875 23.5 15.71875 \n",
       "Q 24.265625 13.53125 24.84375 11.765625 \n",
       "Q 25.4375 10.015625 25.53125 9.578125 \n",
       "Q 25.6875 10.109375 26.25 11.6875 \n",
       "Q 26.8125 13.28125 27.515625 15.234375 \n",
       "Q 28.21875 17.1875 28.953125 19.1875 \n",
       "Q 29.6875 21.1875 30.171875 22.65625 \n",
       "L 40.53125 52.828125 \n",
       "L 49.8125 52.828125 \n",
       "z\n",
       "\" id=\"LiberationSans-121\"/>\n",
       "     </defs>\n",
       "     <g style=\"fill:#262626;\" transform=\"translate(14.446875 207.147969)rotate(-90)scale(0.1 -0.1)\">\n",
       "      <use xlink:href=\"#LiberationSans-70\"/>\n",
       "      <use x=\"61.083984\" xlink:href=\"#LiberationSans-114\"/>\n",
       "      <use x=\"94.384766\" xlink:href=\"#LiberationSans-101\"/>\n",
       "      <use x=\"150\" xlink:href=\"#LiberationSans-113\"/>\n",
       "      <use x=\"205.615234\" xlink:href=\"#LiberationSans-117\"/>\n",
       "      <use x=\"261.230469\" xlink:href=\"#LiberationSans-101\"/>\n",
       "      <use x=\"316.845703\" xlink:href=\"#LiberationSans-110\"/>\n",
       "      <use x=\"372.460938\" xlink:href=\"#LiberationSans-99\"/>\n",
       "      <use x=\"422.460938\" xlink:href=\"#LiberationSans-121\"/>\n",
       "     </g>\n",
       "    </g>\n",
       "    <g id=\"text_16\">\n",
       "     <!-- 1e6 -->\n",
       "     <g style=\"fill:#262626;\" transform=\"translate(31.970625 17.446875)scale(0.08 -0.08)\">\n",
       "      <use xlink:href=\"#LiberationSans-49\"/>\n",
       "      <use x=\"55.615234\" xlink:href=\"#LiberationSans-101\"/>\n",
       "      <use x=\"111.230469\" xlink:href=\"#LiberationSans-54\"/>\n",
       "     </g>\n",
       "    </g>\n",
       "   </g>\n",
       "   <g id=\"patch_3\">\n",
       "    <path clip-path=\"url(#pfd8209083c)\" d=\"M 49.72517 346.606875 \n",
       "L 85.234261 346.606875 \n",
       "L 85.234261 328.636289 \n",
       "L 49.72517 328.636289 \n",
       "z\n",
       "\" style=\"fill:#4c72b0;\"/>\n",
       "   </g>\n",
       "   <g id=\"patch_4\">\n",
       "    <path clip-path=\"url(#pfd8209083c)\" d=\"M 85.234261 346.606875 \n",
       "L 120.743352 346.606875 \n",
       "L 120.743352 309.178158 \n",
       "L 85.234261 309.178158 \n",
       "z\n",
       "\" style=\"fill:#4c72b0;\"/>\n",
       "   </g>\n",
       "   <g id=\"patch_5\">\n",
       "    <path clip-path=\"url(#pfd8209083c)\" d=\"M 120.743352 346.606875 \n",
       "L 156.252443 346.606875 \n",
       "L 156.252443 328.693543 \n",
       "L 120.743352 328.693543 \n",
       "z\n",
       "\" style=\"fill:#4c72b0;\"/>\n",
       "   </g>\n",
       "   <g id=\"patch_6\">\n",
       "    <path clip-path=\"url(#pfd8209083c)\" d=\"M 156.252443 346.606875 \n",
       "L 191.761534 346.606875 \n",
       "L 191.761534 268.384314 \n",
       "L 156.252443 268.384314 \n",
       "z\n",
       "\" style=\"fill:#4c72b0;\"/>\n",
       "   </g>\n",
       "   <g id=\"patch_7\">\n",
       "    <path clip-path=\"url(#pfd8209083c)\" d=\"M 191.761534 346.606875 \n",
       "L 227.270625 346.606875 \n",
       "L 227.270625 290.890188 \n",
       "L 191.761534 290.890188 \n",
       "z\n",
       "\" style=\"fill:#4c72b0;\"/>\n",
       "   </g>\n",
       "   <g id=\"patch_8\">\n",
       "    <path clip-path=\"url(#pfd8209083c)\" d=\"M 227.270625 346.606875 \n",
       "L 262.779716 346.606875 \n",
       "L 262.779716 113.297225 \n",
       "L 227.270625 113.297225 \n",
       "z\n",
       "\" style=\"fill:#4c72b0;\"/>\n",
       "   </g>\n",
       "   <g id=\"patch_9\">\n",
       "    <path clip-path=\"url(#pfd8209083c)\" d=\"M 262.779716 346.606875 \n",
       "L 298.288807 346.606875 \n",
       "L 298.288807 208.299663 \n",
       "L 262.779716 208.299663 \n",
       "z\n",
       "\" style=\"fill:#4c72b0;\"/>\n",
       "   </g>\n",
       "   <g id=\"patch_10\">\n",
       "    <path clip-path=\"url(#pfd8209083c)\" d=\"M 298.288807 346.606875 \n",
       "L 333.797898 346.606875 \n",
       "L 333.797898 35.978304 \n",
       "L 298.288807 35.978304 \n",
       "z\n",
       "\" style=\"fill:#4c72b0;\"/>\n",
       "   </g>\n",
       "   <g id=\"patch_11\">\n",
       "    <path clip-path=\"url(#pfd8209083c)\" d=\"M 333.797898 346.606875 \n",
       "L 369.306989 346.606875 \n",
       "L 369.306989 250.275962 \n",
       "L 333.797898 250.275962 \n",
       "z\n",
       "\" style=\"fill:#4c72b0;\"/>\n",
       "   </g>\n",
       "   <g id=\"patch_12\">\n",
       "    <path clip-path=\"url(#pfd8209083c)\" d=\"M 369.306989 346.606875 \n",
       "L 404.81608 346.606875 \n",
       "L 404.81608 177.396328 \n",
       "L 369.306989 177.396328 \n",
       "z\n",
       "\" style=\"fill:#4c72b0;\"/>\n",
       "   </g>\n",
       "   <g id=\"patch_13\">\n",
       "    <path d=\"M 31.970625 346.606875 \n",
       "L 31.970625 20.446875 \n",
       "\" style=\"fill:none;\"/>\n",
       "   </g>\n",
       "   <g id=\"patch_14\">\n",
       "    <path d=\"M 422.570625 346.606875 \n",
       "L 422.570625 20.446875 \n",
       "\" style=\"fill:none;\"/>\n",
       "   </g>\n",
       "   <g id=\"patch_15\">\n",
       "    <path d=\"M 31.970625 346.606875 \n",
       "L 422.570625 346.606875 \n",
       "\" style=\"fill:none;\"/>\n",
       "   </g>\n",
       "   <g id=\"patch_16\">\n",
       "    <path d=\"M 31.970625 20.446875 \n",
       "L 422.570625 20.446875 \n",
       "\" style=\"fill:none;\"/>\n",
       "   </g>\n",
       "   <g id=\"text_17\">\n",
       "    <!-- Ratings Count -->\n",
       "    <defs>\n",
       "     <path d=\"M 46.390625 14.59375 \n",
       "Q 46.390625 10.890625 44.9375 7.984375 \n",
       "Q 43.5 5.078125 40.765625 3.09375 \n",
       "Q 38.03125 1.125 34.046875 0.0625 \n",
       "Q 30.078125 -0.984375 24.953125 -0.984375 \n",
       "Q 20.359375 -0.984375 16.671875 -0.265625 \n",
       "Q 12.984375 0.4375 10.203125 2 \n",
       "Q 7.421875 3.5625 5.53125 6.125 \n",
       "Q 3.65625 8.6875 2.78125 12.40625 \n",
       "L 10.546875 13.921875 \n",
       "Q 11.671875 9.671875 15.1875 7.6875 \n",
       "Q 18.703125 5.71875 24.953125 5.71875 \n",
       "Q 27.78125 5.71875 30.140625 6.109375 \n",
       "Q 32.515625 6.5 34.21875 7.453125 \n",
       "Q 35.9375 8.40625 36.890625 9.984375 \n",
       "Q 37.84375 11.578125 37.84375 13.921875 \n",
       "Q 37.84375 16.3125 36.71875 17.84375 \n",
       "Q 35.59375 19.390625 33.59375 20.40625 \n",
       "Q 31.59375 21.4375 28.734375 22.1875 \n",
       "Q 25.875 22.953125 22.46875 23.875 \n",
       "Q 19.28125 24.703125 16.15625 25.734375 \n",
       "Q 13.03125 26.765625 10.515625 28.4375 \n",
       "Q 8.015625 30.125 6.453125 32.609375 \n",
       "Q 4.890625 35.109375 4.890625 38.875 \n",
       "Q 4.890625 46.09375 10.03125 49.875 \n",
       "Q 15.1875 53.65625 25.046875 53.65625 \n",
       "Q 33.796875 53.65625 38.9375 50.578125 \n",
       "Q 44.09375 47.515625 45.453125 40.71875 \n",
       "L 37.546875 39.75 \n",
       "Q 37.109375 41.796875 35.9375 43.1875 \n",
       "Q 34.765625 44.578125 33.109375 45.4375 \n",
       "Q 31.453125 46.296875 29.375 46.65625 \n",
       "Q 27.296875 47.015625 25.046875 47.015625 \n",
       "Q 19.09375 47.015625 16.25 45.203125 \n",
       "Q 13.421875 43.40625 13.421875 39.75 \n",
       "Q 13.421875 37.59375 14.46875 36.203125 \n",
       "Q 15.53125 34.8125 17.40625 33.859375 \n",
       "Q 19.28125 32.90625 21.921875 32.203125 \n",
       "Q 24.5625 31.5 27.734375 30.71875 \n",
       "Q 29.828125 30.171875 32.03125 29.5625 \n",
       "Q 34.234375 28.953125 36.296875 28.09375 \n",
       "Q 38.375 27.25 40.203125 26.09375 \n",
       "Q 42.046875 24.953125 43.40625 23.34375 \n",
       "Q 44.78125 21.734375 45.578125 19.578125 \n",
       "Q 46.390625 17.4375 46.390625 14.59375 \n",
       "z\n",
       "\" id=\"LiberationSans-115\"/>\n",
       "     <path id=\"LiberationSans-32\"/>\n",
       "     <path d=\"M 38.671875 62.203125 \n",
       "Q 32.8125 62.203125 28.296875 60.25 \n",
       "Q 23.78125 58.296875 20.71875 54.6875 \n",
       "Q 17.671875 51.078125 16.109375 46 \n",
       "Q 14.546875 40.921875 14.546875 34.71875 \n",
       "Q 14.546875 28.515625 16.234375 23.359375 \n",
       "Q 17.921875 18.21875 21.0625 14.5 \n",
       "Q 24.21875 10.796875 28.78125 8.734375 \n",
       "Q 33.34375 6.6875 39.0625 6.6875 \n",
       "Q 43.0625 6.6875 46.359375 7.734375 \n",
       "Q 49.65625 8.796875 52.3125 10.6875 \n",
       "Q 54.984375 12.59375 57.078125 15.203125 \n",
       "Q 59.1875 17.828125 60.796875 21 \n",
       "L 68.40625 17.1875 \n",
       "Q 66.546875 13.328125 63.8125 10 \n",
       "Q 61.078125 6.6875 57.390625 4.25 \n",
       "Q 53.71875 1.8125 49.046875 0.40625 \n",
       "Q 44.390625 -0.984375 38.625 -0.984375 \n",
       "Q 30.28125 -0.984375 24 1.671875 \n",
       "Q 17.71875 4.34375 13.5 9.109375 \n",
       "Q 9.28125 13.875 7.171875 20.40625 \n",
       "Q 5.078125 26.953125 5.078125 34.71875 \n",
       "Q 5.078125 42.78125 7.296875 49.265625 \n",
       "Q 9.515625 55.765625 13.78125 60.328125 \n",
       "Q 18.0625 64.890625 24.3125 67.359375 \n",
       "Q 30.5625 69.828125 38.578125 69.828125 \n",
       "Q 49.5625 69.828125 56.9375 65.53125 \n",
       "Q 64.3125 61.234375 67.78125 52.78125 \n",
       "L 58.9375 49.859375 \n",
       "Q 57.953125 52.296875 56.296875 54.515625 \n",
       "Q 54.640625 56.734375 52.140625 58.4375 \n",
       "Q 49.65625 60.15625 46.3125 61.171875 \n",
       "Q 42.96875 62.203125 38.671875 62.203125 \n",
       "z\n",
       "\" id=\"LiberationSans-67\"/>\n",
       "     <path d=\"M 51.421875 26.46875 \n",
       "Q 51.421875 12.59375 45.3125 5.796875 \n",
       "Q 39.203125 -0.984375 27.59375 -0.984375 \n",
       "Q 22.078125 -0.984375 17.71875 0.671875 \n",
       "Q 13.375 2.34375 10.375 5.765625 \n",
       "Q 7.375 9.1875 5.78125 14.328125 \n",
       "Q 4.203125 19.484375 4.203125 26.46875 \n",
       "Q 4.203125 53.8125 27.875 53.8125 \n",
       "Q 34.03125 53.8125 38.5 52.09375 \n",
       "Q 42.96875 50.390625 45.828125 46.96875 \n",
       "Q 48.6875 43.5625 50.046875 38.421875 \n",
       "Q 51.421875 33.296875 51.421875 26.46875 \n",
       "z\n",
       "M 42.1875 26.46875 \n",
       "Q 42.1875 32.625 41.234375 36.625 \n",
       "Q 40.28125 40.625 38.453125 43.015625 \n",
       "Q 36.625 45.40625 33.984375 46.359375 \n",
       "Q 31.34375 47.3125 28.03125 47.3125 \n",
       "Q 24.65625 47.3125 21.9375 46.3125 \n",
       "Q 19.234375 45.3125 17.328125 42.890625 \n",
       "Q 15.4375 40.484375 14.421875 36.46875 \n",
       "Q 13.421875 32.46875 13.421875 26.46875 \n",
       "Q 13.421875 20.3125 14.5 16.28125 \n",
       "Q 15.578125 12.25 17.453125 9.859375 \n",
       "Q 19.34375 7.46875 21.90625 6.484375 \n",
       "Q 24.46875 5.515625 27.484375 5.515625 \n",
       "Q 30.859375 5.515625 33.59375 6.46875 \n",
       "Q 36.328125 7.421875 38.234375 9.8125 \n",
       "Q 40.140625 12.203125 41.15625 16.25 \n",
       "Q 42.1875 20.3125 42.1875 26.46875 \n",
       "z\n",
       "\" id=\"LiberationSans-111\"/>\n",
       "    </defs>\n",
       "    <g style=\"fill:#262626;\" transform=\"translate(195.587813 14.446875)scale(0.1 -0.1)\">\n",
       "     <use xlink:href=\"#LiberationSans-82\"/>\n",
       "     <use x=\"72.216797\" xlink:href=\"#LiberationSans-97\"/>\n",
       "     <use x=\"127.832031\" xlink:href=\"#LiberationSans-116\"/>\n",
       "     <use x=\"155.615234\" xlink:href=\"#LiberationSans-105\"/>\n",
       "     <use x=\"177.832031\" xlink:href=\"#LiberationSans-110\"/>\n",
       "     <use x=\"233.447266\" xlink:href=\"#LiberationSans-103\"/>\n",
       "     <use x=\"289.0625\" xlink:href=\"#LiberationSans-115\"/>\n",
       "     <use x=\"339.0625\" xlink:href=\"#LiberationSans-32\"/>\n",
       "     <use x=\"366.845703\" xlink:href=\"#LiberationSans-67\"/>\n",
       "     <use x=\"439.0625\" xlink:href=\"#LiberationSans-111\"/>\n",
       "     <use x=\"494.677734\" xlink:href=\"#LiberationSans-117\"/>\n",
       "     <use x=\"550.292969\" xlink:href=\"#LiberationSans-110\"/>\n",
       "     <use x=\"605.908203\" xlink:href=\"#LiberationSans-116\"/>\n",
       "    </g>\n",
       "   </g>\n",
       "  </g>\n",
       " </g>\n",
       " <defs>\n",
       "  <clipPath id=\"pfd8209083c\">\n",
       "   <rect height=\"326.16\" width=\"390.6\" x=\"31.970625\" y=\"20.446875\"/>\n",
       "  </clipPath>\n",
       " </defs>\n",
       "</svg>\n"
      ],
      "text/plain": [
       "<Figure size 504x432 with 1 Axes>"
      ]
     },
     "metadata": {},
     "output_type": "display_data"
    }
   ],
   "source": [
    "plt.rcParams['figure.figsize'] = (7, 6)\n",
    "plt.hist(ratings['rating'], bins=10);\n",
    "plt.title('Ratings Count', size=10)\n",
    "plt.xlabel('Rating')\n",
    "plt.ylabel('Frequency')\n",
    "plt.show();"
   ]
  },
  {
   "cell_type": "markdown",
   "metadata": {},
   "source": [
    "And for a better visualization, let's represent by a pie chart with the percent representation."
   ]
  },
  {
   "cell_type": "code",
   "execution_count": 14,
   "metadata": {
    "_kg_hide-input": true
   },
   "outputs": [
    {
     "data": {
      "application/vnd.plotly.v1+json": {
       "config": {
        "linkText": "Export to plot.ly",
        "plotlyServerURL": "https://plot.ly",
        "showLink": false
       },
       "data": [
        {
         "labels": [
          4.0,
          3.0,
          5.0,
          3.5,
          4.5,
          2.0,
          2.5,
          1.0,
          0.5,
          1.5
         ],
         "marker": {
          "colors": [
           "red",
           "blue",
           "green",
           "yellow",
           "black"
          ]
         },
         "type": "pie",
         "values": [
          6998802,
          5256722,
          3812499,
          3116213,
          2170441,
          1762440,
          1255358,
          843310,
          404897,
          403607
         ]
        }
       ],
       "layout": {
        "template": {
         "data": {
          "bar": [
           {
            "error_x": {
             "color": "#2a3f5f"
            },
            "error_y": {
             "color": "#2a3f5f"
            },
            "marker": {
             "line": {
              "color": "#E5ECF6",
              "width": 0.5
             }
            },
            "type": "bar"
           }
          ],
          "barpolar": [
           {
            "marker": {
             "line": {
              "color": "#E5ECF6",
              "width": 0.5
             }
            },
            "type": "barpolar"
           }
          ],
          "carpet": [
           {
            "aaxis": {
             "endlinecolor": "#2a3f5f",
             "gridcolor": "white",
             "linecolor": "white",
             "minorgridcolor": "white",
             "startlinecolor": "#2a3f5f"
            },
            "baxis": {
             "endlinecolor": "#2a3f5f",
             "gridcolor": "white",
             "linecolor": "white",
             "minorgridcolor": "white",
             "startlinecolor": "#2a3f5f"
            },
            "type": "carpet"
           }
          ],
          "choropleth": [
           {
            "colorbar": {
             "outlinewidth": 0,
             "ticks": ""
            },
            "type": "choropleth"
           }
          ],
          "contour": [
           {
            "colorbar": {
             "outlinewidth": 0,
             "ticks": ""
            },
            "colorscale": [
             [
              0.0,
              "#0d0887"
             ],
             [
              0.1111111111111111,
              "#46039f"
             ],
             [
              0.2222222222222222,
              "#7201a8"
             ],
             [
              0.3333333333333333,
              "#9c179e"
             ],
             [
              0.4444444444444444,
              "#bd3786"
             ],
             [
              0.5555555555555556,
              "#d8576b"
             ],
             [
              0.6666666666666666,
              "#ed7953"
             ],
             [
              0.7777777777777778,
              "#fb9f3a"
             ],
             [
              0.8888888888888888,
              "#fdca26"
             ],
             [
              1.0,
              "#f0f921"
             ]
            ],
            "type": "contour"
           }
          ],
          "contourcarpet": [
           {
            "colorbar": {
             "outlinewidth": 0,
             "ticks": ""
            },
            "type": "contourcarpet"
           }
          ],
          "heatmap": [
           {
            "colorbar": {
             "outlinewidth": 0,
             "ticks": ""
            },
            "colorscale": [
             [
              0.0,
              "#0d0887"
             ],
             [
              0.1111111111111111,
              "#46039f"
             ],
             [
              0.2222222222222222,
              "#7201a8"
             ],
             [
              0.3333333333333333,
              "#9c179e"
             ],
             [
              0.4444444444444444,
              "#bd3786"
             ],
             [
              0.5555555555555556,
              "#d8576b"
             ],
             [
              0.6666666666666666,
              "#ed7953"
             ],
             [
              0.7777777777777778,
              "#fb9f3a"
             ],
             [
              0.8888888888888888,
              "#fdca26"
             ],
             [
              1.0,
              "#f0f921"
             ]
            ],
            "type": "heatmap"
           }
          ],
          "heatmapgl": [
           {
            "colorbar": {
             "outlinewidth": 0,
             "ticks": ""
            },
            "colorscale": [
             [
              0.0,
              "#0d0887"
             ],
             [
              0.1111111111111111,
              "#46039f"
             ],
             [
              0.2222222222222222,
              "#7201a8"
             ],
             [
              0.3333333333333333,
              "#9c179e"
             ],
             [
              0.4444444444444444,
              "#bd3786"
             ],
             [
              0.5555555555555556,
              "#d8576b"
             ],
             [
              0.6666666666666666,
              "#ed7953"
             ],
             [
              0.7777777777777778,
              "#fb9f3a"
             ],
             [
              0.8888888888888888,
              "#fdca26"
             ],
             [
              1.0,
              "#f0f921"
             ]
            ],
            "type": "heatmapgl"
           }
          ],
          "histogram": [
           {
            "marker": {
             "colorbar": {
              "outlinewidth": 0,
              "ticks": ""
             }
            },
            "type": "histogram"
           }
          ],
          "histogram2d": [
           {
            "colorbar": {
             "outlinewidth": 0,
             "ticks": ""
            },
            "colorscale": [
             [
              0.0,
              "#0d0887"
             ],
             [
              0.1111111111111111,
              "#46039f"
             ],
             [
              0.2222222222222222,
              "#7201a8"
             ],
             [
              0.3333333333333333,
              "#9c179e"
             ],
             [
              0.4444444444444444,
              "#bd3786"
             ],
             [
              0.5555555555555556,
              "#d8576b"
             ],
             [
              0.6666666666666666,
              "#ed7953"
             ],
             [
              0.7777777777777778,
              "#fb9f3a"
             ],
             [
              0.8888888888888888,
              "#fdca26"
             ],
             [
              1.0,
              "#f0f921"
             ]
            ],
            "type": "histogram2d"
           }
          ],
          "histogram2dcontour": [
           {
            "colorbar": {
             "outlinewidth": 0,
             "ticks": ""
            },
            "colorscale": [
             [
              0.0,
              "#0d0887"
             ],
             [
              0.1111111111111111,
              "#46039f"
             ],
             [
              0.2222222222222222,
              "#7201a8"
             ],
             [
              0.3333333333333333,
              "#9c179e"
             ],
             [
              0.4444444444444444,
              "#bd3786"
             ],
             [
              0.5555555555555556,
              "#d8576b"
             ],
             [
              0.6666666666666666,
              "#ed7953"
             ],
             [
              0.7777777777777778,
              "#fb9f3a"
             ],
             [
              0.8888888888888888,
              "#fdca26"
             ],
             [
              1.0,
              "#f0f921"
             ]
            ],
            "type": "histogram2dcontour"
           }
          ],
          "mesh3d": [
           {
            "colorbar": {
             "outlinewidth": 0,
             "ticks": ""
            },
            "type": "mesh3d"
           }
          ],
          "parcoords": [
           {
            "line": {
             "colorbar": {
              "outlinewidth": 0,
              "ticks": ""
             }
            },
            "type": "parcoords"
           }
          ],
          "pie": [
           {
            "automargin": true,
            "type": "pie"
           }
          ],
          "scatter": [
           {
            "marker": {
             "colorbar": {
              "outlinewidth": 0,
              "ticks": ""
             }
            },
            "type": "scatter"
           }
          ],
          "scatter3d": [
           {
            "line": {
             "colorbar": {
              "outlinewidth": 0,
              "ticks": ""
             }
            },
            "marker": {
             "colorbar": {
              "outlinewidth": 0,
              "ticks": ""
             }
            },
            "type": "scatter3d"
           }
          ],
          "scattercarpet": [
           {
            "marker": {
             "colorbar": {
              "outlinewidth": 0,
              "ticks": ""
             }
            },
            "type": "scattercarpet"
           }
          ],
          "scattergeo": [
           {
            "marker": {
             "colorbar": {
              "outlinewidth": 0,
              "ticks": ""
             }
            },
            "type": "scattergeo"
           }
          ],
          "scattergl": [
           {
            "marker": {
             "colorbar": {
              "outlinewidth": 0,
              "ticks": ""
             }
            },
            "type": "scattergl"
           }
          ],
          "scattermapbox": [
           {
            "marker": {
             "colorbar": {
              "outlinewidth": 0,
              "ticks": ""
             }
            },
            "type": "scattermapbox"
           }
          ],
          "scatterpolar": [
           {
            "marker": {
             "colorbar": {
              "outlinewidth": 0,
              "ticks": ""
             }
            },
            "type": "scatterpolar"
           }
          ],
          "scatterpolargl": [
           {
            "marker": {
             "colorbar": {
              "outlinewidth": 0,
              "ticks": ""
             }
            },
            "type": "scatterpolargl"
           }
          ],
          "scatterternary": [
           {
            "marker": {
             "colorbar": {
              "outlinewidth": 0,
              "ticks": ""
             }
            },
            "type": "scatterternary"
           }
          ],
          "surface": [
           {
            "colorbar": {
             "outlinewidth": 0,
             "ticks": ""
            },
            "colorscale": [
             [
              0.0,
              "#0d0887"
             ],
             [
              0.1111111111111111,
              "#46039f"
             ],
             [
              0.2222222222222222,
              "#7201a8"
             ],
             [
              0.3333333333333333,
              "#9c179e"
             ],
             [
              0.4444444444444444,
              "#bd3786"
             ],
             [
              0.5555555555555556,
              "#d8576b"
             ],
             [
              0.6666666666666666,
              "#ed7953"
             ],
             [
              0.7777777777777778,
              "#fb9f3a"
             ],
             [
              0.8888888888888888,
              "#fdca26"
             ],
             [
              1.0,
              "#f0f921"
             ]
            ],
            "type": "surface"
           }
          ],
          "table": [
           {
            "cells": {
             "fill": {
              "color": "#EBF0F8"
             },
             "line": {
              "color": "white"
             }
            },
            "header": {
             "fill": {
              "color": "#C8D4E3"
             },
             "line": {
              "color": "white"
             }
            },
            "type": "table"
           }
          ]
         },
         "layout": {
          "annotationdefaults": {
           "arrowcolor": "#2a3f5f",
           "arrowhead": 0,
           "arrowwidth": 1
          },
          "coloraxis": {
           "colorbar": {
            "outlinewidth": 0,
            "ticks": ""
           }
          },
          "colorscale": {
           "diverging": [
            [
             0,
             "#8e0152"
            ],
            [
             0.1,
             "#c51b7d"
            ],
            [
             0.2,
             "#de77ae"
            ],
            [
             0.3,
             "#f1b6da"
            ],
            [
             0.4,
             "#fde0ef"
            ],
            [
             0.5,
             "#f7f7f7"
            ],
            [
             0.6,
             "#e6f5d0"
            ],
            [
             0.7,
             "#b8e186"
            ],
            [
             0.8,
             "#7fbc41"
            ],
            [
             0.9,
             "#4d9221"
            ],
            [
             1,
             "#276419"
            ]
           ],
           "sequential": [
            [
             0.0,
             "#0d0887"
            ],
            [
             0.1111111111111111,
             "#46039f"
            ],
            [
             0.2222222222222222,
             "#7201a8"
            ],
            [
             0.3333333333333333,
             "#9c179e"
            ],
            [
             0.4444444444444444,
             "#bd3786"
            ],
            [
             0.5555555555555556,
             "#d8576b"
            ],
            [
             0.6666666666666666,
             "#ed7953"
            ],
            [
             0.7777777777777778,
             "#fb9f3a"
            ],
            [
             0.8888888888888888,
             "#fdca26"
            ],
            [
             1.0,
             "#f0f921"
            ]
           ],
           "sequentialminus": [
            [
             0.0,
             "#0d0887"
            ],
            [
             0.1111111111111111,
             "#46039f"
            ],
            [
             0.2222222222222222,
             "#7201a8"
            ],
            [
             0.3333333333333333,
             "#9c179e"
            ],
            [
             0.4444444444444444,
             "#bd3786"
            ],
            [
             0.5555555555555556,
             "#d8576b"
            ],
            [
             0.6666666666666666,
             "#ed7953"
            ],
            [
             0.7777777777777778,
             "#fb9f3a"
            ],
            [
             0.8888888888888888,
             "#fdca26"
            ],
            [
             1.0,
             "#f0f921"
            ]
           ]
          },
          "colorway": [
           "#636efa",
           "#EF553B",
           "#00cc96",
           "#ab63fa",
           "#FFA15A",
           "#19d3f3",
           "#FF6692",
           "#B6E880",
           "#FF97FF",
           "#FECB52"
          ],
          "font": {
           "color": "#2a3f5f"
          },
          "geo": {
           "bgcolor": "white",
           "lakecolor": "white",
           "landcolor": "#E5ECF6",
           "showlakes": true,
           "showland": true,
           "subunitcolor": "white"
          },
          "hoverlabel": {
           "align": "left"
          },
          "hovermode": "closest",
          "mapbox": {
           "style": "light"
          },
          "paper_bgcolor": "white",
          "plot_bgcolor": "#E5ECF6",
          "polar": {
           "angularaxis": {
            "gridcolor": "white",
            "linecolor": "white",
            "ticks": ""
           },
           "bgcolor": "#E5ECF6",
           "radialaxis": {
            "gridcolor": "white",
            "linecolor": "white",
            "ticks": ""
           }
          },
          "scene": {
           "xaxis": {
            "backgroundcolor": "#E5ECF6",
            "gridcolor": "white",
            "gridwidth": 2,
            "linecolor": "white",
            "showbackground": true,
            "ticks": "",
            "zerolinecolor": "white"
           },
           "yaxis": {
            "backgroundcolor": "#E5ECF6",
            "gridcolor": "white",
            "gridwidth": 2,
            "linecolor": "white",
            "showbackground": true,
            "ticks": "",
            "zerolinecolor": "white"
           },
           "zaxis": {
            "backgroundcolor": "#E5ECF6",
            "gridcolor": "white",
            "gridwidth": 2,
            "linecolor": "white",
            "showbackground": true,
            "ticks": "",
            "zerolinecolor": "white"
           }
          },
          "shapedefaults": {
           "line": {
            "color": "#2a3f5f"
           }
          },
          "ternary": {
           "aaxis": {
            "gridcolor": "white",
            "linecolor": "white",
            "ticks": ""
           },
           "baxis": {
            "gridcolor": "white",
            "linecolor": "white",
            "ticks": ""
           },
           "bgcolor": "#E5ECF6",
           "caxis": {
            "gridcolor": "white",
            "linecolor": "white",
            "ticks": ""
           }
          },
          "title": {
           "x": 0.05
          },
          "xaxis": {
           "automargin": true,
           "gridcolor": "white",
           "linecolor": "white",
           "ticks": "",
           "title": {
            "standoff": 15
           },
           "zerolinecolor": "white",
           "zerolinewidth": 2
          },
          "yaxis": {
           "automargin": true,
           "gridcolor": "white",
           "linecolor": "white",
           "ticks": "",
           "title": {
            "standoff": 15
           },
           "zerolinecolor": "white",
           "zerolinewidth": 2
          }
         }
        },
        "title": {
         "text": "Ratings by Total Percent"
        }
       }
      },
      "text/html": [
       "<div>\n",
       "        \n",
       "        \n",
       "            <div id=\"e29dd1bc-f517-4050-a316-b3109e4c9305\" class=\"plotly-graph-div\" style=\"height:525px; width:100%;\"></div>\n",
       "            <script type=\"text/javascript\">\n",
       "                require([\"plotly\"], function(Plotly) {\n",
       "                    window.PLOTLYENV=window.PLOTLYENV || {};\n",
       "                    \n",
       "                if (document.getElementById(\"e29dd1bc-f517-4050-a316-b3109e4c9305\")) {\n",
       "                    Plotly.newPlot(\n",
       "                        'e29dd1bc-f517-4050-a316-b3109e4c9305',\n",
       "                        [{\"labels\": [4.0, 3.0, 5.0, 3.5, 4.5, 2.0, 2.5, 1.0, 0.5, 1.5], \"marker\": {\"colors\": [\"red\", \"blue\", \"green\", \"yellow\", \"black\"]}, \"type\": \"pie\", \"values\": [6998802, 5256722, 3812499, 3116213, 2170441, 1762440, 1255358, 843310, 404897, 403607]}],\n",
       "                        {\"template\": {\"data\": {\"bar\": [{\"error_x\": {\"color\": \"#2a3f5f\"}, \"error_y\": {\"color\": \"#2a3f5f\"}, \"marker\": {\"line\": {\"color\": \"#E5ECF6\", \"width\": 0.5}}, \"type\": \"bar\"}], \"barpolar\": [{\"marker\": {\"line\": {\"color\": \"#E5ECF6\", \"width\": 0.5}}, \"type\": \"barpolar\"}], \"carpet\": [{\"aaxis\": {\"endlinecolor\": \"#2a3f5f\", \"gridcolor\": \"white\", \"linecolor\": \"white\", \"minorgridcolor\": \"white\", \"startlinecolor\": \"#2a3f5f\"}, \"baxis\": {\"endlinecolor\": \"#2a3f5f\", \"gridcolor\": \"white\", \"linecolor\": \"white\", \"minorgridcolor\": \"white\", \"startlinecolor\": \"#2a3f5f\"}, \"type\": \"carpet\"}], \"choropleth\": [{\"colorbar\": {\"outlinewidth\": 0, \"ticks\": \"\"}, \"type\": \"choropleth\"}], \"contour\": [{\"colorbar\": {\"outlinewidth\": 0, \"ticks\": \"\"}, \"colorscale\": [[0.0, \"#0d0887\"], [0.1111111111111111, \"#46039f\"], [0.2222222222222222, \"#7201a8\"], [0.3333333333333333, \"#9c179e\"], [0.4444444444444444, \"#bd3786\"], [0.5555555555555556, \"#d8576b\"], [0.6666666666666666, \"#ed7953\"], [0.7777777777777778, \"#fb9f3a\"], [0.8888888888888888, \"#fdca26\"], [1.0, \"#f0f921\"]], \"type\": \"contour\"}], \"contourcarpet\": [{\"colorbar\": {\"outlinewidth\": 0, \"ticks\": \"\"}, \"type\": \"contourcarpet\"}], \"heatmap\": [{\"colorbar\": {\"outlinewidth\": 0, \"ticks\": \"\"}, \"colorscale\": [[0.0, \"#0d0887\"], [0.1111111111111111, \"#46039f\"], [0.2222222222222222, \"#7201a8\"], [0.3333333333333333, \"#9c179e\"], [0.4444444444444444, \"#bd3786\"], [0.5555555555555556, \"#d8576b\"], [0.6666666666666666, \"#ed7953\"], [0.7777777777777778, \"#fb9f3a\"], [0.8888888888888888, \"#fdca26\"], [1.0, \"#f0f921\"]], \"type\": \"heatmap\"}], \"heatmapgl\": [{\"colorbar\": {\"outlinewidth\": 0, \"ticks\": \"\"}, \"colorscale\": [[0.0, \"#0d0887\"], [0.1111111111111111, \"#46039f\"], [0.2222222222222222, \"#7201a8\"], [0.3333333333333333, \"#9c179e\"], [0.4444444444444444, \"#bd3786\"], [0.5555555555555556, \"#d8576b\"], [0.6666666666666666, \"#ed7953\"], [0.7777777777777778, \"#fb9f3a\"], [0.8888888888888888, \"#fdca26\"], [1.0, \"#f0f921\"]], \"type\": \"heatmapgl\"}], \"histogram\": [{\"marker\": {\"colorbar\": {\"outlinewidth\": 0, \"ticks\": \"\"}}, \"type\": \"histogram\"}], \"histogram2d\": [{\"colorbar\": {\"outlinewidth\": 0, \"ticks\": \"\"}, \"colorscale\": [[0.0, \"#0d0887\"], [0.1111111111111111, \"#46039f\"], [0.2222222222222222, \"#7201a8\"], [0.3333333333333333, \"#9c179e\"], [0.4444444444444444, \"#bd3786\"], [0.5555555555555556, \"#d8576b\"], [0.6666666666666666, \"#ed7953\"], [0.7777777777777778, \"#fb9f3a\"], [0.8888888888888888, \"#fdca26\"], [1.0, \"#f0f921\"]], \"type\": \"histogram2d\"}], \"histogram2dcontour\": [{\"colorbar\": {\"outlinewidth\": 0, \"ticks\": \"\"}, \"colorscale\": [[0.0, \"#0d0887\"], [0.1111111111111111, \"#46039f\"], [0.2222222222222222, \"#7201a8\"], [0.3333333333333333, \"#9c179e\"], [0.4444444444444444, \"#bd3786\"], [0.5555555555555556, \"#d8576b\"], [0.6666666666666666, \"#ed7953\"], [0.7777777777777778, \"#fb9f3a\"], [0.8888888888888888, \"#fdca26\"], [1.0, \"#f0f921\"]], \"type\": \"histogram2dcontour\"}], \"mesh3d\": [{\"colorbar\": {\"outlinewidth\": 0, \"ticks\": \"\"}, \"type\": \"mesh3d\"}], \"parcoords\": [{\"line\": {\"colorbar\": {\"outlinewidth\": 0, \"ticks\": \"\"}}, \"type\": \"parcoords\"}], \"pie\": [{\"automargin\": true, \"type\": \"pie\"}], \"scatter\": [{\"marker\": {\"colorbar\": {\"outlinewidth\": 0, \"ticks\": \"\"}}, \"type\": \"scatter\"}], \"scatter3d\": [{\"line\": {\"colorbar\": {\"outlinewidth\": 0, \"ticks\": \"\"}}, \"marker\": {\"colorbar\": {\"outlinewidth\": 0, \"ticks\": \"\"}}, \"type\": \"scatter3d\"}], \"scattercarpet\": [{\"marker\": {\"colorbar\": {\"outlinewidth\": 0, \"ticks\": \"\"}}, \"type\": \"scattercarpet\"}], \"scattergeo\": [{\"marker\": {\"colorbar\": {\"outlinewidth\": 0, \"ticks\": \"\"}}, \"type\": \"scattergeo\"}], \"scattergl\": [{\"marker\": {\"colorbar\": {\"outlinewidth\": 0, \"ticks\": \"\"}}, \"type\": \"scattergl\"}], \"scattermapbox\": [{\"marker\": {\"colorbar\": {\"outlinewidth\": 0, \"ticks\": \"\"}}, \"type\": \"scattermapbox\"}], \"scatterpolar\": [{\"marker\": {\"colorbar\": {\"outlinewidth\": 0, \"ticks\": \"\"}}, \"type\": \"scatterpolar\"}], \"scatterpolargl\": [{\"marker\": {\"colorbar\": {\"outlinewidth\": 0, \"ticks\": \"\"}}, \"type\": \"scatterpolargl\"}], \"scatterternary\": [{\"marker\": {\"colorbar\": {\"outlinewidth\": 0, \"ticks\": \"\"}}, \"type\": \"scatterternary\"}], \"surface\": [{\"colorbar\": {\"outlinewidth\": 0, \"ticks\": \"\"}, \"colorscale\": [[0.0, \"#0d0887\"], [0.1111111111111111, \"#46039f\"], [0.2222222222222222, \"#7201a8\"], [0.3333333333333333, \"#9c179e\"], [0.4444444444444444, \"#bd3786\"], [0.5555555555555556, \"#d8576b\"], [0.6666666666666666, \"#ed7953\"], [0.7777777777777778, \"#fb9f3a\"], [0.8888888888888888, \"#fdca26\"], [1.0, \"#f0f921\"]], \"type\": \"surface\"}], \"table\": [{\"cells\": {\"fill\": {\"color\": \"#EBF0F8\"}, \"line\": {\"color\": \"white\"}}, \"header\": {\"fill\": {\"color\": \"#C8D4E3\"}, \"line\": {\"color\": \"white\"}}, \"type\": \"table\"}]}, \"layout\": {\"annotationdefaults\": {\"arrowcolor\": \"#2a3f5f\", \"arrowhead\": 0, \"arrowwidth\": 1}, \"coloraxis\": {\"colorbar\": {\"outlinewidth\": 0, \"ticks\": \"\"}}, \"colorscale\": {\"diverging\": [[0, \"#8e0152\"], [0.1, \"#c51b7d\"], [0.2, \"#de77ae\"], [0.3, \"#f1b6da\"], [0.4, \"#fde0ef\"], [0.5, \"#f7f7f7\"], [0.6, \"#e6f5d0\"], [0.7, \"#b8e186\"], [0.8, \"#7fbc41\"], [0.9, \"#4d9221\"], [1, \"#276419\"]], \"sequential\": [[0.0, \"#0d0887\"], [0.1111111111111111, \"#46039f\"], [0.2222222222222222, \"#7201a8\"], [0.3333333333333333, \"#9c179e\"], [0.4444444444444444, \"#bd3786\"], [0.5555555555555556, \"#d8576b\"], [0.6666666666666666, \"#ed7953\"], [0.7777777777777778, \"#fb9f3a\"], [0.8888888888888888, \"#fdca26\"], [1.0, \"#f0f921\"]], \"sequentialminus\": [[0.0, \"#0d0887\"], [0.1111111111111111, \"#46039f\"], [0.2222222222222222, \"#7201a8\"], [0.3333333333333333, \"#9c179e\"], [0.4444444444444444, \"#bd3786\"], [0.5555555555555556, \"#d8576b\"], [0.6666666666666666, \"#ed7953\"], [0.7777777777777778, \"#fb9f3a\"], [0.8888888888888888, \"#fdca26\"], [1.0, \"#f0f921\"]]}, \"colorway\": [\"#636efa\", \"#EF553B\", \"#00cc96\", \"#ab63fa\", \"#FFA15A\", \"#19d3f3\", \"#FF6692\", \"#B6E880\", \"#FF97FF\", \"#FECB52\"], \"font\": {\"color\": \"#2a3f5f\"}, \"geo\": {\"bgcolor\": \"white\", \"lakecolor\": \"white\", \"landcolor\": \"#E5ECF6\", \"showlakes\": true, \"showland\": true, \"subunitcolor\": \"white\"}, \"hoverlabel\": {\"align\": \"left\"}, \"hovermode\": \"closest\", \"mapbox\": {\"style\": \"light\"}, \"paper_bgcolor\": \"white\", \"plot_bgcolor\": \"#E5ECF6\", \"polar\": {\"angularaxis\": {\"gridcolor\": \"white\", \"linecolor\": \"white\", \"ticks\": \"\"}, \"bgcolor\": \"#E5ECF6\", \"radialaxis\": {\"gridcolor\": \"white\", \"linecolor\": \"white\", \"ticks\": \"\"}}, \"scene\": {\"xaxis\": {\"backgroundcolor\": \"#E5ECF6\", \"gridcolor\": \"white\", \"gridwidth\": 2, \"linecolor\": \"white\", \"showbackground\": true, \"ticks\": \"\", \"zerolinecolor\": \"white\"}, \"yaxis\": {\"backgroundcolor\": \"#E5ECF6\", \"gridcolor\": \"white\", \"gridwidth\": 2, \"linecolor\": \"white\", \"showbackground\": true, \"ticks\": \"\", \"zerolinecolor\": \"white\"}, \"zaxis\": {\"backgroundcolor\": \"#E5ECF6\", \"gridcolor\": \"white\", \"gridwidth\": 2, \"linecolor\": \"white\", \"showbackground\": true, \"ticks\": \"\", \"zerolinecolor\": \"white\"}}, \"shapedefaults\": {\"line\": {\"color\": \"#2a3f5f\"}}, \"ternary\": {\"aaxis\": {\"gridcolor\": \"white\", \"linecolor\": \"white\", \"ticks\": \"\"}, \"baxis\": {\"gridcolor\": \"white\", \"linecolor\": \"white\", \"ticks\": \"\"}, \"bgcolor\": \"#E5ECF6\", \"caxis\": {\"gridcolor\": \"white\", \"linecolor\": \"white\", \"ticks\": \"\"}}, \"title\": {\"x\": 0.05}, \"xaxis\": {\"automargin\": true, \"gridcolor\": \"white\", \"linecolor\": \"white\", \"ticks\": \"\", \"title\": {\"standoff\": 15}, \"zerolinecolor\": \"white\", \"zerolinewidth\": 2}, \"yaxis\": {\"automargin\": true, \"gridcolor\": \"white\", \"linecolor\": \"white\", \"ticks\": \"\", \"title\": {\"standoff\": 15}, \"zerolinecolor\": \"white\", \"zerolinewidth\": 2}}}, \"title\": {\"text\": \"Ratings by Total Percent\"}},\n",
       "                        {\"responsive\": true}\n",
       "                    ).then(function(){\n",
       "                            \n",
       "var gd = document.getElementById('e29dd1bc-f517-4050-a316-b3109e4c9305');\n",
       "var x = new MutationObserver(function (mutations, observer) {{\n",
       "        var display = window.getComputedStyle(gd).display;\n",
       "        if (!display || display === 'none') {{\n",
       "            console.log([gd, 'removed!']);\n",
       "            Plotly.purge(gd);\n",
       "            observer.disconnect();\n",
       "        }}\n",
       "}});\n",
       "\n",
       "// Listen for the removal of the full notebook cells\n",
       "var notebookContainer = gd.closest('#notebook-container');\n",
       "if (notebookContainer) {{\n",
       "    x.observe(notebookContainer, {childList: true});\n",
       "}}\n",
       "\n",
       "// Listen for the clearing of the current output cell\n",
       "var outputEl = gd.closest('.output');\n",
       "if (outputEl) {{\n",
       "    x.observe(outputEl, {childList: true});\n",
       "}}\n",
       "\n",
       "                        })\n",
       "                };\n",
       "                });\n",
       "            </script>\n",
       "        </div>"
      ]
     },
     "metadata": {},
     "output_type": "display_data"
    }
   ],
   "source": [
    "values = ratings.rating.value_counts()\n",
    "labels = values.index\n",
    "colors = ['red', 'blue', 'green', 'yellow', 'black']\n",
    "trace = go.Pie(labels=labels, \n",
    "               values=values,\n",
    "                marker=dict(colors=colors) \n",
    "              )\n",
    "layout = go.Layout(title='Ratings by Total Percent')\n",
    "fig = go.Figure(data=trace, layout=layout)\n",
    "iplot(fig)"
   ]
  },
  {
   "cell_type": "markdown",
   "metadata": {},
   "source": [
    "We can see most movies were rated with 4, on a scale of 1 to 5. A fewer movies (compared to the total dataset) were rated with low grades. <br>\n",
    "Let's see which movies were rated most times, taking the 10 most rated."
   ]
  },
  {
   "cell_type": "code",
   "execution_count": 15,
   "metadata": {
    "_kg_hide-input": true
   },
   "outputs": [],
   "source": [
    "df_aux = ratings['movieId'].value_counts().reset_index().head(10).rename(columns={'index': 'movieId', 'movieId': 'count'})\n",
    "df_aux['movieId'] = df_aux['movieId'].astype(str)"
   ]
  },
  {
   "cell_type": "code",
   "execution_count": 16,
   "metadata": {
    "_kg_hide-input": true
   },
   "outputs": [
    {
     "data": {
      "text/html": [
       "\n",
       "    <div id=\"vega-chart\"></div><script>\n",
       "    require([\"vega-embed\"], function(vg_embed) {\n",
       "        const spec = {\"$schema\": \"https://vega.github.io/schema/vega-lite/v4.0.2.json\", \"config\": {\"view\": {\"continuousHeight\": 300, \"continuousWidth\": 400}}, \"data\": {\"name\": \"data-dcff2adc3490b68be3a0e95a168d462e\"}, \"datasets\": {\"data-dcff2adc3490b68be3a0e95a168d462e\": [{\"count\": 91921, \"movieId\": \"356\"}, {\"count\": 91082, \"movieId\": \"318\"}, {\"count\": 87901, \"movieId\": \"296\"}, {\"count\": 84078, \"movieId\": \"593\"}, {\"count\": 77960, \"movieId\": \"2571\"}, {\"count\": 77045, \"movieId\": \"260\"}, {\"count\": 74355, \"movieId\": \"480\"}, {\"count\": 67662, \"movieId\": \"527\"}, {\"count\": 66512, \"movieId\": \"110\"}, {\"count\": 66008, \"movieId\": \"1\"}]}, \"encoding\": {\"tooltip\": [{\"field\": \"movieId\", \"type\": \"nominal\"}, {\"field\": \"count\", \"type\": \"quantitative\"}], \"x\": {\"axis\": {\"title\": \"Movie ID\"}, \"field\": \"movieId\", \"sort\": [\"356\", \"318\", \"296\", \"593\", \"2571\", \"260\", \"480\", \"527\", \"110\", \"1\"], \"type\": \"nominal\"}, \"y\": {\"axis\": {\"title\": \"Total Count\"}, \"field\": \"count\", \"type\": \"quantitative\"}}, \"height\": 300, \"mark\": \"bar\", \"selection\": {\"selector001\": {\"bind\": \"scales\", \"encodings\": [\"x\", \"y\"], \"type\": \"interval\"}}, \"title\": \"Movie Count\", \"width\": 800};     \n",
       "        vg_embed(\"#vega-chart\", spec, {defaultStyle: true}).catch(console.warn);\n",
       "        console.log(\"anything?\");\n",
       "    });\n",
       "    console.log(\"really...anything?\");\n",
       "    </script>\n",
       "    "
      ],
      "text/plain": [
       "<IPython.core.display.HTML object>"
      ]
     },
     "execution_count": 16,
     "metadata": {},
     "output_type": "execute_result"
    }
   ],
   "source": [
    "render(alt.Chart(df_aux).mark_bar().encode(\n",
    "    x=alt.X('movieId:N', axis=alt.Axis(title='Movie ID'), sort=list(df_aux['movieId'].values)),\n",
    "    y=alt.Y('count:Q', axis=alt.Axis(title='Total Count')),\n",
    "    tooltip=['movieId', 'count']\n",
    ").properties(title='Movie Count', height=300, width=800).interactive())"
   ]
  },
  {
   "cell_type": "markdown",
   "metadata": {},
   "source": [
    "Time to discover which movies have this IDs.<br> \n",
    "Let's check the IDs on IMDB and get some info."
   ]
  },
  {
   "cell_type": "code",
   "execution_count": 17,
   "metadata": {
    "_kg_hide-input": true
   },
   "outputs": [],
   "source": [
    "# Get the Movie on metadata\n",
    "def get_movie_metadata(movieId):\n",
    "    metadata['imdb_id'] = metadata['imdb_id'].astype('category')\n",
    "    imdb_id = links[links['movieId'] == movieId]\n",
    "    imdb_id = imdb_id.imdbId.values[0]\n",
    "    if len(str(imdb_id)) == 7:\n",
    "        movie_rated = metadata[metadata['imdb_id'] == 'tt'+imdb_id.astype(str)]\n",
    "        df = movie_rated.loc[:,['title', 'overview', 'vote_average', 'release_date']]\n",
    "        return df.reset_index(drop=True)\n",
    "    elif len(str(imdb_id)) == 6:\n",
    "        movie_rated = metadata[metadata['imdb_id'] == 'tt0'+imdb_id.astype(str)]\n",
    "        df = movie_rated.loc[:,['title', 'overview', 'vote_average', 'release_date']]\n",
    "        return df.reset_index(drop=True)\n",
    "    elif len(str(imdb_id)) == 5:\n",
    "        movie_rated = metadata[metadata['imdb_id'] == 'tt00'+imdb_id.astype(str)]\n",
    "        df = movie_rated.loc[:,['title', 'overview', 'vote_average', 'release_date']]\n",
    "        return df.reset_index(drop=True)\n",
    "    elif len(str(imdb_id)) == 4:\n",
    "        movie_rated = metadata[metadata['imdb_id'] == 'tt000'+imdb_id.astype(str)]\n",
    "        df = movie_rated.loc[:,['title', 'overview', 'vote_average', 'release_date']]\n",
    "        return df.reset_index(drop=True)\n",
    "    elif len(str(imdb_id)) == 3:\n",
    "        movie_rated = metadata[metadata['imdb_id'] == 'tt0000'+imdb_id.astype(str)]\n",
    "        df = movie_rated.loc[:,['title', 'overview', 'vote_average', 'release_date']]\n",
    "        return df.reset_index(drop=True)\n",
    "    elif len(str(imdb_id)) == 2:\n",
    "        movie_rated = metadata[metadata['imdb_id'] == 'tt00000'+imdb_id.astype(str)]\n",
    "        df = movie_rated.loc[:,['title', 'overview', 'vote_average', 'release_date']]\n",
    "        return df.reset_index(drop=True)\n",
    "    elif len(str(imdb_id)) == 1:\n",
    "        movie_rated = metadata[metadata['imdb_id'] == 'tt000000'+imdb_id.astype(str)]\n",
    "        df = movie_rated.loc[:,['title', 'overview', 'vote_average', 'release_date']]\n",
    "        return df.reset_index(drop=True)\n",
    "    else:\n",
    "        pass\n",
    "# Get Movie List\n",
    "def get_movie(df):\n",
    "    movieIdIdx = df['movieId'].values.astype(int)\n",
    "    df_aux_b = pd.DataFrame({'title': ['aaa'], \n",
    "                           'overview': ['bbb'], \n",
    "                           'vote_average': [1.7], \n",
    "                           'release_date': ['1999-01-01']\n",
    "        })\n",
    "    for i in movieIdIdx:\n",
    "        df_aux_b = df_aux_b.append(get_movie_metadata(i), ignore_index=True)\n",
    "\n",
    "    df_aux_b.drop(0, inplace=True)\n",
    "    df_aux_b['release_date'] = df_aux_b['release_date'].apply(lambda x : x.split('-')[0])\n",
    "    df_aux_b['release_date'] = df_aux_b['release_date'].astype(int)\n",
    "    df_aux_b.rename(columns={'release_date' : 'release_year'}, inplace=True)\n",
    "    return df_aux_b.reset_index(drop=True)"
   ]
  },
  {
   "cell_type": "code",
   "execution_count": 18,
   "metadata": {
    "_kg_hide-input": true
   },
   "outputs": [
    {
     "data": {
      "text/html": [
       "<div>\n",
       "<style scoped>\n",
       "    .dataframe tbody tr th:only-of-type {\n",
       "        vertical-align: middle;\n",
       "    }\n",
       "\n",
       "    .dataframe tbody tr th {\n",
       "        vertical-align: top;\n",
       "    }\n",
       "\n",
       "    .dataframe thead th {\n",
       "        text-align: right;\n",
       "    }\n",
       "</style>\n",
       "<table border=\"1\" class=\"dataframe\">\n",
       "  <thead>\n",
       "    <tr style=\"text-align: right;\">\n",
       "      <th></th>\n",
       "      <th>title</th>\n",
       "      <th>overview</th>\n",
       "      <th>vote_average</th>\n",
       "      <th>release_year</th>\n",
       "    </tr>\n",
       "  </thead>\n",
       "  <tbody>\n",
       "    <tr>\n",
       "      <th>0</th>\n",
       "      <td>Forrest Gump</td>\n",
       "      <td>A man with a low IQ has accomplished great thi...</td>\n",
       "      <td>8.2</td>\n",
       "      <td>1994</td>\n",
       "    </tr>\n",
       "    <tr>\n",
       "      <th>1</th>\n",
       "      <td>The Shawshank Redemption</td>\n",
       "      <td>Framed in the 1940s for the double murder of h...</td>\n",
       "      <td>8.5</td>\n",
       "      <td>1994</td>\n",
       "    </tr>\n",
       "    <tr>\n",
       "      <th>2</th>\n",
       "      <td>Pulp Fiction</td>\n",
       "      <td>A burger-loving hit man, his philosophical par...</td>\n",
       "      <td>8.3</td>\n",
       "      <td>1994</td>\n",
       "    </tr>\n",
       "    <tr>\n",
       "      <th>3</th>\n",
       "      <td>The Silence of the Lambs</td>\n",
       "      <td>FBI trainee, Clarice Starling ventures into a ...</td>\n",
       "      <td>8.1</td>\n",
       "      <td>1991</td>\n",
       "    </tr>\n",
       "    <tr>\n",
       "      <th>4</th>\n",
       "      <td>The Matrix</td>\n",
       "      <td>Set in the 22nd century, The Matrix tells the ...</td>\n",
       "      <td>7.9</td>\n",
       "      <td>1999</td>\n",
       "    </tr>\n",
       "    <tr>\n",
       "      <th>5</th>\n",
       "      <td>Star Wars</td>\n",
       "      <td>Princess Leia is captured and held hostage by ...</td>\n",
       "      <td>8.1</td>\n",
       "      <td>1977</td>\n",
       "    </tr>\n",
       "    <tr>\n",
       "      <th>6</th>\n",
       "      <td>Jurassic Park</td>\n",
       "      <td>A wealthy entrepreneur secretly creates a them...</td>\n",
       "      <td>7.6</td>\n",
       "      <td>1993</td>\n",
       "    </tr>\n",
       "    <tr>\n",
       "      <th>7</th>\n",
       "      <td>Schindler's List</td>\n",
       "      <td>The true story of how businessman Oskar Schind...</td>\n",
       "      <td>8.3</td>\n",
       "      <td>1993</td>\n",
       "    </tr>\n",
       "    <tr>\n",
       "      <th>8</th>\n",
       "      <td>Braveheart</td>\n",
       "      <td>Enraged at the slaughter of Murron, his new br...</td>\n",
       "      <td>7.7</td>\n",
       "      <td>1995</td>\n",
       "    </tr>\n",
       "    <tr>\n",
       "      <th>9</th>\n",
       "      <td>Toy Story</td>\n",
       "      <td>Led by Woody, Andy's toys live happily in his ...</td>\n",
       "      <td>7.7</td>\n",
       "      <td>1995</td>\n",
       "    </tr>\n",
       "  </tbody>\n",
       "</table>\n",
       "</div>"
      ],
      "text/plain": [
       "                      title  \\\n",
       "0              Forrest Gump   \n",
       "1  The Shawshank Redemption   \n",
       "2              Pulp Fiction   \n",
       "3  The Silence of the Lambs   \n",
       "4                The Matrix   \n",
       "5                 Star Wars   \n",
       "6             Jurassic Park   \n",
       "7          Schindler's List   \n",
       "8                Braveheart   \n",
       "9                 Toy Story   \n",
       "\n",
       "                                            overview  vote_average  \\\n",
       "0  A man with a low IQ has accomplished great thi...           8.2   \n",
       "1  Framed in the 1940s for the double murder of h...           8.5   \n",
       "2  A burger-loving hit man, his philosophical par...           8.3   \n",
       "3  FBI trainee, Clarice Starling ventures into a ...           8.1   \n",
       "4  Set in the 22nd century, The Matrix tells the ...           7.9   \n",
       "5  Princess Leia is captured and held hostage by ...           8.1   \n",
       "6  A wealthy entrepreneur secretly creates a them...           7.6   \n",
       "7  The true story of how businessman Oskar Schind...           8.3   \n",
       "8  Enraged at the slaughter of Murron, his new br...           7.7   \n",
       "9  Led by Woody, Andy's toys live happily in his ...           7.7   \n",
       "\n",
       "   release_year  \n",
       "0          1994  \n",
       "1          1994  \n",
       "2          1994  \n",
       "3          1991  \n",
       "4          1999  \n",
       "5          1977  \n",
       "6          1993  \n",
       "7          1993  \n",
       "8          1995  \n",
       "9          1995  "
      ]
     },
     "execution_count": 18,
     "metadata": {},
     "output_type": "execute_result"
    }
   ],
   "source": [
    "df_movies = get_movie(df_aux)\n",
    "df_movies"
   ]
  },
  {
   "cell_type": "markdown",
   "metadata": {},
   "source": [
    "Nice, we have good movies in the list, I'm a great fan of Forrest Gump and The Silence of the Lambs!<br>\n",
    "Most of the movies listed were released in 90's, the only exception is Star Wars (1977).<br>\n",
    "Maybe most people are always viewing 90's movies? It's a interesting information to take note.<br>\n",
    "<br>\n",
    "Another curios information is that in the most rated movies, none have a rate above 9.0.<br>\n",
    "Let's expand it, let's get all the 1000 most rated movies and examine what words are frequent in they overviews."
   ]
  },
  {
   "cell_type": "code",
   "execution_count": 19,
   "metadata": {
    "_kg_hide-input": true
   },
   "outputs": [
    {
     "data": {
      "text/html": [
       "<div>\n",
       "<style scoped>\n",
       "    .dataframe tbody tr th:only-of-type {\n",
       "        vertical-align: middle;\n",
       "    }\n",
       "\n",
       "    .dataframe tbody tr th {\n",
       "        vertical-align: top;\n",
       "    }\n",
       "\n",
       "    .dataframe thead th {\n",
       "        text-align: right;\n",
       "    }\n",
       "</style>\n",
       "<table border=\"1\" class=\"dataframe\">\n",
       "  <thead>\n",
       "    <tr style=\"text-align: right;\">\n",
       "      <th></th>\n",
       "      <th>title</th>\n",
       "      <th>overview</th>\n",
       "      <th>vote_average</th>\n",
       "      <th>release_year</th>\n",
       "    </tr>\n",
       "  </thead>\n",
       "  <tbody>\n",
       "    <tr>\n",
       "      <th>0</th>\n",
       "      <td>Forrest Gump</td>\n",
       "      <td>A man with a low IQ has accomplished great thi...</td>\n",
       "      <td>8.2</td>\n",
       "      <td>1994</td>\n",
       "    </tr>\n",
       "    <tr>\n",
       "      <th>1</th>\n",
       "      <td>The Shawshank Redemption</td>\n",
       "      <td>Framed in the 1940s for the double murder of h...</td>\n",
       "      <td>8.5</td>\n",
       "      <td>1994</td>\n",
       "    </tr>\n",
       "    <tr>\n",
       "      <th>2</th>\n",
       "      <td>Pulp Fiction</td>\n",
       "      <td>A burger-loving hit man, his philosophical par...</td>\n",
       "      <td>8.3</td>\n",
       "      <td>1994</td>\n",
       "    </tr>\n",
       "  </tbody>\n",
       "</table>\n",
       "</div>"
      ],
      "text/plain": [
       "                      title  \\\n",
       "0              Forrest Gump   \n",
       "1  The Shawshank Redemption   \n",
       "2              Pulp Fiction   \n",
       "\n",
       "                                            overview  vote_average  \\\n",
       "0  A man with a low IQ has accomplished great thi...           8.2   \n",
       "1  Framed in the 1940s for the double murder of h...           8.5   \n",
       "2  A burger-loving hit man, his philosophical par...           8.3   \n",
       "\n",
       "   release_year  \n",
       "0          1994  \n",
       "1          1994  \n",
       "2          1994  "
      ]
     },
     "metadata": {},
     "output_type": "display_data"
    },
    {
     "data": {
      "text/plain": [
       "'Number of Rows: 1000, Number of Columns: 4'"
      ]
     },
     "metadata": {},
     "output_type": "display_data"
    },
    {
     "data": {
      "text/plain": [
       "'Data Types'"
      ]
     },
     "metadata": {},
     "output_type": "display_data"
    },
    {
     "data": {
      "text/html": [
       "<div>\n",
       "<style scoped>\n",
       "    .dataframe tbody tr th:only-of-type {\n",
       "        vertical-align: middle;\n",
       "    }\n",
       "\n",
       "    .dataframe tbody tr th {\n",
       "        vertical-align: top;\n",
       "    }\n",
       "\n",
       "    .dataframe thead th {\n",
       "        text-align: right;\n",
       "    }\n",
       "</style>\n",
       "<table border=\"1\" class=\"dataframe\">\n",
       "  <thead>\n",
       "    <tr style=\"text-align: right;\">\n",
       "      <th></th>\n",
       "      <th>Column</th>\n",
       "      <th>Type</th>\n",
       "    </tr>\n",
       "  </thead>\n",
       "  <tbody>\n",
       "    <tr>\n",
       "      <th>0</th>\n",
       "      <td>title</td>\n",
       "      <td>object</td>\n",
       "    </tr>\n",
       "    <tr>\n",
       "      <th>1</th>\n",
       "      <td>overview</td>\n",
       "      <td>object</td>\n",
       "    </tr>\n",
       "    <tr>\n",
       "      <th>2</th>\n",
       "      <td>vote_average</td>\n",
       "      <td>float64</td>\n",
       "    </tr>\n",
       "    <tr>\n",
       "      <th>3</th>\n",
       "      <td>release_year</td>\n",
       "      <td>int64</td>\n",
       "    </tr>\n",
       "  </tbody>\n",
       "</table>\n",
       "</div>"
      ],
      "text/plain": [
       "         Column     Type\n",
       "0         title   object\n",
       "1      overview   object\n",
       "2  vote_average  float64\n",
       "3  release_year    int64"
      ]
     },
     "metadata": {},
     "output_type": "display_data"
    },
    {
     "data": {
      "text/plain": [
       "'memory usage: 31.4+ KB'"
      ]
     },
     "metadata": {},
     "output_type": "display_data"
    },
    {
     "data": {
      "text/plain": [
       "'Missing Values'"
      ]
     },
     "metadata": {},
     "output_type": "display_data"
    },
    {
     "data": {
      "text/plain": [
       "'No Missing Values'"
      ]
     },
     "metadata": {},
     "output_type": "display_data"
    }
   ],
   "source": [
    "df_aux = ratings['movieId'].value_counts().reset_index().head(1001).rename(columns={'index': 'movieId', 'movieId': 'count'})\n",
    "df_aux['movieId'] = df_aux['movieId'].astype(str)\n",
    "df_aux = get_movie(df_aux)\n",
    "get_df_info(df_aux)"
   ]
  },
  {
   "cell_type": "markdown",
   "metadata": {},
   "source": [
    "Time to use Natural Language Processing (NLP) with NLTK module and transform everything in overview for lower case, word tokens and remove stopwords and make the Word Cloud."
   ]
  },
  {
   "cell_type": "code",
   "execution_count": 20,
   "metadata": {
    "_kg_hide-input": true
   },
   "outputs": [
    {
     "data": {
      "image/svg+xml": [
       "<?xml version=\"1.0\" encoding=\"utf-8\" standalone=\"no\"?>\n",
       "<!DOCTYPE svg PUBLIC \"-//W3C//DTD SVG 1.1//EN\"\n",
       "  \"http://www.w3.org/Graphics/SVG/1.1/DTD/svg11.dtd\">\n",
       "<!-- Created with matplotlib (https://matplotlib.org/) -->\n",
       "<svg height=\"582.117187pt\" version=\"1.1\" viewBox=\"0 0 558 582.117187\" width=\"558pt\" xmlns=\"http://www.w3.org/2000/svg\" xmlns:xlink=\"http://www.w3.org/1999/xlink\">\n",
       " <defs>\n",
       "  <style type=\"text/css\">\n",
       "*{stroke-linecap:butt;stroke-linejoin:round;}\n",
       "  </style>\n",
       " </defs>\n",
       " <g id=\"figure_1\">\n",
       "  <g id=\"patch_1\">\n",
       "   <path d=\"M 0 582.117187 \n",
       "L 558 582.117187 \n",
       "L 558 0 \n",
       "L 0 0 \n",
       "z\n",
       "\" style=\"fill:#ffffff;\"/>\n",
       "  </g>\n",
       "  <g id=\"axes_1\">\n",
       "   <g clip-path=\"url(#p1b8a8713b9)\">\n",
       "    <image height=\"544\" id=\"image37aa184386\" transform=\"scale(1 -1)translate(0 -544)\" width=\"544\" x=\"7.2\" xlink:href=\"data:image/png;base64,\n",
       "iVBORw0KGgoAAAANSUhEUgAAAiAAAAIgCAYAAAC8idIcAAAABHNCSVQICAgIfAhkiAAAIABJREFUeJzsvXeYXVd97v9Ze+/T68yZ3ke9d8m23LFssGUDxobADQ4OITc3uSm/JORCbhJuChi4eQgJ6eESCASDMeAC7k0usmVZvUsjaTS9nzm97bJ+f5wzRzOaM6MZSZYlMu/z6Hl05uy99lr77L3Wu77l/QoppWQOc5jDHOYwhznM4TJCea87MIc5zGEOc5jDHP7rYY6AzGEOc5jDHOYwh8uOOQIyhznMYQ5zmMMcLjvmCMgc5jCHOcxhDnO47NDe6w5cSkgpkYAlLSwkAhAIVJHnWUKI97R/lwJjMcNmYYwACgJFKPnxznKM+XsmMWW+NQEoQqCg/ELcrznMYQ6lIaUkksqQzOYIup14nQ4sy2IkkaIzHCWezuLQVOrK/NQG/djUmc0JUkoSmRy9kRjDiRQ5w8CmqgTdTip9Xso8rhm1JaUkldPpj8YZiiVJ6zqKUPA6bFT4PFT4PLjttmnbsaQkkkzTPRpjNJkCBGUeJw1lAYJuF4oy+VxLSobjSbKGgd/pxO9yFK8RT2eJpDPYVZVKnxtFya8tOcNkOJ7EkpIKnwenbfLSKqXEkpLRZJreSJxIKo1lSZw2jXKPi0q/F7/LgSJEyTFZUpLIZBmOpxhJpEjlcpiWxKYqBD0uagM+yjyuKc+/EvELQUCklBjSpC3ezd7RE3SkBkgZGVRFIWDzUOMMsTq4gKX+FpRzfphjsQ72R04ipWR12QKW+Jqn/PFylsG2wT2EszFcmoNbq9bht3kmHTeYGeW1of0YlkG9u5LrK1aiiIszNkkpSZtZTiV6OBRtpys1QNxIA+DVXFQ7y5jnqWOBr4EqRxmqmPoFl0iklAxnoxyOtnM83sVQdpSMmcOmaJTZfTS4Klnoa6DZU4Nf85znJTcwrDggEWhoim9WL4CUJroVu+Dzz7YjMaw4EmOWZwpsih8h1GnbBgvdipI1hzGsJCBRhRObEsCmlqEKV761c/o+sV8CTfGhiKlfPUvmMKwEAIpwoAr31L+llFgyQ8YcQDcjANjVchxqNYqwI4TAtDKYMgUohXEqk9oAiSnT6GYE3YphygxgIbBhU33YlRCa4gWunsltDufH99/ax+O7D/PA9eu4f+MKntxzhJ/uOkxnOEJWN9AUhZDPw/uWzuOB69dRG5z63ZRSEs/kePFwGz/fd4xTAyMksjlMy0JVFJw2jZDXzfL6aj64dinXzG8qSQCklKRzOq8eb+fJPUc53jdELJPFME2EENhVFb/LwfzqEL9200Y2zmso2UYim+Opfcd4Ys8ROkYipLM6CHDZbDSFgmxds4S71ywh6HZOGFNWN/jKz19lf2cvv7x5LQ/euJ6xb585cJx/27aTRTUVfOVjH8DvcgLQMTLK5x95lrSu89D972dNc92k/vRGYjyx5ygvHzlF72iMtK4jpURTVdx2G7VBHxtaG7h/4wpaK8snnJ8zTB7bfZin9x+jayRKIptDN0wsKVEVgatw/q1L5/ORDcupCVzYHHq58QtBQDJWjh93bePJnjeI6glK5RXfWrWWRb7GSRP/oWg73zr9FBLJZ8TdLPE1T3kd3dJ5oucNTsS7CNn9rA0uKklA+jMjfPfMs6TNLJtDK7g2tPyiCIglLY7GOnik82UORk+RNNIlx2gTGiGHn6111/HRxltRKb2gpowsLw68w1O9b9GdGkKXkxdsgcClOmjx1PDbCz/CQl/jlP1LGz0cHvpTclYYv30Fyyv+vLgYzwRpo4dDQ39Czgrjsy9jRcVfzur8MVgyw9GRLxHLHZrVeXYlxIrKL+K2NU3RrkEse5i+5M8YzewhawwVFmiJIuxoiheXVk+ZcwNV7tvw2RdNWOQtmeV4+KtEsvvQFD8rKx7CY2+dsj+jmT0cD38VS+ao8dzF/OBvAqV2RDmG09vpjj1KLHcMw4ojEGiqn4BjFU2+jxN0rqMn8Ridse/j0hpYWfkQdvXs5CalJG100RN/jNHMbjJmH4aVxJI6YCGEhircuLRaQq7rqfPejUtrnERi5nB1IpbO0BeJ8+qx0/RFYvx450E0VaXS50FVFEaTaXpGo/znm/s4NRjmz+/dQl2Zf1I7UsJALMHfPPsGLx46SdYwcGgafpcDm6ZimCaprM6Z4VFODYbJ6AbrW+uxK9o57Uii6Qz/8MJbPLHnCKmcjqoIfE4HZW4nUkJK1xmKp+iNxNnQ0lCSgIwkUvztc9t5ev8xcqZJmdtFYyiIAMLJNId6+jnWN8Tejl7+19abqAn4iudaUhJOpOiPJohnshPaTWZz9EfjlHvcjBewMEyLwViCVE4nZ5iTxrS/s4+vPvUqh7oHkFLidtgp97hRBGQNk1RO53DPAEd7BqkN+iYRkIyu88SeI+zv7MOhqfhdTnwBLzZFIWeaRFIZjvcNc7xvmN1neviLe7fQUB644knIVU9ApJS8PrSfH3W+TMbKYRMazZ5qap0hFKGQMXMkjDQhewBRYhK/0mFKi7eGD/Gvp56gPxMGwKe5qXQE8WouJJA2M0T1JDE9SX8mzPFYV54ZnzNcKSUJI82325/muf63yVkGmlCpcpQRcvixKzZ0yyBhpInqCRJGmhPxLoay0WkJiJQ6SaODnDmMXSlHlqRHU8OSOkmjk5w5hE0JIrFme5vy/SBvDdDNGBY6UupIaSLJ/8tDQaChCBUhNBRsKMI1ZZ8NK0lX7BE6Yv9B1hwq/FUgCuTOlBl0K0La6CaceZt47hirKv8aVTgn9Cxt9JHU27EpQSxy047DtFIkc+1Y5MiZwyWPsWSOztjDnIr8C4YVK/TKhiJs5MxhBpLPEcnsYVHZ7xPJ7CWpn873RJqT2hpMvcTp6L8WPws0hNAQKAVrTJKsOUAku5/B1EssLv8c5c5NV/zkNoeZY3d7D/s6etm8sJlfuWEdrZXlaIpCbyTG99/cy1P7jvPWyU6+88ZuPnvnTdi1iZubZDbL3z23nWf2H0dVFLYsX8CH1i2jpaIMu6aSM01iqQztQ6Psau/G53JQilTrpsW3X9vNozsPYloWC6tDfHTTStY01+F3OpBAIpOjOxxlX2cv9eWTyVBGN/jmtp38bO9RbKrCJ65dw4fXLaM2mCcZ/dEEj+85zE/fOcQLh9rwOe18/u5bcNltl/y+SinpGI7wpSdf4UjvIAGXkw+tW8Zty+dT6fOgCEHWMBhOpDjRN8w7p7vxOuyT2hFC0FpZxqrGGjbNa6S5IkjA5cSm5u/tUCzB0/uP88O3D7DzVBc/2LGfP7zzRtQr/B296glI2szy8sAeMlYOVSh8qP4G7m+8hYDNC4CFRc7K7/DVq2zXJqWkLd7FN0//jP5MGLti46bK1dxVey0N7iocig0JBdKQojs9xP7ISexTmPdNafFEz+s827cDXZpUO8u4t/5mNoWWErR5UYWCJSVZK8dILsbJRA/7R9vwaM6S7V1pUIWTxaHPo5tRLJnFlBlMmWYo9Srd8UcBi2r37dR570FV3AX3hhNVcePS6ia1Z8kcHdHv0h79f5gyjSa8lDk3UOZcj0OrRgC6FSdt9JDItZHItRUsB++utp+UkuH0dk5H/g3DiqEIJ9Xu26hy34ZdLcewEoxmd9OfeIbjo1+bQXsWNiWIz76IgGMVXvsC7GoFChqmzJDSOxhKv0Y4vZN47hgnwl9jbfU3cGo17+o453D5YFgWi2qr+OO7b6GuzF8kl0G3kz/4wI30ReLsPN3NC4fauG/DChbVVBSPkVLy2vEzvHCoDYAPrlvKH3zgBgIu5ySSurqplq1rlpDO6djUya7AI72DPLb7MIZlsbSukr+67w4W11ZOcp0vravktuXzsc7R0ZRSsq+jlyf3HsW0LO7buILff//1uMbFipR5XLRUXI9pWvxo50GePXiCLcsXcMOilktOqg3T4gc79nG0bxC33cbv3rGZj2xYMSkGZn6V5Jp5jdy/aWUxzm883HYbn9t6Mx6HvWSMR6XPQ1MoSNvACG+cOMOu9m4SmRwB95U9d1/1BCSqJ+lO53emVY4y7qm/npAjMO4IFbty6Znt5UDW0vlx1zZ608MoCLbWXsenWj+AW538YgftXhrcVWwsX0rO0tHOiWeQSE4levh571vo0iRk9/O7C+9nQ/mSSe4hLy5CjgALvQ1sqV5/1ViOhFBwabW4tNoJf8+Zw/TEf4wEvPYFVLpvnVEA3Ej6bTpi38WUaRxqFYvLP0ul+9ZJMRlSWlgyS9roI2sOIcS7+7zpVpSO6PfQrQgCGy3+T9Ea/MyEflW4byLkvI5Dw39K1hyctr0K1w2UOTfitc8rtDF5Yaj13sOxkS/Tl/wZ8dwxwpld1Hq2zllBfkEggDtWLJxAPiC/8w553dyzdil7zvQyFE+x+0wPi2oqisdkdIOn9x8jrRs0lAf41A3rSpKPsfbsmjrJggJ518crR04RTqRwaBqfumE9S2orp2xHFWKSk9mSkmcPnCCWzlLhdfPRTSsnkI+xc90OO/dvWsnLR08xGEvy3ME2rl3QhE2dOg7sQtAzGmPb0dNICdfMb+TuNUtKjn2sf+4prDCqohTjTaaCTVXxFKwn6ZyBYV2YJfly4uoyCZRAxsyRNfMm7XK7n0CJmIyrFR3JfvZG8ruKencl9zbcVJJ8jIcqFFyqY9IxVsFVFc5FEcD7qtezrmzxtLEpQgjsig2bctXz1FnDkhm644+gW1EENloDn6HGcyeaMjkgVwgFVXHhtc8j5Lpm2gDTS4FY7jDR7EEAfPbFNPo/MalfitAod11LjefOadsSQuBzLCboXIWmeEvGduQD/4JUum8GFCQGKf3MpRzSHN5jOGway+urp1zsl9VX43c58laKnsEJu/TBWJLjfXlX4YqG6guOPcjoBge7+pFAXdDHhtb6WbcTTWc40N0PwLyqcppCwSnbaAoFmV8VAuBwzwDRVGbWfT4fTvQPMRhLogjB9YtaigThUkJKSTKb47mDJ3jndBcA9eX+KcnMlYSrfmWR47z3qlCumt36THA83klcTwKwItBKlbPsgnecaTPL4Vg7EnCrDjaVL73qXFKXEymjk0j2AABuWxPVni1cCXxdSkkks6+Q1QIh12YcakXJYwUqIddmuuI/xJLZksfM9JoSk6R+CgrxOYq4sk27c5gdnDaNcq97yu+Dbid+l5NwMs1gLEHOtHAWUlBHEklimfzi3RQKogoFcwa7byHEBNdKMptjOJGf72qCPoLu2QeiR5IZwon8u1FfFiiZDjsGh6ZRXwioHU2miaQyVPgu7Qa2MxxFt0zsqkZjeSDvMjpP+bUxOYXp5nopJVLCSDLF3jM9PLX/ODtOdpLI5gi4nHxkw4ppx36l4Mrv4X9RSCnpSPYXyVWrp+6iCENcTzGUjQLgs3modpbPmc+nhCSZO41uFu6XfTF2NXRF3C+JQVJvZyxl2WdfTKlgPshPYi6tDk3xkTMvjIBIaZE1B+lLPk1n7BEANOEl4Fh5gSOYw5UITVFwlHANjMGmqjgKC1pGNyYQjLRuoBv5z9uOnqZrJDKja964uJUPrVtW/KybJhk9H6/ncdgvyB2S0XWyxtk2zo0dGQ9FgNfpACBnmqRz+qyvdz4kMlmkBMMy+fZru3h89+HznqMqCr9y/TqWN1SX/F43TU4NhnnxUBvbjp2mfWiUjG6gCMGCqhC/etN6blky74qYr86HOQJyhUIiiRasH5DXFnlreObppZWOIPO9Z02Y411VlrQ4HG3nTLJvRm0pQmGxr4mg3TuLEVy9kBIy5gCS/ITk1KqRWFhy+uyVsxCFTJJLPwFIaZAzRwBQhA2HWjG9S05xown3efJuzr1GXhMkqbczlNrGYOpFErlTSAwU7NT5PkTQseqqmODmMDPMKGy6sHM/92fPB0Xm/3+if5gT/aUzt85Fhc8zgYAIzlpETMsqGYx5foiiFfx858txx0wp4niR8eRqwUpkWpIdp7pmdI6mKLx/5SKWM5GASCnpjyb4zzf38sz+4wzG8pITLruN5fXV3LFiAe9fuYj68sC0xOtKwhwBGYcLet7fJeSloc526LGe13i85/UZn/++6nX8weKPo469jOOcVUPZCF87/sMZt+VU7fzZ8gdZZ18043OudphWuvj/odSrpPTOGZ8bcKyiJfAggnchrQ9rnDtFQRHT+5QF6rQCaxPalhLDijGS2UFf4iki2b3kzDAUNHKdai0N/o/S6Pv4nAvmFwyGaZHOTS3gl9UN0nqekLvtdrRxGSw+px2nTSOjG6xurOW6hU1TusLPDId57mAblpSTLBwOm4bXmX+eo6kMGcPANo1VphTcDhtOu0Y0nY8HMS0LbQpLilVQggVw2mwl0191c3Laev5ca1IGTimEvO48QQNuX7mQ1oryKY6UbG/r4EBXP4oQaMpka3c4meZLT77Mq8fakVJS5fdy3YImblu+gFWNNZR73AhxdSl+zxGQcchZl94EZ0hz1roYkFercKuO4mdVqNjOs5DkpIFeSDk+9+VwKDZsheBIgcCuaNPGy0ggY2axkMU2Lw+uDBYoxgWSJvXTRR2NmWJqLROJlBcTnS44G4siZ6CZYs3oepY0CKd3cCb2HSKZvZgyT8AU7LhtTVS6b6HGcxde+4JZBdlKKclaOqO5BMPZOOFcgqSRyafGS7CrGgGbh2pngCpnEK/mvKjdmyktwtk43akRBrLRvLqv0Ch3eKlzlVHtDOJQppfvPt94dGkymInSnRphJBtHlwZOxU6l00+dq5wKhx+bMrOFU7dMulJD5Kz8QufTnNS5ZuYejetpetPhYgmFameQoP3CYhjSus5QPAFUlfx+OJEqLtZ1Zf4J5KHS5yXkdRNJZagr8/Ebt27CrpWWIn9q3zGeO5gPrK/0T+yr12GnvizA0d4hekZj9Efi+Gock9qZDmVuF5U+DwPRBF0jUZI5nYBrCkHGrE5nwV1UHchLxJ+LRDaXt5IIUbAMSpD5LJPx5GSsDAhMtBC1VJQVydnG1gZ+6ZrSlkOrYN040NWPw6ZNSp+VUvL68Xa2n+hACMFdqxfz4I3rmV9Vjk1VryrSMR5zBGQchrIRTGlNSmEdw6SlcQa/eUxPkjX1WacCCyGodZ0NLtxaex2312yc8niJ5KneN3m6bweQt1oo4zro1pwE7F6Gc1GCNi+/t+ijVDnLpmwvqif4uxOP0p8JowoFx2VKZTZltqCl8d7CrpaRX+gt3FoTPsfSaY9P6Z3Ec0eBgpDXFA+HJfViAOmFQKBiU/KCShKzKEI2FfL3c/r4Dyklg8kXORp+qCB8JrCrFZQ5N1Dtvp0y51ocauWMLSljGM0leLH/ADuGj3MmOURUT5IzjUl1jDRFxaM5aHBVcEPlErbUrKbGVTYrImJJizPJQX7es5sdwycYyETIWDksKQuEWyVg87AkUM9dtevZGFqAS7XPeOIeK/dwINLBz3p2cSByhnA2Qc4ykEgUIXAoNkIOH+vK5nF3/QaW+BvOS0QiuQR/fvAR+tKjANxQuZT/vfy+4mZhOuwdbefLh3+CIU0UofB7i7dyV936GY3nXOQMk30dfdy4qHWSPLolJbsLuhKaorC6sWbC013ucbGmqY5Tg2EO9wzSG4nTUjF5brGk5FDPAJaUuO02FtdUTvjerqlcM7+RV46eZjieT41tqSybVSyIz2lnXXMdh7oHOD0U5ljvEJvmNZQsj3C0d5DTg2EEsGleQ9H6Mh5DsSSGmZeSl0AslUEC8UyW0WSaKn/eLZ3RDQzTRFWUCf1dUB2iKRTkWN8QO0518sG1S3GXsLTE0llODeZdqzUBb1E0bfy9O9Y3RM40aSwP8NtbrrtkSqemaXFsdzunDnUzMhAjlcggBPjLvTQtrGHhqkaq6stQZ2mNmgnmCMg4nEn2kzTTBJTSsQ66ZRStJIpQUGeQFdGfCdOTHmax1jjrh2WBtx67YiNn6STNDPO8UweiWuN2uQKodYYmfO/VXLR4ajiV6CFj5XBpDhZ4p05z604NYRRUMz2ai6Dt8sR/5MwRcuYINuW9kxEWQuDWGlGFE1Om8DtWsKLySyjTvC5not8pEhC7GmSyQkEeeb2QHoJy3ZTjszDGWc0UxjNdRWg4CzonltRJG91IKUu2JaUkZ4aLdWWmgm6Ncib2HXLmMIpwUOvZSqP/l/DaFqKIySndM8U7Iyf5xvGfY0xjgbGQ5CyDXM5gNJfkcLSTlwcO8hsL3881oYUzKmGQswxeGTjIt069RHdqeNJGQSLJWgaD2SiDg1F2jZxiS80qPj3/Nqoc53/O8grCGX7UuZ0fd75FZFxsVnEcUpI2c3SnRuhOjfDm8DE+2riZ+5qum1bITyJJGVkSRt66kDFnHq1jSpOEkckTEAS6VdpdMFM8d+gEW1YsYGldVZH8SSk5OTDC43uOYElJc0WQtS0T5w1NVdi6ZgkvHTlFTzjK99/cx+/cvhmf8yzBs6TkUPcALx85BcDyhmoW107M3hJCcNPiVh7deZAT/cM88vZ+6sv9vH/lIly2szFVeVehRTyTxe9yTnBXKIrCB1Yt5un9xxlOpPjO67tprghS7fdOOL8/Guc7r+8mms5QF/TzgVWLSxLe9uEwA7EEjeUB0jmd44X4lmg6w96OXhbWVCDI631kdIOg24XPedZqE/K6uWv1Yk4OjLDjZCfPHWzj7jVL0ApCZGNjeeFQG239wyiFe1DumZiRJMjXwAEwpSRXwjUkpSRnmISTaSp87hkTNz2r8/2vP8u+N45PCkPQbCpVDeXceu8Gtj5wPcGKS1tjZo6AjENnqp9DkdNsrlhZkjEPZkYJ5+IAuFUn7hkohEb1JM/376TFU4NTnV0O+HxvPY3uqkIButP0pYepd5UW5onkEpyIdxf7ttjfNHGSECqbypfy+tB+0maWt4YPsTIwr+ROS0pJW6KLaC6/cDW7awg5JksevxvImSOEM+/gsc27LNebCm5bKy6tnoSeVzjVzQhOrXRUuiV1kgVdDIGK176AqVJ2JSbh9E5qPHeWjBHJk4bhYkE9TTk3NVLB71iGiGtIDEYze6n33o8qSpuqY7kjGOexuKSNnmL/y53XsLj8f11wQcDxMCyzSD40oRK0u6lw+Ak5fHjUvKslbeYYzsboTYeJ5JJYSI7He/na0Sf4Pyt/iRWBpmn7YVgmT/Xs4l9PPk9UTxWupVDrKqfRXYHP5iRnGfSlR+lKDpM0s6TMLD/v2cVoLskfLf0QFQ7/tNdImlm+eeoFnujeWVRVdqo2Gt0V1LnKcap2UkaGrtQIvekwOctgOBvn30+/RMLI8Kvzb8M1y3f/csNp0xhNpvmzn7zARzYsZ0ltJZqicHJwhEd3HuTUwAh2TeW+jSuoO2d3LoRgbXMdH920gu+8vpufvHOQoXiC969YRG3Qh25aHOkZ4Ke7DtMzGiPkdfOp6/NiZeeirszPr9+ykS89+QrhZJqv/Hwb246e5tr5jVQHvFgShmIJDnUP0D0a5U8++L4JomgAy+qr+MR1a/i3V3ayve0Mn3/kWe5Zu5R5Vfn4i9ODYZ7ce4Q9Z3px2208eOM6FlZPznIT5GNjvrltJ/esXcrh7gH2dfQiBCysCvHDHfvxOOyEvG5+/M5BdNOiOuAlNC6VVxGCD61bxs7T3Ww/cYavPfs6x/uH2LygmYDbSTyT5a2TnTy55whp3WBFQzX3bVyBeo4VSgjYMK+BH+08SH8kzld+to271y6lsTyApipEU1nah8LsOdNDTyTGX9x7O0vrSq8VpWAaVskYSEM36W0f4offeJ7OE338xp/fR3n19O/LbDBHQMYhZWZ5uPNFqpzlzPfWFXdfUkqSZoZn+nYUdTmaPTV4tfPnqQdsHrYN7qXM7uPuus0EbN4Ju4uspZM00pTZfZN2e2V2H3fUbOT/nRqgLz3C9zte4Nfmbc3XtRnXRtrM8vO+N4tZLSuD81jgrZ/QlhCCdWWLWeZvZV+kjZcH97DI18jNlWuwKdqEnUp3apDHu19HlyZ2RePW6nU4lMszgUosumIPE3SswmdfUlIYqxi5/i5aSBxqiCr3rSSiJ0nqZxhIPk+j/xOT4h+klCT1dsKZdwDyrgvH+mn7Npx+nUhmL2XOjZOOM2WKkfQO8mm2Km7bxOrMQgiCjrU4tGoyRg/hzE6i2QOUOTeco86aJzL9iWfgPHEiVqFmDoBTqykIkpXufz6eRM7IHaMqCk3uStaUtbAptJB53hpCDi8OxVas1mxKi6yp05Ma4Wc9u3iqdzdZS6cnHeaHHW/wZys+OiVxl1LyTvgk3zz1YpF81DiDfLz5Rm6qWka5PV9eQCJJGlmOxrr5/pnX2Bs+jYVk+9BRKhw+fmfx1ikJgmmZPN71dpF8CGBpoJFPttzE6mArXpsTlfw4InqKnSNt/Gf7q3SkhshaBo92vUWtq5wPNmy8onV3KrwePnbNSr7/5j7+71Ov4tA0hICMbmJaFi67jfs2LOf+DSuLmR3jYddUPn3TBgzL4ifvHOKFQyfZdvQ0dk3FkvkgVktK6oI+/ueW67hhcWnZc0UIbl+xEEtK/u2VnbQPjfLi4ZO8dOQkNkVFAoZpIgvHvnHiDAuqQxOsFzZV5ZOb12BZFg+/tZ932rvZ09GL06YiJWQNA9OSVPo8PHjjeu7bsGKKMWl8cvNaHtt9mGcPnCBnmBiWRXMoyB9tvYlvbnuH//PTF/JEWjfQ1HwNHL/r7GZgTEn2j+++hb9+5jXebOvge9v38qO3D6CpKqZlkdENVEWwuqmWz229uaR4mhCCTfMa+dQN6/je9r28ebKTnae7sWv5+A/DtMgZBpK8RWrn6S6W1lUyMwj85R7qWitxOPPxUelUluhIglQiAxJMw2T7M/vx+F38+hfuxe29NEHoVx0B6UuPcDjaPiGjQy+4RUb1OK8M7p1UYRHyKqmrgwvQpvDJCgT1rgraE7186ch3uaVqDYt8TThVOyPZKG8OH2Jn+Eg+7Um1c3PVmiljRcbjztprOZOL5N29AAAgAElEQVTs44edL/JO+BhrgguodYVQEAxlIxyPd2FYBp9b+slJaa6KUNhSvYFjsU5eHdzLK4N76EsPc0Plaprd1aiKynA2wo6RI7wzchRDmtQ4y/lY4/twq5MfkIDNwydb7qDv2DADmVH+6eRj7IucZF3ZIsrtPnKWwelEL9sG99Ke7ENBcH3FSjZXrBhHePJZGOMDa8cqw0J+h2/K1KQ1L59i5zhvFdWAYxU5c4RDw39Ks/9TlLs2YlP8gMC00qSMTjJGH1Xu284p+Eahf2P9GssjsrBKVPs9H4RQqffdy1D6NeK5Y5yOfhMhtEK9lTIEAkvqJPSTnBz9e9JGF6BQ67kLj306641CzgxzLPwVFpT9DmWO9aiKG5DoZoTuxE8YSb8J5MlMKb0Nt62JGs8dnIn+BzlzmBOjf8Pi8j/Eb1+OIuwF10wX7dF/J5o9QH4vN3Vwr0OtwqGGSBlJwukdjKS3E3CuQRWu/DgxMKw4Kb2TcHpn4fp3npcAbihfwMpgM1WOQJFwnAtVKNgVjcX+eho9FUT1FC8N5AXgDkY66E9HaPGWDoyM6Em+276N0YKlLuTw8UdLP8w1FYsmLfZBu8a1oUW0eKp46PBP2BU+iYXk+f79XFuxiBsrl5W0ep6I9/Fo55tFy8cSfwN/uvx+WjxVE45XUalSA2ytW0+DO8QXDz1KTzpMxszxw47XWVveSoun9DiuBJjS4rblC1jTVMtPdx/mSM8g8UyWCp9Kc6iMu1Yv5n3L5k+rrulzOvjtLZu5dn4TT+8/zvG+IWLpDEIIyr1u1jTVcveapSytqyy54I/BpqrctWoJKxtqeOnIKd4+1UVfJEYqpyMAl91Opc/N4tpK1jZPruEEeQ2Qz9yyifWt9Ty9/zhHewcZTeUX06DHyarGGu5es5QVDdWTXBWqorCioZpyr4tbls5jQXWIb27bSc9ojNqgjwdvXM+G1gbKPG7+5eUdHO4ZxGnTuGXJPD66aeWk6C8hBM0VQb543x28cvQULx05RedwJF8PR1OpDfrYvKCZu1YvpjY4teXRoal8+uYNrGqq5fmDJzjWN0QklcEwLeyaSsDlzLvImuu4YVHLlPf3XNidGr/+hQ+jqAo2ez5+LZvJ0dM+xAs/eps3ntpHLqNjmZJtj+9mydoWbv+la1Cm+Q1niquOgByLdfD1E49gjvMrj/2/KzXI37f9uOR5q4MLWBZoQZvCNw9wW/V6etLDbBvcy8MdL6IJFUUIDGkWr2FXbNxZey0by5ecdwJWhUKrp5Yt1RvIntTZN9rG0diZ4uRoyXwonkd10pUaKKmz4dPcfGbe3QgEbwzv53DsDEdjHWiKljcRjutbg6uSz8y7h2WB1ikllVcE5vFbCz7Ct07/nK7UAM/37+Tlgd3FnaJu5bN2bELj+oqVfHre3XjGkZmM0cex8FcnxBWYMoVu5oMhE/op9g/+4aQYCKdWy+LyzxaCO6eCoMK1GZfWwLHwVzky8uc41VocWiUChZw5StYcQBVufPaleKdY6IfTrzGa2Y1uRdDNKEn9zLhquDOHS2tkYdnvc3Tki6SNLo6H/y/d8R/h1ppQhIOcNUoi11asklvhuoHmwAPTpt+6tUYCjlX0J5/h4NDn8doW4tRqkJik9E6S+iksmUOgUuvdisfWWuIuaTT5/hvRzAFGs7uJZvezb/AP8NuXYFOC6FaMpH6KjNFPwLGanBWeVjrdqdVQ5/0Qp6P/Ssro5MDQ5/Da5hfuuw3DipEx+0kbfRhWnDLneipc12NTA1O2CXlCMFMIkc/6Wl8+n5cHDuQD/Yw0I7k4LSUyM6SUvD18giPRrsI9EdxTt4FNoYVTWhqEENQ4gzw471ZOxvuI6EmSRoanenazsXwBLm2iG8uUFs/07WGwIODnUu080HrLJPJx7jVWBZu5v2kz/3jiGQxp0p0a4eX+gzw479YZxbS8FzAtCwGsa6lnZWMt0XSGrG6gKQp+l2NSPZVSEELgtGlcv7CZTfMaiWeypHM6QuQJgdfhQFWmV/gcg6IImkJBHrxxPR+/djWJTLZY5t6u5WueOG1aycJsY32xayqb5jWyrqU+35esnleCdtjwOx2oSmlS7NBUfveO6/PzoKrSWB5geX01iWwWr8OBz+VAEYKF1SG+eN8djKYy2FSFMo8LbYo2hRCUeVzcu345d65aTCydJWeaaIrA53TgttsnBf+WasOhaWxe0MSmeQ0kMjlSOR3LstBUBZfdhttun1To7vz3WqGq/tz0YA8VtUEWrmokGPLyxL+/hmmYZFI5nvj2a6y5YRHVjaGS7c0GVx0BWR5o5TcX3MuZZB/dqSH60sP0Z8JYSByKjQpHsGQwUcgemJAVci4kEqfq4DcXfJiFvga2De6lPx0mY+VwFOqr1Lsr2VK9gZsq10wbz+FQ7DS4KrGQVDnLaHRX8dkln+Dp3rd4a+QQw9koOUtHESoe1UmDuxIQSOSk7AkhBJWOIL+z6D7Wly/ilcG9dCb7SRoZLCy8qouQPcCasoV8oOYamj3V005yqlC4NrScBlclzw+8w+7wMYazUbKWjkDgd3hpdFVyS9VabqxcjVdzTXiYLXIkcifJmgNY0ijEKpzdXRtWnNGCO2I8PLbWGQh5CRxaDbXerQCcjn6TlN5Jyjgz4ShTZEnqp6YgIBYDyefpSTx2nmudH0IoVLg2s7LyIU5F/plIZi/x3HHiueMT+mxTglR7bmde8L/jUEvX0xiDxz6PReW/j10tpzfxJJHsHjgnSUVT/NR6ttIa+HRJMiOEwKnVsbTiC7SFv85IZgc5c5jh9BvFY1Thpsq9hZbgr3J0+C+nHaciNJoCn0QIle74o2SMfkazuyf1CwSa8CBQ0K3oeQnIbCHJZ87I8X+YAlnL4NXBw0XLRLndy201q6a0cI5BCMGyQCOry1p4dTCvSnko2klXaoRF/om76eFsjJ0jbcXPi3x1rC8/v8KkIhRuqlzGY11v05kawkLy5vAx7mu8joB9arnz9xKF7NLiwl15EZLkY22EppF2n2k7gnyBtgutayKEwKaq+aDOGQ5prP/jEXA7J6XGjhW1K5XVMl3bLrsN10XUaRkbU5nHVTJ1+FJBCIHH5+K+//E+2g50cXDHSQA6jvfx2s/2ct//uO28pOl8uOoISJWzjK211yHJ63Z0pwb5qyP/QW96mPneej6/9JMlyYFNnL8qrilNfJqbe+tv4vbqjQxno6TMDALwam5CDn/RtTGdhsZ8bx0PrfoNgOICXmEP8EDL+/lg/Q2MZGNkrCyaUPHbPJTZfNMSGiEEXs3F7dUbualyNSPZGDEjiSktnIqDkMOP3+ZBYYa7CyFodFfx6da7uL/hFsK5GCkzi4LAZ3MTsvtxFTRIzm3PpdWzpvrr5MxIMWMloZ+mL/Ekpkzj1Oqo996Lck5FWJsSRJsiu8iuljMv8OuYMkOZYz2KsFPn/RBBxxqG028Qyx1BN6MIYcOl1eK3LyXgWD3V3aLacwduW3PJb8ucs0tTFEIl6FjH6sqvMZrdQySzh5TehSmz2BQvHvsCQs5r8NmXTJkxIoRGg+8+Qq5r8dmX4FCrWVj2/1Ht2cJI+i2S+mkMK4WmuHHbWgk5NxFwrJ42A0UIgde2gJWVXyac2Uk4s5O00YdA4NLqKXddS5lzPZaVwZxBHRhNeGkJfJoq9xZGM7uI546RNYewZA5FOHCoIdy2Fvz2ZXjtC7Apl458SGQ+SyLSyXN9e4t/99vcVExhRRnJxmiLn1XybfVWUeeaSuRpIpyKjbVlrbw+eAQLSURPciLeO4mAtCcHGUiflRVfFWzGN4O4L4AKp5/F/jo6U3nrWHdqhP7M6BVLQOYwh6lQVunnrgeu58S+DrIZHcu0ePXJPdx230bKqy9uHrjqCAicZcZO1U6Tu5oF3np608NoIp/rP5PslPO177O58dkubLLQFG2SOyXfZ0GZ3UeZfeam6XPbcBYsMfXMNMBo6rYEgqDdOyuJdUXYC/VH8pBSktBPMph6CdNM41JraQn8aonsjalhV8toDnzynP4peOytuG0tE6wsedfO1CZGIRQq3TcXKrdeGuR3HAEqXbdQ6boZWUiTFSgFpdHpzeqKsBWtOmNQhYMy5zqCjrVITCRWsT1mSCTH+lXl3kKV+31FN9P4e5Sx0pwvCHWsLYGG1z6v4PaxCv0as8qNjfXSBv6a0qIvPcrLAwd5snsnPelw8bt15fOomUKrZjATZTR3Nh22yV2JU53ZrlIIQYunCpuikbV0LClpTwxMSGeWUnImMUi2YGFRhcI8b82Mx28TKq3es1lTCSNDX3qUxf76ac6awxyuPAghWL15EU2Lamg7kHd5drb1c2jnKW68e+1FzQlXJQEZD5uisTzQyhtDB97rrvyXRH7hUhGFtNO8hsXF6RFMbv/KKCudf9EEgkuVESQK47u4uIB8v9QptUfe6/bOhZSSuJGmLdbHq0OHeWv4OH3p0QlxXYt8dfxyy00lA8oBRnKJovtFkLc4zKYSdsDuxqnayBYC2IezsQkihBIYysaKwdY2oVLumIUWjoAKRz6zzZIWprQYzsZnfv4c5nAFIRDysmnLCk4e7EJK0LMG25/ez7W3r8TuvPD5+aonIEIIlviaLtrqMYcLh6a4UUXeNK2boxhmrKjWeSVASgvdigKyIHD27iysc5geY9aO7UNH2TZwiLZ4H8lzqvQ6FRvXVCzi1+bfxvxpLA4p42wmlkDgnoWqKeSDycdnsaVNvajOCvkA8ZRxtm+qos5KDVggcBXUiMdoVbIgNnYlQRUKmpL/d6mT2sdKxktLTigMJwr1SsQMA1IvTT8kliWLcUVCgFCUYl8uyTWsvCsROdZ+YYNxGcb4bkMIuOa25fz8P14nOpJPQDj8zml62gdpXXrhVr2rnoAANLqr+VD9jXg153mD0OZw6WFTArhtjaSMDtJGH/3JZ2n0fxxVuAsZoBJTZhAIVOXdC5oqBSklo5ldnBj9OlIazA/+JpXuW38hJoWrBVJKBjJRnu7dzfP9++hOjUywdkA+w2RZoJG76zZwfeUSvJpz2t9ocn2l2f2eJXRjJwW9jr/GhT0tsz9LcnmrId27YTkb5zVcdODpGEzDZHQ4Tm/7ED2nhxjsCRMZjpNKZDByBa0Zt51AyEddSwUtS+poXFiNP+hBXGRA46S+mBYDXSMc39tB+9FehvsiZNM5FFXB43NSVuWnpjFE3bxKmhfV4gu6ZzUvSCkxciY97YOc2NdJx4k+Rgai6DkTp8tORV2Q1iV1LFjZQE1TCFW7MBdmbDRJ35mholCY022ncUH1uyKNPhWEENQ0V1DbVFEkIKNDMXZvO0bz4roLDkb9hSAgXs3Fr7R8ALjQiWIOFwNFOKnx3EU4swtLZjgV+WeG06/j0ppQhIZhJciYA4Sc1zIv+BvnjZm4tLAYTL1CNLsfgN7Ek1S4b7iEbpQ5TAdLWuwKn+Jf2p7jeKxngpVBEyo1riDry+dzS9UKlgcaz0s8xuBW7cV3XZKXQZ9Kkr4UcpZRLDUAhdpJ485VhJggTmZIa9bFKjNmbgKJ8WjnL6yWs4wLLEM/ewghWFRTMUlJ9EJx8mAXT31vO4d3niou9pY19ViEInB5HDTMr+LmD67nlg+vp6zy4hV4pZSMDsV56rtv8MpjuxjqHcXQS7uFFUXgcNt58HP3cM+DN874GqZh0nagi6e+9wZ7XzvO6HAcy5wca6XZVMqq/Ky/eSlbH7ie1mX1qOrs5r+DO07yt599GNPIt79gZSNf+NZn8AYuX0CzlJKBrhEGukeKf7NMyY7nD3LHx6/FX3Zh5PUXgoCMBaVeCBQhsClqsWjVHC4M1Z7bSeqn6I7/GN2KEs7sBHZOOEZKkyb/L2NTL4+sex4CuxpCoCGxsKvlTCWTPodLCyklx2I9/PXRx+lOnZ24vJqTVcFmbq1eybryeVQ7AihTCJVNhaDdi03RMMwcknxWzFhV2JkgqqfImmcJRYXDP0E/RCAIOXxFCTfdMiYEvZ4PUkpGsvGipUcVChUzKGcQ01PoloFjBgG1V0bd6LN44dG3efbhN2d8vLQkqXiGE/s6OXWom3dePsyn//cHWbBy9nWzxmN0KM4//emj7HjuIGYJUjAeliVJJ7Kkk+fPFIOCwnBG57kf7uDRf3qR4b7ItMcbuslQzyjPPvwme187xsf+5+3c9tFNOGYRN2EaJulktkhAMuncZSOpY5BS8tZzB4gMT4xjOn20h7YDnay76fy6WKXwC0FALgbXhpZT66wAJE3uibU+8iWWJRkzl68hYWTIWjqmlZcCtikqTtWBT3Ph1hzYhHZFm/bHxpOzDHKWQcbMkTFz6IXd4NhkKYQoKlQ6FTtuzYFTtU85PiEEKm7mB3+LkOt6RtLbSeinC+JkEk3x4NRqCDhWTUrPffchqPd+CEVoWDJLtecDmBISRoqkkSZtZslZJpbMCzGpSj5d26XacakOHIoNu3Jl/67TQVVc1HnvJWeOYFdDl9UFZkiLJ7p3FsmHgmBDaAEfb76BVcFm3OqFF7qrcgbw21ykC8XbulLDZC19RjVXpJR0JIeKQayKUJjnnajfIoSgyV2JTdHIWfkKvudmykwHQ5qcSQ4WP3s1J7Wu6UT48hjJxonqKby28/9O4wtQIsSsqge/G7CMiYu9qql4/S78IQ9evxuHK//uZ1I5YqNJRgdjxYXfNCz2vXGCf/yTR/mjbzxAfeuFqcaapsVT331jEvlwOG1UN4UIVvhQVYVcVieTypFOZEkl0tjsM1sK9azB4996lUf+4XnSibOkxebQqKgJUlbpw+60kUnlCA9EGRmIYRYE1Aa6w3zroSfIpLPc8+BNM77mlYDRoTg7nj80qV5MOpFlx3MHWXP9ogtyCU24A5aUHIicZjA7OulAgWCZv5l698zNdX3pEQ5Fz5Tw10KNs5wVgZYZKwOmjAy7wifIWJPFrByKjQ3li6etOjkV6lwV1I0rey9lnnD0pIc5GuvkcPQM3akhIrkEKTOLXpiMIG9Cdqg2vJqLGmc5i/wNrA7OY763Dp82tT8xZ+nsCp8gYaQnfdfkrmKx7+J2AGOwCnVihrIRulNDnEkO0J0aYjgbJaInC4uvURzTmDKrgihYhjQcig2P5iTkCNDgqmCRv4H53jpqneW4xi0gedLiotx1DeXOTfn6IsW0UKVAPGa3y70UECJfWj7k/hjtyX7e6jnJ8fgr9KfDxI0UGVPHkPk6FQCqULEVAg49mpMyu48qZ5BmdzXNnmpqXSEqHYFZFxZ8r2BTfMwLfuY9uXZUT3Iw0ln8vCLYzB8vu49q58VXOq5w+Gn2VDGQyauUnk4M0J8enZD6OhWyls7e0dNFd1DQ5i6ZHtvqraLc7qM/k58PD0Q6SBqZGZGDkWycY7Ge4ucmd8WMCEg4l6At3kedq3z6GBgpGc0liyRkTJbgPYUQOD0OGlorWX7NfJZvmk99ayXBkBenx1GU7jZNk1Q8Q++ZIV57ci+vPrmHZCw/F57Y18kT//4a//0L96LZZr+gDXSN8MpjuyaQj+bFtfy333s/K66Zj9vnBCGQlkTPGWTTOVKJzIzcGZZp8crju3j0H18okg9VVVhx7Xy2PnADi1Y34SvzoCgKpmkSHU5w8O2TPPW97fnskYLF5wffeJ5QTZAb71570UJelwNSSva/2UbXqQEAHC475VV++jrylYH3vnGcod4INU2zV0Y9h4BY/KT7Nd4YOjTpQAXBZ5d8bFYE5FD0DF8+8nBJU+EtVatZ6m+aMQEJ5+L8fdvjDBdkkcej3O7n79b91gURkDHIQjntfZGTPNe3i4PRdiK5REnyNAEGDGWj+cVt5Agu1cF8bx1bqtdxY+UKyuyTfZrD2RjfOPEYA5nJRO8jDTew2Nd40eM4nehlZ/g4+yOn6E4NEdNTE3zes8XJRC9vk38OAjYPrd5aNlcs59rQUmpc5UXztUCAEFNWZ72ckFIS1ZNsHz7MC/27aIv3kjIvPBPBrmj4bR4+XL+ZX27Zcgl7+ouJtJmbkPmxrqyVqktAPiAfA3J95RJ2h08VU1xfGThEk6dy2qJvUkqORnvYN9pe/NvqshYa3JMnzxpXGWvKWni2L/+eHov1sC9yhusrpjc3W9Li9aGj9BQsP6pQuKFq6YyKV+Ysg+f79rEptBD3NDEjhjQ5Gu0ukiiHYiM0Cz2fdwPrb17CptuWj1uIp1EE9rmorCtj6fpWGhdW8+0v/4xcRs8XGHzpMPd+5hZqm2cXmyKlpO1AF0O9Z+dVX9DNr//Zh1l38+TfzOVxwAxjF6SUdJzo45F/eIFkPP9MK6rCbfdv5MHP3UOwROyKx+eitqWCVdct5F++8BPeefkwUkIikuKH33ieBSsaqJ935dYHGkMmmeW1J/egZ/MWw1C1n80fWM1P/vVlpJT0d4Y58FYb1Y3Tk+ZSmHOGM2aSHeDrx3/MQ0ce5rWhA4zm4ucnHyWQNrMcirbzj21P8JeH/5Nd4RMYljnBZzecjRLXpy+RfiGwpGTv6EkeOvJ9/uTgt/nPMy9yIHKacC5+UeRjwjWQjOoJ9oy28c8nn+R/H/gWP+x4heFs9LL7JaeDJS2OxDp46MjDfOPET9kfOX1R5AMolFmPMpCZ3u87hzwcim2CONjIDJ5DKSWGZRLTU0WrVCkIIbihcinNnrwgn0TyZM/OfKXbKc6TUjKYjfLd9leK8Rw+zcXddRtwlkixtQmVO+vWFdVPU2aW77W/Sk86POWzLqXkSLSLRzvfRC+Mtdldya1VK2fsInl75ATP9u3N12UqcR0pJcdjvewKnyz+rdzhpWYGFpZ3E9dsWcGGW5cSCHlnvLO3O2zcfM866lvPCiuODsXp7xyZ5qwpIKHr5MCEgNP5yxtYtvH88vnng2lYPPuDt+gv7PoBlqxt5pN/eFdJ8jEGIQQ1TSEe/Pw91LacHWNnWz+vPLarZODqlQQpJe1Hezm6+yxhb1pUy4Zbl+Lx598L0zB569kDZNPnK7UxGf/lCYgpLXaPnuAvD3+Plwb2XLJcfV0a7I+c4stHf8DjPduLgkdSSrpTQ2TM2f9Y54MpTX7eu4Ptw4eJ6ckLIlCzu55FZ2qQb7c/y18c+h67R9swrUsnQnYx/do+fJiHjjzMO+HjRV//HC4vAjY3C321xc+vDR7hp107GMhEyJo6hpWPO8pZBnE9zZnkIC8OHOArR37KXx16lHBueuGuGmcZn2i+sRj3MZCJ8tUjj/Fk904GM9Fi7IZeIDTvhE/y0OEfF+u7qEJha/161pfPnzK2aXWwhTvr1hUttQcjHXzx0KNsHz5GNJdEHzeG4WyM5/r28qXDP6ErlV+oPKqDX269iXr3zGTibYpK2szxbyef5zunX6Y7NULGzGFaJoZlktAz7Aqf5G+P/4yhbKx43rqyeTMKcn03caG6Hk6PA984S4RpmCSis9+gWVJOCpKsbanA6b5411R/5whvv3A2BsLutLH1V26kojY4oyJ9zYtquP2j16AUMmAs02L7MwcYHYpNe+57DcuUvPH0PuKjecKuqAprrl9E67J6Guaftd4c23uGjhP9s27/6omCeRcgpWRPuI2vH/8xfZnw+U+4AIzm4vz76WdIGVl+qekWbIpKR3JgQjripYQlLz+jNqXFoWg7Xz3yA3513p3cXrMO2xQKlu82pJTsGW3jH048zmB2zlLxXsKuaHy44RoORDoYysaI6in+8cQzPNb1No3uEAG7GwWFpJlhMBNjMBNhNJfAkBZ2RWPfaDu3Va+acoJXhGBLzSq6UyM80vEGGUunOz3C3xx7kkc6t9PsqcSnuchaOr3pMGeSQ8UNhioUbq1ewQMtt0yptgrgUG080HozA5kIbwwdxZQW+yNnaDvQS7Oninp3OU7FTsLI0Jkaojs1UiS8TtXOJ1pu5LbqVTN2NX+gdh0n430cjXXzndMv80zvHlq8VZTZvVgFIbfTiQHi4+LHapxBPtiwCdtVKLAnpWS4L8Jg99n5V1EUHP8/e+8dXcd13ms/e9rpBb0QRGEBe2+iSFWqWM22LFlyHDvJjWMnubET33jdfOlZK3HilPs5+XJvum/c4i5btrqsLqpQlCj23gGi19PbzOzvjwOCBIlTAAIgSJ1nLYkkzpyZPXNwZr/z7vf9/VyTCBokmOmxDxtO95UvBUspOfTeKfo7L9xP6horWLl5QdEBl6IqbNi2lCe+8TpDvdmgo/NMH6cOdVJRG7ziMU4XfZ1D7Hzp0GjgVVbpY+XmBXgDblbeuJAju8+AhNBAjJ0vHmThirmjQVYxfGADECkl7fE+/v3kU9MWfJwnYaX5QdurlBs+ttWuGTWout7oT4f5j5NPYSgat9esnnHrcSklfalhvnHq+VLwMQsQQrC6rIXfar2Hfz/xAp2JQUxp0RbvK/gdyNgmOwdOcGv18jGKpZfiULIBgldz8v2zbzCQjpAZ6UC5uAvlYtyqgw/VreFX5t1OmeEpOIlUGD7+x+IHCOoeft69h4SVJm6lORw+x+HwuXHfU+Xw84mmrXy0YVNRLbWQLWq/sXIR99av5atHnuBEpIuu5BBd49SKXTy2zy64k8X+OddUp9b5paX+zmG+/79/PiYA8ZW5J1XQCNPTmixtyeFdp8cUtjYvridYOTG155qGcuqbK0cDkHQyw7G9bay/bcms/OyklOzefoTutgvLTovWNFHfUoWiCNbevJinvrmdeCSZrd155RD3//JWyqqKz8R9YAOQtG3yg7ZXORntLGp7r+aiwV1Fo7uaWmfZqMttysowlI7QmxqmI95PT3KI2Di1BnEryX+deRGP5qQrMYn1zSlCFQou1UGZ4aXc8FHhCFCme/HrHpxqVp7aHmk9DmdiDKQj9CaH6U0OMZSOkpH5lzOGMzH+89SzNLgrp6ybp1gkkue63uNIuK3gtoaiUe+qoMVTxxx3JX7NjSoUTGmTssMSp+oAACAASURBVNPEzSQRM0EkkyBixolk4sTMJDErddWyO9cimqJyR+0q5nlreLpjF+8OnqA3GSJpZbCkNardcb7t2697aPRUsq5sHluqlhQMYoUQeDRntrW3rJmnOt5l99Bp+lMR0iPy6oKs1o9fd7HEP5f756xnQ8UCnIpetOlftSPA7yy6nxsqW3mmcxdHwh2EMvFsnQYSBYGhaFQ4fKwrn8+H52xgkX9OQWXmrGS7A7fqwK+7qHeVs9BXx1+s/CSPt+/gzf4j9CfDpG1zzLkEdDcrg818bO4NrAw25S28nW3YtiQ0EOG9Vw7z9Lfe4Pj+9guCZQLW3LRo0gHIdJBMpOk4NTZgbmytRdUmds2dHgf1TVUc3Hlq9Gftx7uxLXtGVU2LJR5N8vqTu0f1RzRDZcu9q0a9X1qW1NOyuJ6D72bPp+1YN0feP8MNd60o+r7/gbyTSik5GD7D9r79BSNmn+bilupV3FGzlhZvXVap8RK3UiklprSImgnOxnp4s/8gb/Ttpyc5NGb/Pakh/vHY4+O2304XguwN+nwL7RJ/E03uGqqcATyqE0PVUXK4r0opR4ORwXSEE5EO3ug/wHuDRwnnKaLtSg7y/bOv8HtLHp1Rj56+VIiXe3bnXd4SCBZ463lo7k2sK28lqHtRc4hgSSmxpI0pLdJ2hriZImomrn674zWGKhQW+ur5wqJahtJRuhJDdCeHiWQSmNJCFype3UWl4aPaGaDc4Ss6ODiPpqisDDaxxN9AfyrMuXg/vckQCSuNJlTKHT4a3BXUu8pwTHDfkA1CXJrBLdXLuKGyle7EMOcSAwykIqRtE6eiU+0M0OCupNoZQC/SEiJoePjTFR8nbZloikqTpypbM+Cp4vOt9/Jo01baYn30prJBm6FolBte5o609V4rGjVSSlLJDB0ne9n50kHefn4fZ450kblkyWTe0jl87Ndvx3DMDgNKgFQiPSo/DtnfhcksmyiKQkXdWPv6of4ImbQ56wIQKSXH9rRxfO+Fh7k5LdWsuOHCspM34GbDtqUc3nUa25akEmneenYf629bWrTGyQcyADGlxYvd7xMx8xc61TnL+ez8+7ixclneL7oQAl1olBk+grqX5YEW7qpdzw/aXuX13n1jsgbDmei4+5hq3KqDFm8dG8oXsaZsAY3uany6C2UCWhxZgbFsAHM+iNlcuZR9w6f49pkXOBg6m7PQddfQcQ6Gz7K+rHXGDKf2D5+mM9Gfd7u1ZQv4QuuDNLqriyoe04SKhopTNfDrV+6V8UHmvBpopcPPCpoKbj+Rrqrzn6WuqNS5yorS3JgMQgicqkGzt5pm75W3UOqKxkJf/bivadN8LtONHDFmG+6PsPet47z57F4OvXeK4b7IZRLtqqawbON8/tvvP0Bza12OPV4d0imTVPKCaq6iClyeiZkfQtbQze0d+0CWvEjhdDZhZizeeGbPaMsxAtbftoSKmgsB1PllmJ/939cY6ssW/+7fcYKe9kHmzKsq6vp8IAOQ7uQQe4ZO5N2m0uHnC60Psqli8YRqGc5PWgu89Xyx9WPUOcv5Uftro10w04lAUOMs48NzNnNz1SoW+ubg1VxTppB4/ua7oXwRda4K/u7wD9gfOj3utlEzwZt9B1gTXJB3DX+qsKTNnuETo62P41HvquDXFzxQVPBR4uogpY0to2TMLlJmG2mrnYzVg2UNYcskIBFCRxEuVCWIrlahq3XoWj26WoumBIFrIytwPSNtSV/XEG8+s5eXf/Iebce6SKcuX75VVIU5LVXc8fFN3PHxDZRV+WfdZ2dbNtK+ECQIISZUaHkxly7bWJY9q+QLztPdNsD7rx4Z/bcv6OHGD6267LznLqihdXUT77yQ1Q7r6xpm9/ajzJlXRTF84AIQKSXHwu3jCpqdRxUKDzbcxIbyRZMupBRC4NVd/ELT7cStFD/rePMyB9CpRhUKn26+E6dqTKsrsBCCBlcln26+kz8/+O2cS0qHQmeJmAnKZkAgKW6lOB3N3QYmENxZu4553roZu8GlzXMMRL+NbefItAmVcs/HcRnLJrzvjNVLf+Qb2HaOVlWhUu55GJexfBL77qM/8p/Ydu5sXdDzIG7HminxT8rapSdIZA4TTrxMLPU2qcwZLDuEpHC7ukBHUTzoai0uYxlex1Y8zo0Yaj2Q34FUSkkk+SqRxCtcXsIoCLjvxeu84YrOL3ucDAPR75HKHM+7ndNYTLnnUYSYmVuzZUfpj3wD0+rJu53HuZmA656C353zSy1vPrOHn/z7K5w90jWuH4vL46BlST1b71/DDXcup2Zu+ahS6mxD1ZQxE6+0JVYOc7tCZNJj36fp6sRdgOXlzs1TibQlO188QO9Fgm5L1jXTsuTyTJ3DZbD5rhW898ohLNPGtmzeem4f2x7akFWdLcAHLwBBcjjclvdJudFdzR01a6aksMulGjzaeAuHw2c5XERx5JVwPuiZCYQQLA00scA7hz3D42eT+lIhhtKRGQlAIpk4A+ncPfVezcnG8sUoM2g4aFr9DES/i2WP35Ej0PE4Nk4qALHsYQaj38e0x+8mEeh4jHWTCkAsOzSy79zLWS5jBW7Hmgnv+2KyT34msdT7DES/TST5BpY9yETvrpIMlj2MZQ+TzBxhOPYEhtZE0H0/ZZ6PYWhNOR2YJRmGYj9mOP6zcV4VOPSWqQlAsAgnfk4k+Vre7fyuOynzPIyYoVuzlEmG4z8lmTmaf0OhEnB9iEJ2f6lEmh/984v89GuvEY+OLcZXNYWauRWs2drKxjuWs2hNE76gByGYdVmPizEc+hgtEcuyiY10fkxk3FLKy/RNPH4Xmj6xzzqTNgua7F0J4eEYbz67b1QkTTc0ttyzalw9FSEEy29YQFV92ah43MkD7Zw+3FGUANwHLgBJ2yZn4/mj/Q0Vi6l0TI1ktBCCKkeQD8/ZzIlIZ8EukmsJl+qg2VOTMwBJ2mlCM1TzEh0xlstFhSNAbQF/jRIzR1bxdID+yNcZjH43b7Az4X2TIWWeoCf8jwwnnqHK9zmC7vtRxOX+TJY1SDJzJMeeSkwEKSVvPruXx7/26hijNofLYPHaJm5+YC1rbl5EVV0ZqjbzvlCTxek2Rlpuu0Z/1ntukAnZL5NVU+3tGNtSXVUXnLApXSycJB5JTrgNuBikzLYcnzp0wceovrmS1Vty1/LVNJSxfNP80QAkGoqz44UDLF7bgqrlv0CzM+c1jcTNFAOp3E/KutBYHZw/pRoWQgg2lC+m0TP7df8nggBcefwqLNsmaU1/7QtktVbMPCqsZYa3KKfUEtOPlJK0eYZzg79Pb/ifpzT4GItNKnOMzqE/pWv4y2SsrsvW21PmGdJmca34JfITCyd4/ns7xgQfcxfW8Dt/+wn++N8/wz2/eCN1jZXZZYdrJPiArOrp3AVjTQ7PHOkknZ7Yw2QsnKDz9AVtGiFg/vKGCRvSRYZjdJ7pm5baETNj8foTuy/IqgvYsG1Z3q4fTdfYfNeK0fZcKeG9Vw4z2Ju7zOE8H7gAJGGniOaRW/fpLupdU9+DXmZ4WVu2YMr3ezWxsRnKI5ctBDMmRmZKM2+NjVMxUD94v+6zDiklaaudc0N/RDjxc2D6M4K2jDMQ/R7nBn+flHly9MYtpSSR3o8tY9M+hg8CfZ3DtB2/UIflL/fw63/2MW79yDq8gdzu4LMdIQRLN8wb4857+kgXfR3FC1hKKTl7tIuusxc0oLwBN62rC3eDXUoykWbXa0emvHtGSkn7iR72vX2hTskX9LD57pUoav7PbtGaZhouMtbrPN3LwXdPFQySPnB35JSVyduR4tPcRblWThRFKKwKzr9uRKyklPSnwnlFv3ShXZFD8cTGk/91JbvQPCNjKZEbW4bpHv47osk3mdZKusuwiCRf5dzgH5AyT2QLX8kQS78PzL42yGuRaCg+xpBsTksVraubJl5kOcsQQrB4TTM1cy88mA50D/P2z/cXbSaXSZu89sT7xCIXCvZbVzcxd35NnnflQMJbz+3j9OGOKc2CSFvyzgsHGOy9sEKweE0TLUvqCwaPwSofa25eNLoklU6ZvPXcvlEH3Vx84AIQ07by+qW4VKNo6eSJ0uipJnCdaElkpMXTne/QnkdS26e7KTemfp2yxLWJlBaD0R8Rij/LxCZ9BUX4MLRGXMYKPI5NeBybcRvrcepL0dUGFOEHCnV+SWKpd+gY/BPS5tls/Ue6QPFliaLRDW1Mt0gmbWGZxXeLSCmx7dnZllo1p4yt964aDaYs0+bZ/3qLY/vaCo7Xtm12vXqYN57eMxpzuzwO7npkEy7v5LxqejsG+ebfPk3PudzOzBNlqC/CW8/tRY5otGi6yk33rynKzE9VFTZuW47Xf+Hh/eDOU3Sczr9UdH08jk+ArPxznguiqNOWqg/qXiod/rwtwLMdKSUpO8OzXTt5/NwbeZc9mj01M9IBU+LaIGWeZiD6bSS5i4UvRggHbmMVftcduI21GFo9ivCOtKgKwEbKDJYdxbR7SWaOEU2+Qzy9m7R5jvGXdyTR1Nt0DX+FgPseMlbXONuUmAwVtQHKq/3ER8Srzp3s4fUnd3P3J27AcF6uPnt+YsqkTQa6Qxx69xSJeIq7P7F5woWZ042qKtz56A3sfOkgpw9na4a6zvbzr3/6Yz77Jx9l0ZrmywprpZSkkxl2vXaY//vlJ4gMZztghIBNdy5n3SQ9YFpXN9HfNcT7rx/hH770XR75/J0sWdcyGigIIUavrWXaDPaG6Trbx6LVzTmDCSkl+3ecoO34hQaNuqZKVt64sOgxzltaT8uSOezfkW1KGOoLs+vVwzQvzi0sN7s+5RlAjv5vfARiQpXNE8GhGlQ5ghyhfXoOMM3Y0qYt3suP27fzcs9u4nm6TjShsrlyKU6lVPhZIiswNhx/kpR5pqjtDa2Rav9/J+C6B1UJ5myjBdDUChw04TbWU+b5OBmzk0jyFQajPySROQxc+hRuE0o8Tyy1s1T/MYWUVfnZdMdyOk+/gm1LkvE03/rbpzi86zTrb1tKXVMFLq8TQdaIbbA3TNvxbo7uOcupgx30dw9TXh1g1Y2tlxV9Xoxt23Sc6huznAFZ6/iLJdMhOwke3X224D09WOGjZm7+Lrm6pkp+8X/cw//5wx8y3J+tfTu6+yxf+e/fYPPdK1mztZXqhnI0XSWVyNBxupd3XzrErtcOjwYfAAtWNvLJL37oMlXUYtl813IcLoNv/u3T7H3rOKcOdbBoTRPLNsyjtqkSp9tBJm3S3znEiQPnOL63jVQizZ987ddYsGLuuPtMJTK8/uT7pEcUX4WA9bctpbI2MO724+Hxudi4bRkHdp5E2hJpS3a8sJ8PfXIz3oB73Pd84AKQq4kmFCqM4p0CZwumbdGR6OeVnj280LOLrsRAwdX7+d56bqhYes0WnpWYWkx7gHD85xSz9OLQ5tFQ/hU8jhvyBh6XIoRAYODQmzG0X8bvupvB6PcYiH4b077UANKaxu6bDyaarvLAr9zEyYPn2PvmcaSUxCJJXv3pLrY/tRvDqWMYOohst0U6mbnMC6a/c4h3Xz5Iw/zcasWZlMnXv/Ike988dtlrF0umA7zx9B52vniw4NjvfGQTn/2zB1HzFFsqimDTncuJRRJ842+eGnW1HegO8dQ3t/P8997G4TJQNQUzY5GMj5VZF0KwYEUDv/Xlh/OeXz4URVBZF2TLvasZ6AnxxNdfJzIc571XDvPeK4dHRdOkLTEvEktTVIXDu84wf3nDuJmoM0c7R03lIFt8uuWelRPyqBGKYO0ti/nJf7wyem1OH+rk+L52Vm8dv423FIDMIAKBXx8/EpxtSClJWGlORjt5tXcvb/UfpDc5lNfo7Twe1ckjjbdQ5Sg+ei5x/SKlJJk+Qso8VXBbRXipCfzuhIOPSxFCQVfrqAn8Ni5jBV3Df0XKPDnp/ZUojuqGcj7/lUf5zlefYcfPD5CIZbOklmmTiKZIFFh+M5w65072kkmbeQ3pbNsmmUhhW/nvR2bGGjMR5+LSwCUXmq5y+0MbCFb6+P4/Ps/xfe2j+8+kzcsCqvO4PA5uuGs5j37hbhoX1kz6wUzTNQIVPpxug1/47btxuAye+sZ2wkPZTJ5l2uN2x9iWzb63j3P3L9xw2XWVtuTNZ/YSHryQDVy0tpmWpXMmPL45LVUsXtPE28/vB7KOum8/v48VNywY00U0ej4TPkKJSSOEwD3ippuvDuVqYtoWfakQe4ZO8HrfPg6H2whnYkWPVhcaH23YwpbK5aXsR4lR4um92DK/+SOA13kDfte2Kwo+zpP9/dPxu+5AVQKcG/xDUublT80lpg4hBPXNlXz+rx5l632r2f7UHo7va2OoL0I6mcEy7VEFUVVT0A0NT8BFTUM5i1Y3sXprK62rmvLWgOgOjU/97j1svmsFZ491ce5kL73nBhnqjxALJcaohOqGNqpPkQ+Hq/jGA01T2XD7UuYtncPbz+/nref20nasm2g4gZk2sW2Jogh0h06gwsvClXO57aPrWXPTIlxex4Tvi5qu4vG7sEwbt89JsNKLEAKP38Wjn7+TpetaeP4HOziy6wyhwSiZtIm0JYoq0PXs9a1vrmLJupZxyw+GB6IcfPcUnpECUlVTuPn+1bg8Ey+QNZw6N35oJQd3nhr9HI7tbWOoL0xV/eWmiqUAZIYxFA3BzDYgFsKWkogZ50i4nTf69rNn6ATdySHMPHL14+FWHXxkzhY+0XTbtHUSlbgWsUhmDhexXVbuWxFT2ykmhILHsYH6sj+lffBLBX1PSlwZQgjcPieb717JhtuXMdwXoa9rmKG+MPFIEsu0UDUVl9dBsMJHWbWPYIUPl9dRlB+MoigsWDGXBSvmZgs9UyaxcILB3hCP/8ervPzjd0e3ven+1Tz4udsLlvX5yjwTEgQTIrsUcv8vb2Xbwxvo6xyir2OI0GAMM22iOzTKqvzUzC2nojaI4Zi8QeLKzQv5q+/9FsjsUkp9S+Xoa4ZDZ+0ti1l+wwL6Oofobhsg1B/BzFgYTh1/uZeq+iAVNQFcXue45+jxOfnCVx4dbSkWiqCuqXJS4xVCcOM9q5i3rGG0m0ZRFXxl43+nSwHIDJP1l7n6IYiUEkvadCYGeLv/EG/07+dktJOEVdj861IEUO+q5JNNt3N7zRocSin4KHEBWybJWLmNAs+jKn5cxrJpyZwJoeBzbqHK+6t0h/4OOQMCaB90hBDohkbVnDKq5lz+9DtVx3A4dRxOnbIqH5vvXsH2J3ePLoUEKnzMXzZn2rKxQgjcXidNrXU0tebu9rgSvAF3ziLO82NwOHUa5lWPEQMrFofLGNdobrK4vU7mFbl8UwpAZpyrvyyRtk1ORjp4qWc3b/Ufojc1NGmnXq/mYkvlMh6eezPzvHUzpnxa4tpByjSWXbj1XFWCqMrUqxBfdATKvA8TSjxPPP3+NB6nxNVACEHL4nqClT76OocKv6HEVacUgHxAkFJiSotjkXM83fkOO/oPMXQFRnFezcWasgU8UL+ZFcEWHMrlff4lSkDWit6WhTNrinChiOlTzhVCoClVlHk+TiK9H8nM+BSVmDkq6oI0LqwpBSDXCEUHIJKrvWhQYrLYUtKR6ONn597i5d49ef1b8iEQlBs+1pe3ckftOpYFmnAqRinwKFEAm9ly9xBC4HPdhB5pIG2evtrDKTHFOJw6S9a3sOu1ksPxtcCEMiByCj0TZsft6PonbZu82XeA/zrzImdi3UW10V6KoWg0uWu4oXIJW6tW0OSuyRbTlgKPEsUgNERBmXSQMoWUxamkXgm6WovbWFUKQK5DhBAsWdeCw6WTSpQyXLOdCWRAskWL51uorhQ5yZqDEsWTMFM81v46P2x/jaiZKPyGi9CEQpWjjJXBFrZULWeZv4mg4S3VeJSYMIowUJXCnkCWPYxpD6JTO63jERi4HWsYjj9ByYju+qOptZY1Ny1moCc0bcWvJaaGCWVAMvbUVY5PtMWzxMQwbYufdbzFd86+lNf992IE4NM9LPHPZWvlCtaULaDGWYYqlFK2o8SkEcKFphZ2/TTtEMnMUZz65Dwyih+PwKktQAgHUk4sMC8x+ymvDvA///HT2JaN7iiVOc5mJvTppKypS2mlbTOvK22JySOl5EDoND9qf62o4ENBUOeqYHPlUm6uWsk8bx1udeKCOSVKjIdAx6kvIpx4vsCWJuHESwTc9yCYvmJUAE2tRBVuzFIAct0hFDFpn5USM8uEApC4lUJSfCNpPrXPlJXBlBaTMyMukY+ElV16GSxQbKoKhRZPLXfVrufGymXUuspQKGU7Skw9Hsc6hHAiZTLvdpHkdmKp9/A6tkzr76GieBHT2HFTokSJwkwoAMnWERQfgtgydwCSsFKkbZNiNQ8lctRi+FJK0+UFpJQcjZxj73B+341KR4CPzLmRu2rXj3q2lAKPEtOBEAKXsQyHNo9k5lDebS17kN7Q/8ZR0YKu1k+fgBQ6QpTS8yVKXE0mVFEYysTyBhWXkrYzOXMgMTNJcgJLOpa0c2ZUFCEQpTAEyAZq7w8ez1t0Wucs50uLPs4nGm+j2hnMuoiWgo8S04imVBJw300xt5xo6h26hv+SjNWV86HjShEoRY2lRIkS08eEA5D0BApRY2budGvcShHOxHK+fikZ28yp1qkKdUTivETaNjkaac/5uqFofKr5DjZWLEJTirdaLlHiShBCpcz9IE59YRFbWwzHn6Zt4IvEUm9jy9S0BSIlSpS4ekxo1h5KR0lYxfXpSynz1iDEzRS9qeGij52w0pj2+J0zhqKVJtMR4laKwXQ45+tN7ho2Vy4ttdOWmHEMrYkq36+jCG8RW9vEUm9zpv836Rj8I6KpNzGtYaS0SsFICaSU2JaNmTHJpE3MjIVt2dP6u3HhmNbIMU0sM/v7OFt/J6WUSFtimtkxz9S1KpYJLYKGMjGGM1EqHP6C21rSpi+V2//BlCano91sLdK2PWomcmZfnKqBXlrPBbKZonxLWw3uKnxabmOjEiWmCyEUgu77SGQO0R/5BhRhCGfZgwzGfkAo/ixOYxEex0bcxloc+jw0pRJF8SAuuo2VlhJnHwffPcWR988A4PY5ufmBNXh8rkntS0pJeCjGwZ2nOLzrND3nBsmkTBwug6r6IPOXN7B0/Twq64IoisDMWLz57F76u4aprAuy5Z6VaPrE5gopJYM9YQ7sPMnxfe30dQ6RSmbQDRV/0EN1QzkN86tZtmEewcrx9W727zjBsb1tAHgDLm5+YG1Bu3spJQd2nuTYnpH3+V3c9MCaojp8pC0Z6o9w8sA5Tuxvp+tsP9FwAiklLo+T8mo/c+ZV0by4njktVfgCbhD5vz+9HUO89dw+LNNCUQQb71jGnJaJm99dzMSKUDMJ2uN9zPPUFfyix60kXYmBnK9L4HD4LCk7g1M1Ch67NzmMlUM7xKM5MUr270C2IDffJ6MraukmXeKqIYSLGv9vY9txhmKPISnOfdmSYWKpd4ml3kUIB6oSRFer0dU6DLUeXatDU6pQFR+KcKMoLoRwIHAghIYQOoILf1oyRkmEbGbY9doRvvf/ZVuwa+aWs+amRZMKQGzbZv+Ok3zn75/j2J6zpJKXP2hpukrD/Goe/LVbufnDa4mG4vzXV5/l3Mlelm+az8ZtyyYUgJgZix0/388P/ukFzh7tHnXZvRSHS+d3/uYT3Pbg+nFf3/nSQR7715cBqG+uYt0tS4oIQODdlw/xo39+aeR9lay9ZXHeAERKSXgwxsuPv8dLj+3k3Kk+Uonxv2OKmm1Xrm+p4qb7VnP/L23F6c49pq4z/Xzzb54imUij6SrVDeUzG4BkpMn+4VPcVLUCNc80J6WkKzFITzK/IdDxSAediQFaPLV5J0Vb2pyN9eSUEa8w/GiitAQDYCg6bi33L2hvMkTKSufdpkSJ6UIIgaaWURf8AzS1nIHIt7Bk7iXD8ZAyhWn1YFo9JNh/yataNuBABVSEUEeCDiP7p9BRyD7wZKzuqTmpEtOOlJKje9r4x//n+3Se6R/9ucNl4PY5URRBOpkhHk1y5kgX//pnP6Hn3CBL1rYw0F3YiTnXMd995RD/9MePMdx/oZxA01V0Izt1mmZ2OcMybUzz6oprSilpO97D1//6SXa9ehgzc2E8QhEoSnaOlbbEtiW2JYmGEhzb00Z4MMbN96/JG4BMBxNet3h/6Dh9yWFqXeU5t5HAnuGTRDLxvPsaTEfY3refZk9N3i6WmJnkeLQj5+u1znK0Uk0DAC7VQbUjyLHIuXFfPxXr5Hikg5XBeVOaCZEyK9UfzsTw655STU6JvKhKgBr/7+DUF9Mb/ieSmaNMTUbCRErzwqPK1V/mLjEFpBIZHv+PV0aDD1VT2HTHcu58ZBO1jRWomkIsnOD04U62P7mb/TtP8pN/f4XmRUdIxCfnLxQNJfjp114dDT50Q2X9bUvZcs8qKuuCCJEdV2Q4xlBfhJYl9VN2vhNFSkl32wD/9Ec/4sA7J0ctU2oaylm+aT4tS+rxl2dFL+KRJAM9ITpO9dJ2vIfejmyi4Gp8VSYcgLTH+3iu611+sfkO9ByTTF9qmJd7dhc0PpNInu3aycbyRSz2N447IUopORxu43S0a/wTECpNnurSssIIhqKxPNjMW/0Hx73+4Uycb5z+Ob+7+CEaXFVXdN3OBx1DmSjHwu282X+Q09EufmfRx1jsb7yS0yhxnZNt/XYSdD+A27GGoeiPGIr/lLTZDnyQbRpKEdN4dJ3t4+DOC9pGKzcv5PNfeYRghXfMPWzR6ia23LOKJ7+xnR//28sc2X120sc8e6yLEwcuPMhtvW8Nv/nnH8MbcF9237zaBZ2pRIbv/ePzo8GHbmhse3gDD/7ardQ3V6JqY5fepZRk0ibhoRhnj3ZxfF87DufMlzFMKABREFjS5vGON6h2BtlWs3aMK6qUkqiZ4Pttr3Ay2plzPw2uSvpSIVJ2xya3SAAAIABJREFUhp7kEP904gk+v/AjLPQ1jGmnlVLSmxrmh22vEs/RfePVXDR5pte86lpCCMH6skX82LE9ZxHw3uGTfPngd3h47s2sK28loHtQKKwFIqXExiZhpelPhTgR6WT30AkOhc/QmRggbZsIYHvfflp9DVfUaSOlxJRW0bfjQt5CtpRT5mUkyAa+Vx70Sj7oE44QCg6tkZrAFynzfIxQ4ueEE8+TSB/FlhE+aNdHSiu7+F96nhpDd/sgkVA2oy4Uwea7VlwWfED2/ucv8/DQr99OaCDKU996Y1LBgZSSztN9JKLZecfpNrjj4Q3jBh/nj3u1kFKyf8cJ3nxm30jmA2796Dp+7Y8+gsc/fq2NEALDoVNZG6SiJsCamxZzNU6h6ACk2hFkbflCXujeRTgT519OPMmh8FlurlpJrbMcRQh6kkM827WT7X37c2p2GIrGJ5u28ULPLnYPnQDgYOgMXz74He6uXc+asoUEDQ+2lJyNdfOzjrdHtxuPue4qap0lx8OLafRUc3PVSn5y7o1xxdskkmORc/y/R35Es6eW5YFmFvjmUOssx6e7cCg6qlCQZLtqElaKoXSU7uQgZ2M9nI5105kYYDgdvWzil8Db/Yf5aMPWUYXVyRAzk/zfU8/SlRwsavtQOpo3wDgSbuPPD3wLMQVLdQ2uSj4z/x5c6pWtl0qAkh8SkNUJcegtVGmfpdzzCMnMEaLJt4il3iNlnsK0B5Bycqn0awkpU8hScexlJGIpbCt7LxNCEKzy5Z30HS6duz5xA288s4ehvvyWFLmIhOKjwYvL46CyNjgrM+1mxuK1J94nHs3qblXUBvnoZ27B7Suuzi+bjZzOEeam6ABkjruShxpu4lDoLG3xXqJmgqc73+Gl7t14NSdCKMTMRM5MxXnmuqvZULEIQ9U4HG4jaWUrdDsS/Xz99PP8oP1V3KoTiSSSiec1UxMINpQvwqNNrqXrekUTKg82bOVA6ExeUbKUneFopJ2jkXZUoWAoGg7FQFfUbPZCZjMLKTtD2s6Qsa28/j7nORfvZc/QCe6oWTvpL2xGmuwPnc6bSZsIQ5koOwePTsm+hn1zsWwbrrjMRSKLaEWd/L6vvYlMCAVNLcOrbsbj2IQt45hWHynzLKnMcZKZE2SsDjJWH7YdwZJxpEwisUDaI+dsc61mlywZp5j25A8abq8TVRVYZraIcqBreLTOYTyEENQ3VzKnpWrSAYhtXvj+qJqKos3OOsOhvjBHdp8Z/feyDfOYu6BmVgZLl1J0ADLXXUWzp5a76zbw9VPPYo48uSXtNMl0ca10qlC4vWY15YaPTRVL2FS+mNf69o2+LpHEzGReBdWLqXIE2FK1vJStvAQhBPWuCn5zwQN89ehjtMV7C77HktmllYRV3GeZj4y0eLV3L1urll9xluD6xkbKDBPxVyoWCSP7vnYRQkEVXlTFi0NvAdetSGkjZQpbJrFlFMuOYssYlh3DlvFsBkGmsGX6or9n/5MkR1RVU1h2lFjqbSx7ch0S04VtR7FlEpXCWksfJOqbKwlU+OjrHEJKyVvP7+PmD6+lLE8mxOHUc+pyTIbZOs/0nhtiqDcbZAkhaF3diKZfG00ARQUgAmjx1KEqCnfVrmPnwOGCZmfj0eprYFvNWhSh4FGd/ELT7ZyIdtKR6C/85ktQhcJddetpdJcKUMdDCMGKYAtfWvxx/vXEkxwJtxeVvZgqDoXOcCraxbJA84wd89pDjkyITEMKVCK5/pYshFAQwoWCC8i99CqRFyVA5GV/WnaIU32/TCK9d/oGOwmyQVUEXb0yfYXrjdrGCjbcvpRnv/MWUkoOvXear/3FT3noN25n7vwadEd2Krt4LhCKuGYm4ithsDdMOpV92FBUQVV9GchJFMaOXLqZnE+LCkAMRWeuuwqBoMLw86vz7uGvD32frmRuobFLqXQE+JWWu6l2BIHsSS70zeEz8+7hfx97nKFMtOh9CQQbyxfz0TlbSu2eeVCEwopAC3+87FM81v46L/fsJjQB/53JIACf5maxv/GK/HkMRWdVcB6CbLt21EySzrMcd61iy/yt6pNHYtvTte/Zj0Bc9Mg6zg11lionW3YE0+oHff7VHsqsQjc0Hv6N2+k41cu+HSewTJtXf/Y++3acYOGKuSxYMZfaxgp8QTdOt4Hh0NF0lVi4uGz6tUw8msS2s8GGtCUvPbaT/Tty103mwukyuO/TW6iZWzHVQ8xJUd9Cv+6mZqTQUwjB8kAzv936IP9y4omi0vv1rgo+N/8+1pW3jomuFKFwU9UKJJL/PPVcUZkQXWjcWLmUzy24j3Jj6tJr1yvnl2N+Y8ED3FK9kue73mXX4HEG0uGchcITRRUKPs1No6eatWULWV/eyjxPXVEKt7lwqw5+Y8EDxM0UQ+kIPakh2uN9nI5205Hopy81TCgdI2mnp+w8rga2Pbn16SL2jCUjedfJ83Pt1U9cD9gySdo8i5QbZ+RJVF4jtTJCCGobK/ji3/0Cj3/t1dHi0oHuEAPdIXa8cABFEai6iqoqKIqCogpSidn40DJ919u2Je+8eHBS7/UG3Nz4oZVXLwBRhODW6tW0eOrGbFRu+Mb4vyhCYWPFIiocn+JH7a/x7sARQpn4mBS/IhTKdC/ry1t5sGErC31zxm3L1BSVW6tXMcdVyY/bt/Pe4FFCmdgYDQuBwKUaNHqquat2Pdtq1uDTxm+HKkSVI8Anmm7L6StT4yybVlXVVl8Dn26+I6dGylJ/07Qc11A0VgbmscTfRGe8n73DJ9k7fIozsW4G0mESZnqk7TX3l0MgUIWCQ9XxaW4qHQFaPLW0+hpo9TdQ76zArTmzcvBXePMUQqALjYChETA8NHtr2Vi+GBtJykoTzsTpS4XoSPRzNtbDkXAb+0OncwYjc91V3Fy1ckpM+CodAQxlap6gTXuYydSASHm+2DI3ljW5fVNQwYdJ7HOWIWfrxGuRyBykjIeZkWssrWzrbwHElVdcXzFCCGrmlvNrf/QR7vz4RnZvP8qhXafpbhsgPBQjnTSxrKwyaSZtYts2ljX7Hk4sa2pVU10eB4oiOO/VKgRFr+lK+6J5tpCPx8Xvk2CZV35tLwlAFLbVrCnqjYpQWOCt53cXPcyZWDdHwu10JvpJ2yZezUWDu4qFvjk0uKrGaIXk2lerr4HfXfwwbbFejkXaOZfoJ2mlcaoGNc4ymj21NHtqCOhelCuY3KqcQT7VfMek33+lLPbPZbF/7lU5thACQ2g0e2tp8tRwT/0mIpk4A6kQ/ekw/akQw+kYsRHjPxsbVagYioZXc+HX3ZQbPspG/vPrblyKgSKUGXlaE0KgInBrTtyak1pXOcsDzUjgTKyb39/7NfpyOCw3uqv5pZa7pixwmCose5BsIDGxwEiSyXZ+5MG0+5GYCCaWicpOSPluLiIrcX5NByF2kUW6M3+OifR+bBlFFdNfiJot5i28TCGEg9kQdAoh0B0aC1bMZf7yBtIpk3g4QSySIB5NkUqmyaQtzBHX1ye+/jp73zp+tYc9hlQ8PaovMhUEK31ohoaZsRBCcM8v3siqGxcWfJ9l2Tz9rTc4+G62nlNRlaJ9cmzLIjIcv4IMa5YruhsLIXCqBov9jVesfHl+X63+7NN0ienlfDBS4fBT4fDTerUHNEmEyE6Dtc5ymj01OQOQ2YppDWLLNOoEaxKkTBacQDNWD1KmQUw0AElB3qdigeDaNn/MTryFamQEU9BrPWGSmZOkMqdwO1ZP+7EsGcGWhevvVMU77WOZKEIIHE4dh1OnrPryYE1KyY4XDlyFkeUnHk3Se26Q5sWFTF3lmCyDUMZPUVTVBwmUeUjGUkgkZVU+brp/dcHAIJ3M8PoT74/+2+V24M0hXHbZyCScOdKJbUtUdfIByOxsbC5RYoI4VYOlgelZvppOTHsQOYlCVNMOIWV+vQjT6seaRI2JLRN59UkE6sgT8bWLZQ9h2YUnXkXMvMaQZQ8TSW4fWWabPqSUZMyOIoqVBapy7Yk92pZNMnYh06CqM5OpLUQ6ZbL/nZOjwmq5sC17jAmeYejjdvWUVwdoWjRSNiHh6O6zJOOF5RTi0eSoDwxAdUMZvjJ3kWcBB3aeYrAndEUy9KUApMR1gQCW+ZtwKpMvfL0amPYgpp3fNfpSpJSYVg+S/BkQ0x7AtHomPCbLjuTPrggNRSn+RjXbkFKSMs8ULAAWqKjK1Sh0twklnsO0+6b9SIn0gYK/RwIDXb0y36irQXgoTseZC9fQ43fNmrbcd148QMfp3ryTd2ggxpkjFzzQApVenO7L728Ol87mu1eMntvRPWc5uuds3n1LKTm+v52us9nGDyEEK25YgMtT/IPFuZM9vPjYzjGuuxOlFICUuC4QQtDkqaXKOXn596uBZYdJm+M7F+dGksqcpWARqh0ZcZmd2BOKafcVyIDoqOJa7kCziKV2Isn/lCiE46o9+SfTRwjFn5/WLIgto0RT7xTcTlHc6Ors8NvKpE32vnWczjP9mBkz5ySbSZu8/tRu2k9cCMCbF9WhzhI1047TfXz3H55jsCd82TmcN4p79We7LoxfwMIVc8c1jBNCsHHbMhauzJZBRIbjfOfvn+Pcqd4xRaYX77+3Y4gf/9vLJEYyRJX1Qbbcs7LoIFPTVRwug8f/41We+a83iUUS434WUkri0eSoTsll+ynqaCVKXAOUGV7meepoj0//k+NUIWWSRPogPuetRX/5pUyNBBaFsImm3qHM8xCiyBoTKc8HN7mDFkVxXaXMwNSQsbqJJt8suJ2q+NDVyhkY0eVI0gxEv4XPuRVDa5ny7IOUkkR6P8nM4YLb6moVWhHCaOHB2OiEdjGxcGL075ZpM9AVylnA7PG78AZyL3u1He/m77/0XVRNYcUNC1h140IaF9YSqPSi6xqWZTPQE+KtZ/fyzHfeIpPKBtLegJs1Ny/K6bgeGY6PKQyVSCKhi8Zt2fR3h3IXaQrw+l05zd8uxuEyEAK2P72X0ECMez91I/OXN+D2OpFSMtgb4c1n9vDUt94gk86OP1DuZeO2ZSN1IJdTVuXj0c/fyT/8z+8y3B/l4M5T/O0Xvs29n7qRZRvm4SvzIATEI0mO72vn6W+/MeourBkq931qC40La4v+PauoDXDvL27hR//yIl//66fY/cYxbvzQSpoW1uL2ObFMi6H+CCf2tbNvxwnu+eSNbL57xWX7LwUgJa4bNKGyPNjC6337ZmWD5fhIYql3sWUcVXiKekfG6iFlFic0FE/tImN1Y2jFFXZL0gX3rSkBlGs0AJHSJhR/llSmsJKzrtaiKuUzMKrxSWaO0xv+F+rL/nTKM062jDMY/UFRUvQObQGqEiy43Y//7WVee/L9y34evWgiH+oN89ef/+a4mQiB4COfuYWPfuaW8cds22x/eg+9HVk59s4z/bz043dHgxaHy8BMW4QGo0SGYqPiXKqmcOtH1rJwxfjdh1LK7NifGDv2i0XMQgNR/tcXv42qjb+EI4TgY5+9jQd+5aZxX7+YOS1VrN7aylPfeoM9bx7j0K7TBCu8ePwubFsSHowSGoxhj7QQq5rCtoc20LqqMa/3zbpbFvPpL93Lt/7XM4QGopzY384///FjBCq8+IJZ2YpYJMFwf5R0MpuR0A2NOx7eyL2f2pLz3MbD43dx+0PrsUyLH/7zi7zzwgHee+Uwbq8Dw6ljWzaJWJpUMo20JVV1ZWy6Y9llxygFICWuHwQs9jfi0ZxEi/QTmg0k0ntJZo7gNgqb90kpiaXeI2N2F7XvtNlGOPEiFd5fKsoJ2LT6SGbyty1qanXRwVIhbJkmmnwbhzYXQ5s7kqmZnlqD80/9/dFvFqx7AHAZS69y94fNUPyn6GodVf7fQJ2iuhspLUKJZwklfl7E1goe56aiup6ikQT9XcNZ7Y0cTwCWZdPflbtTLRrKUxAroXVlI2tvXsTxfe1EQnHMjEVoIEpoYPyCYn+Zh9seXMejn78Thyt/fVg8kiQRS41b02BbNv1duYM1ISB6UaYnH7Zl88Cv3IQv6OaJb2xnqDecLQbtuLwWzON3se2hDTzyW3eMys3nQtNV7np0E2XVfn7wf17g5IFzmBlrVKxt7HgFlXUB7v3UFu779Na8Wafx8Jd58PrdPPjZW3G4DR7/91fo7wkRGR7/8zu+v43IcPwyb55SAFLiukEgmOOqpNZZzokpctGdCUx7kIHod3GVLUUU6LqwZZjh+E8L1i+cR2IyEP0OXudNOLR5eQOcbHDzLhkz/7VzaC1T0gUjpSSZOcq5wf+JEAZ+520E3PfgMpahCF9RAdNEjpUyT9A5/GXS5tmC2wsMPI4buBptuBcjZZK+yL8hSVHl+3VUpeyKlmOktIkm36Bn+KtFtd9qaiVex6aijnnfp7awZE0zQ/0RhvvCDPZFCA1EaT/eTf/IBGg4dBauGr+WAQR1TbmXvBRVYfPdK1i9tZWzx7o5+M5Jju45S8+5QaKhOJm0haoquDwOyqr9LFjRwIbbl7FoVWPeyVsIwUOfu50t966i+2w/bcd7aD/Rw/F9F4o0dUNj4aq5OHMEMeeVWoshkzFHpOW3serGhWx/eg/H9rQx1BcmkzbRdI1AhYf5yxrYfPcKlm+cj+HUi/oMNF3jhjuX07qqkfdePcz7rx+h42Qf0XAc25I43QaVdUGWrm9h890raF5Uh1Jkd5Av6Gb11lbSqQzLN81HN1QUVeEj/+1mlm+cz/an93Bk12kG+yJkUia6oeIv99K4oIbVW1txui+/Z5QCkBLXFX7NxUJfwzUVgIAkFH8Gj2MD5Z6Hc9ZrSGkxHH+6iMJBQba+PPskl8wcoyf0D9SX/Rm6WkGuDINp9zEQ/V6B4EbFpS9laurXLYZjT5CxugFJf/SbDMUfx6Uvw+e6Da/jRhx6C4rwTnrSlVIiSRNN7qAn9FXi6d1Fvc/Q5uJxrJsVnR+2jNMX/g+SmZNU+38Dl7ESZcLaLhJbxgknnqM79FXSVntR7/M6NuHQ5hW17bylc5i3dE72mtsS27YxMzbf+ftneexfXwYgWOXld/72E9TMGX9pq1CRqBACt9fJkrXNLF7TRCZtkoilSMXTWJaNUASGQ8flceBw6ghFFPwMhRD4yz34yz20rmxE2hLTtHjj6T189UvfxcxY+Ms9fOGvHqG+uSrnfootcJUyq0Cq6SqL1zbTuqqJRCxJPJrCMi1ULRtEubzOSbUOCyGoqAlw1yObuO2j64hHkqQSaWwp0Q0Nj8+Fw6WjKBP7DjcvqeMP/uVXQGaDwfOBi6qpLFyZFYZLxFIkIklM00LV1Ox5eByo2vjnUQpASlxXKEJhZbCFn3e/N+s9YoRwogg3lj2ILaN0D/8Nth2jzPPRkSfd7A1CSomUSUKJF+gJ/T2ygHKlU1+CQ59PKP4U2Vy4zXD8KaRMUxP4bRx6K4IL6sTZtt5uukP/QCz1bt59q4ofp7FsSibmlHmWUOJZLnWpjabeIpragaqU4dQX4nGsw+NYj6G1oKtVI9ocudWVs9X4FpYdIpE5wnDsp4QSz2MV3e4s8LvuQlfrCm86pQg0tRrTGoBLupAkGcKJ54mn3sfv2kbQ/QBOYwmaEiTXtbhwHYaJp/cxGP0hkeSr2LI4Q0pF+CjzPIwQzomdhRAIVYwoa4JxUbZDINANbczPJosQ2WDDcOgwhaU6QhEjGY9Gyqp89HUOZxVYp2jcFy9PZSdwgTfgxhuY2tb2MddnClAUBcMxftAihEBVBV6/q2gxMygFICWuM7Iuyw2UGT6G0hd0HqbCA2aq8RhrCbg/ROfQl5GkMe1+uoa/QijxND7nLTj0hSjCjWn1Ekm+TiTxCpYMF9yv33UbftedxJI7LtKSMAklniWe3ovPuRW3Yx26WoOUFinzBKH4c8TTe6GAvLtTX4BDa7nic5fSIhR/Jk8Lso1lDxBLDRBL7UDgQFPL0dV6DK0Rh9aIplajqRUowoVAQ5LBsiNkrG5SmZMkModIZU4VtdRwMYbWSLnnIWZ6+UURbuqDf8JQ7HEiyZfG3ca0+xiMfZ/h+JMYWhMufTEOfSGGVoeqBBHoSCxsO0La6iaVOU4ifZCUeXLCzst+1+14ilx+yYduXJgATdO6It2ImaSyNkDjwlr6Oq8tdeVriVIAUuK6o8FVxe8tfoSYdaGtrtLwo82yIMShLyDguoeh2E+Ip/cAIEkRS71LLPUeAg1QRjxf8quenkdVgvhd23AZywm472Yg+h0uzjBkrA4GYz9gMPbYqMFYVvOjmGyRgs95K6py5R4lGaub4fiTFAp4ziNJkbG6yFhdxNO7Rn6qIlAAka0ClBLJeZO+yWW/BA4qvL+EQ18w48svqhLEbazCoTWRMk+SNs/k3NaWMZKZQyQzhzgvGS9QQCggbbKNpIU8fXJjaI1U+T6HIq78qbysynf+4yEeSTLYE2JOy+wXNnO4DBavbeb9149c7aFct5QCkBLXHQ5VZ0PF4qs9jAIoOPVWNLWacu8nSQwduWRpRRbVqXEpXscWXPoyBAYV3l8iktyeo+jSKmhmdym6WoffdfcVF4dKKQknXiSVKa6VODcXncOU9F2rBD0fpsL7KGIaHbFzoat1aGo5hjaXuuDv0zH4p5h2bxHvlICZvQRTcB1UJUBN4HdxTdFSW8O8alxeZ7bLJJ7i9Sd3s2DFXFwex5j9Z5cas7HkbAhOhBAsXd+Cy+PM6m9c/SFdd5QCkBIlrgKKcOLQ5yGEQsB1D+HEi4SLaovMjaZUUen7ZYRwZc0d9UVU+T5H5/BfFKwbKWLElHkexKnPv8L9ZLVGkpmjIDQoypF2JtAIuD9EXeD3UGbAhXY8sgW3LoRQCbjuRpal6Rz+y0nJ6U8WVQlQ4/8iQfcDUxaENbbWMH/ZHPbvOAkSXnzsXWLhBBu3LaO8JoCiCJLxNP1dw3S3D3DnI5tomFdY+GwmWLiykd/8i4cQQhCouDa1b2YzpQCkRImrgKoE0NX60b/X+H+bZOZY3rR7PgQ6Fb5P476oc0MIQZnnYyTSBxmM/YBilzvGw+NYR4X3U0xFXYTAoDbwJTyOTdnlp9R7RdW2TBeK8FLmeZiawBfQlKu1NCBwavM5f0sWQiPofgBFeOgO/c2INsv0yuvpah01gS9S5vnYhLts8uENuPnIr95C2/EeQgNRUok0r/7sfd54Zi+6oYEAK2Nhjji/1jSUz5olGl/QzR0Pb7zaw7humV2L4iVKfEDQ1Vo0JasbIITAZaygPvhHk+q8EGiUeR6i0verl0wcAlXxUhv8EmXuDzPZ5w2nvoy64J+gq/VTMikIIdDUCoLuD9NU+U80V/0nlb7PZLtzZtBlV2DgNjYwt/zvqA/+IbpafdUmPYGBQ1845vhCaPhdd9BU+S+UeR5GmSb/HSGc+Jy30ljxfyj3PIoywa6XwvsXbLpjGb/15YdZuHIuxogmh5mxsm2b0RTplDmq/Hlsb1tWzKzEdU8pA1KixFXA0JrGOMoKoeB33QlCo3v4b4o2kVOVIOWeT1Dt/03UHEsHmlJFfdmfoanVDMa+X5T8NmQnRa9zK3XB38OpL53yyVkIgSq8eBwb8TjWk7F6iaffJ5J4jXj6fdLmuZHOjal88lfRlDJcxgqC7gfwu25DVSqu+tO2qvjGlcsXQsGhLaSh7C8Juu9jIPo9YqmdWPYwV3ZdBIrw4jZWUOZ9BL9zG6oSmLbroOkaW+9bzbIN8zj8/hlOHDhH77lB4tEkAoHL66CiNsCclmpaVzWi5PA8uRaQUmIjsWxJyjJJmiY1G+awVbmRhJlB8xrsjvRgWEOjUgGKEChCoCsquqLiUFVcmo5T1XBoGg5VxaFqqEJBEVknnav9OzsVCJnPs7dEiRKTJm12MBD9Lra8XKLZ57wRn3PbZTcRKW1S5kn6I98knHiBjNXD5UsnCqoSHFkW+SRexxaEcBZUOZUySST5OgPR7xBP7x4JRC79+gtU4cNpLCbo/ghB932oSvmM3eyytyMT0xogaR4nntpDIn2AlHka0+rFkjGkTI0z7vEQWUdb4UVTq3Hq83EbWU0Rhz4fRXhm8LwyDMZ+SDJzctzXNaWcSt8v5e0wyoqJxUhmDhNOvEYs9Q5p8wymPTRyTfIjhBNV8ePQmnAb6/A5b8JlrJzWwGM8zheb2pY96qAqhEBRs6Jh19LEKqXEkjaRdJq+RIz2aIhzkRBtkWHORcMMJuOE00kimTRpyyJjW2RsG1va2JKLzj+rkaIKgaooaIqCrqgYiopHN/5/9t47Tq6zvvd/nzK9ba/aIm3RqkuWrGJZtmxjXDG2MRBqAj8S8iMJL7jkJpDc+7s35eamwA0p/IAAoZhqjA0GF9yrLMnqXdt7n52dXk557h9ndqXVrqSVPZJW0rxfr33t7syZc87MPOd5Pudb8dntBOxOSt1eKtxeqjx+Kj0+ytweip1uvDYHDkW5oj47WMACJJpJMxSPnn/DPDnDqahUe/0oF1gh72KTNnT6YxEM89oxywqRIa33kswcIqWdsIpTSTKqXITD1pAtNrYERXJzYeH5AsOMk9bbSGQOk9Y6McwIkqSgykXY1XqctqV4HU3U+2uwKZfXSDpVydQwo+jGOLoxgmaMohkjGGYIw4xlK7eKbHE1J4rsRZELrS6ucgk2pRxVKUGWfUjMr6T16Ywl44RS8+vzcT7cNhtVHj/yO1wohDAxRdz6LPR+MsYAmj6EboaygtdAQkWWPChKITalHLtShU2txqaUnVZd9spasC43Qgh0YRJMJuiOhDgSHGH/2BBd4QlGk3EimTQZQ7/ozTAVSbLEid1OkcNNpcdHQ0ERywrLaAgUUe31U+BwLXhRsmAFyPO97fz568+gL/BqllcTK4vL+cat9+OzXzo//HzoCE/w6RceZyw5vwqOed451V4/377tQaq8lycjZCHxLwd28N2je3KyqNxQWcv/uekeXGpuqlPmufgIIciYBgOxCPtuv16lAAAgAElEQVRGB3lzqJcD40MMxiIk9IWSxWUhAR6bnTK3l4ZAEatLKlhbWkljoJhilxu7vLAEyYKNAdFMg1A6teDLaV9NRDNpxAJsZG+aJuF0isn0ldPh9krHZ3NgLsx7k0tOStcI5WjsxTLzayKY5/JiWd4gmErw1kg/z/e289ZIP0PxKNoCtsQKIKZliIUn6AxP8HxvOy7VsrotLy5jS2Ut68uqqPEW4FLP3s7gUrFgBUiePHny5MlzqdFMg65wiN/2tPJMTxvtk0FSxvwqES80BJDQNdrDQdrDQZ7sOkGx001LUSnbFy1hS2Ut9b7CyyZG8gIkT548efJc0wgh0E2TE6ExHms/ym972hiMRxagPfidYQjBaDLO6ECc1wZ6KHG5WVNSybvrGrmhspZKjx/lEgYC5wVInjx58uS5JplytXSFJ3ik7TC/6jzOcDx61QmPuRAIxpJxnu9r55WBTup8BWxftIS76peyorgMp3LxrSJ5AZInT548ea45hBCE0kkebz/Gwyf20xOdvGbjnjTTpD08QUd4gl+0H2VzRQ2fWbOZ1SUVF/W4eQGSJ0+ePHmuGabcLbuG+/j64V3sGu5b0IGllxIBhNJJftvTxvry6rwAyZMnT548eXKBEILJdIofnTzA947ty6f2X2byAiRPnjx5LiNCWGW7Nd3AEKZVEVOWsKmKVXZ7AdVtuJIxheBkaIyv7Hudl/u70My335wxT27IC5A8efLkuQwIIRiZjLHjRDf7OwcZnoySzGjIkoTHaac04GVZdSnXNSxicXkRNkUhr0XeHrpp8GJfJ/+491XaJ4PXRJDplUBegOTJkyfPJUYIwb7OAb76xGsc6x/FME2cNhs2RUYAmm6Q1nV+LUmU+j3cs34ZH79lPQWec/f8yTMTIQRpw+AX7Uf45/1v5F0uC4y8AMmTJ0+eS8x4NMFXf/06h3qGWVQc4MEtK1lVW4HXZVWgjSbTdI+GePVoJ3s7BvjBS3tJaRqfe882HLb8tD1f4rrGtw7v5jtH9xLVzt+wL8+lZcGOZLdqp8YXIKVraKZJxjTQDAMz2+rY6gy5EAuHL1xkSUJGQpKsv1VZwZbtumiTFSo9PuQF2JzKpigs8gZQZBnttI6SumkisMZBfixcGNY4kJCzY0GRsuNAkbHLCtVeP+oCa0p4NXFyYJSTA2O47DY+955t3LamcVaDus3Ntdy7YRnff3EP331xD0/vPcnd61tYVVd5mc76ykEIQUzL8G8H3+R7x/aRvkIrmV7tLFgBsqmihh/f+UFSukbK0EnpOilDJ65liGsZYmf8Pv3vxGmvSRvW6zTDQBfWoqWbJro41Qp6oS9cU9OSlF0orFbN8vSi4VQVHIqKU1FxKCou1YbHZs/+2PBO/23Ho9qn/3eq1mumfntsdtw2+2V9r3OxyBvgG7fdT0LLzBgLCV2b/t5jmTTx0/6f+n36a6bGQsYwsuPg1Jgwr8ixIKHKMqqkTI8Ju3LqO7XGgjr9vU+Nh6mx4D1tTLhU24zx4FZtFDvdl/W9Xs1Ek2l0w6DY56G5umTO7riSJOF12nnvphU8te8Ew6EorYPjeQFyHoQQRLUM/3pgBz84vo+0kQ82XagsWAHiVK3W8OfDqmQnMAXTd8KGMMlk75SnLCcpQyep6yR1bfonml24pn7HsuIlMfVb10gbOmnDIKXrBFPxnOWLu1UbhU4XDlmxFo3spD/148ouEFM/PrvDEgiqDZdqw6WqOFUbTkXFLivYFMuaYZcVFFm2rB1Zi8fU5Hal+o5VWabc7T3vdlNVDafGgfVjzrCgZUyD9BxjIZYVLNHsOIhl0lmBo5HQs6JW18lkx8NEOkFSz81dlUNRKXa6cCgqdkXBmRWR7uz37c4KyqlxMDUm3DYbLsWG87TxYM9ateyKZdVSr7KxcLVQ5vfitNtIpDOMR+LUlhTM+Z1IkoTTpmJXVUxTkEgvrO6rC5GkrvGNQ7t4+Pj+yyo+HIqCW7Xjtzvw2R0E7E68dkvsOxQFRZKRkBBYa5ZmWutWytBJaJnpuSepayQ07dTN01XUoHXBCpD5IkkSEpYp+XQ8F9jtemrxMoSJYVoDwhAmmmGSNnRC6SRfePUpjofGcnLe9y5u4Y/XbJ5edGyygiJJKFnLhpJfKC4Yayww593khTBlGTOyYnZqPGimQcYwSOo6X973Kr/pOpmDs4bNFTX8f5tuxWOzzxwLkowiS9mJKj8WriaWVpdy47J6nj/Yzvdf3IvHaae6KIBNkbHsXJaATqQ1XjnaychkFJuqUFEwU4inNJ2xcGzeFTwdqkpZwIt8xoQZTaYJxRLIskxZwItdVeb9XoQQhOJJosn5xVhIQIHHhd/tnPcx5kvG0PnesX3857E9l7SBnCJJ+O0OFnkDNBeWsKyojMX+Qio9PgocTjw2B/bsDYEizbwRmJpvzNPcyYZpogtB5jRLbyidIpiMMxSP0hcLMxCLMBSPEkwliGRSpHUDc8HbcGdyxQuQXHFq8VKwzeH69todONTcfVwFDie1vrnvevJcXqa+E1WSUJHhjLnYECY+e+4mT6/NTq2vALsy/0k/z5WNx2nn8/dtoyzg5YVD7Xz2W7+istCPQ1Wm/WyGIQgnUwwEwyTSGqvrK1lTXzVjP22D4/zFw0+TzMzPMrK8ppy///hduB0zXa0vHmrna0/toMDj4u9/926WlBfN+72YQvDjV/bzy11H57W9JEn8wbs38f6tq+d9jPlgmCZPdp/kG4d358w6eS5kJIpdblaVVLCtqo51pVXU+Qvw2x0okrWIzGd+n9pGQUKZ2nx6KnDM2PZU2IBAM01imQwTqQQD8Qhtk0FOhsZomwwyEIswmU4u+AqveQGSJ0+ePJcYSZKoKPDxqds3MhqO8eyBVkYmY7O2m6oJckNLHZ+5awulAc+M530uO6sXVxKOp0imNZIZjeHJKMFoAlWRqS0pwOty4LLbcNttNFeXoswRXJzMaIxF4uimiWFc2KIlSRK1pYWsrq8kkT2HeCpD71iItG7gdzmoLg7gstus83DaqCj0XdgHdh6EEOwe6efLe18nnEnldN9nYpNlmgtKuKOumdtqGlgSKMSl2i7JzeTUMSQkHIqMw6VS7HLTVFjCzdWL0YVJXMswkojRNhnkwNgQh8aH6AiHCKWSGAvMfZMXIHny5MlzGZAkiSO9w7x2rAu7qrJ95RJW1VXizKbZShK47DaqiwMsKS/C53LMWuTqSgv5n79zO6Zpme0NU/Cd53fz3Rf2UOLz8L8/fheLiq0MMkWWpuPDcvo+gHs3tHDndUsxs+cwEUvwue88QftQkK3L6vmLh25FUeRTbmYldxlWAuiLhfmHPa/SHwvnbL9nosoyK4rK+GDzam6raaDM7c35Z/lOkCQJm6RQ4HBR4HCxtLCUu+uXEtcy9MciHA0O88ZgLwfHhxiIRS6pi+ps5AVInjx58lwmIok0Gd2gqbKEP3tgO8U+K/NovnfTkiRhU5QZbkKnTbXcybKEz+nA63Sc9fW5QMqWi7fLMHUimmFMW1rsqnpR4j2mSGgZvnZwJwfHhi7aMaq9fj7aspYHG1YsOOFxLmRJwmd3sKyolJbCEt7bsJyxRJwjwRFeGehi13AfvdHJyxasmxcgefLkyXOZWLaojJqSAsYjcXrGQhT53FfM4rYQMIXg6e5Wnug8flECMG2yzE3Vi/ns2i2sLK5AkRdipaT5MWUhqfL6qfT4uKVmCWOJOPvHBnmut51dw30MJ+Yf0JwLciJAhkbCuFw2/F7XrOjqi4EQgmRKI5HMAOB22XG7Fl79iisVIXRAxzKu2pCkfEGqPHkuBnWlhXzuPTfyv37+In/zsxfY0LgIgIDbSXN1CWsXV1EauHLuuC8lQgjaJ4N84/AuEnru05P9dge/t/w6PrF8PYUO11WVMHCmGLm9tomeaIhXB7p5pruV4xOjl+Q8ciJAHntyH0dPDnLTlma2bFhCVUUBqiJf1C/s1Tdb+cnjuxEC7rl9NR+4b/1VNUAuF0II9NSzaIlHkOQCHP4/R1LyhY/y5LkYJDIZDvcMk0hnGIvEGAlHsSkKKU3HNAVNVcX84R1buHF5/ZzBo9cyKUPnO0f30D4ZzPm+S10e/vS6bTzQuBy7rFzVa4skSdgVhcZAMY2BYt7XuIJ9o4MEcpjpdzZyIkBSaY0jJwY53jrE40/tZ+O6erbfsJSWpgrcLnvOv7yp/fUOhDAMk7aOEQzDRL2A3PU8Z0NgaAfR0y8iyeXYRb55U548FwPTNHli9zEefnkfiizxoW1r2b6yAY/TzuhkjMd2HuGN4938w+MvU+S7m1V1FZf7lBcMQgh2DvXxdPfJnDteyt1e/tvGW7irvhmbfO2sKVPraoHDxS2LllySY+Y0BsQwBUMjYX71zEGef/UELU0V3LJ1KRvW1lFe4keWpZyJEafjVNpTOJrEMEU+oCUnmAjj0pjf8pwdq9dRBoGJLNmQUKaLFgk0TGEgSwoSp64DU+iYQssW5puZMWG9zkAzI+hmFBAokgubHJjeVggDU2RAUpCZnVZoZp+36uXYkaS5J2chzOy5iznP5fRzAhPdjKGZUUx0JBRU2Y0qec76uquFiViSJ3YfI63p3L9pBZ+990ZcdquCoqgRNFeV8tlv/4qO4SC/eesYy2vKLroVRGSLYC10wpkU3zm6h3Amtw3mip1u/tvGW7i7fuk13QvpUl13OVmzW5oqOXCkn8HhSTTdiqaNJ9LsPdjDgSN9VFUE2LKhgZu3NNNYX4rT+c5ypoWw2lWTDZbRT/s7zztFwzRzb9LMc2EYIs7xiX8ipnWz2P8xyt23ZZ8x6Qr/gNHka5S6bqAh8AfTrxlNvEx35Ee41UUsL/4iqmTVjBBCkNQH6I0+wnhyB2ljAjBRZS9eWwPV3vsodd9IJH2M1tDXKHSuoangM5xZgS2U2kvb5NeRJZWlhZ8j4Fgx67yFMBlNvkp3+EcINMpcN1Mf+AgSM2O0TKETzZxkMP40odQ+0sYYhsggY8Mm+3DZFlHkXE+5eztute6qFCIjkzGGQhEUWWZTc+10+i1YC0BlkY9li8roGA5ycnCMlKbjcVzcWLdkRicUTyKEWLCfuRCCF/s6eWukP6f7das2Prt2C3fVN1/T4uNSkhMBcsctK7huVS37DvXw8o5WjrUOEY1ZxWAMw6RvIET/4B6efekoK1uquXVbC+tW1lBY4HlbQatCCPoGQujZgjlOZ+7dPNcsIgXm5OU+i2seUxhE0scJZ45R5blz+nGBIK51E0rtxXVGbE7KGGUitRfdHkUI47THhzky/leMp3YBArtcgCr7MMwUY8nXmUjtYUngExgiRTC1C1X2Zq0XM8mYISZSe5ElO5oZnXXOQgjCmaOcmPgKca2LgH0lZe6bkZjZF8Ew0/THHqMz/F2S+hAgLGsHCjpxUsYoUa2NscQrJLQ+lhd/CekqtG/q2ZoZsgR2dXacgSxJOGyWCDSMU80zLyYpTWNPez8bm2qm20EsNELpJD9tPZTTOhaKJPFQ00re37TqmnK7XG5yclWrikxleYC737WKW25soaNrlFd3trFzbycDw5PouokQMBlJ8vrudnbv76JuUTFbNzaybXMjtYuKsdvmF+gjhGBkLMKOPR3Tjy2qLEBV84o1FwiRQpgXr5hPnkuLECYDsV8TTO1GQmKR7wFqfR/ErhRiigyxTCe90Z/TEf5PZGy83X7AQggSej/Hg/9EXOvCpVazrOhP8dgWn+EKMuiP/ZKTE19FFwl8tiaqvHfht7egyG4MkSZjBIlmWgmlDp7VzXM1UOhx4XM5iCXTdI+GMIWYke2SyGgMTEQAqC4O5LQVxFkR8NTeE2xurmV9w6IZN4hT/bIuZ18iIQSv9HflvObH+rJq/t9VmxZkN/CrmZyOaEmScLvsrFxWzYqWKh56z3r2HurhlR2tHD05RDSaRAAZzaCta5T27lGeePYg162qZfsNzaxevgi/z4UkzT3ATVMwODzJt374Gu1dVpyC22Vn3aravAXkApnyvyNSCBEHoQEmptGDEFN3twbCGMEkd4WMJLkQST5/Z9s8ucEUGSZSexEYuNVaGgJ/gEutmr5e3GotBc41HA3+LcPxZ9/WMYQQZMwJTob+mVB6P3a5kKWFn6PQed2sOJSo1kFn+D/RRZxi50ZWlPx3PGo9cOqaF0KAB3QRQzfjSFydNxdlAQ/rFlcxOBHhyT3HWd9QzfKachRZJqXpPLv/JEd6hrGrCusbFqEZBrJsNTI7/XM1TZNkRiejG2R0nUgi/bYDM6uLA1QW+vjrnz3PQ1tXs6FxEQG3k4ym0zs+Se/YJA9sXonPdXGLm52NqJbmsY6jObV+FDlc/MnaLVR6fFdsjY8rlYsiqacq45WX+rnr1pVsv2Ep7V2jvPpmG7v2dTIwNIluWFaRiVCc5189zuu72mlcXMrNNzSzef0SqisKUFUFIawLbGQsws69XfzmuYN0do9PF0tZv7qWVcuq8wLkAhBCw9AOo6eex8gcQJijCJHCEiQawpywtjNDJEOfByl3w8Tp+zNs7vtztr8850agZ4NOwa4UYFMCM64Vq4JlIfX+DxNM7kQzIxd8DEMk6Zj8FiPxF5ElB0sCn6TCc9sc9WMEw/HnSOqD2GQ/DQWfwqPWz7p2p/63ST5scm57hiwkHDaVj26/jtbBcdqHx/nzHzzFytoKfC4Hw6EoR3qHiaUyyJLEwy/v47kDrdy2pomHblg1wz3SPRriK796lWA0QSKdIRhNvO1zWlQS4LP3bOUfH3+Ff/3N6/icDpx2Fd0wiSbTOGwqaxdXsaqukssx5R4YG2Lf6GDO9icB71myjE0VNfk15DJw0W16U1aR1csXsWJpFe+/bz37DvXy0hsnOd42RCSaRIhTqbzHWod49Nf7uH5tHdu3LgUkXt/Vxp4D3QyNRqYbJUkSrFhaxac+sg2v5/Ko8SsRYcbJxL9NJv4DhDnOuU3uBsIczu3x82m9lxQJFbtcCEDaCJI2xlElzywR4lHrcSrl8xYgAjNrktfpjf6M3uijgKDG9yC1/g8iS7NN2bpIMJHaAwg8tiUE7Cuv6UlfkiRaFpXxdx+7k5+8doC9HQPsae9HMwwcqkqxz01Z4JS1cCwSZ2QyOiveXjNMJuMp0pqOIsuUBbyUBaC8wIs6zw7LAbeTJRVFNFeVsrS6jL/58B386JV9vHmyh1AsiSEEXpeDykIfaU2HaWfMpUMzDZ7sOklMy+RsnzW+AB9tWYtDufpijK4ELumnrigy5aV+7rx1Bdu3NtPVM86OPZ28tb+L3oEQiWQG07RiPH7z3GGef/UEYImT03E6bNy4qZHf+50bqKkqvKYnsQtBCINM4meko18DLm7HyDwLA1lyUOq+ifHUmyT1ITomv0lD4Pdx2RYhowKWtVKW7Ciya177NEWG/uhjOJRiYpkOOia/gynSlLtvobHg0yjS3PvRzSgpfQQAl1qJLNkxxflN6RLyVVuNV5YkmipL+IuHbmUimiAYTaDpBk67jSKva5aAsKsKyhmB+w0VxXzt0/fPEiayLOF1zi+m4dbVjWxeWofDZu2/piTAf31gO+OROMFoAsM08TjtlPg9l8390h8N88ZgT872J0sSDzSsoCFQlLN95rkwLovskyQJl9PO8qVVtDRV8L57r6Oja5Q33urgjd3tDI9ad2FnCg+bTaF5STnvvXMNN25qwuPOZ79cCMIYQkv8mBniQ3IjyaVIkgckGYSGqXcCGqAiq4tBymUMSP5iv5RIkkSl5w4imeMMxH7NQOxJQqkD+B3L8drqsctFKLILgUnGmG/wsWA4/jyT6cOYIo1mTlLgWM3Sws9hl4vOek2aIo0hrLEXTh/h0Ph/53x30RJQ7nkXlZ53z/9NX2FMNZQrL/BRXnDhLidVkSnwzE88ng2HTcVhm7kcqIpERaGPisLL7wYTQrBzuI/B+Ozsq7dLtcfPvYtb8hVmLyOXze4khEDTDIZHIxw+McDegz20do4Qmpzpv5QkicKAixUt1dyydSnrV9dSEHDnhccFIoTAyOzF1Luzj8gojhtxeD6FrDaC7EZCxjSGSEx8EmEMIMlFuAq+bImQXDHH3XEqrfHYswcYm8ite8ZhV3jg9rWUl1z+CfSdIN5hrUebHKCl6AsUOa5jMP4U0UwHY4nXGBEvcroLTjC/jph2uZAS12aG489jksGhlNFS9IVZGS+zkablRkLvI6H3zet4blvdVS1Ack1G0xkJx/A67RR4ro4eJilD56X+TgyRuyJpt9U2sDhQmLP95blwLqkAEUJgGCbjEzEOHRtgx1vtHDkxyPhEDNOcOcm6nDYW15Vww4YGNm9YQt0FpOrmmQuBoR0GLP+prDbgDPw1sjJz0ZDMOExnHUgg+5Dkgot6ZhnN4JnXjtPeM5bT/Xpcdm7e2HTlC5CzuilM5uOLtxpP+ajyvocKz+2kjDHS+ihpM4RhJjBFBt2M0RP9GUl9fsWd6vwfQZW99EUfQ2CQMSYQGOes16FIThTZC8YoXlsT1d73nNW1Es20MRj7zXQl2DzzQwjBr3Yf49vP72ZJeRF/9aF3z4gjudjHNoWwsqJ0I6d1S/qiYQ6N5y4ezW93WNVOr1LX3pXCRRcgU4MwEktxsn2YN/d0sudgj1U1VZt5xyXLVubM2pU13LS5ieVLqwj4XNmsmot9plc7OqZxKnpcsV+PrCyMyG9Zkigu8BCNz45LkZBQVZlUWmM8ZFlIFFnG7bLhdNjOWcjO47Jjuwr6A+nmTMuQwLoL1EUyu+hnJ9HpCX/uz0SSJBTJhUeuxWOrnfGcZsYYSbwwLwFioiFLNpoKPoMhkgzGnuJY8B8QwqDc8y7ks2RNqbIPl1pJXOvEJnup9b9/ziwXIQQDsV8xGPs1EjIOpeS855THQjdN9nUOMByKEkmkGAiGL5kA2XGihzdOdBOOp5iIJegP5qaekBCCA2NDjCVzZyFdVlTG8qKyBTH/XctcNAEihCCZ0ujuC7J7Xxdv7u2kuy9IMjk7gtnvc9LcUM5Nm5vZsKaO8lI/qnpxu+lee5gIcSrDQVZquIweuBm4XTa+9Ol3WyX1z0SS6B8O8c2fvkEskWbT6nq2b2qmflERnmyjw7ONEkm2hM2VTsoYZsrSYfVzsfzgaWMcw0wiKzari7FIYFUVtVvxPBeAbsanM2AUyXHO2htCGBgiiV0ppqXoTwEsETLx95hoVHrumlOEKJKTYudGxpNvEte6iWU6KHCsmXWdCwzCmWMITGxyAT5b4wW9l2sZRZZZUVPOzpM9VBUFLpn4ANjXOcDjO4/MeMztsE1Xc3276KbJruE+9Bz1qJGA7dWL8eaLjl12croCTcV1DI2G2Xeolzd2t3OyfYRwNDlrW4ddZVFVIZvXL2brxkaW1JXieoc9YvKcCwHT/lMJFlCjL1mWKSue200SiaV49JkDdPSO8fEHNvE7d6+/5sZJJNOKZoaxyQVoxiQJrReAhNZPTOugQF6LwMg+bpVaP9NtYZgpEno/LrUSRToVQ2Wl0pqMJ3eQ0C0LmdtWy7ndOqbV9E6ScMwQIU9zPPhPmEKn2nvPrFRcSZIpd99Kf/Qx4novXeEfsKL4S9iVktPOx2QyfZjRxMsAFDrX4bFfms6cVwOyJPG+G1axsalmOm32YpJMZNj7ZjsDPUEme0bYkPYRKHCzuKmcpuVVBArcFPnc7+gYE+kkh4O5db9srpx/8cqMpnO4bYh4KoPP7WBlY+UMy6oQgs6BIAOjYWRJYml9GaWFcws/IQSabtA9OMGxzmEGxyKYpqCk0ENLfTlNtaW455jfdMPgSPswkXiKJdXFVJcFpptTdvSNMzgeobTAQ8vi8unXDo1HaO8dw+W0s6a5asY5G6ZJ3/AkB1sHGBgNYxgmhX43TbWlLF9SjtftIBJPcaR9iIDPxfLFFTOszYlUhkNtg2Q0g9qKQuqr5k4u0A2TI+2DROJpivxuli+ZuZ+cCBDTNAmG4hw9Ocjru9o5dKyfsWBsumbHFJIkUVTgZvWKRdy8uZlVy6opKvTktEtunrMhIU1ns4hsBdSF23BqiiNtg+w53ENTfRkPvGsNbte1dtcioxlhOsLfocy9ndHEK8S1XmTJgVMtpW3y69T7P4ZmhhlP7gDAa29EPq35mxCCidRejgb/Fo+tnmLn9XjtTdjlAIZIMpHaT1/055gihU0OUOzcdM4zOtOzb5eLaCn8L4DEYOxJTk78H4TQWOS7f5YI8dhqWRz4XY5PfJmRxIvoIk6V5x48thqr/03mGH3RX5DUB3Eq5Sz2f2y6qV6e+eGy22iuLr0kx5oYi/L1f3qa4Ghk2gMoSRKHna00Lavk/b+7laobKt7RMXqjkwzGcpf9Uu8vZLF//sGnoxMx/u47zzIcjFJdVsC//NcHqCwNTD+vGyY/+M1bPL/zJLIs8fmPbOeBW1fPtuwJwfhknB8/vZfndp5kIhzHyMY+ypKE1+1gw4oaPn7vRpbWl80oy59K63zj0Tc43DbIn3zoJj747nUAmELwq1cO89gLh7h1YzN/9Yd3Th/3raO9fPkHL1JbUcjXvvgQAZ+VAKDpBr/dcZzvPbGbwfHTa2tJuBw2Nqyo4dPvu4GewQn+5lvPsnFlLX/7R/diP61HjvWZPMdEOM7vvmcTv//gljk/u3RG5+s/f4Mj7UNsWV3P3/3JvdjlU7IjJwLk6ReO8MgTexkYniSTmR0w53bZaagv5cZNjWxct5hFVYX5gNJLjoIkn7rorCJkJmd2PF1oHG0dIpXRWbakYvoCupZQZQ+LAx+jM/x9eiOPYIo0AoMix2YaCj7F0fG/Yf/o5xGYmCKDQyml3H3LGdeWSVRrQzMjjCVfZyz5OrJkR8aGwMAQaazuuD7q/R+lwLnqgq5NSZKwKyW0FH0BwBIhoa9iCo0a/0Mop6VxS5JCtfc+DJGiM/w9xpNvEEzuyq0aUwkAACAASURBVAoVkT0XgVutZWnhZylyrs/PEwsYIQSGbi1gsixNB6GmkhkO7+uhvzfIH/3Z3Wy9bfnbbjx6YmKMuJ674mOrSyrw2+dfWmBwLEwwnEAIwVgoSv9oeIYAiSXSdPaPY5oCwzRp7R3DMAWqMvP9jk7E+MrDL/La/k5sqsKyJRUsripCUWQGx8Ic7xzhxd1tdA0E+dInb2d1U9WMsW8YJrphzkrYMEyBbpgYZ7iohCnQdcNqZDj1mBAcODnA1x55nYlwgtJCD5tW1VNdFiCZ0mjtHWP/8X7+9tvPUhzwkExrGIZgroKVhmGi6SbmOV1jYvq8DXP2PnIiQE60D9PVOz5zx6rVoO76NfVs3dRIS2MFXs/CMftfe6hIyqLp/0y9F6vWxxkCRJKRZD+YBUhyAOkyC5TxSSvwzHK7XNZTuaTIkkqR83r8Yjnl7ttwKKV0R35I2gjity+lIfApfPYmVpT8JZ3h75PUB3AopdT6PkDAsfLMvVHr+wAFjtUEkzuZTB8mZYxgmEkkScUm+/HZGin3vIti5/UzBMN8sUq6F9FS9AXsShEJrZdw5iiFmXX47ctmXPeK7KTO/2EKHGsZij/NZPowmjEJEjiUYgod11HlvQuvrfGqLUB2teALuPjgJ7dhtyvYbCrxeJrWowPsfbOdcChBaDzGd//9Bapqi1nSXH7B878pBIfGh6dbb7xTVFlmXVnVDOvCuRBC0DUQJKPpLK0vp7VnlLbeMTYsPxXAPzoRYyQYo6osQCyepmsgSCqt4XWfuo7SGZ2Hn3yL1/Z34nU5+IP3beHdW1rweZxIWKUIdh/t5V9+/ApdAxN8/edv8L/+6J6cx7AZpuD5XSeZCCfwuuz8l4/dyk3XNaAqsiUc0zo7DnXxbz99lRPZfmsXk9w2owP8fhfLmyvZtrmJ61bVUlbiQ1HyAaWXG0mSUGzNgAMkm9XfRaRAcs7cTi7GVfAVEBmQbEhntHy/1KiKtQANj0XQdRPbOwxou1JQJDdLiz4PgIRCuftWip0bMUQKm+xDlpxIkkSxcwsFjtXoZhxFdmfLrM9ctCVJQpXcFDrWUehYiynS6CJhxXEgo0gOFNmDxDuzSk6LkMLPT2fqnC2YVZZUChyrCDhWYJhxDJG03qnsQpXcQH7OuBLwF7i5/0OWy24qJkHLGOzZ0cbX/uEpxkciDPQFefxHb/LHX7oH5wW6UBO6Rkd4Imfn67M5aAwUz3tsGaagvX8cWZZZ01xF9+AEJ7pGMAwTNRtT0TM0QSyZ5voVtXQPBhkORglFEjMESFvvGM/tPIlpCu7Ztpz3bl+N/bS5zOW0s21dA6FIgq88/BKH2wd5/UAn992c23YFmm7QNxwCoKLEz3Ut1dNzrFUg1MYtGxoJR5P88w9fJjNXYkAOyYkAcThsNDeUs2X9Em64voH6mmKc11ig4JWAYluLM/CXyOoyq/iY5J+1jSTZUWzLL8PZzU1NhVWDZO+xXvYe7eX6VXUoytV/V2xl95x+eUrYFD82/LO2UyUv6jw6DFvXo5WKq3Bx3FnWMZR5Wc6s96ggz/G+8lwZzNVI0O5Q2XTTUkaHw3z7q8+iZQx2vnKSW+9ZzbqNSy5oXQilkowkchf/Ue72UumZf2BuMpWhe3ACh11l+ZIKXt7TTtdgkGgiTaHfbbmIukcQQrB8STnxZJqB0QEGxyLUVFgubyEEbx7qYjKaxO9xcvvmpTPExxSyLHHDmsU88uwBOvrHeX1/J3fc0ILTnuM6ONMB36dl7s84D5nNq+spL/bRNzKZ22OfQU4EyIN3r+MjD24k4He/LT9fnkuDrC7Crv7e5T6NC2LNskUUBtxMTCb4+28+y7YNjTTWl+J22s/rklEVmetW1OL3Os+9YZ48eXKKosjc/O6VvPzMYY4f6icaSfLCk4dYua4Ou33+y85wIkoonbu+VdVe/wXFf0xEEoyMR/G5HdRXFVFR7KNzIMhIMEqh300qo9PeO47DrtJcV0rfyCTpwz109I+zcaWVaaPpBse7rB5IZUVeqk6LHzmTAp+bxdVFdPSP0zM0QSSWwlmUOwFityk01pSw71gfQ+Nhdh/t5baNzdNWkCl8bgeFfveVIUCqKi5upcw81y4NtSXcd+sqfvrkXkYnYvzi2QNW1tQ8XutxO/jqXz6UFyB58lwGAoUett66nJNHBjBNwcHdnQz1T1C3pGxer7cK0kVI6dr5N54n9f5CbPL83bhDYxHCsSQNNSWUFfmoryrmUNsQXYNBltaXMRlNMjA6SaHPTWVpgLrKQsxsauxUIGo6oxPMthgJ+Fw4HWcXFIoiUZJN4Y0lM0QTacqKcpdKLUsSd96wjB0Hu+gbnuTff/oqXQNBNq2so6zIh9tpQ1FkUunzN4nMBQujElWePGfBblP56H3XU1rk5elXjtE/Mkk6o8+rzLOqyNdU4GqePAsJWZa4/sYmfvnjnYyPRhgfi7L3zQ5qF5fO2w0zEItg5CgAVQJqfIELCkDtHAiS1nSqSgN4XXaa6koBwfGuEe7YsozBsTATkQQrGiop8rmprbAyPLuHJkimMvg8Tkwh0HRrQberyjmPLyFNNwW0skxyG4MhSRIt9WV88RPv4juP7+RY5zDfe2I3jzy7H5/Hidthw25XUWWZ7sHgvPb5Tr6dvADJs+DxuB08cPsabtuylNFglEgshW6cvyqioshUl+etc7lCQkGRHMiS/ZyVUvO8PTIZneBYFDM7tj1eJ4HCuRtvCiEIBWMkE9neTrJMcakX+znurqdel0pmGB0KMz4aIZXUUBQZr99JSZmfohIfNrsyHVAaj6aIhBNIskxxqe+C3CcAVYuKWNxczvhoBGEKdrx0nDvuW4fHd36rpEDQG8tNOXcAm6xQ6fZdUABqW+8YQkB9Nl22qaYEt9NOR984qYxGZ/84ybROY00JDodKZUkAr9vBSDDKRCSBz+NElqTpImAZzThnRo9AkM6WslAVGfscrSTOTMM97cXzEgOyLLN+WQ2NNaUcaR/icNsg3YMTTMaSpDM6mm6Q0DJo85hjwQpsfbs1pS6qABFCkNEMItEk4UiSeCKDrhvIsoTTaSPgd1Hgd+NyWhdNLoNWo/EUyZRGYcB9VfQDWehYFgkdYYatku9CIMmebCO7d55+LUkSAZ/rmqwFslAodK5jffm/AjI++9LLfTpXHW3HBvnK/3icVNJyOWzc1swfffGeOTO/0imNr//j0xw9YFXFtTttfP6/38ea68/euVrL6Ozf1cmTj+6h7fggsUgSXTeRZAm7XSVQ6GbF2lrufGA9y1YvQpZlfvXTXTz56B58fhdf/N8Psbip/ILeUzScYGz4lIjoPDlC+8khVq+vP++coJkmo4nYBR3vXNgVhVLX/NNak6kMvUMhVEWmvqoISZKoLA1QUuidznRp6x1DkSWa66zCYUUBFyUFXroHgwyOhrMWEZWigHXccCxJMq3hOotQNAyT0ZAVdOtzO/B5Zgu1tHaae+S0Eh2abmCagqlwjnOJEUmSKPC52Lp2MTesXYxhmGQ0fbrOSCKV4a+++QwHWwfPsReLiXDcOq4yl1A+93lcFAFiGCYDw5Ps3tfF3kO99A1OEI2mSKU1TNNSSnabgsfjoKo8wLpVtWy5voHFNcXTqU3vBCEEP//tfl7f18n/+Mxd1J2lTGye3CCEjqEdQks8gpHZjzAnAUuAyGoTNte9qI5bQPLmM6OuEAzTJJ7MMBlLksrekdltCn73GnxuB6qct4DkEiEEXW0jDPWHpu9wTxzuJxZJUlg8O8MpHErQdnyQ4Ji1WEmyREfrMKs3zL2w65rBk4/u4cffeoVwNh5hGsN6PhFPM9QfYv/uTj78qZu56fYVHNnfS3AsiqYZc/dqOs97OrCnm4HeU6b8eCzFzldOsnJtLcp55vq0oRPO5C4A1aXa8F1oAOpEFLfTPh04GvA6qa8s5K2jvXQPTtA9OIHHZWdxtSVQ3E471WUBWntG6RwIsnl1PXabwtK6MnYc7GJkIsrgaJgi/9zl6UORJF0DVtrxkkUlc8avhaNJhLCSWQRWqXiAaCKNphvTN9y6YSAgW2l87vc41UtLVpUZN+qqqkxnyJyvUnnnwASReIrCOd6Tphuk05agtqnyrCSVnPeCCYbi/PrZg/z2pWMMj4bPai5KpTUisRRDI2H2He7ll88c4I7ty3nwnusoKXpnC5VpCnoHQwyPhS/4osljYeo9CBFHVhsA+1m/DyE0tOTjpCNfQZhDM58zwdQ70NOvYHO+B4f/z5CUUs7XPj7PKYQQvLivnd0neqcfa1pUwv03rkRV5p7ATSF4ZtcJDnacunupKy/koZvXzJn+dzqGadLWP84zu0+wv22A0ckYqYyOhCVACjwullQVc/PaBrYsr8PntqxbvSMhHn3lEGlNZ0llMQ/etOq8lse+0Ukeefng9ARaV17IQ9vXzGl2vtoxTUuATN2gCSEYH4kwOhyeU4AMD4QIBS3rgCRLCFPQ1TqCaZizFnYhBEcP9PLjb58SH06XjWWra2heUY3P5yQRT9PTOUbrsQHGR6L85789z8jgJL1dY2/7PSUTGV599ghaxsjWggJdN9mzo537P7yZ8spzu0fThkEkk37bxz8Tl6risc0vo0QIweBomEgsRUWJj5JsQbCpCqav7e9k/8kBhoNRSgu9lBf5p59fXFXES0Brz2jWMiCzZU09v3jhIJF4it/uOE5zXSl228zl1zBNXt3XQf/IJA6byvYNjXNeC/2jk2i6gcOuomkGoyFrHIxkrTJupx0hBJPRJMIUuJ32WVkuQghMIZCl2eJCCMFIMMpI0BK3fq/znHEr3QNBdh3p4d2bW2YIDCEE/SOT0+dXVuRDOePGJWcCRAhBd1+Qr333ZfYe7JnVB+bcr4XxYIyfPv4WbZ2j/PEnb6GuZv7FYs5E0w0mo4nzb5hnToTQSMf+f/TUy6jOW7B7PoqsrphzoBrpN0hH/hFhnqNqnkiiJX+BJLtx+P8CSbq4WSlTAapTdwlXstVFN0yeeesEL+5rn36spbaMW69rOmuTr1RG49dvHmP38VOiZXFlEbdvaKa04Oz1QjTd4Kmdx/n2k7sYCkbmNJ2OTcZpGxjn5QMdbF1Zz6fv20JDVTF7Tvbz0xf3Y5iCLSvqeO+NK7CdpxZIMBLnl68fJpGy7pCuX1rDA9tWwTUoQNJJbXqxr64tYjIUJx5P0ds5RvPymSW5hRB0tY+QTml4vE4KSzz0dwfp6x4jmdTw+mZ+fqZh8sKTBwmHrDnR4bTx0U/fwl0PrsftcVh3xwI0zaCve5xf/mQnLz99mMd+uOOC5vHTEULQ2TrMsYN9AFQuKsTlcdB2bJCh/gkO7+2h7J7AOa/NhKaR1HKXAeNQVJzK/FNauwatANSyIh8+96k5q7m2FFWReeNAJ6FIghUNFfg8lmVFkiQWVxejKjK9wyHiqQx+j5Ol9WXcen0TT7xyhKfeOE55sY87ty6nwOdCAuKpDDsOdPHwb95C0w22rVvC5lVzW7Pae8c50jHEmqYqWntH6egbR5Is985Lb7Xx0LvWkspYDfQEUFrkxXFGLZHRiRiPvXiQVY1VNNWWUuBzoaoywhSMTMT40VN7GAvFkGWJZYvLz1leQ9MNvvPLnbgcNtYvq8HltGGagqHxCD98ag/hWAqbqrC2uXrWa3MiQIQQDA5P8s/feJ6DR/umJy67TaGkyEtZiZ+h0UlGsubClsYKqioKCIZiDI2ECYbiGNla8W8d6Oar33qBL/3JXZSXXVhxoilVl0rrTGY78BqmuOCL6FpvjmfqPejpVxHmEFriZyhqC7K6YvaGIkw69h8zxYfkRpKLABlhhkFEsAyFBlril6jOu1Dsmy/q5yuE4Levn+BY2xAffs8GKsvOnne/0Ikl0/SNzszFH5mIMjIRPasACUWT9I/NfE0wHGc0FDurADGF4KX97fzrY68xGTtl9pZlCZ/LgdtpQwhrokykMqQ1nZf2tzMcivLnH7qVgx2Dc/Z6yDM/wpNxRget76x5eTUdrcPEIqO0HhvgtntmNjYzTUH78SGEgMISL83Lq+jvDjI2HGEyGMN7RoBnLJqi7fgpa1jD0gruvH/dzO0ksDtUljSX84dfuBOHQ+XJR/fMWahqPpiG4PUXjhMNW6Jn6cpqyioLaDs+iJYx2PHScW68bTlO19kFQcrQyJi5s2C7VBu2eRYxNE1Ba48lCGsrC6cth5IkUVNRSIHfTVd/EAEsrSufYWFYVFaAx2VndCJGcDKO3+PEYVP53fs2MhqKsfNQN9/8xQ5+++YJasoLURSJofEIHX3jJNMaKxsr+cP3b50WNadjUxWWN1Tw5e+/SH11EZ39QcYn4xQXeLhjSws/eWYf+070k9EMDpwcQJElrmtZhHKGZeL1A5388Mk9qKpCebY2ScDrIpXR6B6coG84hCkEy+rLuWHN4rPO14osc9fWZew83M1f/8dvaawpobzIR1rT6ewP0j8yiQSsX7aI9aeVr58iJwIkldZ4+Oc7OXisH5H9kNatquHud61iWVMFAb+br/7H8zzz4lEAtm9dygfuW08mozM+EWfPoR5+8+whOrrHEEKw/3AfP/nlbj7zie2zzFRnYgrB6HiUPcd6ae0eJRZPk0xr9A9bZqpvPvIGPvf8/X4up41PPLD5rO3hr3aEEBiZnQjDan8tyWUojq1zWj/0zF4MbW/2EQXVsR275+NZt42MaY6gJX6GlngMyCDEJHrqeRT7JubrhjnWMcxvXzvGrZubWdOy6PwvwJo83jrcw2tvtXP39hVXtAAZnYxP98NRFRnDMIkm03QMBmmpLZvzexnIpgaC5XfVdJN4KkPPSIgVi+fuTDoejvPws3tniI/asgI+cMta1jZW4XM7EAIi8RQn+0Z5bm8bB9oGONY9wt/84Dkiidz56q9FRgYnp90j9U3lxGIpejpG6WwdIZnI4DktFiARs9wlAKXlfhpbKnnxqUNEwgmGB0JU1820HicSGeLRU66MqpoiPGcJ5pYkCbfXwfs+dgMH3uqir2t8zu3Ox9hImN2vtyKE1Rds3cYllFYW8Kuf7CIRT3P0QC/9PeM0tpy91UNK19FyKEAcioI8z95CibTGSDCKy2FjSXXxDAtAUcBNfVURoUgiG98xs/NwaZGX8mIfw+NRhoMRFldb30dliZ8vfvJd/PSZfby4u5WugSBtPWMIrIy9Ap+L2ze38JG711NbUTjr2rbZFIoCbj54xzqeePkIz+86iaYZeFx2Hrx1NQ+9ay1pTeep146RTGvYVIXNq+q5eX3jrH011ZTyrs1LOdQ6yHAwSt/w5HR2jiLLeNwOVjVW8v/cv5nKkrkqZlslEgr9Lt57yyq2rlvCD369m+NdIxxsHUAI6+bF47azcUUdv//gFgrmGHPvWIAIIThyfJBXd7YhhMBuU3jfvdfx4Qc34ve5pt/46b4fSbI+cLfbQa3bQU11Idevreffv/MiO/d0Wn7v105w27ZlrGypOqv6EkJw+OQg//LwS7T2jM1p6dixv/OC3o/f6+T9d6y7ZgUIZNDTbwLWha/Y1yKrNXNsJzDSr4CwLE2K40acBX+PJJ9aFCVRjeJvRJiT6KlnADC0o9Zr5tlivXdwgl88c4DSIu/8BYgQJJK56555uRBC0DcaIpa0Fo+Viyto7RsjkdY43jPC3Zta5jbRDoxPB46ubqjiUPsgmmHS2jfGXWd5zeHOIdoHTi02JQEPX/zIbVy/tGaWG2t5fTm3rW/m8dcO8/1n3prxujwXjhCCns4xUikN1aZQVVNIOBRn92utjAyEmBiPzRAgwbHIdGZJdW0x1XXF2GwKmbROd8co629onLF/y89/6n9dN7NuyrnnVUmSKKssYPX6+rclQIQQ7N3ZwXC/1XOkuMzP8rW1eH1OquuKaTs2aL2/11tpWFpx1vk9bRhoRi5j+CRCqSTJeRQ20wyDD953HWlNp76qmPHUKZe+EIIP37+BuyLLURSZypqCGc8bNsEffHgriVSGwlIPY8n49HOyS+YD71nH1k1LaOsdYzgYxTRNigs8NNeWUVdlZc2cvj+w4kM+fP96MppBaYWPjzy4gcamUkYnYjQsKmZdyyI01eQD965jyZISeodDlBV52bC8FpzSjHMAqKwJ8OmPbGU0GKVnOMTAaJh4Io2iyBT5LYFVX12Mx2mfdS42WaGsyMv//MM7AWiqLWVlYyWrGis50TVC38gkGU3H73HSUFNCY00p7rO0ZnnHAsQ0Ba/ubCUWtybJDWvr+cj7NuHzOudtZpckiUWVBXz64zfRPxiibzDEZCTJK2+2sry5cs70HrDaIP/nY29yvHMEu02hsrTAagAkrMAYzTCpryrCcQG5616344K2v9oQZhhTb83+J2etFXNYkEQcI3PY+ltyY/f83gzxAdnmVPixue5FT70AaAhzAiFSSMw/Hc4UgkgsNe9cc9MUJFO58x1fLgTQnh3HsiyxuqGS4YkoibRGa/84yYyOxzmzuZdpCo73WC4xu6qwrrGak72jaMkMHUOWT/vM3hJCCE70jM5oPHVdczVrG6vm9P1KkkTA4+RDt63DMAXf+vWb864ZkGc2IhuAKkyBw22jtDxAsiGDosiEJxMM9ASpqS+xthWC/p4gsUgSWZaobyyjtNyP021HCyfpbB2elRLp8TkpKPIynHXx9HSMEhqPUVJ+dhe3osjUNZRZmRYX6IZJxDO89tzR6RvCldfVUV5ZgKxYlpC2Y4MIAbtebeXeh67HXzC3K1EXRs6KkAEcDY7wieceZX51lE+j+zzPn+se93yvlbM/MeBY9ud8tJ/2twwMdsDg7pnbKEAYvv/moXnsMMvUVBIH2rI/c7C6pIK/veF21pwR01Fa6KW08Pw9qU7nHa+0sXia422Wud5mU7jzlhUXJD6mkCSJ+ppibt3Wwg8eeRMh4NDRfqLxFAVnSVnqGZzgeOcwLqeN339oK7dsasLrdhBPpPnTf/ol46EYX/z921lcXXwhJ4LLcS0LkHGEmU2bk9wotmVzfpfCnMA0re9dVupRbGvm3E6SJGSlFiQ3iDCgAbMXq4ymMxlJ4rCr+OcYP5ORJMmUNq9eQ/FEhmTqyreAaLpBe79lalcVmeZFZexvG2B4IsrA2CTBcHyWAIml0nQNW9+fx2WnpbYMr8tBLJlhYCxMOJ6aLUCA8cjMO6S68qLzZqM4bCoPbFvJawc7ONw1/A7f7bVLMpmhLxuA6gs4KSjyYJoCl9tOLJai/cQgm7Y1W9kuAjpODqNpBm6Pg9olpQQKPAQK3ETDSfq7gyTjabz+U+Zut8fBdVsaOHl0ACEEvV1jPPrwDn7nk9vOWugMwON1YFlJ5i8ChBC0HRug9egAYMWVbLttOapNQQjBxm1NPPnoW8Rjabo7Rjl5ZIANW2e7CMCK38tlVFFC12ibnF91zzxnp9Dpmlcl6vnwjlfacDTJRNZHHfC5WFxX8rYDDGVZZt3KWn7+xF4SyQyjwSgTofhZBcjQWIREMsOKxkru3b5iumiLEGI699nlsOG5gBiQax1hTiKybhVJ8iIpc/dtEOYEwrSCimVbM5J8jjgLSUVCzk4m/5e99w6T47zudN+vqnOcnpzzDDDIiQCRmSmSkiiKilaybNnelS35rmw5e6+TZGu98mql9V7Zq7WtaFGiaAZJJMEMEACRiDgIgxlMzrlzqKrv/tEzDQwmYEIP4rzPwwB0dXV1d3XV+c75nd+xwlXdEZpu8MMXjvLy3rNk+Vz8/q/dR0VJ9oRtDrx7iY6ekVlZq2u6waWOwVu+2TcQjtHen0y1O6xminO8FGV7OX2ph+FAhLa+EUrzfBOe0zccpHco2faW5XFQlufD67TRMxRgcMzXIM937fLibC8wPped7asrlgKQBTA6HKavO/k9+7LcuD12VJNCRpaLYCBK4/lu4nENq81MIq7RdCHZ7p6R6SS/MAOnO+li2tE6yECfn6HB4IQARAh46P3rOHawkQtnOtE1gxd+cphLF7rZ+eBKalcUkpntxmo3YzKpqCYFVVHmJUDVNIO9r9QTCiYz4uXVudStKRk7DkFFTR6VtfmcfreVaDjO/jfOsW5L5ZRma5o0WJjR9xI3OwsOQOJxjdjY4Bq7zYzDbrnGM2YmJ8uF02EhHIkTiSYYHetmmYpILIFuSLJ8k9uMlpgfUsZAJr9PIWwIMbVYTRp+kGM20GoJM51K0ggiSW4rFB9CTAwIo7EEB45doq17mI7eEZraByYFIEOjYYZG59Za7VzguXij6RsJMjCaDO5dditZXidVRdnABeKazoW2PravutyqJ6WkpWeYwJhmpDDbS3aGk9wMFxfa+4nEkkLU1ZUFE0tlQO5V3TGXpinXXI0QgtriHMyqslSGmSe9XSP4x87t/KKMZCBgViksyaSjZYCOlkH8o2FybF78o2G62pJGVQXFPjwZTixWE4WlWZw40kzAH6GnY5jSisvCSCEE+UU+fvuPHuNfv/Uqp4+1oCV0Th5t4czxNpwuK26vHZfbjs1uxmw1YbGYGBoIznml29M5zLvvNAFJEeLW3csnlFicLht37aih/kRbckDdkWb6ukcoKp2cpU7XKnuJm5eF1xquEKgZhkTXF3bSWCymlIGRrunE49OLkJLDxsRYrXHpZE0HV874kMhpC8BShkgKVRUUdfrhUlJKDK0xJVZVzDVwlQ+IzWpm24YKAqEoedkeassv2z1nZTjZtKp0Tu9B0w0utszgS3KL0NZ7WYCa5XHitluoLszGbFJJaDpnW3vRdCP1e5ESLrT3pQZYVRUmRWSF2cnslG5IGtr7kXczIZMkhGB1ZQF2i5lIPKmdOd7QybELHWxdVX7N4V0epy15TEsByJwZL4nExjRLJRU5qGoyA1FTV8DhfQ0MDQTo6x4lJ89Lb9cIQwPJDFdlbT5WmwkhBGVVOSiKIB5PClHv2lEzSY9Vu6KQadPGVQAAIABJREFUP/zKkxx44zz7Xq2ntamPgD9KwB/BPzr9Qm8u7+XwvoZUNicz282WXcsmlE2FEGzcWs2zPzo09r5GOH7oEoUlmZOuIeodbIVwp7DgAMRhs+CwmfEHIviDUYZHQuTlzH7gz9UYhrw8rEdMbyELkOFxYDYpDPvDxBN6qmVXCIHDbsHlsKIsWUbPDWEDYQYZAxlAGkPAZAMZKaMkgz4FxAwpfRkaE6AaIByYrLuSz7kCVRF88v2bee+9q7FZTUkh8RgbVpSwurZwTm8hFI7xx19/nuaOW7fea0jJxY6B1NC9giw3NkuyDONxWBn0h2ntHWYkGEl5e8QSGg3tSS2B2aRQU5yDIgSleRkoQiTHhHcNEk1oOK6aRbG6Mp91NYUcrG8FYDgY4es/eYvfjMTYurIct906rambeof75iwEaUguXehJtauWVmSPibcl1XWFmC0qkXCc9pYBVqwtoe1SP9FIHJNJpWp5MpMlhKCkPBuL1UQ0kuBSQw+aZkwqawghyMh08uiTG7nvkdX09YzS2TZIT9cII0MhwsEYsViCeEwjHtPo6xmh8Vz3NEc+mcBohLdfO5sSn67ZVE5x+eTMRnFZFnVritn/+jk0zeDAG+e579E1OK7yvVAVZe6C0SVuKRYcgHjcdnKy3fT0+wmGYhw50UJtdd68o9doLEE8kVzBmU0KthmmOxbmeKgpy6WiOGuC5bvdauZLn7kPTdMpyJmbmdmdjlAyEMKBlEGk4UeLH0Exr0Rc3T8vY4wHINOWaaSBFn0VLX4IAJNlKybLXZNuVkIIzGaVnMzJCmpVVVBnaR50JeMDDm9VEgmdpivGYZfm+VItcrk+F4P+MAMjIboH/akAZCQYoX3MgMxlt1KWl/QSKMn1YTapxBIaXYN+RoORSQGIx2Hjc49toXvQT0tPsn2ytXeYr3z/VZaV5rKuupDqomzyfG6cdgvWsdkRJpNKIBxbSpfPk0gkGVwA2J1W8gqTmh4hBMVlWXi8Dgb7A7Q09qLrBs0Xk//1+hyUlF/W2+UWZODy2IlGEnS2DhIORvH6JneajW9vd1opq8qlrCoXKWVyaJiUye9x7P/3v36Or/3pz6afvnoV5053cKkhqQWy2szsuH/FlNNzrTYzW3Yt49DeBjRNp+FsJ61NfSmtyDjqLD07lrh1WXgGxG5h3aoSzpxPKqxf2HOKutoCNqwundeNY2Q0THQsHWm3WfDMMP20OC+Dv/vS+3E7bRNmXKiqQs1V5jBLzA6hZCPUvDF3U41E+IeYLJvHgpArA4c4yW4WE1wdgEiJJI4WfYNo4O9BBlFMtVjd/wXE4geEiiKw225t/Yc/HE25mZpUJRlMAC67hcqCLM619hGKxbnYOZDSdHQNjDI4piXI87nJG2uJK8h043FY6R/VGPKH6R70U5A18XsQQrCmspD/9zMP8e3nD3L8YidxTSccS3D8YifHL3amxoNbzCYsJhWTScGkqui6TiSuscTcGRkKpTw9MnxOMrMvB+FZOW7yi3wM9gdobx4gMBqhtSlZWszO9ZBzRRtths9Jdq6HgV4//X1+hgaCUwYgUyFSmebpF40CZsxGJOIab718JjXJt7Qyh5XrSqftjFuzsYzcAi9d7UMERiMcfOsCy1YVTyjXmBUlOfRwaZzXbcuCQ0xFEdy7fRm5Y25pvf1+/tv/epkfP3uE5rYBgqEYiYR+uawyA1JK2ruGiY5Nz8v0OcnwTB+AmEwq2T4XVotpKQWcJoTiRTVvSP3Z0C4SGfkvJMI/QE+cw9B7MPQ+DGMIGB/JGMTQuzH0LvREI4nYa0RH/5zoyB8g9XYUUw0279+gmFddl+9JEQLHLZ4BuVKAareaKc7JQAiBqijUleUlSyqG5HxbX7JdUUoaOweJjP12KgoycdmTKe1MjyOVJYnGE1zqHpoyY6EoSS3IV3/jUf7sUw9wz7oq8jPdWM0mFCHQdINwLMFIMELfSJCuAT9tvcN0DvjTkgGRpLft8lagp/OyADWnwDvBHt3usFBRkze23TCdrYMpL4+SimycV21bWJKc+h30R+lqH1rQcUkpk5N5x75Xk1nFMo09wbg3yckjzUDykrDtnuV4fVN3LwLk5HtZvbE89ecjb19kZGy43jhW1YR5qYR+W5MWw4vykmyeeHQd//LvB4jHNXr7/Xznh2/zzC+Ok5/rweux09Ry7amKhiE539iTSvlVlGbjnMIPf4nFRMVsfwQt8hxSJi92hnaB6OhfJMszigcwjWlDABkjOvrXCGFHYoCMIqU/JToFQDgwtPMgLKimWoQyN7OauSIUwYqaAuIJfYKe5FairXeE8JiXSYbLTo43uZod7zqxW82EonFaeoaJxhPYrWYaOvoxpESQHFg3Pp/CYbNQnOPlbGsvuiFp7BzAkHLKMqkQggyXnUfvruO+DTX0Dgdo7xuhvX+EvqEgo+Eo0ViCmKaTSOjENQ1/KEZj18CsU/XTEU/oGMadI2SVUtJ2qS/VRVhcmoX5ipKFoijUrixE+ZlgZCjE2VPtqYFy1csLJ2SYVZNCWWUy66slNJov9rLt3omut1JKYtEEiqpMWRq5cjv/SJhjBxtT2n631z6htXfi9nBoXwODA8m2/IxMF5t31s743lVV4e7dy3jjxVPEYxodrQOcPdXO9vsu+w5ZVBWTcucNJryTSEsAYjIpPP6edQyPhHn2xRPE4hq6btA/GKB/bKTvbBgeDXP2QnJokklV2LimdNIY4cXi6hXcnZpREUKgWjZidn6cePA7JI3DIOli2o80rg4kJdLomXHlaiROEh09DcKN3fvXmB0fWJyDH0MRgg/cv4b33XvtkfA3I1Imu1XGh7vl+Vx4nJdXu0U5XnIynIR64vQM+RkJJoO95u5kUGizmKkpuqwPMKsKlYWXxYCXugaJxrQZ25SFENitZsrzMynPz0wdlyElxljGxZCXj/WL33o21bEzX/zhKOFYIpW5ud0Z13RII+lbVFKRM8lor7wqD6fbRjgY48Ab54lF41htJipr8ibtr6QiB7NFJRHXaW7sRUvoEwIaXTP46Xf30948wPb766hdUYgv243FYkqJ/Q1DMtjn5+nvH+DcqY7Uc2tWFOLxTh2AjAwF2f/aWeTY+bp6YxklFTP7QQkhWL6qiOLybC5d6CEe09j/+jk276hNZVrsJjMW9db7/S4xe9Jm+emwW/jsx7eTm+3m6Z+/S0/f3NOy4yUbr8dOfo6HtSsnT8+bDVJeTuUKZhdMSAmvvXOBxrZ+PvKeDWRlzN4q/HZDCAtW1+cBM4nwU2NBx0JXpgbI0bH23cVFCIHJpKbv5L7OxBM6TV2XZ3CU5GZMGA/gc9kpz8+kpSfZBdM9GMAwJD1D/uTjbjvFORkT9llRkJlq3+0a9DMcDM/ZJ0UIgSoEV68JLGZ1CnXA3H+3A6Nhugf85Hidd8QCYLy7BZKOocVXDZEDyC3wkpPn4dJoL+dPdyAleH1OCq5qWxVCUFDsw+G0MRoP0dk6SCgYIyPz8nnT2TbIqz8/SU/nMPvfOEd2rpuS8hwKSzPxZjgBSX+Pn3On22lrHsAY62bxZji4/7G1qKbJi0EpJaePtaa0KVabmV0PrJwxwzJORqaTjXdX0dyQ7AI6fayFrvZByquTwZXdZMZuurVLqUvMTNqu0eOtrx98bAPr15TyxtsXOHqihe7eUcLRBJqmpywlpru4VJfn8NU/eQJJsoshN2d+A+HiCZ3n3ziNSVV4dNfKWc12MQyD/ccvcfBEMw9vr7ujAxAQCMWD1f1FzLaH0GJvoifOIPX+MUOx+afahZKZvsO8TfGHo3QO+FN/rizImnA7N5tVlpfm8uaJJqJxjZaeIXTDSE2yLcz24pvghCkoyvbitJkZCeqpoOXqIGW+hKLxCUPDTIrCLBzzJ+8nEuPg2VZWVebfER4QVwpQXW77BFHpOC63jdLKHC419KYWdHmFPjIyJ1+ffFkufFlORodDDPYHGBoITNiuu3MYQzcQArSETk/nCD2dI7D/si/M1WtGl8fGh391B6umEZTGYxr7Xq1PlZFKK7KnFZ9ejaIobN5Ry4vPHCMYiDI4EOTYO01jM2gEFkXFbb61xeS3I+KKfy+UtC8SVVWhujyXytJsPvL4JgYGgwwOBwmH4+iGARKqK6e29/ZlOPGl4cYfT2j8/M0zCODezTWzC0CkvC3mh6QPgRAWVMsaFPNqIA4yQVKSvoBa/zQtu4uBlJLO3hGOnG6ju38Un8fBhpUlVJXmXLfS3nzoHQ4wODabxWJWKbvKbn1c42E1q8TG2nWjcY1YInkTqCnOxn6Vg2lOhotMt4ORYDQpRO0aZNPYpNuFIMf8SsZfG5LGZPPx35HAS4fOc+/6KmqLpze3u10Y6PWTiOvY7Bbyi314pwgqTGaVZauKObzvIoYhEQKqlxdgs0/ODDjdNorLs+npHMHQDfq6R6mszU89vvHuKv7qm5/g8NsNHDvYREfLAAF/BC2hp/Q7iiIwmVU8Xgc1Kwp55IkNrL+7akIp50o62wa5eK4bm92CUGD7fXVkZM3+Gl5Zm8eyVUXUn2gH4PihS7znAxtwumxYVRMei+0ae1jienP1dOWFsGhZakVR8LrteN12qspvTEtsOJoglphdD5dhSMKRW3+C6mKQvBFYQdyY2ryUEt2Q9A74aesaJhCK4nJaqSjKIjfLnRLjXV3yO3Oxm7//zqs0tQ2kHsvNcvMbH9nGe3aumFeb+GIzbqc+LkB1263kZ3kmpdvL8nxkuOz0Dgdp6hxIdcwoiqCuLG/SzdvtsFKQ5RnrgGFMsGpM8lqQUtI/EsTtsGG7RneZlJKB0RB7jlyYsHKuKMhEnUcKxKwqdA6M8s2f7ePLH7s35WMy3WuPc6sGKpW1efzFNz6OlMnBby7X5JutEIL7H11D3eri1Geck++ZMsAzm1V+7QsP8OQntwFJq/YJj1tMVNTkUV6dy/s/upmB3gA9XcMM9gWIhGMgBA6Hhcyx9t/cfC8W68znQHaehz/66pPIsYa4otKsOQWfTreN3/njxxgZSoprLRY1FeyYVYUc+52cib45MaXRIO5WLZMDyYtQMBxjNBDB67bjclgn/Fgi0Tgj/vCsWjIj0QShyFIG5GZDSkkoHOeZV07wizfr6RsMoOkGJlWhMNfL4w8kxaaKIjh+tp3zl3opzPWytq6Y7/3HIZrbB8jNdOFyWhkcDtE3GOBfnj5IbUUe1aXzH5y4WEgJjZ0DKQFqlsdJ5hReONleJ4XZ3mQA0jWYyui4bBYq8n2TtjebVMoLMtl/pgWAlp4hIlMIPof8Yf7yu69gt5rYvbaKNVWF5Ga4sF21AjakpKN/lH/55WHqW3pTf++yW1lTOTfnWkhmde7bWMOFtj4OnWvnz/7vS/zK/evZtKwEn9ueen+GlIQicdr6RjjZ1MX2VeUpkeythtfnnJVXx2y3E0JQVJo15VyVq7ezO6yUVFgpqciecdtr4fE68KyZvt32WgghKCzJorBk8jErCApd8yvDT4fbbLmjOmt0aRCIx9La3m5VTTd/BuR6MBqI8LXvvMq5Sz0sr8zjDz/3IL4rJucOByL81f9+cVaCKMOQtHUPpezcl7g50HSDH/38CD964SjxhI7ZpGIxqWi6QXPHIN/+932p9s0fPn+EQCiG1WJiw4oSzjX18MRD6/jQw+twO220dA3xjX99ncbWfvYeuUh16cIuvotBLKHR1HnZAbUw24NzClM1u9VMbXEOxy92MhqKpv4+1+eectqtAKoLs1OW7D1DAYb84QkBiJSSA/UtHGvoIKHp7DvVTLbXSWmej/I8HwVZHuxWM5FYgkvdg5xo7KKzf3SCx8/m5SXUleXOObATQnD3ijLuWVfF1370Budae/nr779CUbaXktwMsjwOVEVhNBSlc2CUzv5RgpEYqiJmzJQscWtT6PQgSM+kL6uq8qeb72Vj7uTRErcrzf5h/uDtFxmJRa+98SxxmMwoSxmQ5GrtVEMnQ6NhEprO8Gh4QgCij41lnwtLAcjNRXP7IC+8fgaAh3fWsfuuGnweO8P+CK8dvMDeI4187z+SVu85mS7KijI5f6mXgyeaqSjO4pPvv4vcrOQNOcNj5/EH1vA//u0N6i92E4trM1r93wjGb7DjlOX5pmwlFkKwqiKfn74lJvhvlOf7cDumTuWX5Gak/ENGghG6Bv2U5Gakbt7xhM6R8+0pLw5NN+gZCtAzFODwubYZj1sAtSU5fO6xLdjn8ZmaTSrZHid3LS/BH4ry7ecOMhyM0Nw9lGovnooj59v54M7VS7/b2xAhBEUuD1bVRFRfuNOuLiVOs4Va38238FgsNGmkLVgYx2m2pC3gvyG/2vH6bTAUY2AoSCSawGRS8Hkd+LwO1LEpt9ciL8vNIztXcKqhi40rSsgfm/tiNqns3Fg1Jzv2hKZz6FTrHT/TQkoDZIiFt91Og7AjxOyV7afHAsz7t9bye5+9H6cjefJLKVlbV0Q4Gufg8Wa2rC3nS5+9D5vVzJ9/4+ecutBJcX7GBCddIQQ1ZbnYrWYGR0JEb8IApHcowFAgWQ9XFYWKgsmtmeNUFGTitltTGRAhBLUlOZinaJcEyPW5yHDZCEXjxBIazd2DbKm7PGnYbFL53GNbqCrKZu/JJpq6BgmGZ07fCpKi022ryvn0Q5uoKZ5bWWu8lmyzmPC6klN1H9++Cp/Lwb++dHjCQL5JzxXQMxRgNBRNOb0ucXuR73DjsliIRtIQgBgG/ZEQUso7JmOmGwa6TO+13Gu1pa1LLW0ByPiN+1pfrJSS0UCEl1+v580DDXT3jhKLa6iqwOuxs2p5Ee99cDUraguvKRJ02Cz81kd3EE/oWM3JwVgAVouJzz5x95zSdpFonC997Rnauofn8KzbD2kMEB35IwyjZ1H2b3V9AbP9kVlv39o1jKoIdt1VnQo+YMyx023n7rXlHD7ZwvYNlRTnZyAllBdncupCJ1aLaZIgzmE3YzGrKbO8m438LDd//In7MQwDRVHYUDN9urgsP5P/+pmHiMSS2iUhBKsrCqb9DeZ4nfzBx+8jEE4GLBUFE+vuiiIozfPxqYc28sSOVbT2DnO2pZfz7X30DgUIhGNouoGqKrjsFnIyXNQW57C+poiqwqxrilYnHX+ejz//9INouo7VbEp1+5hNKvdtqGZ1ZT6Hz7dz9EI7nf2jhKJxFCFwOawUZLqpK8tjTVUhGa7r11m1xPUl02Yn2+ZkIBJe8L4k0BX0YyCZyrnmdiRu6GhpXFQLBFm2+Wt+riYtAYiUkoamXvoHA6xZUYzbZZvyQiSlZGgkxLe+8wZ7DzZMWtn4A1HaO4c5cryF3/r0Lh7YVTdjECKEwDw2lfPqv1fVuZ1gZpOK4xYfYJYWZAJdu4DU2xdn98bcZlREo4nkDe8qgTEkv2eX0zYhKAGZOh+mUmobYyZ16WwlSyd5PjcP37VsVts6rGbuWVc1631bzCZ2rK645naKEHicNlZXFrC6sgDDkMQ1jYRmpFaPJlXBYlbHPsf5fZA+t4MHN01t2S2EINfn5rG763hky3JicQ1tzMPCpKpYzWpqFP0Sty9ui5VSt5fzw9ce5TEb2oOjaIZxU3bALQahxJj9RZpQlWQAclOVYOIJnZ8+f4x9hy5SV1vAZz6ylXWrJruYJjSdp549ylsHL6Dr00dlA0NBvvPDtykpyqSuJv/6DDBTxC07wl1KSePpdrqa+1m/azmeWU7BnBJhRjGVY8gw0giQnHp743A5rWiaTne/f1Lq1BhrzQVwjs18mTD7Yor9hSNx4nENu82MacnmeVYoisBmMXMj4vNx99WlxcGdiUVRqfVls6etMS376w4FCCXiWNU7QzMUiMfSWoKxKCq5jvSVO9PyLXR0D/Pu6TYi0QTnGroJT9PO2tDYy8tv1qeCD6fDQkVpNlmZLiLRBK3tA/QNBJAyOVX353tOUlORi9m8+DeK6z3CPRyMceiVM2TlealeMz/L+XEMQ/L6z47w2s+O8JUffX5BAYhQsrFn/E+k0YsWe5t48P8ijQGEkoVQ81GUbFDcCGEHzCDmtpJQzLNb3Y9TWuBDNyS/fKuetcuLKCvKTE2Cvdjaz+vvNOCwWygtuNx6Ov5Z6ro+QdMjpaS9e5hoXMPndc7KoG6JJZa4cQghWJGZi1lRSKRhJd8XDjIYDZOZxjLCzYqUkqFoBC2NGRCn2UL2zVSCkVJyqr6DoZGkEVJZSRYrlxVOuqHqusFb71xkZCSc2u43P7WT9atKsFnN6LpBR/cI/+cH+zh4tAkp4WR9B4PDQfJzvQs9zGuiKAqP7FzB6pqC62LDPtQ7wjf/2z7W71zGf/n6JzAtIMiShiToj6BfYXc/X4RQQDjR4keJh34IwoTV8yeYrLtR1FwQNpKnzeyEwgvFNpaVOtvYzZ/8w/OsXV6c7IIZDfPu2Q66+kbYur6S8uLLXhDjXRijgSiJsdZdgEgswcHjzei6QU1ZznUJbJdY4nZHSsmFI00ceP4oWkKnsCqPTQ+tJa8sPT471RlZZFjt9EcWPkdqJBalLTBKTcbt3wkjgd5wMK0eIF6rDZ8tfZqrBQcgmm5w6mxHqhVw3coSPO7JbYChcIxTZzuQJAfXfe4TO9h+V3Vq+qPJpFJZls1nP7aNhku9DAwGGR4NMzB0fQIQAdy1qpS7VpVec9t0IGVyOmVgOISu6wsLQKQkEkxPn7eUGvHwvxML/D2gY/P+DWb7kwhxY2/WQgjauoZp65ooEi4t9PGpxzdPSNGXFPhQVYWWzkFON3SxuraQeELj5bfPcehUK067hY0rS+4QGdoSSyw+54808coP9qFrOmF/hOp1+/jd//3rlM9zoOiV5DvclLkz0hKAxHSN+sFe7iuuvO31Q4Y06AyOXnvDOVDodOO2pM8Re8EBSDgcp60zKSw0m1RWLZ+c/YCkrqOnN/lhLK/OZ9Paskmjp4UQlBZlUl6cxcBgkHhCn7ack25u1MkYHI2QiGmpDp75oMU1wsGFjUIfR+qdJMLfAxlCqCWYLHff8OADYOfGKrIzXZw830k4EsdmNbOiOp8nHlzLsoqJ1uOrlxVSmOOhvWeEr/x/L1GS7yMcTdDaOUgsoXH/1mWsqJ6+W2SJ2TESinCypZuRUASBIC/DRW1hDhnOqUXoS9y+3PORrWx6aA2JmMbBF47xk6+/wA/+5hm+9E+/idO7sJS9y2xhdXY+R/s6F3ycEjg10ENM17GZbu8SbETT6AwF0rrPCk8m1jRq5xb8DQSCUUb9ESCp6SgqyJjy4tM/GCQUTt4k164sxjHNKHCzWSVj7IRN59S9mxIBHU29fOuPnlpQBkTXDZrPLfzHCWDo7Rj6WAuujCFl4Ib3zSuKYN2KYp58eD2BUJRoLIHVbMLtsmGawjOmOC+DTz+xhX/68dsMDIcYGL482O3udRV87sPbblnB8c1EfXsvf/T9FwnH4iDAbjazsjSP33l0G2vLC1GWgpA7AiEEGTkeMsZ8mAqr8uhs7OHtZw9zcu85tr53w4KuH4oQbMkv5kcXThJLgyHZheEB+iNBStzpmQZ9szISi9KdxgBEEYK6zJy0GpstOACJxhJEY8khbg6HFecULowAwyMhEpqOqiqUz2CBLSWp9lyzWb3tbxSBkTB7n383LftyTFH6mjsK40GfNAaIBb6F1f1FFFMlYCEdAeFcLkZel52V1QVUlWRjUpUJTrfToaoKD++ooyTfx8ETzfQPBXHYLaysLmDzmjIyPPalFXoacNusbKktwaSqjIajXOzq50hjB199+g3+9pPvoSp/ehO1JdKDlDIptB4r9Avlypb09L4O8iq/JzH161hsZu7/xA72P3eEvT89yKYH12BZwHVcCMHKzDzyHS5aAyPz3s84PaEA54b6b/sApCM4ylB04f4p47jGXGTTeW6lRYQqx/QfqqpM678RCEaRMrkKzfI5p30T0ViCwaEgAG6njcyMuafvpJRj80HmLr8RIumXcHV5KN1YrGYqVxQRGl34CWIYkq7m9PTJK2oJipqPoTUBBlr0RfT4cVRzHYqpHKFkgph/IGKy7kQ1r5j19ptWlbKypmBWAwUnvI5JZfWyIlbVFmIYBkIRC/KsWGIyK0vz+NqnHkUIgabrnGzp5qs/e4OG7n6+9+a7/MmT92Kz3N4LiBuFYUj62gY4+WY9F483ExgKYbGZySvPYcXdtazavix10w+Nhjn0y+Mz6sRMZpVND68lq2DyIEMtoXH2nYsc3XOKvrYBVJNKXmk2uz98N2UriidtL4QgrzQbl9fBqX3n6b7UO+V2cyHP6WJ1dl5aApC4obOvs4X7S6smTYO+XZBScm6oj7CWvgnveQ4Xxa706jEXHICoqoI6pl+IxRLEYlOnyCLR5AdhNqs4HVOXX6SEjq5hOsaEhpVl2WT65t5zHIkl+OYP3qKjZ+6upk67lf/n0/dQkLO4wtecIh9f+j+PpmXKUiwa52uf/y6NZxZuHibUAsyOjxEL/APICCCRRjdarBvSIDMR3r+dUwBiNqvz7lYRYys05Q6afnk9URUFdcxp1mJS2VJbymfv28hXnn6DN8408YEtK9lQeecM/rpeGLrBoV8e59/+4qe0X+jC5rTicNkwdINwIIov723++rkvU1xTAEDIH+Hl775JT0s/Wlwj5I8Q9kewuay4vE7MFhPuTBeVa8omBSCGIXnr6UP805e/TzQUI6vAh2JSOPP2eQqr86YMLKSU1B+4wHDvKIZhcGTPSUrrihYU/FsUlXuLq3ip9WJa2koP9rTRHw6R70zvtN2bhbihc6yva8KgyIVSl5lLpjW9rsMLDkDsNgt2m5mRURj1R2jtGJxSBxKLJwOTpHPp1C8bT2i89EY9I/4wNquJ+3Yux2ad+yHqukFDcy/nm3vn3JbqcdlSwdJioigCxzSOsXPFYjXh9KSj/AKgYnF8EhDEQ99H6h2AnqZ9L3EINuEAAAAgAElEQVQ7IxDsrKugMv8kFzr7eeXkRdaWF6SClCUWjpSSxhMtfPvL32e038/7fusBdn3obny5HrSEzlDPCJ0Xe3BeUarMKvTxJ9//ArFogng0zivf38e//92zPPCJnTzxhfdgtVkwW824p/APCo2G+cU/v0o0FOPX/vqjbH/8LlSzSiwSxzWNuDQaivHW0+/gy/Nispg4+Pwx3vOr9+BagL2BEIJNeUUUONy0p6Gzoy0wwpHeDt5bsfy2zIoORELUD/ambX+KEGzOK8aU5t/yggMQt8tGls+Zmunyy9fOsGp5ER73xJtrfCwAMZlUTFMMy4onNF56/Qx73qxHILhn2zK23VU1r5PDbjXz+Y/vorV7iAPHL/HOyRZcditFeV4yvc4ZbXiddgvOaQSyNytCEdid6QlAkrVdJxbnZ1HNK4j5/x49cXzsUQtCOEDYQZgRV+hFZn+sk1ccCU3n6Ok2AqH0jYyG5Lm2cVUJ3tt8VkhSBwDRRALdkJhVBat59nNZpJRohkEskTRuM6tKsgw5x9+eEJDldrJrRQUNnf0cuNBK32iQAp9nPm9riSnQNYM933uL3tYBPvDbD/Orf/URbI7LbZGly4tYu3tihlFVFbxjAlEpJVkFSe2DL8dLSW3hjK8XGArS1z5IfnkOuz50N5n5M+smxgOk84ebuPux9Tg9Dl75wT4uHm9m3T0rF3SzL3R62JxfQnvjwgOQmK7z8+YL3F9ShcN8a13vZ8OpgV46g/607c9ntbM+Z+oO14Ww4ADEYTezrDqfM+e7ADh49BL/6/++zpPv3UhxoQ+LRUUgUlkFk0nBkJJ4XENKSTSm0dk9zJ63zrHnjXqi0QTbt1TzuU/uSNlrz/lNmVTW1RUz7A/T3j3C9vWVfPyxTVSVZGG1mGecASIQUwZINzNCCOyu9PVmS6mhRV8jFvwmRuIiimkFJtuDqJY1KEoBKE7EPFxQk8c6ubQViSb456feprE1PTqWcZwOK9/40w/d1gGIphtc6OzjxeMXONfRRziWIMNpZ1NVEQ+vX0aOx8lT+0/SPjDKk1tXsbwoN/VcKSWReIK3z7Xw+ukmOodG0XUDj8PGipJcHlpbS01hNvVtvbxw9Bxbaku4f3X1jBchIcBtT87t6RgY4WhjB+/dVHdbrjJvBMHhEPUHGnBlOLjno1snBB/jpPOz1hIauqZjsVkwz8I5WNd09j1zmHg0ztb3bcTutPHy997iwHNHWb1jOSbz/G85ZlXlsfJaXmy5kBZtw6Gedk4O9HB3/sK9Sm4mErrOK20XiRvpy1zXZeZQ7km/aHfBAYgQgh2bq9nzRj2BUAxN09nz1lkOn2ihuMCHz+tAVRUuNCZbO4eGQ/zDt1/BYjahaTqj/gjdfaMpkarHbWPNimLCkQSRaNLvYa4nh5SS4+fa+dYP3qKkIIPf/+z95GS6bquT7EqEorDirkoScR33PES7VyKlgRbdQ3T0z5DGICbbI9g8f4pQi4DFEXEKkVylTeWFIkRSa2AYkkjs8kVHUcSULbhXYjapN+XAuXSh6Qa/fPc8//jiAbqHAyhCYDGpSCSHGtp4/XQTv/nQFv7jUD0tfcPcvax0QgASTWj8855D/Hj/ScJjrc12iwl9YITDje28dLyBLzy6nXMdvTy1/yQOq5n7V1fPeEz+SIy3zlzCkBJDl7x2upEH1tZgXxKjpoXgaAj/YBB3pouc4qxrPyFdzPJ31Ns6wJGXTlBSW8jKrbUoqkrJskKOvXqa/vYhCipzr72TGQ5hfW4hdZm5HEuDJ8hwLMJPLp5mfU4BNtPtcX5KKWnxD/NOd/qGiSpCsLOoHOciZIrSEoCsXFbI/bvqeOHlk+hGMh08PBJmeGRyh0ckmuDoidZp9+cPRPnn7+/lJ88d5cHddfzGJ3fOebJtLK7xzJ6TjATC/OeP7bitgw9I3qR3P76RXe9bj7pAkxhpDBIP/tPY/JdMLK7fQKjFi/r52a1mfvcz9xKJTmU6JwhFYvzspROcPN9BWVEmd60uY1lFHl63HUWZfqqtqigU592+rXanWrv55i/20zcapCQ7gyfvXsWyohwMQ3K2o5efHz3H3z3zBoPBqTut3r3UyU8PnCYcS3BXdTG/snM9hZkeYgmN8519PHf4LP/9ubdm3REmpaS+rYdznX1kOG1ousHJlm4u9Q6xsiQvnW/9jkXXDAzDQDWpKfH/zYKUkqN7TtHbNsBHv/x+vDnepMP0Q2v5yddf4MSb9eRX5CzoWpJhtfPeimWcHOhOixj19fYmjvV1sa2g9La4RxhS8lLrRbrD6fP/yLE72VVYsSifT1qs4KxWE5/56DYAXt17jmBoYe0SiYRO/2CA1o6hCcPEZsvgSIgLLb047FaqShd2wt8KCCGSQVoaRkwbWjO6NjZ5UrhRlLxF//xMJpXV09Sio7EE//jDvZy52MWD2+v43Ie3kZ/jRrnDhY2xhMZTb5+kbzRIjsfJf/3w/dxVU5LSbWxfXs6GyiL++AcvEY1rk4SgUkoOX2wnEI2R4bTxhUe3s7b8sjvs2vICti0v5y+eeoWjjR2zOibNMHjpeAPhWIIddeUMByMca+pkb/0l6opyF721/U7A5rRitVmIhmJEApGU+dfNQHAkxL6fHcKV4WDb+zamutA2P7KO57/9CvufPcI9H9mK3TV/vZoiBA+V1vDvF07SMDK44GMeiUX5Tv0RVmXl4bWmS8h/42gPjvLspbNp7X65K6+YSu/k9ux0kJYARAhBZoaDz3/2HnbeXcM7Ry/R1NqPPxBF0/R5d5rmZc+vRSoUiRMKxzGbVawLqDnekcgoyGSpQxpD6IkzCLUgOaTuBrjSXmjuY8/b5yjKy+BzH9lGQY7ntg8oZ0PXsJ93LyXT0LtXVrKhqmiCaFRRBOsritixvJxnDp2Z9HwpYWgsM+Kx28jPcE/4XIUQlGR5+dTuDZxp7SGamNmBUkpJW/8I71xsw2xS2b2ikp6RIEcbO9h7tpmPbF9Llvv2n0C62Lh9TvIrc6nff4GLx1vIr8i9KX4P4wPpLh5vZuODqym5YiRHWV0xNevLOX+kkZb6Duq2zFzGuxYFTjfvq6zjfxzfn5Yb7f6uVv6jqZ5PLV9/S3dsJQydnzScpnl0KG37tJtMvK9iOVZ1ce6jadurEAKb1cymtWVsWF1KLK4RiyVV+fONQCwWdcaOlelQFIGiCGJxjdFgZH4vfociFB9CcSKNKMgAUf9fY06cQbWsR1Gyx6bhzv9Hqqi5CGX2HiunzncSCMW4Z0steVnum+JiezPQ0jfMcCiCWVXYVD11e5yqCNZWFPDs4fpJjwkBPmdSnBuIxOj3h8jLcE0KQmoKssl0O+gamllRLyXsPdtM30iyHLS+sojBQBiPw0ZTzyBn2nrYvbJyge96CbvTxrb3b+TU3nM8+48vUVpXROnywlRGUNd04tEENqf1uv5WdE1n788OoWs6O57YjPWKTkK728aWR9dzcu853vnFuyy7q3JBGUxFCN5fWcezTWdpSsPNNqbrfOfMUVZn5bMhN/2dHtcDKSUn+7t5uvEMehqzHysz89i8iCLdtIc14+UAh90y7byXxcbjtOFx2ejoHeHcpV5W196aJ9VskVLSeKqdzkt9bNi9HE/m3M3bxlFM5ajm9WixV5P71tuJB78JWEFYEcIMzL/2bPX8CRbHB2e9fVd/suXO57EvpfDHkFLSOxIgoeu4rFYKMqYOzIQQ5HicmFUF7SpXYCEEW5eV8cyhM4yEInzn1cP89iNbKc3xYR3TFgghsJpN2GaRRRwORXj11EUMKdm2rIz8DBcZThvLi3I4dLGdV09dZNvyMsxpHGR1JyIUwe4PbeXU3vMceO4If/Oxb7Dp4bUUVeUTj8ZpPtOOUAS/9fefmuDTMdLv5/S+8/gHAxx/fXJG7Eri0ThvPHWQwa4hRgcCRAJRhrqGefobv8RqHxNrCsG63StYsbUWgK7GXt597QwlywpZs6tuUiC7/r7VZOZncPjF4zz++Yeu2c4742cgBKXuDD5Us4r/fmxfWm647cFRvnZsL1/f+SjFrlsryyqlZDAa5psnDtIbDqZtv2ZF4YPVK/EtYmnqtqxPZHjsrF1WRG6WG5/HjpTcMt0QmqZz8u0GDN1g3Y5lmGdhxGYYklefPsxrTx/mb3/8OwsKQBAuLO4vYOhdGNo5LqevYmPD6ea/a2DMXXUu2ydfcHg0jGHIOQuSb1fCsQRSgklVsM3QHmk1m5KrzSla8jZUFvGZezbyvTff5c36Js519FJXnEdZjo9Mlx271UxC0wlOKQ6+jJSSdy91crFrALfNyv1rqlEVBafVwu6VlRxt6uBIYwedg37Kcxenlnwn4cly8fmvf4qi6nz2P3uYl/7lTRLxBEIR2BxWyleWMNrvnxCAtF/o4l//61PEInGQkpziLByeqdvTpSHpbe3n5Jtn6W0bIBqOEY/G2fO9t1KZC6EI3BlOVmytTdp+H25ECMGuJ7eQOYXwu6Ayl7seWsvJvWdpPduBL8+74AF1H6hcwYstDZwa6Jn3fq7kSE8H/+3YXv5iy/1k2m6deVFRXeOfzxxhf9f0zR3zYWVmHg+Wztx2v1BuywDEbFL5/Md3YTYp2G2WW2rlnIhp/PibLxPyR/jKj34bX+61RWbSkISD0aQh1QJfXwiBal6L3fctEpGn0WL7kXoH0ggDCcAgLf7xsyQ3K6kDOnG+k5bOISpLlgacASm9h0Qy08gjw5BMd1ZYzSY+fc9Glhfn8ouj5znb0cuxpg4OXGhNmZtJZGo45HTENJ09JxqIJjRWl+WzoviyLmFLbSnZHie9IwEOXWyjLGfqadlLzB4hBL78DD7150/y6Ofuo7elj5A/gmpS8Wa7yS3Jwps98bpRu6GCr7zwhxNE/VM5nwJY7BZ+5Y+f4IO/+yhdjT383Wf+EbPVxO9/5z/hvGJSufuKhc7dj21gzc7leLM9qYF4E/ZpM/Nrf/NRQqNhPPPU9l1NvtPNr67YwJ8deCUtviAGkl+2XMBltvDljTvxWW/+ICSu6/z4wil+eP4Emlx4V9A4VtXER5etIds+f/fa2XBbBiBCCDKmie5vBXTdIBSIEpulJbyUcsZBU3NFCAXVXINi+gMszlGk0YvU+5DSj5QxFhKEqJZNc9p+VW0hDpuFju5h/u6f9vD4A2soL86c1ZAzRREU5nqxWW+PHv8rcdutKEIQ13RC02QopJQEo3H0GQIIq9nEjuXlbKkpZTgYZiAQZjQUIRLXSGg6I+EI//LaUXpGpm/ru9QzyNGmDhRF8ODaGpy2y6XXkuwM1lcU8tLxBl4/1chjG5bjsqfPNO9ORQiByZwcCpc3w3TxcawOKwUVs/PgGN+3y+ugYnUpNRsq6GzsIb8sZ0LQceX23mw33hkCCyEEniw3nqz0zV4Z74h5vf0SP28+n5Z9aobBTy+eJqppfHnjTgqcN6/uLKZrPNVwim+c2E8wMXOWcq5szi/mPWW1c3ZDniu3ZQByq6BpOrFwAqvdjMmsTjjRY+E4kVAUXbu2m10irhFOYwAyjhAqQs0ENRPMdWnf/2xYWV3Arruq2LP/PPWN3Zy/1IPNap6VONlpt/C3v/84teXzNz+6GRFCUJTpwWo2EUtotPYPc1f11F4t7QMjJHRjRnW/GDMwy8twk5cx8QYx4A/xk/2npn2uISWvn25iKBCmKMvLtmXlE47DalK5Z2UVr59uor6jj/Nd/WysXNhgsiXmj5SS9vNdHHjhGJvfs5aK1TP7X5jMKuvuXUlwODRlZuNG4zJb+PyaLZwa6KEtDZNyARKGwbOXztIXCfKHm3azMiv3ppqaK6UkkIjx3bPH+afThwkk0jAl9AoyrDY+t3LTomo/xlkKQG4QsUicH/2Plzh14CLVq0v45O89OsHFNBSI8K9ffR7XLJxNdc2g+WzXYh7uDcNuM/ObH9uB3WZh75FGhv1hQpHZRfu6bsy4+r+VKcvNJNfrorV/mAPnW3lsYx2OqzI94ViCw40Lc0QcCUcZDSeDW6d1sqh80B/izfomJLC1tpSCzIkBjBCC9ZWFFGZ6aO0b5q0zl1hfUYi6FIDcMN546gA/+rtnGegc5D9//dMzGpoJIdj5wS2s2Vm3IP+OxUIIwfLMHH595Ua+euRNYnp67McNKXm7q5XON1/gP63ewmMVy3CZLTc8cJZS0uwf5n+dPMgvmi8Q1Wduj58rAni8cgVbr5Mx21IAQvJLTWg6hiExmRRM10GpP9Tnp/knpxjoHqGtoYcHPrQZd0Zp6nEtoXPk9bNz2qfDffNdIBaKEIK8LDe/++l7eOLBtTR3DDI0GkLTjGm1DeNYTKaUhuR2I9frZPfKCr7/5jAHG1r55bvneO+mFakOlnAswbOH63m3aWbL6nAswf7zLZTn+ijK9GKzJIfQSSkJRGM8d6iewUAYs6pQkZc54blSSg43ttPSN4zbZuWBtTVTtgPnel1sqSmlpW+Y/edb+MTu9eRn3J7fy61A5Zoylm2spHpd+azaYV1ex7STb28GVKHwZPUqTg708GzjWYw0atSa/cP8xaFXeb2jiV9bsZF1OYVYVfW6ByJSSkbjUfa0XuQ79UdpGB5YFCXeiqw8fn3lxkXz/biatLzKuGAt3Yx/x/P5sqWUhCJxjtW309DSi91mYX1dMcvKc1GvmiFiGJKnfvkux862sWVNOR95z4Z5+Y/MBY/PSenWGuoPNVKztpScomR3gKIIKpYXIuZg+mUYBm0X06MEvxkRQmCxmKguy6FqFvXuOwFVUfjwtjUcbezgbEcf//D8Pg41tLOsMIeErlPf3su7lzopzvbSPjBKfIpSnpSSU63d/NVPXsViUqkpzKY6P5tMl51IPMGp1h7eberAkJJVxXkTnFIhGby8dLyBuKazvqKQlSVTu+YqQnDPqkqeP3KW1v4R3m3q5JENy274avJOZdv7N7L+/lXYHNabsqwyH1xmC19ct41Lo0Oc6O9O674jmsbLrRc53NPBfSWVPFG1krU5BbgXOSMiSf5Gh6MR9ne38pOGUxzu7SSW5qzHOJlWO//Pum2Uuq/f+Iq0BCD7Dzdx7mJ6v3SAsuIs7t+1fF7p2mA4xrefepsX950lEk0ghCDb5+Q3P7ydR3atmLBPRRF43XaOnGljcCTMw9vryMxYXPWv02Pn81/5MIGhIG6fE+eYaNZiM/O5P//AnEoH8WiCr/32d2k8k74BRDcrN/KmJaXEkJKYrqGlcdLkfCnNzuCPPngv//MXb3OqpZuXTzSw52QDSLBZzOxaUcFD62r4y6denTIAATApCnXFuZxt7+Xg+VYOnG9NBv5j/oEWk8q6ikK++Oh2cjwTfxMNXf2cbOlGVQT3ra7GPY24VAhBXXEulXmZ1Lf38vrpRu5fU31Nl2LdMIjoGouyupkD8TSl9QE0aRBMxNHTMMdkQdhVolKD+OSbmRACu8m86ALEdCKEoNydwR9s3MXv7/slXaH0zUIZZzgW4WeN9bzS1sja7ALuL61iS14JpZ4MnKa5D02dDiklwUScZv8w+7taeaXtImeH+ohoixN4QNLz41N169ldvDgzX6YjLQHIoXcv8dxLJ9Oxqwls31zNfTuWzdl4U0rJ64ca+PmbZxAIKoqzCISi9A8F+ZdnDrKsIpfqK2bECCFYWZ1PhttO76Cf3sHAogcgAE63DddV3TpCiDnXWhM2LRXA3IwYWjPx8DOAhsn2MCbLuht6PFJKDCS6IdGlgWYYxHSNqK4R1TRCiTjBRJxAIkYgHmM4GmE4FmE4GsEfj+GPxzg/3H9D3wMkz5W15QX8/acf40hjB6fbuglG4mR5HGyoKGJdRSENXQPTDu0SQrCxqoivF72X5r4hLnT209w3hD8cw6wq5Hhd1BXlsrosnyy3Y9KFyedy8OUP7EJVFLbUzFwzznDa+f3Hd9M5NIrHbp1V+rglMMJfvvMawTSL7OZKZ3BmF9i5cGawl9949Zmb+uaea3fxV1sfINexAD+hG4AQgrvzS/i9DTv4y0Ov448vznnjj8fY19XCge5WfDY7Vd4s1mTnszorn3JPBtl2J26LBYtiwqQoKCKZzx7/fYzbJRgyef2J6zqBeIyBaJgW/zAnB7o52d9D0+ggI9FoWktKUyGA95TV8msrN2JRrq9R4G2pAYnEErz2TgOabvAr793Exx7ZSFffKH/7f/bQ0jHIz988w+98YjfmK8RX2ZkucjLdNLX3MzgauoFHP3eEIrC70tPaKKWONIYBHSHsIBbehqZrTcSD/xtIoKjFkOYAREqJJg10QxI3dOK6RkzXiWgJgon4WEARYyQWHfsnwmgsymg8hj8eJRCPEdYShBMJIlqCmK6TMHQ0w0hrb/1iIIQg2+PkkQ3LeGTDskmPX6s8KoTAbbeypqyANWUFc3rt8lzfrI3FlLFgZ2NV0az3H07EOdHfzWg8/R1eNwp/PMbxNJcI0k2xy5s2Mef1RlUU3ldZR38kzLdOHCCUBn+Q6dClZCASZiAS5lBPO6oQOM0WfFY7PpudTJsDn9WG02zBrppT+ihdGsmFjhZnOBphMBphOBZmKBohlIin1Up9NmzKK+bLG3eSYb3+i9i0BCCb11dgSMnQcJihkRBtHUOEwpejT0UIzGYVRRVz0jbYZuECOhUj/ggdPcN4XTYe3LqcrAwnPo+D992zin/80V72H7/Ekw+to7TgsqjOZjHh89jRdYPwLP03bhaEALszTQGIMUBk5EtIvQeT7SGs7t9jwaeJDAOLd0HrDgX4nycO0BsOpgKOUCJOVNeI6RrxsYDCGLsZL/aKYokllrhxWFUTn65bTyAe4zv1R65bMKVLmcqQtqapJXixWe7L4c8333tddR9XkpYAZMeWarZtriISifPq3vP824/3E4kKSgp9bFxbxoraArJ8LiwWlblMVPW4bfMSg4YiMUKROF63nQx3MqpTFMH2DVU8/fIJegYCHD7VSkm+b0IZxmxSkzeoG12fnSOKorBqcxW6buDxLVCtLjUMrQWpt2No5SRNxxa4SyPIYrqnjsSivNhygdFFSrkuscQStxYOk5nPr9mCJg3+7ey7iybcvJWp8mbyV1sfYHV2/g3T1qUlABFCEI8m+NnPj/PjZ49gGAZPvncDTz62gfxcz4ImH84HQzLBcnicwhwP61cU84u36nnzyEUe3lGH25nUW2i6QSgSQ1XErFw2byoE7P7ARnZ/YGNadyuNIMg4iIUNFZQy/YKwJZZYYonpEELgslj54rptqELh384eS4td++1CpTeTr2x7iM15UxsYXi/SEhloms5zL5/kR88cIhZL8MSj6/n1X9lBQZ73ugcfkFTuW8wmwpE4wcjlVbGqKuy+qwarxcS5pl5OXehKBSpDIyG6+/3YrGayroMANZ0IISb8ky6kDCHlwi1+FzsDssQSSywxFU6Tmd9ZezdfXLcNj2VpBADAisxc/nbbQ2zJL7nhrfBpyYBcaOzlqeeOEIkmqKst4EPv24jDvrBV80JwO624nTa6+kZo6x6msjjpHSGEYE1tISuq8jl+roPvPneIDI8dj8vGz/acoHcwQHVpDkW53ht27IYhCfkjOFzWGR0KrwsyBCwsAJFSwlIG5IaR5XHw3k116IZBoe/agw2XWOJ2QowJQ3995UaybA7+4fjbdC9Ci+6tgIJg8//P3nvHx3Wdd/rPuW36DHohQIAkSJBgEasoUWJRr+52LNmRWxx7Y/+SeLPxetfxOk7fdbJxdpM4iVuc2LLXshxbsuWiSlmdnRJJsYMEiV5mBoOpt53fHwOAAFEIiAMSJPHoo480gzv3npm5c+73vud9v29VLX98w200lVTMikqsixYgjuPy9Atv0hdNIYAtNyymdIIui5eKcNBLXXUxp9v62HPoDFvWNQznkoSDXt5z5xqOne7mwLF2/uvfPIbHUOmJpdBUhbs3N1EUvnyuf2bW5Ot/+mP8QS+b7rmOxStrCYR8BTEMktLCMXfgmLsADdVzE6q+BiHGFzrSjWPnXkZRKy/mqLj2qYt4/RwTIaWLKxPYTie204uUaUAi8KAoYVS1jPqyUv7H+2677Hc6c8xxOTFUjfcuXkFtKMzf7H6R/b0duJfZX+ZS4lFV7l+wjD9ct5maYHjWzAcXLUCSqRwHj+T7kBiGRmPDxVysCoOuqWxcVc+p1l6KQn4c1x0WIEIINq9bxIP3refRX+0jlkgD+cZl92xZzv3bVqBcRndAKaGtuZvDu0/x7I92snhlLTfctYr125ZRvaB8TNO66eCYO8nE/jPSzXtYKOl6fCX/gqovH38sbpRs/PPnLGnfKgVYxpnjHFJKHDfKQPonDGR+jmmdxpUDSJlf4xZCRQgvqohg6A0EvLcT9N2NplbPmolnjjkuNaqisKmqjr/bdj9fff01fnbqCJlrIC+kzOfn4ys28MGlq4kY3lk1B1y0AOkfyBCN5X0zdF2lKDzWsOhSI4TgzpuWsWnNAspLQmjnVdJ4DI0PvWMj61fUcfhkJ1JKGhdUsHJJ9WVv3a7pKms3LyXRl6SrNcrrrxznwI6T/OTrEVbe2MBN91xH04ZFFJeFUKZZIeSY+wbFR175u84ZHOvohAIkv112Ln1jlmE7bXTH/5hk5lnAAjRUJYxQShAIXGkiZQrLPYvltJDKvkAi/Shlkc/j99yMmEWdPeeY41IihKA+VMSf3Hg7Gypr+PrBXZyM912VU5wmFNZWzOP312xiU3Ud+iU2GZsKFy1ATNMmN46d7+UmHPQSnsBRVAiBx9BY21TL2qbaSzyyydENjQ/8wT3c+eCNHHj1BK8++QZH952mrzPO9h/v5qWf72d+QyUbblvOxjtWsnDZPHxBz5REn1BKARUY/L6EH0Wd661yJSGlRWzgmyQzTwESr7GeosBv4jFWoiihQQGSw3Gj5MxDJDO/JJPbRdbcT3fsj6gu/Roevemy3yTMMcflYotApGYAACAASURBVCgv5DeWrGJDZS3/dmgPPz11mHju6jC8E0BVIMQHGq/jwaWrqfAFZu3v/aIFiBBieMnCshz6ExmklLP2DV8JaJpK1fxSKmtL2PK2tbQ1d7P7+TfZ+cwhTh9up/nNNk4dbudX33uFxjV1bLpnNWtubqSitgRVUyb87DXvbejW+wZzQHQ0372o+rrRGyk+dO89SLevQO9GYpt7kU5LgfZ3beO4faSy2wEXXVtAVfGXMSYQFD5jIyH/O4km/i+x5L9h2s0kUo9QXvRFrgQT5Lx99eUexRxXK4oQLAoX84WNt3Jn/WK+e3g/L7efnlH31JkmYni5bf4iPrp8PStKK9DExNeD2cBFz0J+n47fZ9CfyGBaNqfO9LJhTX0hxnbNI4TA6zdoWFnLwuU13PubN9N8qI0dTx9g34tH6Tjdy+7th9n34jHKa4pYv62JD/7BvZRUjF/tIJQKvJE/Q7pxQEUoRQihn3fMYjzhz1PIdZds/x9jpecESCFw3AEcNwaAR2/C0JdMOMEIIdDUUopDnyCV/TWmfZyMuRPXHUBVp2ahfjmp8Af5aNM6WpMJotk00VyGATNH0jJJWxame87hdo453gpCCLyaxpZ5C1hbPo9XO87wyPED7Ow8O2O9ZGaCYo+XzfMW8IGlq1lbPg+fps1q4THERQuQUNBHWUmQjq5+pIS9B87wjntWX/ZcCsd1sW0XXVMva1JpoVAUQbg4wJrNjazatJhYd4Kj+1rY/fybHN59io6WXrb/ZDd3PbhpYgEiBOBFqFUTHie/TWHvjoUSKuj+rmWEMBAi72cgpY1EXtBbWFXK0NRqTPs4jhPHlWlUrgwB8p/X3owk35HWdAf7+5g5Bqwc0WyGaDZNTyZNTyZJdzpFdLDPT8LMDvb2sTFdB0e6c0JljgkRQhAyPNxZt5ib59Wzv6eDJ04d4cX203QkB2ZlTyhdUZgXCHNr7SLetmgZK0sr8apXhvAYoiARkMaGSg4dbScUzFunp9K5yy5Adh04wxPPH+DTH9jKvMvo6zETKIqgpDLMqhsb8IfyWc2xngS2NTsbSAkRIh9Qn7kLgCIUlGnY/M8mpjNhaEo5XmMlyUwbOesIlnUSQ182yT4krkzhuPHBY2kTll2PetXwxVoO/ju0/7dudieRg6fA2H3mxzZ2v2Kwk6hX0/CiETY8VI7o0jo0zqHuoqZjk3UcMrY53JdjSKT0ZlL0ZFL0ZlJEBzsbDzUizDl5oTLUqXQmme3n6Wzwh7hcDOWH3FRdx8bKWs4m+3m5vYXnW09xoK+T3kzqkjeLG4kmFMp8flaVVXH7/AY2VddREwzP+qWWibhoAaIoCndtW05dTQlNS6qpqS4iUKDGaG8VKSX7j7Sy93ArmezVUwIqpSQ9kOXUm23s2v4mr798jNaT3aQHMghFobahAq//8hnATYQQM9vWuyYY5sub78ZyZt9dylSoDoSGO2VeCCF8FAc/Sc46jmWfpjv+xxSHPomhLUEI73DORH6OtAbLdX+GaR8DQNcaUMTEhmRSSlw3TtY6QNZ8A8s+jStTCHRUtRxDW4RHX4ahN6CIyJQnPSltTOs46dxrmNZRHJlAoKGqpehaPT5jHR595bQrdIZ7OZG/cGqKgV8H8HF+310pJc6IFugZ2yJlWyQGuyTHchm600m600l6svnupLFshtZkP7FcZlrjmoim4nI+uWrjJW97Ph18uk6p99J3Rp1NCCHQVZVFkRIWhot57+KVnBmI80ZvBzu7WjnY101nKsGAac5odEQTCkHDoCYQpqmkghuqallbPo+aYOSKWWaZjILE2pctqWLZksvX0OZ8bNulpT3KpH3IrxCklJhZi/bTPex5/gi7nj3EyUOtpBIZhIBgxM/arcvYdNcq1mxdRnXdLKxqUYLMZAQk4vFyd33jjOx7tiGEwOe5gerSfyQ+8K+kss/T3vc7qEopivBwLqog88ZzcgDX7QdcFKWYSOBBhBj/4uLKHKnMM8SS3yJrHkDK1DhbKSgihMdoGizrvf6CY3Zllnjyu8QGvo7tdDC2waEg5H87VSV/j2DmBLQQAk0INBQ8qkZoAmtuKWU+muI6mI7DV/a+xL8d3luQMZT7Aty7oBGfdoX1m7qGEULg13WWlZSztLiM9yxeSTyXoSM1wIn+Po7GejnVH6MjlSCazZCyTTK2he3KwQ7ckvw/I/YJiMFooiJAUxR8qo5fNyjx+qgOhFgULmFpcRmLIiXUBiNEPF7UArfbuNwUrBndbEBKiWW7tHXFOdMexXYkp9ujOO7kFz5DVykO+wkF8neQl/v9SClxHZfezn4OvnaCHU8f5M3dzcS6E7iuRPdoLGyax7pbmrjxzlUsWl4z5VLcy4EQAabTBXmOyRFCwauvpiT0KXLWUXLWAWyndZJX6BjaIopDv0PQN74rqutmiCW/RXTgn3DdOCBQlGI0pRwhvICN4w7gunFcOUAmtwvTOnFBASKlJJV5lr7+v8WVCUBF1xaiq7UgVKSbwZUDKKJo1pwhQghUIfApCj5Nx6/PiYU58gyJ2DJfgDJfgJWllUjAdl3StsmAadKfyxI3MyRy+VylpGViOvmEaUdKVCHQFAVD0QjqBiHDIOLxEjG8RDxeQoaHgGagKcpgJdhs+WUUntlfizcFHMfleEsPrx9t4/WjbZxo6aG9O44rJV/+5tOoFwhva5pKZWmIuzc3cd/W5QR8l28JyXVcDu44yYtP7GP/S0fpOhvFMm2EIiipiLDi+kXcdN9qVly/iOKKMIoy+xWxUEIIpQQpcxfdWXeOIVziqYfJWQcBBY++bNDf41wbASFUFCWCR2vE61mHrtaOm/8hpUsi/ROiib/HlUlUpYRI4EGCvvvRtXkIdCQOrsxgO53kzIOkcy+jTiG5WMoM/alHh8VHJPAAJeHfRVMq8zW20saVQ/4Lcxf6Oa4shnKUDFXFUH0UeXzMD11dOYczyVUhQNJZk79/+HkOHGsfTiJzB6MeqYw56Z2VBKQr6Y0lOXGmh1Q6x0Pv2DjGPfVSkctaPPyVX3Dg1RMABEJelq6t58a7VrH+libmLSxHN66stT9VX4u/9DsgJUKdd7mHc1UgsTCtZkDi0Zcxr/Qb6FodMN1kNInlnCE28DVcmUQRIcojXyAceN+YEm0AQ6vDZ1xPJPABprKk5rjR4fwTTa2mOPSfMLQF5zYQoDCzOUJzzDHH7OSqECAeQ+OBe9dxz+YmALKmzfef2M1AKscH7l9PRcnEE5wrIdqf4vmdxzne0sMTvz7InTcto6ay6FINfwwCQW1DBeu2NbHp7lU0rJxPMOK7okTHSIQSRFVWXO5hXFUIDDxGE+ncC0jpIoTB9MVHPk0qlXkO024GIOC9jZD/XeOKj+FjCzFhHsn5uDKN6+b7LWlqBZpaPq3xXetIKXFxiZv99Jlxcq6JJlQCmp8iPUxQC6Ccl7grBxNto2aMqBnHljYexUOpp4iIHkZBwZYOSTuFoej41dFzi5SSpJ3CkjaGohNQx2+v4UqXATuJI11UoRDSgmPGMrRd0k4TNWOk7Py54FE9RPQQYS2EoehX7Nw2x8VxVQgQQ9fYdv2S4ccDqSw///UhTMvm1o1LaKibfNKTUnLjdQv4/N/9lJ5okrOdscsmQHRD46E/vJfymhLKqosmdTa9WpBSMmCadCWT5Gwbr6ZR6vdT5B3dOMl2XbqTSWLZLJqiUB7wU+T14UpJxrLw6/rwcpuUkoxt47juqOeHyNo2OdvGUFW852WT265LXzpNNJPBlZKArlPq9xMwjFElilJK0pZFXzpN0jRxpcSn65T5/YQ8nhktZxRCoSjwYXLmQTK5XfQm/jdFgQ8PLrGoqEoEVS1FMHnzKYlJOvcy4AA6Qd/dgzkfhcJlKFIi0IC5PjTTYcBO8avO7bzWt4eY2Y8tbRQUvKqHRYE6fmfxh4no56qapJT0Wwl+0fEcO6L76LcSONJFFxolRhEbS9dyd+U2WtJt/PvpH7K2eBW/WffuUce0pM3DLT/myMBx1hat4qH696CJ0ZcKKSVvxA/z/84+humYbCpbz7tq7sUYIUCklMSsfl7oeY2d0f305PrIOXlzL13RCWh+an3VbCxZw01lGzCUueXZa41ZJUAcx8UeLKUUIt/V9lJcfIUQLJpfxoKaUnYeaCGRvHw9ATRdZdWmJRfe8CrBlZIdra18dcdrnIhGsV0XQ1W5obaWP7/9DoJGflJKmib/uncPjx85QiKXQ1cUqoJBPnjdakp8Pr69by9f3HYLjWX5KiBHSv7ulVc43NPDn99+OwuL88ZbUkri2Sx/+/LLHOvr5VMbN3LLgoXDf2uJx/nO6/t5qaWFvnQGSV5U1IbDvG/5Ct6zfPmwmDnQ1cXfvvIyzbEYGctCkl8LrgmFeM/y5byrafmMJjDqWi1FwQ+Ts46SSD1KMv0rQILICxCPvpSw/z0EvLcjxPgRNNdNYtlnAFCVIIbecNUL3isFy7X4SdsvebLzeVzpUmoUU2IU5VtEullyroV7XglozjX5wdmf8uvuVxECqr2VlHtKcXHpyfbxRPvTtGU6Cap+WjMdLArWj3JkAUBKYmaczmwPcSsxZqFNSklz6gwPt/wHZzPtrAwv5Zbym9BHiBQpJS3pVr5z+lEOJ/LLySE9QIlRDEhM1yJhDbA320tHpotVkSZKPXMC5FqjoALElZJoLMWJ5m66ehNoqsL8mhIW1ZcT8BsXnNhef7OVHz6+G9d1CYd8/PZvbqFqAlfPQiOEwNC1WVEFMx7njKHOMRvHOV16Uim+/OKLnIpFee+KFSwtKyNnO/h1fdgbQ0rJL48d41927WJ5eQWf3LCBgG5wqLuLb+3Zg6oI2gcGyNgjmiJKydn+fo719ZId8XzGtvn67l08duQwD65axcaaWoQQSCk5HY/z3556kqO9vdxQO5+3L12Grir0ptMc7e1lb0c772pqYiiNs21ggKRpctvCRSwsLsKn6/Sm0jx3qpn/+cKLuBI+eN11MxIJkdIlmXma7vif4bg9gI6qhFGUYiQmtt1B0n6SVPYlioIfoTT8GVQxNmlUygyuOzD4SGBax0c8vhACQ188t6wyQ3Rme3itbw+OdFhXtJIP1r+HUiMvpG1pY7k2YX30d9qSbmVn3z5cXLaUbuTBuncR0UNIJP3WAK/17eFn7c+QtifxNZnkdJVS0pPr4+GWH3E2006tbx4PLXgv5Z7SUfNRzIzz76d/yJuJ45QYRdxTdStrilYMjzfn5IhacZqTZ+jMdqNNwRxvjquPggkQ23Z4eedJvvfjHZw+04tpOfn6aZ/BdU01fPiBTSxbPLlXSFlxgJOne+jqSaCqCquX1/K2u667JBdaV0oyORNdUwn6L6+R2kgs06a7LUrL0U66W/tID2RRdZWSijB1S6qYv7hqVpfgXohTsRgno33csnAhn9u8BY86diKyXZeXz+Tv0j+9cSO3LlyIEIJ7lixhTXU1//2pp6fUtMxyHH548CDff+MNti1YwKeu3zgcobBcl3/du5eD3d185sZN/Obq1QQG/+YOLuckc7lRSzk3zZ/PxpoaIt5z9flSSm5duJCPP/4YT504wbubmggYhb+zs5xW+hL/G9tpRVGKKQ39HkHf3ShKBLDIWcfoS/xfMrlXiSe/jaEtIBL44DhGX+6wQ4HjxuiM/Vemukwi0Kgs+TJh/zsK+t7myNOZ7SZhJTEUnTsqt1Lrq77g77w900nKSWMoBlvLN1HmKRn+W7mnlHurbsOWLj8889OJdzJBbrFEkrLT/ODs4xxOnKBID/Ob9e9mgX/+mBySl3p3ciRxEp/q5aH693Jj6XrU8869Kl8FTaElWNIas8Qzx7VBQb5115W8tPMEf/e1Z4jF0yP+IhlIZnl510m6ehL8jz+4n4X1ZRP+iKoqIqxYWk1XTwLHcdnzRgt337YCQ5/+MFVFoKrKlNtpWpZDNmcTCfomTVq9VEhX0nKsg59++wX2/vow0a4ElnnuTl5RBYGQj6Vr63nnx29hzeZGtLfwOV0K8tGboVCxGHURTJomlutSG47gUSdecjNdBwF4tHMCRVMUNtfVs7yinMM9PZOOwZWSp0+e5Ks7drC0rIzPbd5Cie/cskT7QIIXWk6zuKSE965YMbz0A6AKQdAwRj0HEPGOzZWQ5KMsruuOCY8XCiklqexz5KxjgCASeJDi0G8NJqIOjlmpQIkEaev9GI7bTSL1KCH/21DF6NwmITyDBmaDo5fuBSxbJFKa5IWLBnJ22v9fDWScLK508ao+io2puc5abn6OUBB4xsmp0BSNTSXreLbrRXpyE3S8nuAwpmPyePuT7Ojbi1f18L7at7G6aPmYcaWcNDuj+3FxWR5uZH3xdWPEx/ChhMCYK82/ZinIFau7N8F3f/jasPhQFYHPZ2BaDubgRfPE6R6+9+Md/OGn7sLvG/+E03WVNSvr+PUrx3BcSUtrlGQqR0nR9Ibp9eh89N03ks1ZlBdPTUx4DI3feWAzrisvawUM5AXdG68c41+++CNajnciEOgeDUVVcB2XQNiH67gkExl2bz/M8TfO8tBn7+OeD2yalSLEtY9jpb+LlBa6791onhuG/zZ09z3Z3KoqCjfU1PJcczPfe+MNSv1+5ocjeDQVQ1Up9k1ckZE0TZ46cYL2gQR//dKLFPm8/NHWbdRFRk/o7YkB+tJpmsrLUQTEs2PzgAR5m2rjvCiNlBLLdTnb38/2U808eugQSdPijoYGfDOSA+KQze0HHITwE/BuHaerscCjN2Loi8nkujHt09hON6pyvgDxo6plYJ9AEUHKi76EoTVMeGRXpujp/0tM6wgCBaFc/ZbdooAWadPxAh7qcjMdM6pKbxmGopNzTQ4ljtIQXIB6Xp+QsB4ioocnFiAjyDgZcm4OAWzvfoWnOn8NCO6tupWt5TeijrN00peL0ZXtQSBoCi8eVwjNMQcUQIBIKdmx9xTNZ3oBCAe9vP+dG1i7qo7eaJJHHt/Fm0c7AHh1VzP7t5xl04ZFEzaealhQjs9nkEzl6E9kSAxkKCkKTGtMuqaydcPiab3GY2hsWFk3rdfMFG3N3Xzjz37CmeNd1C2uYsvb17KwqYbv/M0TdJzu5WOffzu1DZUc29/C9sf2cPpwO9/7219SXV/Guq3jNyaT0kW6fTBoBiaUsmn33XiruE4LZur7gIWqr4IRAmQqKELwzmXLONMf5+fHjvHJxx9nfiRCic+HX9c51N096et/cOANcvsddEXlC9tu4bqqsUuBGdvGdl12t7Xx2489Nu5+NEXhM5tu4ua6c+eJ5Ti83tnJTw4f5qWW0/Sk09SGw3z25pt534qVM+Tu6eLKfJ6GQEcRQ1b3oxFi6G953xApx7YXV4Qfj95EJvcaUpqoShF+740THtl2us7tX/GjKVd//odawOVNFzluPlehWBSopyncyOvxQ/yy4zlcKVlfvIoSTzGGoqMKBRd38pyLEcM7nDjOt089wuLgAn7S9ityrsnmsuu5f94dGMr44jphDZB1TQQCVah0ZiePTgJ4VINifeq9hea4OrhoAWJZDjv3ncYZrF659/aVfODdG9F1FSklVeVhvvTXP6WzJ0EyneMXzx5g7ao6fN7xT96y0iDhkI9kKkc2ZzGQHDtpXs04jsszP9zBqcPtLF1bz2f+5gPUNVaRTZs8+k9PI4Sgqr6M1Tc3ct2mJWy6ZzX/+PlHeP3lY/zsX19g+YZF+MZtBmiSTfw5jrkXVW/CV/QVGCcpcUZw0+TLPN86RT4fn9u8hXc3LefNnm7O9PeTyObI2vakbdbL/H5+a906/mXXLqpDIZrKy8cVBT5NQ1UUPJrG/Ehk1F2vRLKnvZ3uVIqB3Lnz0XZdvvfGG/zzzh2YjsPa6mo+vfEGbq6rozoUuqAD71tHQVUGq3owhzvdno+U5qADKSjChyLGE/IKAe+t9KceQco0ycxTBHy3o4xTiiulJGcdx7bbAdDV+kHzs6ubqTYKnAq2685oN9WgFuDD9e/jEcXgQP9h/qP15zzZuZ2IHiag+fGoBqpQact0Tml/ftXHjr59vDqYDLsivJQH6t45oTcI5Mt4h/xLftz6C55of+aCx1kWXszvNHxobjnmGuOiBchAKsfZ9igAfp/BzRsXo2n5H6wQgiUNldy6eRk/eGwnUsL+g2c5ebqbFUvnjXsC+706oWB+8rNsh1zOutghXlGk+jPse+komqbyrk/cSv3SiRPPhCKoWVTO+3/3Tk4cOMuRfadpP9VDw8racbaWSKcL6ZzBFQZS5hBcGgEiZZJCNKLzaBorKipYUVEx/JwrJf/lV7/kpZaWcYWF47psrqunyOvjyy+9yF88/zxf2LaN2nB41OdaFQxS7PUyPxLhL++4czgBFSDnOHz6iZ+RyOUo9p27MLcmEnx77x6KfD7+aOtWNsyrySe1ikIG7cdDxWusHhQNWVLZ5wl4t4zKAcmLhSOYVr4E0qMvQ1Mrxuwp39zuevyeTaSyz5LMPIk/tYlQ4N0IzlWuSSlx3C7iA98atlUP+e9DVUrG7PNqw1vAxnE5x8aZwe6pQghqfFV8uuHDHEs2c7D/KK2ZDhLWACknTb81gC1tss4kVgMjTt6NpWuxXIvnu1/FUHRuqbiJMqNk0kiFoQz65chzS6zj4SJJWAM40mHASl4NvUPnmCYXLUBSqSzJwShFKOihvDQ46uRUFcGtNzfyq+cOEutPkxjI8tKOEyxvnDfuur+qqniMfHjQdeVwZOVaIdmfJtrVT7DIz6Ll44u0kQghWLS8hqq6UlqOdkwiQM4hZRZkYdqLTwUpp1rWOTlpy0IRYjhZdcjT40x/Px5NG7faZOiO8/7GRlwp+euXXuRPtj/Hl265NR/pGPx854VCbJhXw4stLezraOfmunqUwWOcisU43ttHXaSIBUXFw/vuz2bpz+W4qa6Om+bXoQ/mhkgpyTkOqqIU9O55CCEEfu9WDG0xpn2URPrH6FodId99KEoYpEXOOkpf4is4bh+g4dFX5nNApImihBEjqg4UEaYk/HuY1nEs5wzd/X9O1tyP33drvmcLNqZ9kkTqx6RzrwDg82wk7H8f51fMWE4nOfMAQ4LTstuGl34cN04qux1lHBdVVSnGa6wdNa7Zgl/TC9bLOW1ZWDM8pwkh8Gk+rossZ1WkCVva5BwLW9q40iXrZPmXk9/lWLJ5/B2MeKOqUHln7d0MWEn2xA7w845nqPZWsDi4YMK5KawH8aoeTNfirspbuKXipnG3S1gJ/uH4t+nK9eBRjHFdVOe4urnoX3vOcsgNJpoaho5hjN6lEIKFdWWsaqrhhdeOA/Danmbe9/b1lI1TbSKlxHWHXnt1eF1MB9t2sC0Hw6NPOaHU6/cQKvJjWw4D/eO1UD8PmZ2g1frMIN0BRs5qGcviyRMnSOSyHOntxXFdDnZ18539+4dFaYnPx+2LziVx2q7LP+3cwYm+KDfOr2V+JILpODx14gSHe3rYtmABlcFxzifyURJdVXnHsmWoiuDLL77IF559hi/deisNxfm7OY+m8bF16zjQ3cWfbt/OA6tWsbi4hJ50mh8dOkjCzPG7N95AeeDcMkZ1KMSComJeON3Cv+7dS2NZKbbrcjoWZ29HOx+8bjWb6+pm5BzW1fmURT5Hd/yPsZ02euN/STz5bdTBpn+W0zbY1RbAJpb8Fon0j9DUCiqK/ic+z5rhfQkh8BnrqSj+S3rif4FpHyOe+g79qUcGoypysGGcDaj4PDdSUfRnaOrYXJpsbjcd0f88ojrGRZKPYpr2cTr7PsN4+So+z0Zqyv51VgqQkOGBAkmQoVbtl4J8o7R8lclIl9GRHiAKyqTRuqyTpcgI85GF70cCe2MH+Hrzw3x84QdoDDWM63FTYhRT4Smj3xogasYoNYrQlLHfq+ma5Ny8OK30Vsx5gVyDXPyvXUqGYmdSynHDaIahseXGJbyy+yS27dLaHmPfgTPcsbVpzARmWg7pzKBdr6bi8cy+CWkm8foMfAEPiViKWHeC6vqyC75GSonrSIQAZQp33FLmkDJ9we0KgZQSZHLUc7brcqi7m70d7bT2J3CkZH9nB82x6PA2jaWl3FxXPyxAXCkp8nppH0jwDzt2YDn5C5yhqtxcV8dnbtw0atlkPDRF4f7GpahC4as7dvDVHTv4b1u2UBUMIYRgVWUlf3XHnfzTzh18bdcuTCfvZVMdDPK5mzfzzmVNoybccr+fL2zbyj/u2ME39+7BdByklKiKQmUgQE9q5kSeEApB311oahnx5HfJ5HbiOL2D+RkCofjQ1Hmcf7F33AEk5jj7Uwl4b0Uvq6M/9X1Smeexnc58tAxQlBC6WkvIfy9h//vR1PGXBj3GKkrDf4BpHcO0T2E7bYOJqy4CPV9xM84lL1+dMztvNkKGB11RMN2LLzlOWxZxM8tMZs5IKbGlgyqUcfvE9OT66DHzv7WIPs4y7IivIeeaSCkpM0r42MIHEEKwJ/oGX29+mI8tfJAV4cYxxwioPtaXrOZE8jQH+o/Qkm5jUWC0EHelyxv9h0lYSbyKh5WRpdfczeYcBRAgmqaiDXozZLIWmex4k5vguhW1zKss4kxbFNNyePbFI9x0fQOB80y/YvEU8f78xdHrNQiHrv4yv5GESwLUNlSy+/k32f6T3SxcXoPXP3liVi5rkhrIoGoqwYh/0m0BkDmc3AvIERUNM4ljHR/1OGgYfG7zZlKWxc7WVj731JO8felSPrnh+uFtDFUl7PGMevyxtet417Im2gYGiGUyCAElPj/1RUWEjAs77UJehNyzZAkbauZhu5KI51xOhyIEG2tqWHbf/ZyOx4hmMng1nfpIhMpgcMzdnhCCDfNq+Pv77udMfz/RTBopIeL1UB0KUeqbwndxEQih4jU2UFmyCtvpxLY7cGWKfJJqEapaghhjKiZQJ3AuFULB0BZTHvkjioOfxHbacNz+/GuUYnSti50zSAAAIABJREFUdjDnY+L+RIZWT0no04CNK9OY1nE6or+HZbfgMZqoKv4KijI2GVYIT4F70BSOkO5BV9XCCBDboiczvjAdato25B+TsTP5CB6SAStF3EyM2l4RgoDmH1MKa7omP2n7FV7Vw8rwUsq9pXgUD6506TWj/Ljtl8TNfnShj7+UMuIm0h3sLi6EoNQo5iMLfgNXuuyNHeBbzf+Pjy98kBWRZaN+G0IIbi69np19+2hOtfDdlh/xvtq3Ue+vRVc0sk6Og/1H+EX7s7i4rIosozG06C1/pnNcuVy0APF5dXxenVg/pFI5evuS1NWMTVKqKA2xacMizrZHh5NRd+9vYeumJcPbuq5kzxtn6B/IDr4mOO0S3Csdj8/glnet5+COEzz9yGtk0zm2vn0d4ZIgZs4e9zX9fUniPQP4Ah4qaorH3WY0JrmBv+fSNQYbPW4hBLqqUqSqrKuupjYcJuTxjEkMPR9VUSgLBCgLXNw5oSkKVcHxE3CFEES8XlZXVU9pX0PbrxrHlOxSkA+zezG0BaPb3F/E/kBH16rRtal9BhPtQxURPMZKPPoqLLsFgQdNq0FVLk17hUJR7PHiUzVS1tibq+liuQ6n+2PIWjnmXE9YSb564tv05vLRibSTRSLJ2Bm+3vzwqF4rABEjzKcbPkKFd3SUtC3Txa97XiVm9hPQ/BTrEYJ6AMd16DWjxMx+BLCmeAVN4cYpj10IMRwJAdgXO8A3Tn2fjy14gNVFy0dFQso9JXyo/r18+/QjHEmc4CtHv0aFtwyv6iFppejO9WK6FktDDbx//jvwq9fWjeYceS5agAQDHooiftq7+snlLI6f6mbddWMDjKqqcPuWJp598Qi90STpjMm///AVSksCNDZUIiUcPNLGY7/cN5x4uqqpluC4JaVXL0IINt1zHUf3tfDL77/MM4/u5IWf7sXr95AayObdXUcgpaT5UBv90SQLm+ZROb90ikcaX8xcaop8PrYuWECZ/9oSmtcKAg8+z/UkM7+43EN5y4QMD2GPl97sxS9bulJyJNaDI8d6cXhUgzVFKzmebKY720vSzkdKJGC7Niij17ct1x43K6XCW8qDde9id3Q/LalW+swYndluQGAoOjW+KtYVr+LuqlsIauNE6SYJJA6JkN9a+CAPKwYnkqf4aftTBLXAqGiKEIKm8BJ+f8nH+VXndg7ED9OR7cZxbTQl35l3bfEq7qm6hQrPxO7Yc1zdXLQA8XoN5teU8OaxDiTw+qFW3n3vGjyesevxixaUse2mRn78871ICSdO9fCn//sJli2pwnFcjhzvpDeazxeIhH1s3bQERbn2TkxfwMNDn72PcHGApx55ld7OfsxYfjI6X4C4rqS7NUrDilo2v20NoeKZDfsXGlUIPr1xI4Ve/5+r6Jsd5BNc16BcKs+ZGSCoG5R5/TT3Ry+88RQ4GuthwDQp9o6+6/cqHu6rvg1bbiPrZNkfP8TXm7+HLjQ+2fAQ8/3zRm2voBDRx0aTglqArWU3cGPJOuJWgpgZJ+Nk89VTqo9So5iIHh7jkDrMBX48Q8sxn1j0QdJOPqF1vAiGEIJaXzUfXfB+omacvlyMnGviUQ3KjBJKjCJUMbr9wmQmbRcrUmbSAA7GH99Ex5zueynkfrKOTdRME8+lsVwHTVEpMnyUegJ4VW3Ufgt13Im4aAGiKoJVTTU8/es3cV3JsZOdtHXGWVQ/dp1Z11Tec99aXj94lhOn8+54XT0JunpGr22qqsK9t6+kacmFmy9djQghCBcHePAzd7Pl7Wt5c3czpw63k4ynUVSFkvJzk46iCN758W287SNbMDz6JEmoKpr3TpRJbLZnBoljvoZrnxz3r0IIgkbho1yKENw4fz7VodC4PVvmuHQY2mIigfejKCEEM2FNP7N4NI3aUISdXa0F2d/pRJzTidgYATI01+lCQ1eCLAsvpsQoImWnKDYilHumGt0ctOJXDSrVMiq9F05kny5iMP8kMF4E5bztdKFT6S2n0nth11wJfL95N/v72hhSQk1FVXxk8caLrpJxpOT7zbt5I9rGuRueoQusmOL/D73m3PO3VjdyX+3ycY85YOX42tGX6cqcqwS8b/4Kbque+tIXwJ6+s/zw1N5B00VB2PDyqWWbKfdOrdWIlJKebJJnO47xbPtRTiWjJKwstuugCYWQ7mVBqITbqhq5o2Ypld58Yn7aNvna0ZdpT/cD+e/iw4s3oheoYumiBYgQeQFSVhIkm7NobKicdNvaecV8+mO38H+/+RxnWvvGVM14vTp3bG3ig4Nuqtcymq5Sv7Sa+qXV5yqMpEQooxO+vFPo3iuEgSf42zM42vGRUpLt/x8TCpCZQlUUPrp27SU9ppQSR0oytkXatrBcB2Q+gTagG3g1DQVxzYlqRSmivOiPyU/aV95714TC4khpwbxAEmaWVzrOsKZ88husIj1Mnb+Gw4ljBTjqlcOe3rP8vPXQ8OOEleWhhusv+mLlSpfdvWf4Vdvhi9zTaCp94QkFSNax2N5xjBMDvcPPNUYqpi1AzqZi/PTMQdzBM7DCG+TDDddPSYDYrssr3c189fCLHIi1Y49jhNdvZWlNx3m1+zSPnz3A7y/fxqbyhfRkkzx25gCdmXyQYOi7KBQFqXGdV1XEJx7aQlVFmCULK/BN0GwO8hfMddfV8yeffTu/fPYgb7zZykAqi66p1M4r5pablg5Wx8xZ8o5ECDHokXFlTeBCCIRy+bsLzxRSSiSSjlSSnZ1n2dnVysn+KLFsZtjvwafpVPgDrCqtYmvNAlaXV+fNra4RIZJ/n1fuzYQQgsaiUgxVI+dcfO6UBJ47e5IPLltNsWfi5EtNaFwXaaLPjI1JQJ3jrTETv7jZ/Ct2pcvT7Uf4qzeeGozCTI4jXV6PtvHFPT/nj1bfRUAz6DdnzrSyIGe1oavcdUteAU5lUlUUwaL6Mj710W2k0jkyWQtNUwn6PRjGxC3Z57gyEcPN0q6uzAwpJbFchkePH+TR4wc4nYjnox7jcCzey0vtLTx8dD83Vs3nt5av5/qqWnTlyr0wX0ssjJRQ4vXRkSqMq++haDevtp/h3gWNE7daEIIt5TewvuQ6wtrVK+IvFZqi8NDijWyqWEjSzjFg5UhaOZJ2bjBqadKa7qd5RLTCUFRWFFVTZPjwaTp+zSCoeQjqnuH/rix+a9ViM42Ukv3RNv7mwLOjxIcAyr1BriupoSFUhl/TSVo5TidjHOnvpC3dT3umn78+8AzXl9WRdWbOOK8gAuStCAYhBKoqCId815zXRyGRMm9XL12JoipjklRnA0K5chMQJ0JKSVsywV/s2s7TZ05gu1Oz1x4wczx95gT7utv5xMrr+VDT2msqGnKlUukPsiBcXDABkrEtHj6ynxuq5k/qF+NVPXjVS1wJKEBVVDShoYnJnVKvJBShcH1ZHdeXnavSHEqydGS+ZcNPWl7nS/t+MXyrVOzx86fr7mNRsHTQ2O3KWULttzL885GXaE2fa1apCYU7a5bxicZNLAlXYCjn2lpY0qE91c8PT+/jB817OZOK0ZaOz+ht41xcbxYipcTK2Rzdd5rmN9vQPRrL1i2kvrEaRR39A5Cu5Mnvv8LrLx9nxcZFvO0jW1G1WSZCrsIISCyX4X/u/jVPthyftBvvRPRm0/yf/S+Tti0+dd0N+ArY8GyOwhPQDdaVz+PVjjMF2+eu7lb+48RBfmvFhhnpGfRW0YTG+2rv567KbRQbkau6R8vQXKoJFQ0wzrOMVxB4FQ1DvbIulVJKXupqZmdPy6jnb61ewhdX302pJzDqOiKEwBAa9cESfn/5NgKawT8feakg5nuTcWV9qtcIuYzJD7/6DE/82wsk+/OOn6XVRTz0h/dx+3uvR9XOhe2FIvD4DF598g1ajnVw831rKKsuuoyjH4sQAWb3Sun0cFyXR48f5Km3KD6GyNg23zq0m/mhCO9dvHLcvhpzzA4EcEPVfL795h7SBerlYjoO3zi4i8VFpdxSu2jWfP+KUGgILrjcw5jjIsg4Fk+cPURmxPJJpS/Ep5ZtHiM+RiKEwKvqPLhwPa90n2JXb+EE93hcvdL2CkVKya7n3uTxbz5PJpWjsq6EcEmQnrYY3/vbX3LyYOuo2mwhBEvXLqC4PExve5yus32XcfTjI5QIQq1GKBUwTifUK422VIJHjr1RkLuDpGXyjYO7aE32F2Bkc8wUQgiWl1awIDwVp+Gp051J8Wc7nuPFttNTXsabY44L0ZaKcyDWPuq5rZUNLI1UTmkJqcTj597a5agzLIrnIiCzDCtn88JP95JJZbnrwU088Ht30dsR5x8//whnj3fy5A9eY+HyGvQRXYdLKsJU1BZzZG+C3s7ZdyFT9dX4S/4NkCjqxGXaVwJSSl7rOMvpRPzCG0+Rk/Eoz549yUeb1hXEbCnnWvTlksTNNKZroykKYc1HiSdIQPPmi2GneBw52AukEEz1uPlyZpe4maI3lyTrmKhCIWL4KfOE8Kn5CrmhteuR45vOe5supV4fm+fV82a0u6D7PZWI8d9f/hW/s+oG3tWwnLDhmRV5BkOf7Ux+pnPMDMcSPcRy55x7DUVlc2UD2hSX04QQrCmpIax7ic32Kpg5CsdAPE3L0Q58AS93PnAj1fVlVNWVcv+HN/O1L/2YXc8e4p2/tZW6xnOZ14ZXp7g8jOM4pAdm7mR5qwglgKpMr+59tuJIycvtLTjj1NK/VWzpsv1sMw8sWYVff2vl51JKomaSl7qPsr3rEKeS3QxY2eGuqH7VoMpXxPWlDdxetZJFwUrUKeQd9JlJvnniORLWxdmQl3vCfHzxbYT1ySNgtutwJNHOE2172Rc9RV8uienaqEIQ1LwsCFZwd/VqtlU2EdS89JlJvnXiOfqtNGHdz8cbbqXcOzO9ZhShcHf9En54/ADxXLag+25PDfBXu55ne2szDy1bw4bKWiKXWIhIKTFdh/5clvZUgsPRHo5Ee/jA0tUsK7mwidgcswMpJUf7u0b5fUQMH4tD07O8r/KFKfUE5wTItUQmlSXZnyYQ9g47ngohuP62FTz+rV/T0dLL7ucPM39J1Yi+C2B4dJDg2HNh3JlkwMpxvL/3whtOkxPxPnoyKerfggBxpMu+6Cm+fvxZDsbPYsmxS0NJO0t3LsGB+Bl+0b6P36jbxLvnX09Am/wil7FzvNB1mJ5cYsJtpkJ9oIyHFm6BSQRI1rF47OwuvtP8wrjHS9o5OrP97I2e4tXeY3y68S56sgl+0baPtGNS7gnzgfqbLmqcF6KppIKNlfN56szxC288TbKOzfbWZnZ0nmVlaSW3zW/ghqr51IeKCBkedGXiLsRTZSiqYbsuWcciYeboSac4m+znWKyXo7FeTididKWTDFg5AOaHIiwtnuvXcqXgSjmq8gXySyrFnum16fBrBqXeACcGego5vFFckwJkZA6FHHxsSxfTcbBch5xjk7LybpYpyyRh5uhKJ+nNXHwzqgvhuhLXlXlVMeL3Xj6vmNU3N9J+qodXn3yDux64kWDEP/yadDKLogg8vrlqipmkP5clmi38HUE8l6EznaR+mjkGjnR5sfsIXzn8BB2Zc5OOX/VQ4gniVw0s1yZmpkhYGVwkHZk4Xzv+NN3Zfj655A6Ck4gQQ9FoCFUS1DzkXJuca2G7LrZ0sF2HnHvOmEtBYKhavqJAKGiKikfRMFSdBYHyST1PbNfh8dbd/Mvxp0nZueHnA5qHUiOEV9XJuhaxXIqkneGZjgPkHIuVRfNHJdrNNH5N5zeWrOSVjhaSBeiOOx5p22JnVyu7u9oIGx5qQxEWR0pZXFRKXShCpT9I2PDi13U8qoamKAgEAnCR+fnMdck5NjnHIW1bJK0c0WyGnkyKrnSS9lSCztQAvZk08VyGlGWN65AJsKPzLA8tW4tXuyYvF1cclnSInxe1COtevOr0rg26ohLSZrYE/Ko6o6SUuINiwnZdLNcha9tkbIuMbZO0TAbMLAkzR8LMEctliGUzxHMZEmaOpGWStExSljn4483/gG03XyNeyLD7ROiGhuHRyKZypAfOhXlVTWHT3dfx/GN7OHmglQOvneDGu1YhhCARTdF5phfdo1NaeXEVMHlxJhFXcendxZA0TdJW4S94OdchOs1uq1JKDsTO8H+O/GJYfARUD3dUr+Lueaup9ZfgUXQc6dKbG+DVnmM81rqLjkycnGvz47M7KTYCfGjRlgmdNsu8Yf5i9QOYro3l2piuQ861yDoW7ekY/+fIz4ma+UaJS8Pz+E+NdxDSfHhVHY+qoysqulDxqDpBbfyePFJKDsTP8p2Tvx4WH7pQ2VbZxLvnb6QuUIahaFiuQ1c2zvauQ/ysdS8v9Rzl9dgZCpelcmGEEGyqruPm6nqenIEoyEhcJHEzS7wvy8G+LgR5My1dUfFpefGhDz5WB29YHClxXRdbSmzXwRoUIqbj4AzOi9P9tA5He+hKJ6kPz67qujnGx3FdsudVanlVfdql3qpQMNSZNUq8YgVILJfhQG8n/bkssVyW+KCY6B8hMJJWjsywALGwHAdbuliue1HlkzOJP+glVBwg2p2g9WQXDStrgfzEt2zdApatW8C+F47wo396htKqIkoqQjz5g9doa+6horaEmoaKizq+dGNYmf9ANdahak0gfJck9Cqli2PuxHXOAAJVX4OiLZ51YV/TtbFnoDbeceW0yzv7rTTfOPEcbel8l9ag5uVTjXfyjtoNY+52yr1hGsPVrC6u538depzTqR5M1+aRlldZXVzPupKF437WQ8mf41HhDeMZcZwiw8/6kkXTvtPKOhaPtrxK9+CyiyIEb69dz/+39G5CmnfUuCp9EZoitTQEK/nK4V8Qt1LTOlYhCOoGH1uxnt3dbfRNUzReDBKw3Pz8VahS4KnQlU5yONpNXSgy636Pc4xFkheiI1GEYDZayl2xAuRQXxe/u/2nJC0TVwKX9D5o5vCHvNQ2VNJ8qI3XXznO5retHXY3DUZ83P+hmzm67zSH95zizz/+DXxBL11n+nAcl833r6GsKnJxA5AZzNS/Q/KrqMZGdO/9qJ5NCKUMZrSRmsTKPIGVfhgAI/i7eEL/hdnmHyLlTNmpyWmJYiklL/ccY1/sFJD/lO6dt2Zc8TGEKhTWlizk44tv5a8OPkbGMYmaSX5ydhcri+aPEhOXklPJbnZHm4cfLwxU8OFFW8eIjyF0ReWO6uvYGz3Fz9r2XsqhAvmbgfUVNbx38Uq+eWjXrL2ZKRSm67Cj8yx31i9GnWW/xyuR88VBoREwpnzWlZLpxr7kNOekt8IVG2d3XEnWcXAGm4FdLVOApqus2dxI+bxiPF4d2zy3xi6EYMOty3nnx2/BH/LR2xHn7PFOELD5/jW8/aNbR5mUvXUk0o1iZ39FJv5Z0tGPYib/Add+EylzzMwlWEEoYcAFXKTTBsysC99bQVOUGXGtVIQY48I4GTnX4umON4Z7zxQbQd5Rux7PBfahCMFN5UtZHqkZfm5PtJmz6cvjHyOlZG/sFHEzH0kQwC2Vy6n2FU0qdj2Kxm1VK6cdbSkUhqryseXrWF8x77Ic/1Kzt6edRC534Q3nuCAZe2Zyh4ZQFQXvec7KWceats+M47pkC9B8cTKu2AjI1YoQgpvvW8PyDYuori9D94z+igyvzgO/dycrb2jg8O5T2JZDw8paVt+8ZDgptQCjGPH/OVzrIDnrEGbqu6ieTejet6Ma6xFKccFyRfLdfs9VgEiZYDZatwd0A6+qkaCwk7GmqEQ8U0/46sjEOZboGH68JFRFfbB8ShGqkOblhrIl7InmoydRM8mb/a00BKdmUlRIbOlyKN46fAvhUw3WlSy8oP23EIKGUCWlRoi2TPRSDHUM1YEQ/3X9Vj774i84MzD7/HcKyelEjFOJKMXemgtvPMek9OZSSCln7LemCZUiY3S1WcLMknEsgvrU5xjTdUhYhS03P585ATILCRcHCBcHxv2bEAKP12DtlqWs3bJ01POFQCjFeIKfwMr8FMd6E+TQGrtEut3Ymcexs0+hak1ovnvRPLejaHXAxTVUk9JFusmRT1zU+5gpijxeIh4v3ZnC5h74NZ1y3/jf+XicSfXRP8KbY0m4Cq8y9WhAY7gaj6KRc21cKTma6OBtNZd+wSvrmLRnYsOPw7qfat/UKoHCuo9ST/CyCRAhBBsqavjc+q186bVnL2k+yKUmYebY093O2vJ5c3kgF0l7up+sY0+r/9O4SyETfA+qENT4RycMR800sVyacu/Uuyon7RzR3MzmWF2xSzDXOmKwK+PQvwXbr+JH938IX/E38BX/I7rv/Qi1hlGniszgWHvJJf4X6ehHyPZ/Ecd8CekmRpU4TwuZwbGPjRhHEbMt/wMgZHioDxW+GqDSH6DCN7XJQUpJZyaGNaIEtsZfOuXzQAhBmSeEVz0XcerIxLDH8Q+ZadK2yYB1rmQwqHsJ6uNXy5yPrmiE9UJF/d4aqqJwz4JGPrt+C0WeqY37SsSVkp2dZ2c8JH8t0JKM0pNNXnjDESRtc1Q8WBPqhDbpQggaIxWoI6KI/WaG5oHpLbO2p/uJ5mZWVM8JkDnGIISCopageW7DW/RX+Eu+gyf8BVRj42Bn2yEcpHMWK/3/SEf/E+noJ7HSD+PaLUhpT1mMSOlim6/imPuGRoCiNzIbA3SGonJD1fyCS6NVZVUUead2AZNA3EoPT0gCcUGH0fPxqQaeER0+U3ZuOJ/kUmK6FuYIIeVTjSnbRatCGfUeLhe6ovK+xSv54sbbqA6ELvdwZow3B8tx57g4urNJdvW2THl+dKWkJRkdleno141J872WhisoGWE8ZroOL3c3T/k37krJnt6zJK2ZzfuZEyBzTMhQXoaqL8YI/Db+km/i///Ze+84Oc7zzvP7Vuw83ZOBmUEOBECAAEGQFMUcJFKUKCotHWQFr6yTJXvt867tu9v1+uyzfas9r9aWw1natZItWZZERYqkmMScQASCyDlMzp0rv/tHNwYzQM9MT0IQ+4sPCcx09VtvVXe99dQTfk/q79Ejv4RQO4BxCa8yh++8jJX+YwpDH8PO/Dm+sx0Z5Ca90KSUSGnj2c9gZ/4CZCmOLpR6NOPGy9D/UTont7QtpyVSvStzOiKazruWrK76xgtywkKiCDGD9557z/g8Cy/wL0k1RyAnZtqr4qykVnXMZNuFxFBVHly5nv/v5vvY2NB6mcxqfukv5Ng31D97L2cNANzA5+FTbzJgTb42jmfELvDmcNeE3zWHYkSnyOdojybZkGyd8LsXeo9yLDNY1T4HrBw/6zow48qZmVIzQGpUQTnUoyRRzdsI1f0Zkfqvl70i20CMz13wCPwTOPmvUBz5DYojv41b/AGB34ssC7lJKZFBHt/ZjpX+v7FG/wOBd7T8fgUtdD+Kvm7SGOelZmVdPfctWztv7dNvaO3g+taOGYTSBJo4Z/wFsxDJK934z71HU9RL0g5eEcqE/XoyqLqmTc7iuBcSTVG4efFSvnj7e/nI6o3EZtnX53LlbDnuL3rZ8cVg91AnXznyKvlpKmL8IOBn3Qc4nJ7YAHF9spXQFN6/sKpzX/v6CV6SnmKGfzzyClnXntIIKXou3zz2BvtHe6s8mtlz6f2XNa4oSjfJkldE0VZiRD6M77yJaz2KZ7+I9HsAj1LS6gie/TSe/QKKtgItdDeaeRuBdwLPehTf2Y2U43sWqGihuzDjnwMu38W7VIK5lT2Dvezo75r+DVPQHqvjs5tupM6oPjtdUGoudRaJJOPOTB7e8l3scfH8mBaaUip9oTBVbYL+SNFzqnYTezKg6C9sSeNMEUKwPJHiT268izs7VvCP+97gzYFenEsQ3loIdg10k3Ys6kOXNvfmSkYRAk8GfPPYG2Rdi4+vuoGlsXoMRZ3Q4TnjWjzZdZC/P/DChJYHCT3ELS0rpxQWE0JwW+tqrmtcwkv9JY0dCTzWuR9T0fi3a95BRzSJKpSxfXoyoKeQ5lvHd/Dt4zsmleafT2oGSI1ZI4QAkUQ1b0U1byLwz+DbL+NZT+G7e5HBECUtD4fAO4iTO4ST/ypIm5KRMn6wOozIhzFin0EozZd9pv2SeB1/fMOd/NErT7FnsGdWjsr2WIL/dP3tbG2ZWWWBEIKWUB26oo7drLsKw1WX9kkpGbAzWONu3ovDqQlelYtFRDUn5K9kvSJZt0i9OX2Iy/FdRp2Lr4Q6HUIIIrrBvUvXsK2lnZ+dOsLDR/exb6jvik/iPJUZ4WRmhFQoMusw07HMIM/1Hq3o6ZJScjw7sdnjmfwoXzvy2pT6O4aicW/7uqqqPAIpGbbzZFyLgueQ9xxyrk3asXi5//iCBh1MReO9HVfzRPcBsq7N907u5sW+42xuaGdtopmUGSGQkp5iml1Dnewd6bmg19GtLSu5pr5t2ms9ZYT5zFXv5Fh2kN5iSWXYCXy+d3I3rw2e4oampayKNxFSdbKuxdHsALuGOjmdHyGQkqQRZnWiie2DpxfsfNQMkBpzpnQh6KjaChR1OXr4AwT+STz7tZIx4mwHygJm8rwbhoigGlsxop9AM28BLm4L8tkihGBTYytfuPU9fOmt13ny9FFG7Oq8EGFN58bWDn5z0w1c19w2IVu9WpZEG4lrYYadUlLgkWwvduBOqGyZisOZnrGnKlUoXFW3+JLkLYRUnbZwPXtHzwCQcYt0FUdYGpu+/fuwk2fIvnyTIoUQNIaj/PLaa3j30tW80nOan544xI7+bgat/BUTyhBAzDBpjyXY2NBKdI6hpYPpPv7bvmcmFcY63zA5lh3kC/t+PuWYdUaIzQ1tVRkgBc/hj3b+lL2jPTh+qaHi2RyohQ7pJYwQv7ZqG62ROF85/CpF36WnmKGncz+Psx9FCCSTlN0CV9W18Omr3km4CgE+IQTXNSzhd9ffxuffepqRsthfQCmp9VRuGAWBEBDIiec9rpt8Zu3NFHynZoDUuDKQMgCZxfeo+9aBAAAgAElEQVSO4tuv4juvEfjHgfP7VigIpRnVvAE9/ACacT2IxBVheIxHCMHKunr+9B1389CaTTx95ig7+rvozmXJuaVQgpQSTVGJ6CWdj6sbWri7YyXXtbSTMGZvbC0Kp1gRa2Z4+KwB0sOp/CBr4oumHTPrWbw6eK6RWqMZZ31d+yU5/6pQuDrZwZM9ewiQ2L7LjqHj3NC4akrDTErJwUzXZekBOR+lbIi8d/lV3LNkFSczo7zWe4YXuk9ycHiAgWL+svGMCEohxoQRYlE0zppkI9c0LWJ9fTPLEkmSZqjktp/jfqScmX71dNsGM+iR4MuA3mKGvmK26v3PF41mlNZwgk+tuYmEHuJrR16jt5gpdWVncpl2Q1G5rnEJv7fhDtYmqvcQq4rC+5ZsJKKZ/P3BFzic6Z9g3ARMPG8CwdJYis+svZn3dKznr/Y9O/uDrYIr1gCpD4W5rW3ZFRtbXZlsuNRTmBeklCCLBN5xPPs5PPtZfPcgVFIyFTFUfT1a6B408zYUbTlgXHGGx3iEEIQ1na3Ni7m2eTEFz2W03BTR8j2kLC3ocd0kFQoT1w2UedBuiagGd7ZuYNfISXwZMGzn+HHnG/z22vumlCcPZMCL/Qc5kO4c+907GtfQHqmf03xmixCCLfXLSJkxhuwsEni+/wAPdGxlSaRx0vOU8yye6N6Dewm0S2aLEIKQprM21cjaVCO/tGYTfcUch0cG2TvUx76hfk5nRxks5smWDdiF8pKoQqApChHNoM4M0RyO0h6vY02ykVXJBpbE62iJxIjr5rx8X8ezMbWIP9h4N/1WlkErx5BdIO0USZdDIqNOcUIekKlopMypQz5x3aw6h0kRgsZQjEXhxLTbNofjaHPIjVKFQlMoPpZsuj7ZSlQzMBSVj628nusbl/KTM3t5beAUPcU0Rc/FkwEKAkNVqdNLYZB72q7izkWrSRmRGX8WuqLyrrar2JBq5adn9vHz3iOcyY2Q9xw8GaAKQUQzaI8keWfLCh7ouJrl8UagpB+ykFyxBsiGhhb+9o4HLvU0Zs1s3O6XDxIpfaTfhee8Wg6z7EIGg5R6uYxHQ1HbUc2b0UPvRjE2IUTdvEm4Xy4IUSoIjekGMd2gnTk2Baxif7e1rOenXbvYl+5EAo927WZptGnShnS+DNgxdJyvHPv5WFy5NZTkwY5tlyT/4yxLo03c0LCKR7tLOjCn84N8/fjz/M7a+0joF3ZjtnyHh0+/zvahY5diunPm7PGYmsaSeJKOeJI7O1bi+D4Zx2KwWKC3kKUrl6Ezl2GwmGfIKpC2LQpeKXnYCXzcci+soOxNEIhyeXXJuDAUFUNVMVWNuGGSNEIkzRBNkSiLoglaIjEaQxEaw1EShklI00rl3GJhi5uXxOr5+KrrkUh8Kcs9R1yKvkvWtfkve57kxf5zzQk3N7TzJ1vum9LAUBBVq3xGNYM/u/b+qh5eSwbE7Evuk0aYz1/3wJihHCkbH0IIVCFYn2xlbV0LaadIn5VlxC5gBx6qUIhpJk2hGI2hKGF1bkrTihB0RFN8eu1N/NKKrfQWMwxZeZzAQ1dU6s0oreE4dUa4HJYRBFJOSFRfCK5YA0QR4rIQIXr7IMty6YP4zm4860k851Wk380FCaUIhFKPql+DFroXzbwJoS5GoF62pbVXIk1mgl9fdQd/8dYPGHJy5DyLvzv0BAfTXbx78TW0RxowFR1P+gxYGV4cOMQjXTvot0oJaRHV4GMrbuWqxKWV1zYVjY8svZFdIyfoKY4SIHmsazcZp8AHl1zPsmgThqJjBy6dhSEe697NM737cAKPqGaS967sJmmCs94RjZAWozkSY31DM3C21FjiBQFe4GMHPo7v4wY+XhCUmnGOM0CEECiidOM0FBVdVUt/KyqaIlAVZewGc0mPuaz3oojSE3pI00kCLVJOqPACCKsabZHkvK33ilBoqcL7MR+oikJrZPJ9CSHQhKAhFKUhVH0rhtmiCIWkES71iqniGWmhs5Rqd/AaUyDLIZYsvrsfz/o5nv0cgXccKjVjE2EUbSWaeSd66G4UbQ2IC59ga8wPQghualzDZ9e+i7879ATDTo6Cb/OTrp082fsWKSNKSDVwA49Rp0Des8YWlKhm8tHlt/C+9mtRF6C770yPY11dG59aeSd/fegxMm4RT/o813+A14aOUm/EMFUdy3cYcfJYvotAcGPjKlrCSX54Zvslnf9CcvYGVaoA0Zg/+bvLl/P1aK6MVN0as6FmgNS4ECmR2CW9DvsFPOvpcmO6Sh1qxyWUhu4rd8ltLIdYaobHQqMpKu9ZvIWEHuErR3/O4WwPviy5tHuKoxdsLxB0RBv46PJbuG/xNZgzaGC3kKhC4d7Fm/EJ+OqxZ8fmbvnuhGZ1UCq5vLX5Kn5zzbv47qlXL8V0aywg53s6LN+7rATnaswfNQOkxgSktPCsn+EWH5kirwMQ8XJC6bvQzFtRtGVc6QmlVyqaonJb8zrWJdp4ceAgL/Qf5FR+gKxr4UkfBUFUM1kcqefGxtXc2bqBjkjDtC3vLzaGqvFA+3WsS7TzaPcudgwdZ9DOYAceCgpxPcTyWDP3LNrIrc3riGmhGQuw1bi8EUDjeRowA1aWjGsR0S5fccIas2NOBkhJPc1h1Oki75U67YXUBEmjjZAau2BbiU/OHSLt9uJJC02YRLUGYnojugiN3bxkOd8g4/aRcXsJpE9ES5E02tCFSd4fQRMGphJDCIHjF7CCLGE1ia6YBDKg4A2jCJWwmkQIge3nsYM8ETWJptS+yJMhg2GszF8i/VMVXtVRtCVo5m1ooXtQ9Y0g4jWj4zJACEFLuI4PdlzPe9uuZcTJk3GLOOWEtrgWImXGiKiXt5F4VpNkdaKVjFtk2M5S9F1UoVCnh6k345iKhhACXwa48vIoX60xf6xMNKIKZczr0VPIsGuok3vb1i34d9f2PV7pP8Hu4S7iusmdi9awLFZ/WV8zVzJzMkAsP8srg9/gaPZFnKCIQEETOu9o+jibUvePbSelpOin2T3yIw5nnifvDeJLH0WohJQYi8LruKXlN0joLeXtffaln2TH0HfJeyMoQkUTBu2RTVyTeh8vD3ydJdFr2dbwEAAncq/x6uC3uLP1t+iIXoMd5Hii578R15u5s/W3UNE5lPk5u0d+zLsW/Xtaw2vncti/2EjJRI+HQCgpVP1atNC70cx3INTFgFq7KC9DhBCYqk5rOElrOHmppzNrVKGQMqKkjIVPzKtx+VDKB2qhwYzQX25ZX/RdvnzoJerNCNek2i4I0fhSlhVNbZpCsVmXzUopebrnEH+881HSroUiBE91H+Ivtz1IW/TKvZYuZ2ZtgEgpOZR5lr2jj9EaXsfG5HswlQhOUKTeXDJhWzvI83z/lzmSeYHW8FVsTL6HiJbECQoM2acYdbqw/TyUw9ED1gleHfgGitC4pflT1Bsd5LxBDqSf5sme/07a7aUlvGZsfCewyHr9eNIuzy0g5w2hCqOURCnADgpk3X58eXn1jrhsEWEUbTWaeUc5oXR1LaG0Ro0aC87SWD23tq7i4ZO7xzLO9o328juvPcyG5CKWx+pJGGGklGRciwErR08xg5SSv9z2IMvis9NYCpA8032EtGuVfpaSPSPd7Bw6UzNAFohZGyABHt3FvSio3NDwKyyJbql4c5JSciz7Ekcyz7MidiO3t36OSDksUno9wA4KaOJcWKTfOkLeG2Frw4e5OnkvilCRUtIe2cRj3f+FYWfhpGHf9ggTPfx+VGMzqr4VoaR+4TQ7atSocfliqhqfWHUD+0Z6OJDuG/v9sF3ghb5jvNBXWf/FUFT2jvawdJYhEyklVjBRtTmQAQX/fCXnGvPFrO8sUkpsP4+mmES05KQfuCcdjmVfRhEaV6feM8H4ABBCIaTGJuRl+NJDIlHQOCuJI4QgqjWwKn4zteqKhUMo9Zjx30Mz70FRG2rGR40aNS46qxJN/MmW93BT83KMKkMqTuCzffD0rNVjVaGwvq51QpfZuB5ixSw9KjWmZ45VMKUPeirdPCfIM+p2E1LjJLTmUgikwvdDCKVkcAhBU2glYTXB8dwrLI9toym0suwhEcS0RhQunWrjLzolg6NmdNSojCwv7r4McIKS1HyNGvONIgTX1Lfxhes/wMv9J3i25yhHMgOMOAWKvosfBChCoCsqEc2g0YyyLFbPO5qWz2m/H162mRGnwK6hTkxV4/72DWxKtc3TUV1ZCGBxJMHaRPPY79oiyXnVklzwMtxAeniBQ9FL80zf36KKyroDraG1bGt8CBWd1tAatjU8xM7h7/PTrj+nKbSCuNaCqUbIuH3ISmWhNWrUWBCklBzN9rFz+DijboGsWyTjFhmys4w4l2832hpXNkII6s0o97dv4N62dWRdm7RTpOC7eIGPIgSGohHTTeK6SUSdW58lIQTN4Th/uPEeir6DgiCsGRcIo72d+Ny6W/mNte8c+1kXCvo8tm1YcANEERqqMAjwSyGb8wyQop9l2DmNQIwljCpCY3P9g7RHNtFZ2MOQfZq8N0Ta7SbvDVfujChLpbvn/XLhDqxGjbcRLw8e4u8PPVHqnlmjxkWkpAarkjIjpMzIgu9PUxTiSmjB93O5I8pN6hbyjC+4AWIoERJ6M5af5s7Wz9FgLpvw+uHM8zzZ8wVCagKlbFkJIVDRaAmvoTm0GklAIH1Acjz3Ko91f/6CsI8kwJN2SUOkLCHuBtaYt+SccfL2tWZr1JgtmlAJTyMEFVKNi351mYpOVDOBUqOvWpVWjRpXDgtugGjCZFlsG52FN+ksvEVzaBWKKO3WD1x6iwcRQmFxeD1iXO5BIH0C6aMKHUWo5UqYgIzbj5QBpjJR6CyQPmmnFyQ4fh43KJDzAop+Bk0YWH62rFNiLvQh16jxC8e7Fm1ic2rplNvE9BC6cvHElRUEv77yDj685AagpAjbElrYLsQ1atSYP2a8Wow4XQxZJ/FxyXsj+NLldGEXo07X2DYps4N6Y8nY08jq+C0czb7EzuHvI6VPW2QTAKfzOzmceY7F4fUsi10/rjRX0ll4i32jj9Me2US9uQRV6AzZJ9kz8gimEqU1vPa8ahqV0/mdNIVW0lM8QMFPE1cM9o4+Vg7lvElESxLRagtUjRozoZQYnqApdHE6iFaLEKW+NlCrUqhR40pkxgbIkH2SN4a/Q84dIu8PE0ifVwe+OaGvxNb6D1PfUBIjK5XP1nNHy2d5eeBrvDH8Pd4Y+u5YHsei8Dre2fzrxLSJi0jRH2XQPs6J3Otj4/iBi6nGuLbhQywKrxvbVhUaSWMxHdEtPNP7N+S9IVJGOzc1fZydww+ze/hHBPhsST1IRKuf+VmqUaNGjSooVQk5IF0kEiE0wKyVs9eoUQEh5cwK6Xzp4fh5ct4QLw98ja7CXu5q/W3qjMVj28S0BqJawwQPhZQSJygwYB9j1OlGSkmd0UpzaNVYT5fxlPq5jDDinCHj9uHLkvHRYCwlZbZPqKYpeGkK/gh1egu9xcNk3F5awmtpMJaQdnvpLuwlpCZoi2zEVGvSzjVq1FgYXPtFivmvIv0hwEModaj61Zih+1D1q8sGSY2ZIKUkkC6eLOIFFgEeSIkQKroSQVMiYxIOsxlb4uMGBbygQCC9kiSEMNCVCKowESgVxy6lCZR6EY2XkZiM8dsrQkFMs/25uZVSCiQBqjAwlBjquN5pMyGQPl5QwAnySDwUDAw1iibCVRnJgfTK+ZgzQyBQhH7BnGdsgJxFSsme0Ud4bfCbfLDj/6UxNLf66xrTM/6jOr8SSIz/fy0Rr8bbkLPXx4XXxvhQ7cJeG8X8Vymk/zMTK/AEirKIcOL3MMMfrhkhVSJlQNo5QVfhVQatveTdXpwgW9aSkiiKgakkSBhLaYvexOLIDRhKoqrPuPRAnKO/uJPO/MuMOkex/FEC6ZZyBZUwYbWelLmGRZHraQ1fi6pMzB/sLexg38g/EUif1shWNqQ+OpbfWInu/GscGP0XAumzOHID61K/PFZ4cf7cAlwGrX2cyj7DoLUPyx9B4qOJMDF9MYsi17MkdhtRbVFVxxtIjxH7KKdyT9Ff3EPRHyKQLpoIEdGaaYlcy9LYnST0JVMaIicyP+NY9qfM1GwIaw1sbfwtwlrjhN/P+koQQtAaWktca665FxeIUrdhj7yXYcQdYsgeYNQdIuOOUvTzeGVrWhMaITVMTEtQp9dTbzSS0huI60lMZXaWco0alztSSuzAIu0OM2T3M+T0M+IMk/ezuIGNlBJN0QmrUer0FPVGE01mKymjgbAanRA2ni8UpQXdvBshwoCN753E944TBN0UMp9HUZrQzTtr12QVuEGB7QN/RV9xR2XtJx9ydDFkH+B07ue0hLeypfEzpIzV03oWhu1D7Bn+n/QWduDJYsXt0pygt7iD07mfc1fbX1NnTEzCtvxhegtvEOARUpOV5SHGUfQH6SlsR+IT0ZqoJBNRMoyyHBj5FkcyP8LyRy7YJuOeoqfwOsezj3FN/adoi940peHjBkWOpH/AwdF/Je/1X7DfjHua3uJOTmQeZ0Pq11gefzfqJB3j814ffYVdJS9UlSX5AoWY3laxD9ucTPFGczn3Lv4D4nrzBa8FMuD14ec5Xais2z9hHKOFm5vuwVDmt0Jl0O7jhYEncKtoQLckspIb6m+75AtDyehwGbT7OJo7wOHsPnqtM2TcNE5gEUwjwiYQ6IpBRI3RaDazLLKa1fENtEeWEVFjC7LozhYv8Hhp8Cn67K4pt9OFzjsb76E5tOgizWzh8aXPK4NP022dudRTmRUKClvrb2Z5dPVF3a+UElc69BY7OZDdw5HsPvrtbgpeDldO3bNDFSohJUKD2cyK6Fo21G2hI7KCkDJ9k8WT+aO8MfzCpNdfS6iNdzbcjRG6ByN0FyU1YUkQDGHnv0Ex/z+RwQDF7N+g6RsQaussz8DbB0mAE2RRhEZYayKhLyGhdxDS6lGEhuvnybinGLT2k/f66C68jNdf4JZFf0pYbZq0N9mQvZ9X+v6CUad0b1KFWRrbWIKpJgikj+2nKXh95L0+AukhZxF2mA1ukGf30Jc4mv4xAS6mUkdTeBP15mpUEaLgDTBg7WHUPsaIfZjX+v8r25p+jyWx2ys6AvzAZv/IN9k38k/40kZXojSFNlJvrkVXYlj+MIPWPobtQ2Tc07wx+Nf40mF13fsrGjUdsduI6YvxggJuUMQN8thBmlPZpyn6gwhUOmK3UWcsRVei6CKCpoQx1SQh9cL8yzkZIKqikzLbK77mBDavDz3HsfzBacdpMJrZlNxGo9kyl+lMQErJqfxRXhh8Ar/sKZiK3lgXW5I3YqqXRoCmZPnanMgf5o3hFzmS20/GHZnW4LhgHErjOIHNqDvE0dwBXhh8gkWhDjYlt7EpuY0GoxnB7BUD54uAgH2ZnRzKvjXldqYS4uq6rb9QBkggA/ZndrMvs+tST2VWKCh0RFZcNAPkrGF+Mn+UV4ae4XB2LzkvM+1T53h86ZP3s+QLWU4XjvHq0LMsj63hxobbuSq+aVJvoZSSQ9m3eGHwSSZ76lsb38g7Gu6c0FQTQFUXEYp9Ft/vxCn+AM99E7v4KKHoJ2qe42lQhEpH9FY2pH6VhtB6wmoDarklRwlJgEfaPsH2gf9Ov7WbAestuvIvsyrx/opjWv4Iuwb/Ycz4SOhLuLr+4yyO3Iip1o1JQQTl3Iu828uocwxTXfhuuFIGHM8+xrHMIwS4JI0VXNv4W7SEr0Udk48IKPrDHBz9LgdHv0PRH+TN4S9TZyynzlw2IdxYqiZ9mYOj/4ovbSJaC9c2fo726M1oIkTpPEqcIMOxzE/ZM/xV3CDH3pGvkTJX0xTaeMH1UGcspc5YOiEE4wZ5hqyDFP1BVGGwtu6DtIS3jr0+1X1mwYKROS/DiDtY1bZZL82g3Te/BgiSzuLJqowPgBFnkJyXuSQGiC89TuWP8cLAzziQ3UPRz8/r+HZgcbJwpLzo/pzr629jW/0t1OmpS26E1KgxHVJKBp0+nut/jJ2jr5D3svMyrhUUOJDZzfHcQTYktnBXywMsDi+5wEvoS58+q4vZKisLESMU+Siu9SxSjuAUf4gZfj9CrZUPT4UmIlxd/zEE6iTrlEDFIGWuYXXdAwxYe5D4DFj7KhogUko68y/Qb+0GIKK1cH3z79Ma3nqBMaiioKpJQmqSenPtQhzeBeS9Xg6nv48vbQwlzpaGz7I4cuN5c1OJaE1srP84Ba+fE9nHSTunOJZ9hC3GZxHjckrsIM2h0e/gBFlUYbKp/pMsjd11Xt6JwFSTrK37CEVviAOj36bgDXA4/X3qzbWT6mad31D2vNTSqu8rC2aCDzsD5KpcKNzAobN4YsaJLdON2VU8VfX2OS/DkDMwb/uvBiklWTfNE70/5Csn/oqdo6/Mu/ExnoCAfruHR3u+w1dP/BV70ztwA3dez3uNGvOJL30OZvfw9RNf5MXBJ+fN+BiPHVjsHH2Fr538IrtGXsE7ryW7E1gM2n2TvHt6hBBo+kY041oAPO8AnruTWquIqRFCoIjqqlvGV2YE0qHSufWlxZnccwTSBQQr4vfREt4yrSdKzKG/TLVIKekt7CDjnAagOXwNrZHrJp2bJiKsSjyArsQASVf+ZSx/aMI2Q9Z+hqxSBCJlrqIjelvFpFcAVTFYkbh/LEm0r7iDrNs5T0c3OQtigEgp6bW6cIPpcy+g5K04U6jeW1ENOS8zo0XDDRx6rc6LdjOWUtJVPMW3Tn+JJ/p+SNYbvSj7hZIhcrJwhG+d/hJP9v2Qgp+/REZIbQGuMTle4LF9+AX+5fSXOFM8MaNwy2wYsHv4XufXeGHwCdzAGbsm8l6WtDs8t8FFGCN8H6CCLOIUH0fOYb2TUiKljwzyBP4ggd9H4A8QBBmkrP6hojSOSxCMlMfoL4/hT6y6kwGynAsx1djntvPK/164z6xUnusxZO/ncPr75URVQZ2xnEotN4r+MKPOCQB0JUpb9CbEZdJZXRLQV9yFpGRItYS3jgu7XIgQgqSxnJhekr/Iu71knHP5ZFJK+ot7xhJsm0KbMNSphQRj+mKSxgoALG+EEfvInI6pGhYkBCMJ6C6emtGC0Wd1UfDzJJT5ibUNOQPkvEzV20sk3cXTBASoC/ylDGTAkdw+ftj5z3Rbpxd0X1NR8HM83fdjhp0B7l/0EEm9/iKHZGrhnxqV8aXP9uHn+Un3t8n78+/1mIyCn+PxnocBuKXxXWhCZ8QdpjAvnkmVs99513mZwD+Dqq2Y0QhSSpBFPHcnjvUMvrufIBhEShshdISSQFE70PRr0I3rUfXVwGS5LRau/RJO8RE87zAyyCKEilBSaNo6jPB70YytgI5T/CGO9TiqfjXh2GeAylUSjvUTnOJPATDC92OEHpjR8VV7DnxpMeoc51T2aU7lniHv9QKlnI6O6K0V32d5IzhB6Z4QUpPE9NbLJgTtS5ucW0rGV4ROQu+Ydm66EiWqtTBiH8aTFnmvByklQggCPLJu6d4iUEgYSya0OqmEKgzieimns/T+M2PjLRQLYoDYgU2f1T2j94y6w4w4QyT0uRsgUpaMCSewZ/S+PqsL27eIaAsnVhbIgAOZ3Tzc+XWGnP4F20+1eNLjjeGXKHp5PtT+CVJG42VzUf4iIwBdMdEVoyw4FBCU/74cEWf/CKVcaaWjLpCeRSAD3hp9g0d6/vWiGh9nsYIiT/T+gIgaY1v9zQzYPVV7cydFFnGKjwIlr0fgd+PaL6Coy6u+3qSU+N5hirm/xbWeRsrJHrDewCn+EKHUE4n/AWbkVy4cK8hRzP0dVv7r541TSkz0nNexrZ8QinycUPRj2NYjuNYT6LIA/Makc/TdwzjWowCo2hoISebjQaPUYDSg4PXRU9jOmdxzDNr7sf00IBEopMxVbG74TeqMZRXPqVsWGoPSzVsT4TnPa77wpYMT5ABQ0NHV2DTvKHWNN5R4+SdZPhfln6SPVf5ZoGJWoY8iUDDVc61Kzp7bhXxQXJAVJOumGXGqS0A9i+UX6LXOsDS6cs77DwjoLMzcZTvsDJL10gtmgJzNpp+N8aGgENFiJPQkdVqKmJbAUE0EAk+6FLw8GW+UtDNCzstUVXo8Ni8C9mV2oXSpfKTjk8S15EUyQt6+IRhVqLxn0Ye5ufFu7MDC9i2soIjtW9iBheUXsYMilm9hB0WcwMYNHNzAwQkcPOniSQ9f+vjSK4UMqjifujDQFA1VqKhCQxM6uqKjCwNdKf1nKiFMNUyo/Hfp51Dp5/K/DSVEi7l42v3NFCklZwoneKTn2zPyYJ4lpISp01MkjQYSZR0cKIVYC36erJsm7U5/jRT8PI/1fo8Gs5me4pk5hX+klHjefjz3DUABYZYMEutxjPAHESJe1Ri+u4dc+v/Ad/cCEkQUVV2Goi5CiDBSWkg5WgqlBIPIYJjA7+H8m4iUEtt6lGL+H0EWAAPNuA7duAGh1CFlBs/di+e8QTH3/xP4nfju/lkf/1yRMiDn9XA88xinck+RcTqRZUNOoBHXF7M0fhcrE+8lpi2eYu0KOLfmXGYPWWXVUyjnnFSZHTE+R2SiQum58RBMSE6dcrxx3n9JUGonUNU7Z8eCGCDDzgB5PzfJqyUL+3wkktOF41w/D1ocll+kd0pticpzKPg5hp1+WkILs7B2Fk/yw65/npHxEVXjLI+tYX1iM0siK6nTU4TUMKoouXPPHomUAU7gkPcy9NrdHMq8xcHsHobsvqpKeSWSvekdxPU6Hlj8y4TUyKyPtXous0XgIiKEQkuojZZQ24Tfj1fzLD31nfWOBGWDo/SfVzY6nMAm66b5ftc3GJ4miTqkhHmw7aO0htrRFQNDMdCEjjrOIFGFhlLOYi/9UcrzvTifVd7P8njvwwzYvVW/RyBoNFvZWLeVdYnNNJutRNQYqqKOlSVKSp4VN3DIe1n67G4OZ/dyMPMmA6oCS8MAACAASURBVHZvxWtkxBnkB53fwA6sOR6Vj1N8DBmMlsIb+lZc+0k85y18dz+KecO0I8ign3zmz/HdtwCBZlxPOPabaPpmhBLnrO6IlDYyGMH3jpc8LFpHhcEKOMUflY0PgRl+kEji/0Io9QihjIV5XGcHxeznsYvfh0vkmZMyoKewnV1Df8+IfXTspmoqdTSE1tEevZXFkeuJ6q1TVMuU0JTw2A3Wl3Y5GXV+8KXNXB6ohFDHcj4C6ZfHmxpJgD/Oy68r49dspVxqWzqHXlXfYTlBlE0T4aoNodky7waIlJIeq3NSl+Xy6Gr6rG4KFQyU7uJp7MAipM7NNZZ2hxl1hiq+FtMSNBotnCxcmGDjBg7dxTNcFb9mXhdcKSUZb5SfdH+LXqu6zOKz2hc3N95NW3g5hmJMPSehoik6ES1Ko9nKhsRmhp1Bdo28witDP6/K6AkIeH3oeZrMVm5turds5NS4mJz9jMfq+cd95JOlpOW9bFUifqrQWBJdSVt46bTbXgoCGfDa0HPT6sKMJ6rGeUfjHdxYfwcNZvOUQnuqUNHPXiOhFtYnNjPSdC+7Rl/lpcGnKhpwncWTszmUCQR+N479NCBR1eWY4ffjOi8hZRrHegLN2DqlPLuUAXbxB3hOqTGnpm8hlvzLiuEbIUxQEqjaUnTzVsDnfEM/CEbwvfJxiTBm5EMI5VzvLiEEiAi6eTNCiZEb+SyBfykE8yRZt4sdg3/NqHMcEMT1dpbEbqcjejtJc0W5h0l1a7Wp1qErETy/iO2nKfrDhOapOanlj+IHNqpaOTemdDSTGyiaMMeEugLpUPQq37/G40uHol+KNChCJ6KdEwRVhDb2s8Sn4PVPm88R4JP3SoUbAoWovvBiefNu3gT49BRPVzzZAsHq2Abq9FTF9w45A6TdC6VnZ4KUkn6re9KksZTewMrYVRMEW8beO5aIOr+qd570eLb/UY5kq3NjNhgtfKj9EzzU8SmWR9diquaMDKJS+ZpKg9HMXS0P8Mnlv8v6xBaUKj5uVzo80/9TTuYPX4TKmLdvCKbGRKSU9FldvDT4VNXVcI1GCw8t+RT3tX6ERrNlRiq/peZYCvVGE3c2v5dPLPt3rI6tr7guzAUpJa79HIF3ChDo5k1o5g2oagcgce1nCYKpHw5kMIJdfIRS/kiIUOzfVpU7IoSKEJUeXFwoh58EBkLUVRzrbPmwEXp31cc7n0gJPYXXSDsnAWgNX8ttiz7P5obfpDG0AV2JzGhdDKkNY1Ujtp9mwHpr3ta4vNdLwZvcAymlxAsKnF3zFKEz3jBUhEHKLIn6SQIGrX1IObnXSUpJwRsg65ZyLUNqspRoOvYAo1Bvrhnz+AzZBypKoY/H9tOk7VKVkKZESJmrFtzzOe8GiO3b9NmVE1AVodASWkzKaKz4et7L0m/3zPlL0Vk8NekiVmfU0xJqm3Sx6rd7sP25ulzPIaXkSHYvrw09W1UopDXUzi8v+TTb6m/BVOfWx6VkiCi0h5fxUMen2Fr/TpQqKnwy7ghP9f2Eol+Y9b6rnOECj1/jSiHA5/Xh56cNI52lwWjmwx2fZGPddWjK7DqhwrlrZElkJQ91fIrV8Q2zGmcypMyWq0JchEigm7ejKM1oxo0A+N4JPGf7lGue758g8Eo3BlVrR9Ovm+O6ECmHbUDKAr5/cor9q2jGZhZQs3IKJBn3NJIAgcrKxHtJGitQxNShlskwlCitkesAgcTneOZRCl7fvBghRW+I7sKrkxoNkoBR58RYknlYrb/A2F0U2TYWRuktbifnTXUvlHTnX6HolTwgjaGriWrnPBZCCJrCm8a8KgPFvYw6xyYdT0pJX3EnGbfk6UoZq8ZKcheSeTdAsl6akUnCH7owSBkNNJmVXTuedOksnGAuT8audOiawm3aZLZQbzSiCb3i66POEBkvXfG12ZDzsjzT/9MpcmLOUW808eH2T7Aqtm5ee7YIIajTUzyw+FfYlLyuqqe8I9m97Em/XhMpq3FR6Ld62D36WlXJnmE1wv2LHmJtfOO8XSdClPJIHlz8UVrPy8uZLWcTRz23pLyp6RtR9fWAghG6G0QEcMrVMZPH/APvJFKWPLqK2o5SoafGTBBKPZpRuhGDg5X/Cr53sGK/k5IIVx2XxgAR6OJsXoPE8ocnrRILpE/RG6bgDU66ZgmhsCx291ip6aC1n52Df0fW7axgOJSqbhw/i+1npl0HJT6H0g/Tb715wVil5neH6c6/CpS8H0lzFeMfwIQQNIbW0xq+DoCMc5p9I/+ME1y470D69BV3cTD9XSQ+hpJgVeJ9F+iG1OnL6IjdCgiK/iB7h79GwRu4YDwpA0acI+wb+Wd8aaEKk1V178NQptYNmQ/m/Vs1ZPdT8CrfbA01RFRLTHmBdxZO4EoXYwoRlqnIe1kGJhUgEzSbi4lrdZhquGJyWcHPMWT3zcsiJKXkrfR2TuQPTbutqYR4d+sHWRlbtyBuLyEEca2O+xc9xIDdO61KrCtdXhp8mnXxa6gz5idOeiE146ZGKfdjT/qNqirnBILrUrewKblt3hsrCiFYHO7gzub38d0zX5lRJVllfOziI0iZA1SM8P0IESuHNjahaqvx3Tdxne343nFUrfK1HwRDUA4LyyCLU3wMZlACrWqr0fR1436jEYp+As/Zhe8dwHO2kx3+NEboXWjGdajq4pKHRJgINKTMcqmu1ebItejp7+EGOfaPfBtfurSEt2CqCUDBDfLk3G4GrLfoL+4maazkhuY/nFRCPGEs4+rUr/HG4Bdxgxwnc08x4hylI3orDaH1mGodUgZY/jAj9mH6i3toCK3j2sbPIqj80AoQUlMUvAFe7v1/WF33fprDWzDVOnxpM2wf5tDod8l7PUDJMKjUZ0UTETakPsaoc4Kse4Zj6UcoegOsiN9HwliKInRsP01v8Q2Opn9C3utBETpr6h4sy8lPHE8ROuuSD5WbzR2kM/8iTpBlVeIBkuZKVGHiBjkGins5kvkRaec4AoVl8XvKze0W3kM9rwZIKQH1zKRdKSNqhLAaodFsQVeMiomq/XZPKanOmJ0BMuQMkHUrq4rqQqfBaCaiRYmoUTIV8k086dFjdbK+bsuc48E5L8NrQ8/hVRHT3pTcxubkDQvarVYIQZPZyp3N7+Nfz/yPaXVSuoun2J/ZzY0NdyzQl7EWgqkBBS/HvvTOqrwfDUYzNzfdjbZAGiRCKGys28obwy9yOLd3TmMF/mlc+3mg5LnQzVvOxeiVFIZ5G0V3DzIYxLWeRY1dRcVrYtz64bk7yY2+OYNZCMKxz00wQIQQqNpVRJP/lWL2r3CdVwj8E1j5L0P+awglgiAEQkcIAykdYK7G2MwRQtAc2sSaugc5OPpdiv4Abw59GU2JoIlSeNoLbLygSEDpnlP0Bsm6p8fyKc5HESrL4+/GkzZ7h79G0R8i7Zwg7ZxEERqqMMoKq0655TwU/UHW1n2IuFG58SrAosgNCBROZH/G7qEvlXVGQgR4OH5ubH6GkmB96leIaBemIZS8IOu4rvF32DH4RTLuaTrzL9JTeB1diaGg4kkLN8gjCVBFiNWJB1if+lUUcWHyqxCCuN7Btqb/ne0DX2DYPkxfcRcD1l4MJYYiNLzALo/nowidJdE72NzwaTRxMaog59kACQjoLp5mMms5piUwlRBJvYGIGiMdXChvnHFHGbT7J80TmQopJT3F09iT3FjDWpSk0YCphIlrdfRSuSKlq3CSQAZzqgKRUnIkt6+qLPo6PcWtTe8e0yxYSIQQXF23hd2jV/NWeseU23rSY8fIy2xO3UBYXThxthpvbzqLJ6uqDhMItqTeQbO5aEGfzsJqlG0Nt3A8f7Cqh4dKSBngWM8Q+CU5AN28DUU951UVQkEP3YVV+CdkMIJjPYEZ/SWEqOBtFGHOSQcoUOFmc+EELM6VzlYoCBAKmr6ZWOpv8JyduPYLZVXVXqQsIKUL0kYGHhK34hjTM/dkfk0JsbH+10noSzmaeYS0c7zUBp48Z/VNFDQMJUFUb6UlvKXcH2VyVMVkTd0HqDfXcjTzY/oKOyn6wwTSwS2HugQqqghhqnUk9CV4cuq8QAWVLY2fJa63cTz7OAWvrywsVhJJ05UoSWMlVyUfoiN266Q9XoRQaYveRERv4dDod+gpbKfoD2P5I+WxVDQlQtJYyeq697MkdvuUlUBCCJpCm7il9c84nP4+nfkXKHgDWP7o2NxUESJhdLAy8V6Wx9+NocQvWtn9vBogtl+k3+6Z9PU6PYUmdGJagqSeqthfwQ5suounWDWLUERJgOzkpHHChJYkpsXRFJ3kFGGFfrsXyy8Q1aYXCJoMVzrsGnkVr4pa8w2Ja2kLL71oH7qphLmh4Q4OZ/dNq3FwpnCczsIpVsfXL8BMaiGYtztSBhzO7q1KayOuJctewoUtDxdCsDq2ngazpdwFd+bIYBTH+ingI0QCM/wezl9uVW0Nmr4J136u1KDO2Y1uXuhtVNSW8nsdVH09kcR/LJXbTrpzm3zmL/DdPZQ6k1aWNSjldyTQzdvQzdsACxnkkTKPlDalahkPz91NPv2nTJWnUokgGKZkBM3Nq6srEVYm3ktH7Day7hmyTidWMIqUPqowCakpovoiYlprWclz+nVUERpNoY00htaR9/rJOmfIe324QaFkHCpRImoTMX0REa0JVUz9cOjjYqgJrq7/BCsS9zFiH6Pg9eFLF0OJEjc6SBorMKpRJBUKKWMV1zf/AXm3h7RzgoI3UB4rRsJYQp2xvGpDoeQJaefaxt/iquRHGHVOkHf78KWNrkSI623UGSsIqamx7S8W82qAZLw0o1M0bUoZjShCwVBMGswWThWOXbCNJOBM8QQBPuoMp2f7xSmfpBrMJkwlhIJCg9E86XZpd5iMOzonA2TA7uVk4ei025lKmM2pG6qqTpkvhBCsiK6hLbyU49Pkp1hBkQOZN2dlEFYxk3ker8aVhhVYnMhX1/RqaXQlzaFFCzyjEgk9yYromlkZIFJKPHcHXlk9tJR8emHMX4gYunkXrv0iyDyO9QS6eQucl2ugaksRShwZDIG00bRVKOrkGg1BMDJOQEpFUac+Z+fmFUaoYWCi91nKDAil/LxQ/TXre0eQMl9OYp0bQghMNYGpbqAxND+VSiWxPZ243kZcn2POnzxbXqsS0xePlfvOZW4qOgljCQljydzmxtljnZ+5zSfzZoBIKRmy+yZNQBUIUnojAoEq1HKSZ2VF0p5iJ0W/QEybWRZu2h1leIpEthZz8Vj/inqjCQWlYmls0S8wYPfSGmqf1U1XSsmx3AFy7vTVNItC7bSHq+8HMV9E1CjrEps5nj/MdJ6Io7n9FP08EW36/gSXCikl+ZzNvj1nOLC3k+GhXKn6JxmhraOeLdctp7n1woWwWHDY+fpxikWHpSuaWL125jc4KSWO7XH4YA/73jxDb88oQRDQ3FrHhk0dXLW+DcPU2LPrFMODOdZvbGdRW2UtnCAIGBzIcmh/N8cO944dR6IuTFtHPctXttC+pJ5IdGbaMJcro84Qg1WonioorI1vRK8m/DAPKKisjK3j9eHn8StUh0yNg138Ccg8oGGE34MQF65lQgh082YUtWWsN0zgd6FqyybORV2Cql2F57yE73fhuW+hKy2Tfv6B343vl6QQhJIs9WSZJVJKAn8AznpyhUm1Hg3fPYjnvIFu3vkL8V2tMf/Mqwekx+qcNOSgCY36cY3OWkPtaEKtGGMdcQYZdYZnbIAM2D2TlruqQmVR+FyHwZTRiKboFRMxPenSY51hY911M9r/+Pcfye6vSvdjZWwdkYsiez4RIRRWxdYRVsPT6n0M2r0MOn0suUwNECklfT1p/sffPsXrLx/BtsvfqbJ9qyiC3/7993D/g9de8N7RkTz/8MUn6OtJ829+9R2zMkDSowX++R+f55kn9pLLTgwlRCIGN9+xjg/98o189R9+zuED3fz7//i+igZIoWDz1GN7eOT7O+g8PYTnTfz+CAGxeIhNW5bx279/H/UNl+fnUS1SSvrs7qpK1ENqhKWRlRftRiaEYFGog7AanXFPGt87hmu/BICitqGbk7eXULWlaPp1OP6PCfwuXPtFFHViOFaIOGb4/XjOdpB5rPzX0fRrQGm6YFwpbezCD5BB6UFMM7ZO2nFXygApMwgRg8lkzGUBx36Gs030VHUR53toJkPKPMXsF1HUDlRtdYW5Ss7mcdQMlLcn82aABPjlBNTKGEpoQqfbBqOZkBqpeHEX/Tx9VhftkWVV7/9sr5XJBMhMJUyj0TL2c0KvI6SEJ60E6S6expfepHohU5HzMvRUkVSnC4PlsTWTJiQtNE1mKymjkeIUnxuUPEJdxdN0hFdclguF7wV8/9uv8tJzB0HA+o3tXH1NB2bIoFhwyGYKtFTwfszLvv2AHz/8Bo/+aBee57O4PcXmrctoaIyTy1kcOtDN80/vZ6A/Q09XZZVfKcG2HP7l6y/xo++8jmW7NDbGWbmmlYbGGEEgyWYsBvrS9PaMcuRgN8WCDVe4AQLQW+ysSvk0qdfPKjF9LtTpKRJ6ckYGiJQSx3oSWVY3LXk4Jq+eAAMj9C4c6zHAxbF+hhn+AIhzSd9CCIzwvTjW47j2M7j2i+TTf0w49r+haCvL+SABgT+IXfw+duFbQIBQ6glFfq2sN3Ihgd9NPv2fULXl6ObtqPpqFFEHQgf80niF7+BYT5bfYaIZ26pcA3SM0Ltx7efJjf4u4egnS+9VkoBAyjyBdxzPPYAZ/gBCvbifbY25Mx8aUfNmgFjTJKBGtOgEj0adnqJOT1W8uAMCTheOc23qpqpveJ506SpMrm2R0JMT9CyiapyoFifjVS7ZHbB7KfoF4srMb1xDdn/FEt/ziWpxWsyLE9OuRESL0Wq2TWk4wrjk3vpgQrfEy4XhoRzbXz1GEEg2b13GH/zn99PQVErQklISBAuX7Do0kOXZJ/fheT7LVzbzH/7oAVasakFRBFJCNlPkJw+/wb/+00vYtoeiVHrKlDz/zAF+9N3XcRyPW25fx6988hbaO+rR9HLzLD/AKrr0945y/Ggf0djCV0wtNAFB1TkWjWbLRa/ECqkRUnrjtNfHeGQwiGM9DkiEiGGE3ztlnxchBJqxDVVbiu8dxXN243kH0fRrz/OCpIgk/k/yo6N47i4c6xFc5xVUdRlCSQE2vnem3LPFQ4gY4dhn0c13VlxDpQxw7Sdx7Wdx7aewCt9EUZrLnXVjgFUer5OS90Ogm+9EN95JNXkgQpiEoh9F1ZZTzH2Z3OgfoqiNCKUeUJBBmqDspVG1lRjqnVWf4xqXFtvPMGjtxfGzOEGWgjdIzpv83j8V82aApN1R0s7kCahxrW5Ch9VQWQ9kMkGsruJJnMDGVKtbaPNejoEpDKBGY+ICZqqltt09VuUmS2l3hFF3mLg+cwOkz+6eVmMDIGU0ENMW5sm8GhQUFoU7YPSVabftt7pwAmfOjQIXgnS6QHq0FEba9o5VY8YHlJO51IXz2vR0jzA4UDKi77p3I6vWtI7bN9QlIzz4b65n75un2bn9RMUxRkcLPPKDHVhFl6s2tPHpf3cPzS11jL9vqKqCYWgk6sKsmkWY6HLECewpk9bH02QuuujNEVWhUj8jr4vEdV7Fd0tJtaq+EU3fNO27FLUFzXgnvncUKUdxrSfR9M0wztg/q90RS36BYu5vy16WIbzg/Jw3DVVbQyj6G5iRDyCm8OAq6nJ08zY8dzcyGCXwTxL4J8/bSpSTZW8lEv+DsgFRBSKCUFoIxz4HwsTKf4PA7wH//DYdGp77Jrp5+yXzBNeYGSP2UV7o/c+4wdlS6NkzbwbIkN03aQM4gKTRgKGcSyDThMaiUAdv8nrl8Zx+sl66agNkxB2c1JsB0BpunyBepAudeqNp0u3PJqJ2RJZXtf+zlJpqdVclqpQyGqvqYrpQlITJFk2ajDueUXcEyy9elgaI5/oEQWn+8cTc+ufMlP/F3nuHyXGdd7rvqdDVcaYn5xlgkHMiIkECzATFKIqkZFGiJD9ap7V919dr7/r68d3VXmd7LduyJVlWWFmyRVmSJTGKGSRIgiCInPMMJueemY4Vzv2jZ0BgMN1dkwFwXj4gH6Kru6qrq+r8zvm+7/cN9CcwUza6rlI39+qYPEAgaLBuYz37944uQM6faafhfCeKIrj19qWUluZxDUa6Jp2Uk3Qd3igyMt+rU4VAZC3XvxqZnvkHPw+A7tk0avLpVfsRKl7/JxFKEKSDotaQ9tBQR2wnULR5BPL/GMP/OGbyLSzrNNLpQ6ChqOVonrXoxq0oag22LUgkEkSjSaKxFMmkiW07gEDTFDyepfh9f4rhuYhHPQLyJI7dgpRxQENRwqhaPZpnw1DH3txln5pnA97gr6GIMIpailCGV2JuxUy8jmUdQzoRhNBRlHJUfdlQ197r74I31DAlvpU40iLPUzfpjQwng+EwiWU5JJMmsViKWDxFMmlhWfalDrmqqqDrKoah4/PqeL06HkNDUz8UhcO/va74KTIWj9rcThUGnhw+LJczKQJESklLojGr50WpUX5ZaViaCm8NqtBGjQEPWP10JtsoMkpz/rBSStriTSTs+Kivq0Kj0ld7xeekXfYyzyRtadESb2RNeNOYBjRbWq4spQEKh8qSZ5J8PYyueHL6MMTtKFF7gDBTZcs+WUzvQ8CxHaSUKIqC7hl9hi6EoLq2GE1ThwaAD5FScuFcJ4m4idens2BxBWK0MM0NSNyOufL/UIVGnhaekfyjgJaHQLiaUKR7vNyNx3v3GPci0Dwr0Dwrcm8pBIhAuquuZxNprw4bhMBxVPr7TY6f6eLEyb2cPt1Ga2sfkf448YSJeZlQV5X0gOP16uTl+SgtLWTe3I+xaGEJc+YUUlQYRNM8gDamlQmPdxse77YRx+xB96wdWtX58HjTyaxXJr9KKYlE4nT3ZE9MVlWFyoowHs/09aiJRGJ0dX94XJJq6uTvA6CkVM5HelBVhYryMIYxE71zho5LShIJk47Ofi5c6OL0mXYaGrvp7BpgYCBBYuhasG0HR0oUIVAUgaap6B4Vw9DIC/koCPspLw8zp66Y6qoCKsrzCYf9FBgLuK3yL0e9IwSM6sqaiUk5S+nBevRQBqS96kpG5DqkHdrK8WVIRDWdFM3xBhaHVuYcUySSi7HzGR8SXtVH2SjuiSVGeUYBBNAaT4uqsZT+WdLMuhIzjECQpxXMuGr2ayE8ipFzIEg5yYwl1rOkyfZb+gMeNP1qAQLQ2xMdEjGCpsYubDt32affbzB/UTmadu3l5LglacdJjdKOYSSa0GakBFwIgU/xowjVVaLsdCOEgpQeTMvm3PlOdr19ij17z9PU3Es87t46vbUtwslTbby1CzwejdLSPFYsr+bWmxeybGklweDkrCqmhYyR83n++s7jfPv/7Mq6TbjAzx//j0epqZm+CdFbb5/iG996E5klpywv38eX/ugR6udO74qdlBLLcmhu6eWDfRfY8/45zp3vpC8Su6qazh0f5jAKAV5Dp7AwQE1NEcuXVrFieTV1tUWEQt4hQ7vxXR+TIkASdjxrLb9H8VBwWQnuMNkSUSHtwummEiXpJDLmcgDkawXk61dfqGG9CEPxEstQBtiVSoeV8hX3AiTlpDKuxFyOEAoBLTjjVSUexeMqDGRJK2uI7UZgKn1ZFUWMHlaRXJqVRgeTfPXLL6G4uCbmLSzjS3/5SUJ5115IzC1JJ4nl5HYKVoU6LW0KRsOjGigok2AqPrlIKbFtydlz7Tzz3AHe3X2W3r4oEy1MSKUsmpp6aGrqYefOEyxZUsl9965k4/p6/H7PtDyvUimLgcHsEyJNV7Gd8Qys4yeVshkYiGc9x4oqLt3P08Gw8Dhztp1fvHyE3XvO0tU1gG1P3tNMSognTJpb+mhu6eO9PecIBDzU1RSx/qa5bFhfz9y5JRgebczXx6QIkIjVmzWZzK8Gydev9j3wqX5KjIqMiajtibRHQL4yumnTMANmHz2pzoyvl3orRs2gD+n5hLS8jAJkOLF2tGPPhOmkXCWgKijXRD6FJnR0FwJLSienX8j1jml+GBOdNkQ6RwTSIqW4JITXO7rgth1Ja1MvqZRFKmVfj2HzK0g5CVehDVVoaMrYy+EnA13o6evhGuoaIKWkpzfKz589wAsvHqKza2BK9hOLp/hg3wWOHmvmpnVz+ORjG1m8qAJVnU0WvRZwHElTcw8/e2Y/b7x5gp6e6ZkgSikZHExy9HgLx0608B8/38eK5TV84pF1rFxRM6bn56QIkK5ke9bBKU8P41evXkJVUKn21XGgb/eo74uYPfQkO3MKgI5kG9Es4YFq39xRM+h9qp8CTzHtyZGZ2WmGS4trA/Oy7v9yLGm5Wq4ViBlNQB1GFaorrxNJesC4kelsj2Ca9rTGlYUQVFQVoOkqiiL45V+/g9Xr5oy6baQvxh/916dpauzG5/dc1+EXANMxXQoQddorYIZJ9525dpSe4zicONnGN7/zJgcPNU7qTDcTiYTJrrdPc/JUG088toEdd6/E59NnfPX2o4qUkmTSYudbJ/m3p3fTeLF7witf4z8WiETi7Hr7FGVDobuxXBcTlrJSykumXZkoMkox1KsHWyEEVb66jANgwo7TmriY1fAkvf8GzIwOrDqVvtG99DWhU5rFh0Pi0BxvGJPhiiNtHBfWzUKIGXuoXo4iFFRXSWYSy7n24uCTyemTbbQ2906Kwc5YqJ9XRrgggJmyabzQRSBoEMrzXfEnGPKSSllEh5ama2qLplUoTQXp+yT3uRZCmfFcqWsBy3LY9fZp/vQvnmXf/oZpER+X09k5wD9/802++Z03ifTHp/0+mSU93vX1xfjWd97i7/7hZRoaZ058jGQ818OEBYgtLVqzJKBCugdLpmZrJUZ5Rst1B4eLsXNZS0QtadEUbyDTgyyohSgxykdVZQJBua8aJctp529PlwAAIABJREFUyGYvPxpy6B83XBsPVYHbGZ4ba/nrmd7uQX74vXeI9MWuupnSMfep+f4V1QWs21CPlJI3Xj5Kw7nOq/ZvmTa73jhBpC+Gz+9h/eb5o5uaXUe4v08+/Pf0M2wXPrNYls0rrx3lb7/yMk0ZHHWng0TS5OfP7ucfv/YaPUPJ07NMD1JK2tojfPnvX+InP/uAWMx9ovG1yoSnUMN+GZlQhUaZtyrjskxID1NslNFndo/6ekv8Ikk7gV8b3QUxZg/SkRg9hALppnOZzMSEEJQaFVnLUIcb7OW79AMQYxjQr41b1/0DNptQm05s26GpsZtkIi0MLzZ04QzNBtvb+jh1fMT1IARFxUGKijN3N1ZVhe13LWPf++f5s//xU+64Zzm1c9Kls5G+GMePNlNWns/t96yY9IFf11UefnwDxw5fpPFCJ3/zp8/yyBMbmb+oHI9Hoz8S5+2dJ3jmJ3uREjZtXciqtXXX/RK42/LO9Bg3M3eLcw0MsLbt8PrOE3z9G2/QF3GfhyUEGIZOfp6PcNhPKOhNr5qJdL5TNJqkry9GJBInnki5dgy2LIfXXj+GRPIbv3IH+fm+6/5avNaRUtLaFuFvv/IS7++9MG7hp6ppzw9NUy/l8kgn7RZt2Q6O4+A4U+sefTkTFiARs5eIlVmRexVvVhMhj2JQ5avlzOCxUV/vSXXSb/ZmFCB9qW4iWRJgK3w1WTPow54iAlqIZGp0ATJgReg1u10LEEUorgZqKeU1UdrnSIkj3c3s1SyW0uNjfBd5PJbiH/76Rc6daUfKIZvyITHy43/bzc9/tPeK7YWAx5/cwuNPbsn4mbpHZftdy1m4uJLv/vNODu27gM/nQVEVkgmTZNJkzU1z2XLrIvyByc3dEUIwd14pv/rbd/P1v3uZk8db+Os/foZQng9dV4nFkgwOJBBCcNOmeTz1xW2Tfgwzgeoyv8LBdn2NTjaOtF2v1EwFUkr27rvAN76107X48Hg06ueWsP6muaxYXk1lRfiS+FBVBUTavyZl2sSiSdra+zl+soX3957nxMlWVzNr25G8/sYJwvl+fvlzt2ZMnJ5l4kgp6e4e5B+/9tqYxYemKRQXhairK6J+TglVVQUUFwXx+w00XUUAtuNgWw7JpMXgYIK+SIyurkE6uvppa4vQ1TVIpD9GImFOerhnQiOKlJKuZBuJLAmoQS2PPC1zEqlAUOOvRxXqqG2vY/YgXakOyn2jN3RqTzRnLHsVKDlb3Qe1EGG9MGMVTdJO0JFopc4/35XKV4WGquQ+rRKJ6cIDYapxpD1qR+KRCMSoeTwTw/2s6fLr3uvVeeSJDRw73ERTYzcXG7ppiqdncHl5PkL5VzbfEoKMvVOGHUyTSYuy8nxWr62juDTECz/fz4WzHcRiKQyvTklZHuWVBVjWlddoIORl/sJyVE3F589cTeT1eaifX0YyaY1aOqsognUb5/GH/18eLz57gAN7L9DTPUgyaWIYGouXVbH5lkXcuWMFhUUzX749GXiEx1UY0pb2jIl1S5ozFmaQUnKhoYtvfHMnnZ25K10URbB4UQUPP7iWdWvnEM73Z16t09Kul6Ggl7KyfFauqOb+Has4crSZnz2zn337L5Ays+ey2bbDcy8cpLamiPvuXTlbHTNFxOMm3/3+O+zec8b1tRjwe1i5ooZbb1nE8mVVFBeF8Hg0hCDns+OSe6rtkEyY9A8kaG+PcOZsBydOtnLmbAcdnf2XJn0TYcJT2pbExVGFwzAFnmJ8WdrNp9teV2dse21Ji7bERZblrRm1nXNTvCFjboJX9VLhq876kPMoXkqMCs5FT476ujOUiHoTW109LHXF48q4TOK48guZaixpuhJCQijT3gxsGEc6VyT2arrK5lsWsWnrQizTpuFCF//j956mo72fx57cwh33XO0omSlhs7A4yH//0sdByksrHltuXcTaDfX0dg8Si6VQVYVQnpf8fP+l5nDDrFpTx5/93ZMAeH2ZZ4H188r40l99EiQYGWaLiiKoqy/li//5TvojcSJ9USzTxvDqhAsDBALe6z7v43I8ipF2As7xTLUca8bEespJIWco9ykaTfLd773DufMdObf1+z18bMcqHnt0PcXjEKhCCIJBLxs31LNsaRUvvHSIHzz9Hr192Vdd4nGTf316N/PnlbJ40dVmj7NMDNt2+MXLh3nplSOuko41TWHF8moee3Q9q1bW4vOOvVrpkuW6pqIHVYJBL5UVYVavqsWyHfp6Y5y/0MkH+y6w70ADTc294xYjExIgw3bl2UjnWGRfngt7iijwFGc0JGuJX8TBQR2RyGo6KdqytL3P0wso0LM3k0o3ZMvWLhvaEk2YTspVXxpdeFxt50iHmD04/b4TI0g5SVd22JrQ8M+UAMEZ1VtFCIHu0aiuLaKuvpSO9n4MQycYcm9apSgKgRHhDCEEPp8HX3XusJumqwT13NVMqqYQdNHBVoh0PkpBYYCCwpk539OFR/WiCZ0U2X1zbCzizvSLdSklCTs2I+Efx5G8vvME7+w+k3PZOxAweOrJm3ngY6sxjLGbQV1OWogYfPyhdZQUh/jHr79GV1d2B+S2tgg/+OEefu//3nHVvTTL+JFScuZsBz/88fskk7lXAP1+Dw89sJZHH1lHYUFg0scVIQS6plJSEqK4OMi6tXPoi8Q4fqKVnW+eoKBg7M+rCa2ZxewYXcn2zAeMQpm38qoeMCPxqX4qvJlFQFeyjaR99SAZtQfozmZAZlQQyGHhnE5ErUTP4oXRneogmsGsbCSaomes6rkciaTfjLj6zKkkZkVdzS49ikFAy5zEOZVI6WT1eTEMjaUrqm+o1YGPAl7Fd0WDykzYjkXMGpiRUEjUHpyRHJDW1j7+42cfkEplH3h0XeWJxzbw0ANr8I5jtjsaQqT7gty6dRFf/MI2Qi4E/Z6953jv/XOzVTGTSDxh8u8/eZ+2ttzjRMDv4fOf3cpTT26ZEvExkuEGdkWFQW7ePJ/f/Z0dPPzA1VGKXExIgETMHvrNzH1PdEWnxJt7WU5BpdY/L2OIo8/sZcC6+kfoSXUxmGUQz+YxcjlFnpKs4YUBs5/eLELncjShER7F9n00elKdODNs8hyxel314whowZxibqpwcOgzuzM+3IQQrFxTy5x5pbMzsOsIn+rHmyU8O0z695/+0lOJJDID+7VthxdfPkxD4+iVgcMIAbfcvJBHHlw7JZ4wqqqwfdtiHnpgTc78jkQiXZ47MHBjmxVOF1JK9h9o4N3dZ3Ju6/FoPPH4Rh68fw2GMf0GcUIIDI82rp5B4xYgUko6kq0ksiyN+tUABXpRzs8SQlDpq81YrRKzBulJdV4xE5FS0pFoyRg+0IROlW9Ozn1D2pI9Tw9nfD3lJGhLNLtS9wJBiVHuar89qS5Xg/9UIaWkM9HmSgSF9SK8Su7BYoxH4HrLrmR71uNcsryaP/3yL7Fhy/zJOLBZpgGPYhDSRi+RH0m2XlNThSMd+lLZRcBU0NLax+tvnMhZCllels8nH984paJb11Qeun8NixbmfqadONnK/gNjM26cZXTicZPnnj+YsyJJCNi6ZQEPT5EInWomsAIiaY1fzJqdnqeHXYUjAIo8pRlFgClN2hMtV4xXEpl2Kc0wiAW0IKUZDMhG4lV9FHlKM77u4NASb3S1FCuEoMxb6Wrlpc/szpj3Mh04OFmb+F1OubfaVc+YseFeLXcmW0cNww2jaSoFhcGMCZ6zXHvoQ00q3dCVbM/odjxVJJ1E1h5XU4GUknd3n6G1LXtHbUUR3HXncurnlkzpjFcIQVFRkAc+thqPJ3uuUzJp8drOE67yFWbJjJSSk6dbOXwkc37jMKWleTzx2AaC1+nK77gFiOnCAbXQU4rhsuFa2rE0ky26pDXeeEW1i+mkaM2SgFrgKSbPZRM5BTVjme8wbYlmV03mAIqNclfhikGrn87E9M/shonb0axJvMOoQqXGP3dGnVu7U530ZjCrm+X6RCAoz5L7dTndqQ6i1tQ0XcvEoNU/7SGYgcEEb719KufqR0lJiNu3L56W0lchBBvW1zOvPvMkbZgjR5tovDh7n04Ex5G8tesUg9Hs440QcOfty5hXX3rdVh+N++qNW4N0pTInoAKUe6tcu2eqQqPWX5/x9Y5k6xXN0Aat7HkZFd4a191mh0uBsx1rT6rT9QMwXy9wFYZJOUnOR0/NyJLlcPilJ9WVc9uAGqLKNxXOm+6/d9Qa4EL09Ozy7g1GhbfaVdl6v9lHV7Jt2hJCpZR0JtuIZUl+nop9njvXyfnzue/JNavqqKp036V7ooTz/dy8eQFKjmdAX1+M/QcbZ+/TCdDTG2XfgdE7xF9OUWGQ27Ytvq6T78ctQPrM3qwJqAoqZd5K158nhKDaPwctg9tmr9nN4GUCoCfVecX/X/FZpD9rLDP2ohyrNYNWv6vBGsBQvMwJLHC17dnB4zPW5v7M4PGsJnLDlHmrKPRkdrMdP2MxIpMcjezDlDNv3jbL5CCEoMSbuRfU5aScJBeip6fRkV3SED0z7dfbgUONRGPZZ766rrJpQ/20Gn8pimDtmrqcFTGOIzlwsHE2DDNOpJScPdtBu4vKl+XLqqmpLrxuVz9gAgKkI9mS1UjLUL0UecrGdHLSZbOjP4yGE1FhqClPoiljSMRQvFR4a8a07zy9gFCWB2HKSboKV0Dajn1BcFlWC/hhWhKNtCSmf8YQswc51r/fxYxSsDhvJR5l5mOM56OnuRg7Pzu7uoHI08KuJioSyamBI1mT3ieThB3nXPTEtOzr0j4Tpqu4f1FhkAXzx/ZsnQyqqwqpduGNc+FCFz090Wk4ohsPKSWHjzaRyCHgVFVhw/q56C48iK5lxiVApJS0xBuzViUEtVDWypLRyNPDFGdIBk05KdqHKlHS7qSZk0JDenjMM3a/Fsj5nuZ4g2tTomrfHMq9VTm3i9sx9ve+O62dZqWUnB08QXM89zJfSMtjcWjlFD3sxiYkYvYg73a/PrsKcgPhUQzmBZe4Wq1sil9IJ55PgwBtTTTlNFmcbLp7Bl11uq2pKaSwcPpL4v0BDwvml+Xcrqc3SlNLz+xEYRwkkxanTuXOC8zP87Fwgbsii2uZcQkQU5o5VwPCetGYnTM9ipdKX+2or0kcWuNNSBxSToL2RHPGzykxysZsmqUJnVJvpiTYNO1jSET1a0GW5a919WA9EtlHa/zitN2wCSfOe91vuHJAnR9cQukYQmljY+w3z5HIB5zoPzT7cLtBEEKwILg0a7uGYWJ2lP2972JPsXeOLW0O9u0hZk/vLL6ltY+Ii4Zzc+cUYxjTX3KpCMH8eaU5cw5SKYuGhtlE1PEQ6Y/TkqMCCtLVLyVZuntfL4xLgMSsQbqS2fsTlBjlYy7bVIRCrX8eihh9Wakj2ULKSQ0Zg2XOx6jy1WV1Nh0NIdIZ+dkSUXtT3aMaoo36eQhW5K93ZUrWZ/bwVtdLrsXNRJBSciTyAacGj+bc1qv4WF94y5jP5VQSt6P8ou0/6Ey2zoqQG4RyXxXVLj17Dkf20hKbulUQKSXtiWYORd6fks/Ptt+LF3tIpbKLK0URzKkrnpGZrxCCqsoCV+LnQkPXpHdO/SjQ1TVIfyR3mLGqsgCfb7JtEaafcQmQPrObASuzShsurxtP2WaFrxp/htlQT6qLqDVAd6qDQXv0BFRVaDk74GY65lKjEj1LrkPUHqAn6c4RNe0HUsGK8Hpyz/QlB3p3c7Bvz5T2nRjOnXml/eeuxM7C0PL08viUPezG94Rqip/n5y3/Rr/VNytCbgC8ip+V4Q2oGSYelxMxe3mj84UpE+umTPFW50uuE84nC8eRtLTmvp49Ho3SEnfeSlNBYWEAvz93Plh7Rz+mOZuIOla6ugdIJHP73VRWhNG067/78Ji/wbADalZTKKFT6h1ffCqsFxHO4J4atQboM7tpjV/Eckb/kfxqIGcoJRMFnqKs/h3p5nfuHFEhLYY2Fm6jwJPbDTbhxHmx7ceci56ckkFVSkm/2cuzrU/TliV8NUxADbK15G5XibTjZ/zC5mhkHz9r/h69WSzaZ7k+EEKwNG+1awfhw5G97O3dlbUL93hwpM2+3nfZ1/sO01huA6Tt1zs6c5sSeg2d/Hx39gJTQSBguHJe7euLzVbCjIPOzoGcXW8VJW0OdyMwLgnVMsIUbCQ+1e/a4fDq9wao8NWM+lrKSdIab8rqSlrgKSbfpQHZSAJaKKP4gWH31QtjShit8NWwpeh2V7O77lQHP7r4bc5GT0zqSoiUkp5UFz9p/i7HIvvJ9XAVCNYVbmVeYNE1keRU559/VYKwg8O+3t18v+GrnI+emvTBCNLnzXRMnCn47FmupMBTzE0FW135BqWcJC+2/YTDfXsn7bexpc2hvr083/rDaau0uRzTsom4WHr3ejUCLlYgpgqvoRPw5176j8VTxMfZov2jipSS3r5ozgmVogjy833XxLN5ooxZgJgyldMBNU8vcG3BPhJVqNT660cN30gkZwaPZ3VArfBWuzYgG4lHMXInoiZbSGYpPx6JgsKmotuYF1jiavvWxEX+teFr7OnZScKOT2h2L6XEcizORk/w/YZ/TId4XIinGv9ctpfsQM3gyTJ5uPtuawo2cXf5I1eVAksczgwe4zsX/o6X236a7hcj7QmfM1ta9Ka62df7Dk83foOG2Nlxf94s7hgWvZkmHyPpN3v5SfP/4f2et0g5qXH/5lJK4naMt7te4UdN356R5nOQTtyMx3NXd3m9HvQZ7PmhqoqrEEwqaZGYFSBjQkoYHMwdWlQUgd/nQUp5zf/JxZiv5Mv9ODJR5CnBUMYnAoQQVHpr8ShekqPMRI7178/Yf0YgqPLVoTC+2mgFZah0VpBpcOwbSkT1u+wMK4QgpOVzT8XH6bjQ4qq3RHeqg580fZeTA0e4ufhOanxz8SiGa8WbLlW26Ui0srdnF+/3vuX6wZqnhdlR/gkKPVPbYyJN7s9XhUq+XsDSvDWcGzzBnp63GPnbRMweftH2E/b1vcvK/PUsy1tDqbcSn+pHEbk1tpQSU6aImL00xxs4NXCEs4Mn6Eq2Y0uLEm85c/wLbogZx7WKEIICvYhbS+7lx03fdtWkMWL28pPmf+Fi7AI3F99BmbcyYwL7SIZ/84boWd7uepmj/funJQk8E5blkErlDll4POqMxv4VVeB1kYRqWvZsDsgYkVKSdJH/YduSt94+xbnz7vIRZ4KqqgK2bJqPqmZ/Zo5ZgLipBEk3Yxu/Si82ysjTw3QmrxYg2UpHPYpBpa923AOFEIIyoxJd6Bm9JqJDFUBlLjw+Lv/c+sBC7il/lJ81f8/VEm/SSbCv9x1O9B+iLjCfpXmrqfPPI18vxKv6UIV2yRY5PWtPlyf3W320xi9yvP8gZweP02f2uLavNhQvd5c/wqK8FdfMYKsKjZCWj1f1cXf5I7QlmmkcZUXCwaE90czLiRbe7nqZYqOcSl8tld5aCj3F+LUghuJFFSoODqaTImYN0mf20JZoojXRRGeyjQEzgjWi6dmZweNsK9kx7pW1WdwhhGB1eCNnBo+xt2eXq+s2YcfY1fUSR/v3sTRvDcvyVlPmrSKgBVGFnr5HJDhIHGmTsGP0mT00xs5xrP8AF6KnidmZ7dYDahAhlClvGmnbDqaVe3VSVdUZtd5WhEDTcos823awXHyfWT5ESoll5z5ntu3w7PMHp+GIxs/NW+az0YVb75hUgpSS9mRz1gRUVaiUeasmNIAFtDxKjQo6k61jel9Iz6fIyN0wKRuFRgk+1Y9pjS5ALGnSmmhkad7qMX1HRaisL9zKgNXnugoF0uZbx/sPcKL/IF7VR0jLJ6jlE9CC6IoHgcByTGJ2lEGrn36zj7gdHbOxmS483F56P5uKtk9D6MU9uuK5tNpU7CnjoapP868NX6M7lakMXBKzozTGzl4SKqpQ0YSOIhQECpAWbLY0sbJ0cx6mNX6RnlRnRo+aWSYPQ/Fyd9kjtCdaRhWaoyGR9KQ62dX1Eu91v05ID5M/FAZOh+0kKSdF1Bpk0IowYEXS4c0cAsen+nmo6tOcHjzO+z1vTsK3y/IdpETmaEAHoCjM8ORAuBJAbpfgZxnBR+yUjU2AIGmNX8w6uHkUY8IiQBMa1f45HO3fN6b3FXvKxp17MkxIyyekh+nPUGYskbTEL2JLe8yrPLriYVvJDizH5PXO5zFdLDNfvt+4HSNux+gYozDLhUcx2FZyL9tL70O7hjw/ID0g+ZR0WXZ6JWkRD1R+ih83fce1J4st7QklqUatARpj58Zs7z/L2BFCUGKU82Dlp/jXxq/nDPeOxJQmPanOMb9vJLrQ2Vayg1XhjRzrPzChz3KDQODm0pKSGR6kpCt/j/R9MnuvjJXrubHceBhTMNF0UlkTQCHdOTXfhflWLmr89WMe4MdjQDYSr+rLaAc/TEeiddT8FDcYipc7yx7i3vJHx+wUOxX41SD3lj/KXWUP41Wvvcxqn+rHUD8sBVaEwsrweh6s/KUJi023ODicGjiStfXALJOHEIJ5wSU8UvXZrFVpU4UmdG4puYfbSj+GgkLMmnpHVEURKC6ay9m2gzODKwtSgmXnvg8UReSM/0/sOOQNt1qgKALPDCYYzwRjEiBRa4DuHA6oYU8RAXViNcpCiKHGdO6tZlWhUu2fw0RVt4JKua866zZ9ZnfWTsDZEEJgqF62l+zgsZovUGZMlc15bkqNSh6v+QLbSnZcMchfS/jV4FWOuqpQWVd4M49WPzVFXXqv5mLsHP2muxWXWSaOIhSW56/l8Wm+R7yKj9tL7+ee8o9jKF4saRGfBkt2VVPwuGgsZpo29gzmVjiOk9OtFUDTVHR96gZTx3awnRsrx0QIgdd7ba1ATzVjukJ6za6cyVglRtmYLdhHI08PU+QpdV294VX8lBqVE57BX27JninUFLejdKU6XJcMjoam6KwOb6LMW8UrbT/jSP++acvC9ygGy/LWcmfZg1T6al1ViswUQS00alhIFSqrwxsJaWGebfkBDbEzrpNtx0PaAK+RsH59t7++nlCEwpK81QS1PJ5teZozg8emtGljoaeEu8oe4qbCrZdKvk2ZIjkN96WuqxhG7sEnmbQwrZlbibNt6apc2ONR8XqnToDYtruqoesLQV7Im6UG8/rBrQv6mEaetkRLzpux3FszLgv2kRhZGtONRoGniLBn4qEfgGKjFCNLxYMlrbQZ2gSXQhWhUOmt5YnaL/Kp2l9hfnApupg6f39N6MwNLOSTNV/kk7VfTJcsX8PiA9KeMpmuJ0WozA8u4am5v8n2kh2EtPwpO46Uk+J89NSUipxZrma4P9Rn5vwGd5c/QsEUhGQMxcuq8EY+N+e32VR02xV+MykniTkNAsSjawRdOIzGEykSiZnrBm2aFtFo7vPh83mmtFeJZTvEYjdWV2whoLAwiLgB8kBUVXGlA1xLVEc6tMQbkFlmIJrQKTXKJyX36FJjOl5zFXsvG/J9mAzytAJCWn7WpdeWeCOOtCdcMSKEwKv6WBPexKLQCk4PHGFf77tciJ1mwIxMeMYnEAS0ILX++awt2MLi0EqCWui6mcXnauYnhKDQU8L9lZ9iVXgju3ve4ET/IfrN3kk5d4bipcgoZV5wievuxrNMLkII8vQwd5c/wor8m3ivZydHIh/Ql+qZQF6OwK8GmBtYyMaibSwKrcBQvFfdF6aTwpRTb6ilaQqFLuy1k0mL/v7cXaynimg06UqAhPP9eF2s6IwXy3LoH0gbNV4vzzI3FBcF0VSFlJP9ut68aT7r1tRN01GlkRJe33mcY8dbcm7r8Wiukqpdj54SSZ1/Pt6yzCsDuvBQ6aubtIf0vOBi7i5/yFWp5Pzg0nEbkI0koIXYVnpv1o67BZ5iHOQk7TH9kA1oQVaFN7I0fw2dyTbODZ7g7OAJ2hLN9Ju9JJxERhO2S5+DgqEYBLU8yryV1AcXMT+4lHJv9agP2JlEFQprCjZT45+bcZv5oaWuPktTNOYEFlDtn0tnspXTA0c5PXiU1ngTA1Y/KSeZVTxDuvrKUHzk6fmUGBXU+uuZE1gw5CsRQkG5ps7fRw1VqFT56nio8tNsLb6TUwNHOTlwmNb4RQasyNBvnHmFShM6fjVAsVFOfXARS/JWUe2bk/W+MB0zY9+pyURVFcpKcydVJ5Mm3d2ZfUummkh/3JUAKS0J4fFM1tPxamzboWsGz8NUUVQUxOfzkDKzFznMqS3ikYfWTWvVjOM4nD3X4UqABALujDNdCxBVqGwoutXt5pNCsVHGjorHpnWfALqis7X4rmnfL6SFiEcYVPnqqPTWsrnodmJ2lH6zjz6zm4jZO+T1EcN0Ukgc1KGBM6iHhpr5FRL2FBHUQujCc80OmqrQ2Fx026R9nhACXehU+mqp8NawufgOBq1++lLd9Jrd9KW6iVoDJIeEnIJ6yWckTwuTp4cJ64WE9Hx8qh9N6NfsufuoIoRAExpl3ipKjUo2FW1nwIrQm+qiJ9VF79BvPCxGNKHh1wLk64UU6EUUGiXk64UYitdV+NGW1rSF3aqrClBVBTuLGZVtOzQ2dc/IzF9KSWtbxJXFel1t8ZQfX1NTL1LiaqZ9vVBQECAc9hPpzy5AOjoHsG0HRZk6kTcSx5Gu827C+X5X4uijVfNznZF+2OrkKenBsZo5M31I1w1pIeeh0FNM4TgbI85ybZMWnB4KPSUUekqYNwX7kNMkP4QQVFcV4vd5GBjMHGKREs6f78KyHHQXVTOTiZRw7nxnTrdOXVepnzv11WkXm3pIJs0pzTW5nGzC8ErGr4hCIS+VFWEaGruzbtfa1kciYU7rNWDZDgMDucN/iiIoLnZXCXttZyDOMssss3xEKCvNc9VmvaGxi/6B6e/Ym0yanDrVlnO7grCf6uqCKV8BaW3to7cvNqX7uJxk0sxpwqYId06xmfDoGgsXlOfcrrNzgN7eqS8Pv5xqmKOBAAAgAElEQVRU0qIvkvt8ezwa5WX5rn7/WQEyyyyzzHINkJfnc7Vy0NbeT2Nj97RbnXd09HOhIXNe3DBz5hS7ElITpac3yrnzndNyHqSU9EVyiz5VU9An0CxQCFiypDKnH0hfJMZ5F7/FZBLpj9PnQvDlhbyu8plgVoDMco0hpYN0BnHsFhyrAce6iLS7kDI521tilhsaTVNYs7o25ww6Hk+x94MLrizRJwspJQcPX6Qnx6xbUQRrV9dNaQXMMKmUxQf7zo8hNDJ+LMuhq2sg53YeXXPl55IJIQTz5pbkHMBN02bf/oZp+e6Q/v2bW3pz5qYAlJeHKSx05/I9mwMyyzVB2lq5Hyv+DFbiBaTdDDIBQkWIPIQ2F817N6pxB4jgbHLoNcawOBz+7/DvM9m/U7rJGaStmj7sn3IjXA9CCJYvraawMEBXV/YKj/feP8cjD6+jeBpWGgBisRS73jmdc8AL5/tZs7pu2n6Pffsb6OwcoKIiPKX7icVTtLbldkL2+z0TdjMtKAiwckVNzjyQg4ca6eoedL3aMBGkhGPHWlwloS5ZXIHX6y4vZ9wCxHGcS8lI2gy3iJ7lRsDEHPwqZuw7KOpcVGM7QikEkjjWRRzzIMnkG2i+x/CE/iuI6XnwfpToau9n7ztnqKgpYOW6OVcMIpZls/ftM0QHE2y4ZSGhvA/L8W3b4cKZdt5/+wyN5zvRVIW5C8pYf/MCKmuLLj0bkgmTPbtOYXh11m2ej6oqXLzQxdH9jazZVE9ZRZhUyuL9XadRFMH6rQsutX6XUtLdOcCBPec4eaSZ/kgcn0+nsraIxSuqWbi0Eu80JSNOJRUVYZYvreKNN09m3a7xYjd73j/HjntWTPlgL6XkyNEmjh3LXX65fHk1tTXT17+npbWPd987yyMPrZ3S89DeHqG9I7cAKSgITGgFBNKrSDdvWcArrx4lnqXiqLmll717z3PfjpVTfg0MDib4YP+FnNsZhsaaVbWuK5PGLUAOn23ley9+gKIInrpvPUvn5k6cmWWWTEi7AyvxHEKtxij4e4RajxAKSInERtoNpCL/L1b8R6jGNjTv7TN9yDccjec7+Yc/f47t96xgxdo5VzxEzJTNj/7lbZobupm/pPKSALEsm1efO8T3v/4GsWiSwpIQju3w1qvHeP7HH/CF37qTjbcsRFEVYtEk3/+nnRSVhFh101xUVeHYgUb+4c+f4//588cpqwiTjJs8/e230HWN1RvmomkqUkoO72vgm3/7MudPt+MPGni9Orbl8OYrx/B4NP7bnzzK6g31M3TmJg+PR+W2bUt4972zJJOZZ5umafPs8we4ad0cSkumdgYcjSb56TP7icay+394vTp33rYUw5i+hXXLcnj+xUNs2TyfstK8KRmIpZQcONjoygCusiI8Yf8TIQRLFlewcGE5Bw9dzLidZTk89+IhNm6sp7jIfd+0sTIcfjt/PneH6dqaIhYsKHf9O4z7SjnT1MXO/WfRNYUHti4b78fMMssQKZAJFLUOoVSmxQeAEAg0UOtRfQ9hp97BsY4BswJkppFScmRfA9/5yisUleTxW394P/ULy3Gc9N9/6+9f4RtffonSijD1C8vGvY/mxh6++hcv0NUe4Ykv3MKW7YsJ5nkxUzbdnf2cOtZCXnhyXJBnGiEEq1bWsGhhBYcOZx58AE6dbueZ5w7w2U/fPGXlmLbt8Orrx9m3vyHntksXV7J6Ve20h8POX+jk58/u5/OfvWVKzkMkEuetXady5qAJIZhXn72TultCQS933bGMY8dbMM3Mrqinz7TxwouH+dQTGy+tFk42AwMJnnv+YNbVGEh//82b5hPOd38vjkuASAldfdHZpMCPCFLaIGMgDEAHOYi025CYCKUQoZQgROaLX0oT6XSD04vEQQg/QikayuVICw2hFKPoy3CsUzjWERR9NaDCcGsmmUTa6RJAgXHFZyNzJUYpIPwIoSClk/4uSBCBD4XOyM8TOvChQ2b6fQNIpwcp44BECB9CKQZx/VjbTyappMXzP/6AeCzFp//TNtZtnn/pPNx69zJ6ugf55y+/xKvPHWTO/PEZ+0kpef2FQzSc6+Cxp7by+FM3o1/WsryyppDla+qu/+5dl5GX5+NjO1Zy8lRr1lUQ23b4+bMHmF9fyi1bF016GHx45vtvP9ydM/bv8+o8+MAagsHc/WwmG8eRPPf8QRbMK+PWWxehKpNXW+E4Dm/uOsmpM+05tw0GDObVl07Ks0AIwZZN83nplSMcOtyUcTvLcviPn+9jXn0pmzbOm/RrwLYdXnrlCPsPNubctrQkxLZbxnYdjlOASLoj01uDPMvMIe1mkpE/QPPdh6LWkBr8GtI6hZQmQi1G8z6AHngKoVyZCCalg7ROY8b+BTv1blqEyKGBW61E9d6JHvg8QvhAhPCEfp/U4FdIRv4ARZ2HUAKAQGKD04OdOoBQK1A8Gy7tw0m9R2rgr0CajD4KCYQ2FyP/f4EoANlPMvIHIBN48v8UoV45M3dSH5Aa+BNU43b04G8CKlI6WPEfYsWeTgsvmS5FE8KL0OrQfI+iee8fOt6PDj1dA5w82kxZZZjFK6qvePAqisLq9XMJhXwcPdBIzIV992jEYykO7b2AP2CwefuiK8THMEKISek/da0wPJNc9+ZJ3tl9Juu2/f1xvv7Pb+D1erhp3RxUdXIGX8eRHD3WzFf+8VXa27N3QBcCtmxewPqb5s6YEO8fSPBP39yJx9DYtGHepJwHKSXHT7Tywx/tcZV8WVNdSHVVwYT3O0w47OfjD9/EmbMdWRvv9fZG+eo/vYbXq7N6VQ3KJAkw23Z4d/cZ/u3p93J+f0UR3H7bEmprxtYQdlwCxLJtemfACGeWGUImcaxjmNEWkBJFm4vq/zTIBFbyFczBr4CMo4d+BzHUzVdKiWMeIhX57zj2BRR9Fapna3plwenGsc5jJ15B9z0Bqi/94NIWo/s/RaLvt7GtNxBKiEuV4sKL6lmL5v8siv5hyC8tZO4Fpx8pB7CTryHtVlTjNoQ2FyECCLUahHfou1g41pn0Koi8+qaWsh/HPIqiLbr8b3FSe0EmUY0tCLUGhAdpt2Mn3yLV/z9BDqD5P591JehGI9IbIzqQoLwqjM9/dQJoXr6fYJ6XSG+UWDSJZxTxkItE3KS3exBdV+npHOBEhtmg4dOpnVOCOgEPhmuJYMDgicc2cPJ0W87eL61tEf7m737BZ5+8mdu2L8ZrjL+FgJQS07R5972zfPPbb3KxqSfne6qqCnjisQ34Jlj9MVHa2iN8+e9f5nNPxrj9tiV4veM/D44jOXW6ja989VWaW/pybi+E4Kab5hAMese1v0yfuXF9PdtvXcwLvziUtey6qbmXv/7yi3z+qVvYevMCDI82oWsgZdq8tesU3/jWzpyl15C23r/v3lVjFn7jEiCm7dA3K0A+ckjrHJr/s3hCvwsiBEhU770k+347nRzqvQ/VswIQIPsxB/8Wxz6PHvy/0P2fHHqPAOyhME47KJcnT0ns1HvgDOLJ+31Uzy0gtPR7hI4Q4aFQymUzba0ePfArpFc/TJK97dhON3rgcyiem2G4NeKEZmYKevDXQOQNrfIM3zYOjrmPRO+vYsWfQfN9AsTUlgNOB47jzlvAth0cKdOtt0c5v0JJu0KapkQ644uRSClxHElvT5S/+qOfkql9S/2Ccv7of3/yiuqc6xkhBEuXVPHow+v49nd3Zc0DAGjv6Ocfvvoqh4828fADa5k7txhdU10PQlJKbNuhobGb5144yCuvHXNlu+33e/j0Jzczr77kmghDdnUN8A9ff43DR5t48P41zJ9Xiq6P7TxEo0ne2X2Wf/3BuzlLYYcpLAxw8+YFkx4CMQyNJx7bwKnTbZw525F125bWPv7271/i4KFGHvjYaubOKUHTxtZA07Ydmpp6+PlzB3j5laNZ2wIM4/PqPP6J9VRWhMd8DeQUIMMPAMt2sB0HKSW9A3Ei0SEBIiGRsojGx7fEOhpCCLwebdKWkmaZJEQ+mu8TCGU4616g6MtRvXdiRb+JnXoXRV+BEOCYh7FTe1D0Nej+X7rsPZDOyShAKCOXKwWKtgihBNNCQ60EoZK+TDM/RNJ/L5BSvUxoqFfld4z7awuB0K7uNCKlghD5CDxIGU+HpCZljzNLdDAxSqMrORTh+rDXtT9gYBgagwMJTNPGGDEDTsRTxGMpgnm+K16zLOfK/DE5os9G2uIDSD+Ag3le/AGDR5/cTMEI34vWpl5++q+7SSZNlGtgAJxMNE3h/o+tpqGxm5dfPYqTQ8TF4ile/MVh3n//PGvW1LJl0wLmzyulIOzHMHRUVVyW0ySx7XRzsd6+tKPo7vfOsXffebq6BlyZnGmaysMPruW2bUum/VldV1eElNA4ikCIx1P84uUj7Nl7njWra9myaT7z55VRWBjAa6THlWGhMHweEkNdho8ea+aNnSc4cqzZVdM9SD9ytm5ZwJy6ye85JYSgprqQX/78rfzV37yYczVsMJrk2ecPsvu9s6xZU8em9fOYP790qDxYQ1UUhJK+h6WU2E56xSsSidHQkC7t3r3nLG3tEVfXgKoI7r5rOdtvXTwu8ZVRgDiOpK27nw9ONnH0XCutXf3EEiaOlJiWTXNnuibatG2+/h/v8G8v7RvzzjMR9Hn4vc/cQVVJ/qR95rXOyITea2E2MRKhliDUkeXWKoq2FFCR1inAAVRs8yjIGKq+AoQfKTPFEBXShlLpP6qxDdW4ldTAX2LF/wMhDIRai2rchWpsQojpT3IbSTohtR87tR8r9i2k04Fm3DJCZF2/NDf20Nc9SHHZh2WNpmkTj6XQNAVtqNKgqCREWWUBbc29tDX3Mm9R+RUD3IWzHUT6YqxYN4dgyMvg0Iw6NjgsWCTJpIVtO/T1RocmOw627eBVFRACX8CgfmE5Dec6Wbisipu2zL9iH++8fgJHSkrL8/FMY/nndBEMGHzhqVvo64uxZ+85V4NCd88gr7x6jJ07TxIu8FNakkdpSYj8fP+lEtlk0iLSH6ezs5+Oob4iuVZZLkdVFe6+cxmffGzjhMtOx4oQcPv2JSyYV8af/9XzGd05e3ujvPb6cd586yThfD+lpXmUFIcIh/2XzMKSSYtIJEZ7Rz/tHf309cXG7C5aWVHAg/evmbJKJCEEN62byxee2srXvvGGq5Wpru5BXn7lKK+/cfzSdy8uCqa/u6EjFEEqZdE/kKC7e5D2jn56egazJj1ffVywYX09T35q87hLr0d9V8q0eHnPKb734l4utPZk7X4oJVxozR0nHAv5QS9Jl21/bxQs6fBa01laov2sK6liRZH7WurpQgjfVQJACDEUllCRTgSwARWcHsDBTu5COpmXDlXjNlTvA6RXMBysxItYyTcQohBFqwc0nNQHWInn8AR/G83/mRnLs5DSQdpN2MmXsRK/wDGPAQ6qdwd68NeB698IC6D1Yg8v/nQfH39yM/6AgWNLjuxrpLW5l7r6EoJ56Th3MM/LLXcu5dtfeZVnfriHz/3GHYQLA0gJbc29PPP0HgxDZ/u9Ky6JFoCujn7amnuZM7+M86fbsW2H4wcvcsd9K4n0xYj0xSivLkBTFVRV4da7lvH2q8d47kd7qasvoaQ8PTHp64ny2guHUBTBhlsWXrGPGwUhBCUlIX7j1+7A/Hub/QcaXFuwm5ZNZ+cAnZ0DHJ3EY9JUhTtuX8ovf+5WgkFj2p9Tqqowp7aYm9bN4eMPr+P7P3iXVCqzeLIsh67uQbpyrB6MB6+RDj/MqSua0vOgqQp33r6MeNzkO9/dxaDLpO6p/O4rV9Twq//pNoqKxu9MfZUAcRzJi7tP8OUf7GQgh/HMLJNHzDT5+pH32NfVwu+t2caKomvR2E0yeqWJPfT36dUMYKiMFRy7BSmvVuzS6QHZi1BKhwQISKcDK/othPBjhP83ir4cEEjrLIm+38CMfjPtkKrNmYSvYg8dt8vNZQor/mPM6DeRVgNCLUE17kDzPYDq2TRU0jvJZZBDYQ+JgyMdHBxsaWE6JqaTwnRSJJw4EbOXpJ17VuSW6jnFvPrcQY4dbKSuvpTBgQT795zDtmxu27GSYCgtQBRF4a4HVnP6WAtvvHiYxnOdzF9SgWU6HD90kY62CI8+uZk1G66sjggXBvn+P71BXr6fd984Qd28Unq7B/nyl37O4ECCvp5BFi+vQhuK3S9fW8fDv7SJn3zvXf7n7/yAxSuqUVWF08dbOHeqje33rmDz9sXXnGCfLIQQVFcV8Du/fQ9f+8brvLv77LT1ABmJYWh8bMcqPvvpLeTl+WbknAf8BuXl+ei6xscfXkdvX4xnnz+AZU3vOdE0lfs/toq77lg2LSEoj0fjgftXYxga3/7uLnp6ZqYSVVEEa9fU8Zu/dic11YUTugauECBSQlt3P9978YMrxIcAdF3Fo2soIr1dNJG6FJP0GfqEOgCOJOT3fuSs3eO2SSQ1eYPIVCCdQaSMIfgw0VJKibQ7ABuhljBctSLUakBF896FHvq9yzIH0gOrOfhlrNj3LktMBWm34tjNqJ61KPriD1c6tLmo+kqs+DM4diPKJAgQKWNIZ7Ts9mGBdeX156Q+INX/ZwjhQw/9FzTv3Qi1Fhh/pv1IupMddKc6iNsxYlaUmD2Y/mNFidlR4naUhB0n6SRIOUlSThLLsdKiZJSKnvGyYEklN9++mOd+/AHvvZU2YCqvDLP987dw54Orr/i+oXwfv/p7O5i3uILdO0+w5620jXpFdSGPf24rN9++5FLprKarLFtdy+IV1Qz0x3nhJx9QXlXAL31xG4UlIb7zlVdpa+7l1ruWc9u9H9pLezwaj35mC+VVBbz2/CH27T6L4zgUFod48ldu456H1lwSRTcqQggqK8L8zm/dww8r9/Ds8wddz4Ini+KiIE88toGP7Vg1oQqTiVJQEKCoMJ0LFAgYfP6prSiK4LnnD07byrnHo3HfvSv5zC9tmXDvlzHtV9e4956VFBeH+NZ33uLM2Y5p9eMyDI3bty/hqc9spbRk4v5HI1ZAJPtONtHY9mFIpaokn7s3LmLFvEryAl5URRBLmvzl917jQmsPuqbwK49sYdX8ygkdyOWoqkL5FFrLXosMmikGrckbRKYC6XQirQugVvDhAJ3ENt8HQNFXMCxAFH05QinEsU4jUBDqZf0hnCjSbgK8KPqiywpUlPQfObyicmnPgANCSbuiTsqXGcBJvY+ir7yUrJoWU62APVSd86Gots0DIPvRgr+GHvjilISBdnW9zK6ul7GlnQ73DP0zE2y4ZSGr1s9loD+BdCT+oEEg6EWIK/OThBCECwI8+pnN3PvIWmKDSYSAYJ4Pn99zxbbBkJdf/d17UVQF6UhuvWsZmqaQF05XNv3Bnz9GPJokdFmMfhivz8Pt961k8/bFDA4MHVPAIBAyLuUP3egIIQiH/Xzus1tZuLCCH/zwPc6cbc+ZnDpRNE1h1cpaPv3JTaxYXj1ljptuKSvNIxBIh4KFEISCXr7w1C2UFIf495+8P+UrA/n5Ph595CYeeXAtgcD0h6A0VWHj+nqqKsL84N/3sPOtk0SnQYxWVoT5xMfXc/edy/CPuLfHy1UrIAdON2MPXdAl4SB/+Pm7WbOo6gp3ucFYEt9Qwx0hBHXlBSyfVzHhg/koE0kmiFvusq5nDBnDjH4DoRQNrXCksBK/wE68gdDmono2X7ooFW0+qncHVuyHmNF/Qgt8FiEKQMaxEs9gpz5A8axC1dcxLGaEWomi1aTdUM3DKPoa0iGYM9jmQYRSjlDLhxJa08vzafVvpT09ZAyk2xtRYsa+j9DqUD0bAB3HvoAV/yngQdWvbPKVznNRkHYT0ukEkQc4SKcHxzqFos1D0eZO6PSaToqUc62EPQU+v4HP7y7pV1EUQnm+rGWwQogPjcRUKB7RxdPN+/0BA39g5hORZwohRDqv5tZFLF1SySuvHuWlV4/S3Nw76WEZTVOZO6eY++5dyfZti8mfoZDLSGprCq9IfBVCEAgYfOLjN7FkcQVP//se9h9sdF3F4hbD0FixvJrHH93A6lW1U5Z06gYhBDU1Rfzmr9/J1i0L+Nmz+zl8pCmrYdn49gOFhUG2blnAg/evYU5d0aSGm64QIEnTulTdAnDTkhpWL6ycVGvbWUYnkoqTtK/txFuhzkXKOIneX05Xw8gkjnUWIfx4gv85bdB1CQM9+GtIpwMz9l2sxEsItRScfhz7AkKtTfuJKB865wmlCD3wy6T6/5hk3++iejaCULFTe5HWWRAhkpH/hubdgeb/LGmrdrDiP8OK/QBkFMfObRkMpMt9tUWkIn8wVO5rIK2LSKcT1bg9bZp2GaqxDcWzGSv+Y+zUe2kreZlCOh1Ipws98EX04H+ZtNLfWWbJhhCC0pIQn3piE7fftoTd753l7XdOc+ZcBwMDiXGviiiKIC/kY8GCMrbdsoiN6+snlGQ4HoQiMhpaqapCXV3xqMejaSorV9Qwf14ZH+y7wCuvHePIsWYikdiEzkd+vo8liyu58/al3LR27owk3mbC69XZtHEeK1fUcPhoE2/sPMGhI010dQ5gWu5z3Eb73KrKMBuGjNDG4ynihisEiGnZV+R+LKgpnhUfk4wjJb3JOI0DfbTFBohZKRwp2dfZgjlkAHW4u41/P3t4wvuqCeazqWzymkMJJR8j70tYiRdwUnuRCDTvfai+h1A9m64YfIUQoFRg5P0JVuIF7NQupN2JUIrRvXegeR9EaPOvXGUQCqr3YxhKCVbiORzrPOCg6ivhMkEgxJXl2UIpHAr/gMImhNARaoYVOeFD8z2CUIrQjDvSx5bciXR6UPTFKJ7PoPkeAeXKluJCqcAI/wV24kXs1B6k3QVCRdFXoGhLUb23TfDszjLL2EiHnqCiPMzDD67lrjuXc/H/Z++9o+NKzzvN57v3Vs5AIUcCzKHJZrPJ7mbnrO6WWtFSS5YsrcM6yD5ry+OZPbN7vLOenR3PrOW1dxzGkjWWgyS3rODuljpIHdiZZDM0c0DOQBUq56p7v/2jAJAgALIKKJAgieccnkMAt+69devW/X7f+73v7x2c5NTpEc6cHWVgcJJQOEkqlSOf14vGcVMDsRACVRWYTCo2m5kqn4OW5io2b2pi65YmWpqrKhZmL5e9d6yjsWF+S3NFEWxYv3CF4HQ05J6713P77WsYHAxx7PggJ0+NMDA0STicJJPOky8Ur8d0+oQyJXpMmordbsbnc9DSUsWWTU1s2dxEa0vVNc17uRzT73nP7R3s3NHGRCDGmbNjnDg5RG9fgEAgTjyRIZfT0Qv6zAqHEMXIpaYpWCwmPG4bdXVu1q+tZ9u2ZtZ2FP1DFGX5ljhnCRBDSgoXqSaXw7oiL/j1iJSSSDbNs93Heb73NAOJCOlCAUMaxdoSeWG1/6WBs7w8eG7Jx3yibQO761pQK2aPZSDU+qkeKVmQBggzML/trxAC1Go0+xfQ7L9Q7NciFMCyYKRACBOK+S7M5j0XrNKFmYWMyIQQaNYH0ayldccVigOz8zdmfi6e22dAFqZMz8zznpsQAqE2IuxfQbP/4lTvGaaqfVbmg6lcqvwu7n98G5u2NS/NOHaVq44QAqfDwqaNjWzc0ICuG6RSOWLxNLFYhlg8TTpdFCJIUDUFq9WEy2XF67Hjdttw2C3LMsst9300NfloWmJPFSEENquZ9evqWbe2jqc/apBIZolFU0RiaRLxDJlMnoJuIESxyMJmNeNyWXG7bbjdNuw28zW/HuUghMBs1mhuqqKp0ccD920kk80Tj2eIxdJEY2lSqSy5nI5hSFRVYDGbcDgseDzF9+xyWrFYFm/jXi6zBIgQYlbE41qVet2IxPNZ/tOhN/hR70kKV7C6nhYkS8WQcpar5NKZVs4KYCt5v8Wb2TwlJErdXpuyYS/j7KScygNJg+IrKVG0eCwLlGhwVu57uZ5o66zh9/7w6Wt9GqssESEEmqbODKQ0XeszurYIUYz0+Lx2fF47bdf6hK4C0xEuh91SLFuuW5mmnrOe8JqizGooFEuu7LLQ6wUpJa8MnOe5vtMz4kMAVs2ESVEQCPKGTmoqCdWqaljUpVd72DVTBcXH9UCeXOLrGLmDmN3/AdV867U+oZIoWiIbNKhr2aylSaRzJFJZEuksqUyedCZHbipkPB0+VRSBpiiYp8rjbRYTDpsZu9WM3WLCbjNjs5gwmzRMWvEeMysWnNrCbq3Xy0zvauIx+bi35lEKxuXzs2qtDair+T+rrFIWs0Y5s0nF57LP/DwajGFIecP1WLjapAt5Xug/M5Nk2ury8rm1t7CjphG3yYoiBAcnBvmjD16jYBg8s247n1k71dRtCbjNFpSbSYHIPEb+LEb+LFIfBlaeAJnuNBmJpxkPxRkYD9MzFGQ4EGUinCCasJLOKqSzGrpuQzeKDd+klHMcMKdLYpXpf4rApKlYzEVB4rJb8Lrs1PqcNNV6aKrxMpTJkPbEcDusWKc6Zq4Kj4XxW+r4aOMz1/o0VlnlhmR2BERVaKu/sPY2HIiSzRVmSm5nttMU7t+5lg1ttWiqQn3V9e/Zsf9EH+8d71/SPhRF8MRdm1jbUjPr94FMkq5IsWmSx2zl/7j9Ye5v6pgl7MZS8RmxUGNzsslXu2IGhg+7s7z6zk4QLjTbfhZjOS4EPLJ7A5s7ltHhVdgxu34Xo9CDatm7fMcpg+mGT5F4mt6RSY53jXCyZ4y+0RChaIpUNleytfbcfU81i7zIKySTKyzoYKwqApvFhNdlo77azZrGaja01dLRVE2D343bYUVboLPt9YiUkjN94/zswLkle2WoquCJuzbT2Vz5hmOVoGswwIvvnUbXl750W+2188n7t+Ow3XjLjKusLObE+bd01NPRVM26Zj97t3fMWwVjMWn80pO3z3hF3Qiupce7R/nOy4eWtA9VEWxb2zBHgIQyaWL54nLWOk81t9U0XTLjtsoAACAASURBVFdRpbMDOZ59a/PUT4urzlGEoLPZv6wCRAiBar4N1Xzbsh2jFKYTiiPxNGf6xnnnWC8fnhtmOBAllVm84FgquiGLyzvpHEMTUT44PYiqKDhsZuqrXaxrrWHHuiY2ramnqcaD3XrB6+d65d3jffzjix8seT9CCKrdDjqalrfnx2KQUvLe8X7+8cVDFckd83sd3H1LB2uaqq+88SqrLIE5Sah3bG1na2cDXqdtwdmQEAJ1hX0JVzLpQp68Xqwuqre7sGlXz7p3lauHlJJcQad/JMS+I928eaSbgbEw6ezKNZjTDYNYMkMsmeHcQICX3j2Nx2mjvbGK2za2sGtTC53Nfpw2y3U30cgXdLoGgxXZl5SS033jFHQD0zV2Ar2Ugm5wdqByltyxRIahQGRVgKyy7MyJgNgspjlLLqssnelHg6ooqyWONxhSSjK5Aid7Rnnh7VPsP9FPKJq8RibqS0M3JKFYilAsxeEzQ3z35UN0NPnZs7WNu25Zw5rGKmyW66PsOJHKMjgertj+ekcmSaSy+Nz2K298FUmksvSNTFZsf7kp4Xb39o7r4nNe5fqlQo01VrkcFlXDpKhk9ALJfNF4bJXrHyklBd3gRPcoP3zjGO8f7yOauLEqxxLpHMe6RjjePcoPXvuQbWsbeGDXOm7f1Eq114Fg5S7RBCJJApHK9QUZD8UZD8VXnAAJRBJMhCrbbr1rKIiuG9e878sqNzarAuQq4DZbsGsm4vksk5kU6UKhImW2q1w7DEPSPxbi+z8/yqsHzxGOp6/1KS0rUhYjI/sOd/PusT7aGnw8tGs9H71nC7UrNAl9cDxCYoGE3MWQSGXpGZlkQ9vKSRAH6BsNEU9VVvgOjIVJpHN4XQv35llllaWyOgpeBaqtdvw2B+PpBOFsmmgujdcyu314q8vLr2y+HV0a3FpTuc7Cq1QWKSWJVJaX3j/Dsz87wsB4+JollV4rpnMr+kZCNPjdPLF385VfdJWRUtI1GFhSP4xL0Q3J6d5xHr9z04opbi9W+kzM+MNUikA4QTCSvKIAMQxJYSq/TVWVBVt3TEcL5ZStgzpPfuH0NvFkhky2gKIIbFbTTP6REGLKC8dAVZRZ/WJ0w0DXjaIJ20X7vtjdW1PVmTymi8/n0n1dek66IUmms6QzeQxDomkKdqsZq8WEWoJNuSEl6UyORDKLIWXRcdV+Iadq+jw0Valoo7frgVUBchVwmS081NzJrpom7mpow291zNmm013F7996L3CTeYddRxiGpHdkkm89t583j3STza/s5oHLzbSB2kokX9DpHq5cXsQ05wcDZLJ57NaVUaKazRfoGgxUfL/xVJahiQidzZev+jnbN87/+OH7FHSDLzy1i9u2tM6/v2SW//7s24xMRNm5uYXPP7kLVb2wX8MwON09znNvHOd09xjxZBZVEXjddm7Z0MiT921lTVM1P3v3DK+8e4aP3LOZR+7aOPP6A8f6+f5LR6ivcfMbn7sbl6M4wRsPxviL77xJQTf4tc/spaOlWEady+v89T+/Td/wJB+5ZzOP7t0063yn/XqOnR3mjYPnOds7QSSeQtclFrOGz21jTbOf27a0sGtrK+552pZIKYkmMrz63ln2HTzPaDCGrhv43HZ2bW3lyfu24vc5+Jtn32FgNMwXP3o7t25u4WZiRQmQwfEIoVgSTVXobPJjvUGSYTWh8Fvb7kQTCsoCxk9CiFXhsYLJ5XX2He7im//6Hn0joesywfRmIp7KMlTBBNRphgNRJqPJFSNAwrE0QxPRK29YJvmCTvdQkPt2dl52u2g8zf5jfeQLOo9dMohfur8Pzw7TPRDE5bDO+v5IKfng5CB//M2fMTIRRVUELqcVs0ljcCzM2d5x3jvay2987h7eOHCe94/2csv62VHi8ck4733YS0eLn3zhgihOpXMcPDFAPq/zuSculOfrusHJ86McPz/Ctkv2JaUkHEvz7R/v58W3ThJPZhGiGEERYmr5dSTE0TPD/GTfCX7/Kw/x1P1b57znYCTJn/3967z5QTf5gj5lEqgSiaU52zfBgWP9fPHp3bx1qJvRQJSP3LPyIonLzaIEyEzjtKk+I5VIRJNS8vcvHuSV/WfwOG38+e9+kvbGqiu/8DpACLGa83GdIqUkkc7yvVeO8L1XDi9o8rXKyiIYSRKsYALqNJF4moGxMM21vhVRzTYSiBKKVf59QjHaczXKjpPpHP/0/EFGJqI47RY+/9Qu9t7agc1qIpHK8uGZYf71tWP812/9nGx2+aOOiVSWv/reW7z45imEAjs2NnH3zk5aGnyoikI6m2MsGOdc3wRne4ul2ZeSyxf4x+cO8vqB8wjgzh1reOr+rdT73WSyeY6fG+H514/zZ3//OuHYjZ0/djkWNSrmCjo/3neciXCC+ioXT9+7FbNpaQOsbkiiiTSpTB6Tpq5WiqxyzZFSEowm+caP3+On75wil69cPsEqy4eUksHxYhJlpcnlCpwbCHDXLWu41oulUkq6h4Okl2lQnk7iXe6qn/FgjK6B4jLSnlvaeeaJ22ZFvze017FtfSP/8a9fIhhOLutVl1Ly+v7z/OzdM4DkYw/cwv/0yTup8thnJtlyavZdKBgEwgm0S/JHpJR0DQT5+XtnMAzJ7Vtb+Xe/+gg1PufMPrZvbGJdWw1/9FcvkS/oK0LMXgsWlfGSz+v85J1T/P1PD/KjfccrYrSkGwaZq6BuV1mlFKSUjARj/PG3X+X5N0+sio/rjPODwWXJT5HAmb7xFXE/6IbBmb7KGZBdSjCSYCJc2fLe+Uhl8jPP/qY6Dxbz7Mmsogg2ddTz9IO3LLsZXjyZ5advniSbK9DZWsMvPb1nlviACz2YTCaVxloPtdWuWX+XwIFjfYRjKaxmjU88smOW+ICiH9Sura3svMlyPi5lySm3mVyeTG7pwkHXDdK5lesYucrNg5SSoYkIf/ztV3nraHfFKwxWWV7yBWNZEjOn6RsNEU1c+7B5Mp2jt4IGZJeSSOcYHA8vm8CZxm4zY7UURcfweLH/2KUoimDL2oZlN8kcGo/QO1S8pru3teGvcpadXpDP65zqHkNK8PucbFwzf9m2SVO5ZcPNXfFYAQFSIFMB4aDrBpkVbFl9vWBIycnQOK8PdXNicnzZHx43GlJKRgJR/us/vMb+k33XrMRWiGJZo9Ws4bSZcTuseJ02vC4bHqcVt8OK027BbjVhMWlT5YDX5lxXGvFUhuFA5RMzpwlEkowEY8u2/5LPI5xgbDK+bPvPF3S6hoLLnnDd4HezubPYI+rAsT6ef+MEkXgawzCmukAXz8BuNS17PspYIEYyk0MIwZrmapDFpNMr/bv4OZvJ5pmcyj+q8jpmKnLmo7bKtWDp8s3AkjMjs7lCRZZO8rpRkUjK9UrBMMjoeQQCm6ahiMXdlHlD5y+Ov8erQ1083rqBr9/9JOpqfU3JBCJJ/vS7+zhwcuCqiQ+LScPrslHrc9JY46G+2k2D34XPZcdhM2M1mzCb1BkvBCmLD718QSdf0MnmC6SzBRKpLOF4inAsxWQ0RThetFSPJTIk0jmyufxNEc2ZCCeYjC5PYiZAKpOjayjI9nWN19SQrH8sTCy5vM673UNB8nl9zrJIJbFZTXz5E3cwMZng/MAEf/GdN3n57VOsb6+jqc6D22HFYtYIRVMV9XW5lOmE86KfCLzwxgkOnrhyh3RNVfn0ozvYsKYOKPp6TE+mbRYNTZv/WS6EwGLWUFWBcZMOfXPuKikl6WyeWDKDpqp4XbbLmq3kCzrRZGbJN0YqkyO3jDfXSufD4Cj/5cg+bKrGH+5+mDXuxVUAGVISzWbI6jp5Q5+pVFrl8kw/fP76B+/w9tGeZU2CVoTA47TS2exnx/omtnTU01Lnw+e2YyvR3OhyTAuUXEEnk8sTT2YJxVKMBKIMjIXpHZlkKBAlEE6QSGXnzeK/XpFSMjAWJllmAqoiRMmfuWFITveOod+3DU29Nl8uQ0rO9k+U/dwt531CMRE1lspQY3ZecdvpaEW5964Qgs2d9fzR7zzJT948yfsf9jE4FuFcXwBjKo9nep8F3Sjhcbb47+7FiaZHTg+V9BqTpnLPbZ0zAmTOmVzmdKTkmkVZVwKzBIiUksGJCH/x/bc5PxjAYtZ4/I6NfO6RnQsq4Gy+wN8+9z7VnrnmWuWQzuYILeOsZaUTzWU4EhjBpKiEMmnWuBe3n7yhk9FvUjm9BHIFnX9+5QivvH9m2cSHxaTS2VzDfTs72bO1jbZ6HzarueL9VIQQqKrApirYLCZ8Ljut9T62r2tEAoWCQSKdZSIUp280xOm+cc70jTM4HiEST1/XgkTK4qy9nPfQVONhQ3strx08X/JreoYnSWVyuC8TXl9OcvkC5wfKy3Opr3axbW0jPz9wruSl2clIkkA4QY338gJESsoWfRcjhKClwcevfWYvn/3ITsYCMQLhBNF4hkwuTy6vMxGK85M3TpDOLLxUbxgGxjxRPgnz/v7Sc3DZLWiqQkE32Luzgw3tc0XF9B4/ODHAsXMjCMGspSFNU2aqeDKZPPmCPq+nVXGyn1uxZn5Xgzmq4sV3T/P6ofMzou07rxxm95Y2Ni3wQRiG5PDZ0pTiKlemIA3i+cV7TeQNY1WAlIlhSPYd6uJ7Pzu8LFE4i0lj+7pGnrpnC7s3t+J12a9Ja/tpszuzSaXKZKfKbWdDWy2P7NlAOpNnIhznbH+Aw2eHONk9ykggSuo6y8vKFQp0DQXLek1jjYd7dnTy5uHukoXLaLA4QF4rARJNZBgcj5T1muZaL3dvX8Mbh7pKjpwkMjkGxsJsXlN/xW37pwz65ruzDSnR9eKospDYnhbOVR4HVfNMaHuHJnn1vbNFAbLA1yeX12e9N2MqKjNfjuG0CLv4fBpq3DjsZqLxDBvaa/mVT9857/nqukEknubYuRHMJg2388J9YLOY8PuKgm0ymiSezC6YBzISiGEY8qbN35ojQIKRxKyIUTqbJ5leNV+6WuiGQTS3+HXdnK6TKVxfg8a1RErJ+cEA3/jxe8SSlb3PFUWwrrmGzz56K/fe2onLbllRTcxg6qEvBE67BafdQkeTn0f3bCAcT9MzHOTAyQE+OD1A/2iYZKbyvhqVJpbMMDxR3sBc7XHQWufFbjWXnFMRS2boGw3R0XR5q/LlYjQYI1hmxLi+2k1jjQeLSStZgOi6wbmBAI/dsfGK7/PY2WHC0RTV3rniIRZPE5+6ti6HpewBt2hrni5WyIiiqJ+PZDo3qwFhKp2joBvkCzrjk/GZJaKCrs9MNi6O7jfWeljT5OfomSGOnhkikZpfPCTTOXoGi0K3ttpFXfWFhoyaprK5s563DnURDCc50ztOQ417zvXL5gocOzNc3oUog1QhSkaPz4znVtWJXfWsqGfQnE9xa2cjL75/ZqYUam2zn5Y635wXqqoyx4BlqVzPod/LIaXEQBLLZSkYBm6zBbOizq+spUEkm6ZglLLWOZesXliNgJSIlJBIZ/nWc+/TP1ZZ226HzcxTd2/hc4/upNE/9+GzklFVBb/XQbXHzq5NrUSTac71B3j7wx72n+xneCK6rMmAS2EilGAymirrNTVeBzU+J16ntWQBUtANTveO8+CudYs5zSUhpaR7KEg6W54gbKnzUuUuJjYnyphU9gwHyeYLWM2XL4HtGQryr68d45kndmG1aDP3fL6g89ahbiLxNIoi6GiuRpnn+xCKpkhnc9RWuWY1lJNSks0VePODLlKZHJqq0lDjmfcckqks5/sDrG2tAaB7cHLGPfXwqUGeuHcLZlPRDj0STyOEoMpzwWjNabfw6N6NnOoe5WTXGC+9fZqnH9yGSVNnEsB1Q/L24W7O9k0gRNHl9GKzNgHsvqWN7798hMlIkh///EO2rWvAP+UFMp2j9c6RHo6dXT4BcjTyEh+EnpvJQdnue5R7a760bMdbDHMEyMO716MIONk7hstu5ZHd66n1zV7/s1o0fvsz91TUljoUS/JXP3jnhmxrbiB5vvc0/+PMIVL5HLfXtfC1HfdQbZ3rMCiB750/xoHxxS1rJQs5gpnyHsA3K1IavPz+Wd491lfR/dZXu/jVj9/JI3s2YDFp15X4uBghiqW9Pped3VtauW1TC4FwgsNnBnn14HlO9o6y0joY9Y+GSJURqVGEwO914HZYqfE5GShjWePcwERJA3OlKXbAHS8reVFTFRprPLjsVtwOC+Oh0st3hwNRYsnMZd+nqipUeR1854UPGA3EuO/2tVR7HaQzefYf6+NfXz2Grhs01Li5dVPLnO+Erht876eHeOPgebZvaGLHxiaa6rxYzSaiiTRvH+rmxbdOISU013lZ314773nYrCaee/04LocVTVX419eOYUhJvd/N6Z4xnn3xMDs2NfPa/nNMhhM47WaaL5pgCyF4cM96Dp0c4LX95/nm99+lfyTEXTvW4PPYSaZzHD45yHOvHyedybO+vZaPPbB11pKqEIK1LTU8ctdGnn3pMIdPDfKfv/EzPvrANur8LtKZPIdPDfL8GydQlGJnYGMZ8kByeppk4cLEKquvvHFhlgARQuCwFmduT929ZeZ3c16kquzc0FzREwmEE/zDix/ckAIklsvyrdMfcGxyDIC+eIT7GtfwWOv6ebc/HZ7gdHjiap7iTYeUkt6REN97+VBFu9qubfHzu8/cz86NzTdUfX+xzbmgwe/mib2beWDXOroGg7PWvq81hpScHywvAVVVBTU+JxazRlOtl0NnShf+g+MRwrE0Df6rK0CSmTw9ZXb6tZg1GvxurBaNKrcDKD1PZjKaYjyUoNbnWnAbj9PKb3/hPr7/0hFefPMkr7xzGrNJK+Ze5PJICR6XjS9+bDetjXMj6ol0lp6hIOPBGC+MhnnxzZOYzRqqohRLzaci8n6fky89vZt6//znsntbO3abiT/8bz9BSkkmW8Bi1vjCU7sIhBP87Q/fQ1MVMtliSfr2DU20N82uOHQ7rfzW5+9FCMFbh7r5wStHeeGNE5g0lYJukM3lZyp3fvsX76Ol3jdnnDSZVL7w1C6C4QT7Dnbx7tFePjg5MHNNcvkC7U3VfPbxnXzrh++VJZpvJOZdSLsWMzaTScW8zCYz1wpDSvKzFK5c7XVzjcnldf7ltaMMlpkvcDnWt9bwv375YTavqb9uox6lIITAbjWzbW3DtT6VWWRzBXqGy0tANWsa1R4HihCsaaxCUHoRZyiWYmgiQoN/kSVriyQYSTA2WZ4Rmtthxe9xYNY0anzlVSymMjn6R0Ns7Zh7X3tcNm7f2ka118Gura1s6qjnxbdOceBYH8FIEl03aLR7WNtaw2N3b2LX1tZ5hbnLYeUPfvlhjp4Z5oPj/fQMBYnE0uR1A7Om4nXb2NBexyN7N7JlbQPKJfuorXKy55Z29u7sYOemZqSEo6eHMJtVHr5jIx+5ZzMFvVgh89ahYrLxpo46vvzxPThsszsbCyGo97v5g19+mLtu7WDfwfMMjIZJpXOYNJWaqWM9ctfGeXM7pqn2OvjaVx5i+8Ym9h3oYjQYRdclXreNnZtaeOr+LQTCyRs29aAUVkyLVk1RsFzlUObVwmO28smOLXz7bJZsocDuuhZuq22atY3XYmVXbdMlQqV8MnqBM+GJJe/nRkZKyfHuUV49cL5iNfgtdV5+/xcfuOHFx8WstPcZS2bKdii1WU14nDaEELTW+TBpasmVUJlcnnMDAXbNs6SwXBQb7UWIlmlAVuW243ZYEQIa/PPnTyyEYRQTtaVkTvLohvZa/q//5aPF3iiagtth5Suf2MNnHruVZDqLISVWswmXwzKTRzEfihDUVrl45M4NPLh7HclMjnQ6j24YqKqC3WrGbjMv6JGz55Z2btvSiqYqKIrga19+kEg8jaYqeN22GdHza7+wl888fiuGIfG4bFjN8y+RCiFwOaw8fvcmHtizjngySy5XQFWVKQdi80xPmIUQQuB12fjkIzv4yN2biaeyGIbEbjXhdFhRFcFYMH5Tu1WvGAGiqgo2y4o5nYqiKgq/tPE2HmtdT84oUGdz4TTNVt23VDfwjQc+teRjDSaifOXV7zOaWj6L5uudTK7AD1//kEiF+nlUue389i/cwy1rm1bcoHwzMRGKl+2A6rRZcDksANT73ThsZnIlLgNLWWxMdzVa1s8cEzg3ECi7GV5x+cU0838hyjPA6hmaJJsvzOnFoigKFvPsaIQQArfTuqjlOSEEmqbicdrwOG0lv05VFdSLiiKsFhP183hvmDSV2qqFl5LmOx+r2bSkPB9FCBx2Cw67ZdH7uFFZMSO+qihXPZnraiEAs6rS6vIuuI2mKGiKecG/l4rHbMGm3ZjXsRJIKTnWNcL+EiyWS8GkqXz+sZ3s3d5xTbw9VrlA/2iY1GVMqubD67LNDKpVbjtVHkdZeWi9I5PEkpklGzGWSr6gc7a//PywtvqqmehBrc+J2aTN2/RtIUaCUaKJ9LI3g1vl5mLFZMmpqpjXLW6V8jApKhZ1xejKFUeuoPPiO6cqVsG1Z0srT9+3DU29MfOXrheklJwbDJQdzq5y22c8JRw2Cw3Vpc+OAcZDccaXsSHcpcQSGQbHyysZV4SgreFComTVlOV/OYRjqWVtfLfKzcmKESCKEDTXeGit99FS68W0QAOfVS6PSVGxrgqQeZESugaD7D9ZmehHtcfOl57cPbO2vsq1I5svPwEViuZc0/kBZk2lraG8HkyJdI7u4eBVW8cfnSw6sJaDzWqi8SLfDLfDWraDazqbp3dk8qbOV1il8qyYkUoIwZef2s3nHt2JIsQ1szi+3jEpClZtxXysKwpDGrz+wXlCsaXXwytC8JG7NrNlnsqAVa4+0USG0TITUOFCPgQUEyzbG4pLFaV2DdanDMme2LsZdZnvAyklPUOTZZdsepw2/Be5kzpsFqrcdgbKMN/TDUnXYBDDkKjXqAHfjUixvF1BSuY1Z7vRWVEjldNmwWlbTdRZCqqirOaALMBkNMV7x3srUvnSWOPmqbu3rC69rBDGJ+OEyxSWJk2h5iKTRSEELXU+rGZTWbbzXUNB0tn8sj+7DENydmCiZHE0Ta3PieeiCZ3ZpM5636XSOzJJJleYU7ZaSaSU5IwUBheq+MyKDVWUPlTljQwFeSEXSBNmNGEua6IgpUSXeeKFSaL5ceL5SXJGColEEyasqguXVo3TVI1D9aIKU0n712WenHGhgqm1xca/+817kYZkXYeLtF7eMpdJWEo+9sXbSClJ61Emc8NEc2NkjBQKCg7NR5WlCa+pvuxrthhWlABZZeloQuFj7ZtY7/Wz0VuzOjufQkrJsfMjFbFcFwIeun0DrfW+q770IqUkFk4x2BckFIih6wZWmxmf30l9kw+Pz7HgZ67rBqFAnOH+IJFQEkVVqPK7aGqrxuNzLJhEK6UkMBYlncqhaSp1jV40kzrr75FQklgkhRBQU+fB5rDM+vtkIE4ynsFs1qht9M6qWLiYUCBOPJbGZCoeRy2hukRKSd9oiHSZjfPMJo0a7+zrVVflxOO0liVAhgNRJiPJZRcg6Wye7jIb7UGxRPxiiwNNVWioLt+7ZCQQJRJPL6sAyRpJXhz5cyZzgwBowsJjDb9Fg610y/uDoec4FX195udbfU+w0/dUSa8tDswxepOHORN7m7FMN+lClILMI6dEkUCgCBVNmLGpHqotLbQ7ttPu2EG1peWyYqk/eYw3Jv4OQ16UADy16jcQA8oM4t3l/xyb3PeWtK1JFEVoIh/iZPR1TsX2Ec6NkDeyGOiAQBUaNtVFk20TO3yP02q/BU1ZvgntqgC5wVCE4Ok1m3n6Wp/ICkPXDd491lN2+eJ8VHscPLJnPepVrnoxdIODb5/je998k/6ucTLpHIaUaKqCxWbmkadv5Ve/9pE5IXIpJbFIihd/8AGvvfAh4yNhctkCQoDFZqa5rZpHP34bDz65HbtzbsO8dCrHX/7fL3Dq6ADeKgf//k+eoa3zghW2YUj++W/38doLH6KqCr/+b5/k3se2ztrPs3/7Jm+8eIz2tXX8b1//HO55GpYB/PAf3uGVHx+mud3P//6nn8dXfeWZujHVULDcyIDTZsHrml3q6XHZqK1yleUnEomn6R8LTwnS5bsnJmNJRgLRsl4jhGBNY/Wse1UIQVOtB0URV2xRfzHheJrRyShNteX5iJSDlAah3AiBbDFPyySs5I3yPE8ShdDM6wGShdLMBg2pM5g6ybvB7zGYOoku5xe0EokuC+iyQNZIEcmP0pM4iNtUy8ea/g3N9s0LHiNrpAhk+2cLkCVQasREILCqTgLZPl4d/wYDyeNTouNiilGfRCHE2fg79KeOcXvVx9ld9XFMinVZ7u1VAXKDsRrxmJ9gNMmxrtGK7GvH+ibaG6qu6rWWUtJ9dpS/+uOfMDYUxmozs25zEy6PjXyuQDKRRVsgWhCeTPCN/+cl3vrZCZBQ3+yjpt6DoRuMDYfpPjPKN7/+EoO9Ab701YdwXjIox8JJ+rrGiUVTpFM5BnsDswRIJpXj/MlhYpHiEkj3mRHueXTLrOuTTmWJRVIk4mku55GXTuWK28XSJSc8ZnMFekfKsyaHYjKmyz4718xmNtFS5+XoudKbhOULOuf6J7hnR0fZ51AOQ+PRsr1rzJoyqwJmmvoqFyZNLasUt3idQ+za1FrWOVwP6LLAmdjbvDHxd8Tyl5Y5CzRhmolsGNJAl/lZA7hEkiyEyRqXXwa0Kg5qLG3kjDQFI0dB5jCkXvyHji4LXOzFW4y2aCioKEKdibxowoSqmLGrpYpBQUZP8PLoXzKUPjn1GwWr6sSi2AFB1kiQ0ZMzkZ6MHue94LMIBHuqP4UmKh8JWRUgq9zwSCk5NxAo2756PjRV4f7b1l4146lppCF58+UTjA2FsTss/PLvPca9j27FbDEhpSQ/NZBcuoySyxZ49ltv8ebLx7E7LXz2l+/j3se24vbakRJCgRg/a5122AAAIABJREFUefYALzx7gBd/8AE19R4++aW9s5ZIxkciRMMpGluqCY5HOX9qmL0PbZ4Z1MKTCcaGI/jr3KRTOXrPj5PP6VisV6eSLRJPMxIo/7P1ex1zSv8VRdDZ7C97X6f7xskXdMwLtIlfKsV7eKLsCJ7Tbp3X+bTa68RuNZclQAwpOT8QKLqT3kB9jqQ06Iof4NXxb8xq3mZVXbTat7HGsQOfuQmLWhyoC0aWjJ4gmh9nItvHRKaHcG50Sjxcnlb7Nj7b+kfoMo8u8xSMPHmZJW9kyBsZPgg9T2/y0Mz261172e59BJNixaRY0IQFVSmKIU2YsCil+c9IDI6Ef0rGSKKg0mjbwDbvwzTY1mNVnCAgXYgzkDrGkfCLhHLFnkgFmeVg6EfUWNtY57yj4pOuRX1b8gWdD04Plty6ulxMJpXdm1pxrjrHrVIBpISjZ4crsvxSX+1mW2fDVY805fM6veeKzQw7NtRz3+PbZkUqrPOsy0spOX9qmNdeOIqUkqc+u4ePf+HOWfkbTW1+fvE3H2IyEGffS8f56b8c5K4HN9HU5p/ZR3/3BNl0jq072zj49jm6T4+SzeRnjjkyMEkskmLX3esY6g0yNhQiFklRU798ofqLGZuMEY6XX9lUV+Wa039KCEF7QxUWk1ZWk8KBsTCRRGZO5/BKUdCNRRmQ1fgcVHvmdt32Oq14HNayE3d7RyavSsLt1UJKSSg3zJuBv58lPhqs67m39ou02rddNsnTkAZZPUEwN0B/8kMc6sJmkwCqYsKhzL+NlJKuxAG4yMy32tJEp+v28t/YPGSMBAKFrd6HuLfmizi12VFcj6mWOmsHrfat/HT0zxnPdAPFZZ4Dkz+i2bYZu1bZ7/SiBEg2V+BvfvwupxfxhSgFr9PKX/7BZ1YFyCoVIZXJcaKnMssvm9bUUe1ZnkHmchQKOpl0MTHS43NgsV45EVBK2L/vLLFIiupaN/c9vm2W+JjGZjfz8EdvZf++M4yPRDhxuJ/G1mqEKOYI9HWNgxCs3dRI95nRGcFhtZmLpaHnxtALOus2NZJJ5jh/eoTAePSqCJDprsblJqDC7BLcS3/vcljIRkoXIMFoktFAdNkESDyZLatsdpqmGi8O69znqMNmocpjp280VNb+xkNxwrH0jSNAMDgafolgdnDmdzWWNh5v+Cp11s4rTjQUoWDT3DSrW2iyLZz7sVKos3ZyT83n54iPaYQQ1FnXck/NF3hh+OtkjKLnzGj6HAOpE2xw3VXRydei42i6IdF1Y1n+FXSj9JaUq8xCSslEKkFPLMR4KrFqHARMhBMMVaDrraoIbtvYfG1M8i76GIUiKOURkMvmOXeiGEptbK2itmH+mZcQgtbOGnx+F4ZucOb44EypcjadY6A7gMWi0dJRQ2NrNaFggtGhULFUsWDQdWoEk1lj7eZGaho8pJNZBnvKdyVdDIaUdA0GykqmhOJn2VTrmfdhWuW2U+MtT0ikM/mphm3L857HQzEmyjQgA+hsrkab5361mNRFVcJE4mlGgtEb5rkSzo1yNv4u018wTZjZU/1p6qwdZQ20QggUoaCIlbs0JVDY6nkQl3b56kghBG2O7bQ6ts38riBzdMX3z5O4ujQWdbUURVBX5cLjsKItUE63ygWKNeUGumFgLPMXN28Y/MnRt3jm5e/y/374NsZNruSklPSPhogllr5c6LRb2NBWd90k+mbSOUKTxUGrusaNybxwwNPusOKeCtUHx2MUpjrCRsIpJkYjON02auu9tK+rI5vN03O2uByUiKUZ6gvi9tppbKmmZU0Num7Qe27sqgxSmWwxMbJcrGYTtb75bdcdVjPNdZcPpV+KISWn+8bRl6ELtZSSnpEQyXR57QNMmkpHY/W8YlVVlUVVs2RyBXqHy0/4XYlIKRlMnSSev1Da7Le00uG8DbGChcRisakuWh3bSnp+mYSVTuftKFyImI5lzpftU3IlFrUEY7WY+LdfeojxyTgnukf59k8PEIgUF64ExQd1jc9JjdeB22G9bBvm+bBbTDfU8ks8n+Xvzhwiks3wRNsGdtU2L9uxDGkwkowxnk4QzWWKwv76GC+XBQmcHwyU3GL9ctRVucruFXItKRQMClN5DGaLdlnPElVTZpZn8rkChl4cSCdGI8QiSVo7anF77XSsr8dkUjl/chjDkATGo0wGYrR11uKtdtLUVo2mqQz0TJDLFubNTakkkUSa0UUkFzts5nlzI6A4OHc0Vpe9z57hSRLpHN4yuriWgpRwrr98AzKHrSikFnr2Nvo9aKpSjDiXwbmBAIaUy+78utwY6AynT8+a1TfaNmJXy48MXQ+4TH5cWmn3tRCCWusazIptZhkmUQiRyE/i1HwVO6dFCRBFCKrddrK5AofODhKOpxFAU62Xx+/YyJ3b2mmq8eCwmlFVZerBV97NerU9FpaTVCHPD7pPMBCPUG93clvN8rVtzxsGab0yNeY3AoWCvqgSzflorffhtF8/LQKKLcqnRYV+2WVNQzfQp0SayaShTFU5DHRPkM3kaWiuwmo309zux+11MNgbIJXIMNgTIJXM0r6uDpvdTH2TD7vTwthQeCZP5GJ03cCoYJRgbDJGpIzutdP43PY5JbjTCFGshDFpKvkyhOtoMMZEKF5xAZLJFZd3ysXvcSy4lCSEoMHvxmzSKOjlWbv3j4ZIZfK4rvNJYt7IEspdXG5dHHRvxOgHgFOrxqyU/vxyalVYVdeMAMkZGeKFSepZW7FzWnTNWDSR4c//+U3eONwFwB3b2vnqp+9hbbN/tS35Akggks0sa1Aib+hkCuUn5N2opDJ5hhdRojkfHU3V11WTRIvVhMdnZ7AXwsE4+Xxh3iRUgFQySzxWHMira11oJgXDMOg5W0zebV7jR9OKzqkNzT6GByaZDMTpOTeGlLB2UyOKIvD5XVT5XYyPRpgYjc7JO0klsmRS8w94UkrK9clfbAJqrc952Y6wzbUeXHZLWX2D4skMvSMh1rfWXnnjMgjFUgyXaUAG0FznvWwkudrjwGW3lN1bZjwUJxRN3gACJEO6cOHZoKDiUL0YcmnR0mKGllhxS7V21YVShqW9SbFiVR0w9fUyZIG0HkMiKS0L7cosSoBIKXn14Dne/rCn+PBp9vN7z9xP2zI7Ad4IRHMZDCmXrfFQ3tDJrkZAZogm0oSiyStveAU0VaGlrnKhx6uB1WaifV09Jw73MzIYYjIQp7lt7qAhpWS4f5JQMI6iCDZsa0YIQTqZY7AviKoqtHQUE9esdjNrNtRz9sQQg70B+rsmsNnNtHXWIoTA4bRQ1+Slv3uCob4AW3e2zTpWLJJiqD9IQ8vcLHzDkKSnxImqqQvatc9sLyXnBxZXiddY47msmKyeih6UI0DyusGZvnEe2b2hopOw4YnooqI8nc3+y+boeZxWvC4b46Hy1vVjyQzDgWjZnYNXGrosUJAX8mokBh9GXqE3eWRJ+221b2Wj+25W2tq3pljLEg4KKpq4qKUCsuhKW8EZ9KIESDyV5aX9Z8gVdBRF8PS9W5fdhvhGIZJNL2sias4wyKwKkBnCsVRZfT0WwmzSqK9yXVf3uBCCPfdt4NXnjzA5EeOdn5/k0790D+olA282k+e1nxwlnczR0FLFtl1rEEIQCScIjEaxOSzUNxXFl6II1m9u4qffP8jJKWFT5XdR21iMdJjMGi1rati/7yzdZ0aRhpz1sMpm8rz+02Nsu60d2yUz6Gg4SX93UVB4qxxYrJd3Xsxk8/QtIgFVEYLm2oVzI6CYP9FS7+VsmQLn3ECATC6PvYQy6VKQUzbzmTIMw6C4/Lau5fLVDnarmboqV9n+Itl8gZ7hSe7c1n5dfR/mIpEXrUtKDLoS+5e8VwFscO9dYfIDFBTKUQ7TlT0Xs9To0KUsSoCMBKIz6+oeh5WdG5pvylbCi+F0OMBfn9yPtkzrjOFsmnC2/NnSjUogmiz74T0fDqt5Tt+Q5SaXzRdzN4BUMoM+lSyoFwySicwc63VVU7BYL5gmCSHYcmsbe+7byL6XjvOjf3wPl8fOXQ9uwuG0IiVEQgle+uEHvPXKCUxmjSc+fTsNzcWZ7fhwMQHVX+ehusY9s8+2tbXYHRYOvn2OyYk4O/Z0zFTQFP9eh6oqDPQEyGTyWG0XhISiCN5//TR1jV4+8qnb8VU7EQKikRTPfec9+rsnEErxvM2XWSKB4tLE2GT5WfkmTaV5gRLci7fpbPbz6oFzZdWRDY1HCMdSFRMg0wZk5VYUuewWWq5QyaOpStnVPlBcJTs/GKCgG1fBEVjO6oxbSRShoi6DvfhKi3xMI8usiJRSzhEc5SzhlMKi9jY6GSM1ZYrkdljxuebPJl9lLj2xEH969K1lPcbNXXg7m0AoUZGkR7vt6ldmvfr8UX7+/BGkLC5PDExFB04e6ec//M4/zXnObdreypd/52FMF9mB2+xmvvDrDxAKxDl+uI///l9+yos/+IC6Ri96wWB4YJKR/kmEInj04zt5/FO7UFUFKSUDPRNkMwVq6j043ReS12rrvfjr3DOluB0bGmblljS2FBNWJ0bCxCJJrLYLg9zmHa2YLRo/+PbbvPvqKZraijljo0MhBnoCFPI6a9bVce9j2664jDEajJXdGwWK0Y0rtaMXQtDZ5MdkUsty0A3FUwwFojTVlj+wz0cilS3bLAyKOS7+BRr+XUzbVEfncoOy/WNhUpkcngon3F6KgUHeWJ4JlSbMmJXZY1e1uaUst08pDSayveQuOkdFqKxEEZI3skgMBKWJRkMWyF3UCFCgYFHsFY16LUqAJFLZmdItTVVWvUDKZFUgXB2klEzGkmU/XOfDZbdguYyPxnLg9jlwuGyMD4cJTyZmnFCT8cyUO+ns7atqXMhLtJYQguZ2P7/3f36CH/3je7z3+mn6zo/RdWoYEJgtGk3t1Tz+iV088vFbcTiLQsMwJCODIWwOM+3r6mZFI5xuK50bGxgbDqNpKuu3zK7qqqn3UNfoJRZOEQrEqW3wYrGYsDstbN/dwUNP7eC733iDg2+dY7j/LLpuoCgCm93CLbvW8Pn/+QGa2y/fj6XogDq5qOiWx1napKmlzovLbmWyjByibK7Auf4Jdm9urciDeiKcKDtHA6Yqtq7gViqEoLHGg8WklX0dJ0JxgtHksgsQXRZIFMJIKcu4nqV94U2KFadWxfhFv7vV9wQ7fI+VfH5ZPcWzg384Y1sOFAfpFShA0noUQ+pTAunKZI0UWeOC+Z0qTCvDil1y4SNO5wqks3mur/S8q4sqFGpsTrJ6ZdfP5kM3DCazqWU3PLsekFIuKnlvPpw2Cyb16jagu+vBTdx+9zqS8QyB8Sjf/JOXOfZBL9t2tfNLX314TpKmw2Wdt8pFCEFdk49f/drjfPRzexjoCRAJJVCEwF/voW1tLdU1rpnSWyjmSTz9zB089OR2qmrcs6IRiqrwxd98iI9+dg+KotDYNttboKrGxb/9z79ALpufWc759Ffu4dFP3Ia/zk2V38VX//3HGOwNTJXzZrFYTdQ3+2hfW4fDdeXW37oh6RoMLsrsrLbKVVI0y+91UOtzliVAAE71jqPrxoLdicuhbzREPFWeAZkQsK6lpqSJYa3PidNmKVuAxJIZhsajdDaV37ivPCSBTF/JlRdSSnRj9ntZyJ1UFSZqre10Jw7M/C6cH0ET5pJLcTN6krxx4fMRKLhMNSW99moTLwTJGWk0pbTlwVg+QFq/IEAsih2XVtnPe1ECxGE1zxjYhGMp+kZDU30VVp7qWwn4LDb+dO+T5JfBJfFSRpIxfvedFwikl175cb1T0GXZD++FsE3d81cTIQRmiwmzxYS3ysnOO9dy/FAvTreNdZubFiypXWhfmkmlud1/xegCFO3eG1vnNy0SQlDb4F3Q2l3TVNo6Z5ei1jf5ZhJZoVgivHZTI2s3NZb8Hi4mnc0vamkCoLnWi7mEa+ewmWlr8HG6b/yK215M/2iIWCpLlXtpS9NSSs70jc/k/pSK2aRdMQF1Gq/LRpXHTrBMkZUv6HQPBbj31vIsyxfDSPosGT1e0uzbQCelzy5ZNinzR2kEgmbbFkzCQn6qGmY0fZ6MkcBWghmZlJJ4ITjreGbFht/SsiLHwlg+SCw/gU298lgtpWQ4fWbW8pfbVIvTVNnKp0UJkNoqF1aLiUQqSzqb58dvnmBLRz1ux5VnLjcjmqLQ4qrMmvCVsGgaDs1MgFUBYhjGojwi5sNm1q6tv42Ajbc0L7uz6PVCOJZibBEOqIJi3kMpSfOqorC+tZaX3jtT1jEmwgnGgrElC5BMrkDXUPDKG16C12krObnUbjVTX+3m3EB5RmdSQtdQ8Kokogaz/fQlj7LJfe8Vx5dUITrTSh6KpaSXa7zWYFtHtaWVscx5AALZfgaTJ1nnKqX1vKQ/eYzsRVGCKnMjVeam0t/cVSSjx+lNHqHOemUjsZQepSu+f1biaot9MxblynlF5bAoAdLod9Pov3DTvv1hD3/2z2/yzKM7aanzYtaKts/LIUaklOQLOsOjEbp6Jxgdj5LJ5LFYTDTUeehsr6Gl0YfJVJ79+42CWVGwqFc3V6ESTIfSK/mZ6VKSqZAAMZs0DCkR13Bpq6ndT0NLFZpJxZCyoo6ilUaI5TViGg5EiSyiv4/JpF6xBPcCRUdUi1kjW8YSRTKdpXs4yKY1S+sbFImnFtVEscHvptpT2kBh1lRa6xe3gD4wFiaRzi57EUJeZtk/+UNqrR1Um5sXvKaGNOhKHCCcu9D52qI6qDYv3PrCrnrY6nmQiUwPBjp5I83+yR9QY23Ha6pf8FhSSoLZAY5HXp0ZpAUK6917sakrs12DRHI88iprXXvwmxfOUdJlgZPR1xidEmUAVsXJOtcdFW+2t6iRyueyce+OTrqGghhGURC88M5JDpwaYGNbLc11XhxW86K/fFazxpN7N8+5saWUTIaSfPdHB9j37jkmw8lZXTAVRVDltXPPHev4/Kf2UFPtvOlEiElRsV6HAiSSS/Hq2BkabR6a7D6qLQ5smhmFCyWl5WIYkmwZFQyX42TPGH/2vTcrsq/FYugGyqZqxszw/33/rRV7b5s0hY/du422RQ5sV0JKSc/wJLlFJKA6rGbqSuznIwQ01XjwOssz69KN4tLJE3dtRlUX9xlJKRkOxAhHSzdCm6az2Y/9CiXM0wghaG+oQlFE2R2FA+EEwUjyqlRBjmW6eHn0L7iv9kvUW9ehCm3m/i82+8zTkzzE+8Hvo8sLk45aSzs+c8Nl973Zcy/n4+/Tn/oQgOH0GV4Z/Uvuqf1F6qwdKMw+loHOeKaHfRN/x2Ru8MKxrGvY7L6XlVgBM81kboifj/0N99V+iTprJwrqrPeWM9Kcjr3Je8F/mXUdO527qLetq/j5LK4XjKLw1N1beP9kPye6i2pTyqJF72Iyti/F47Ry17Y1c27sVDrHX397H6+9fYa6GjcP37uRpgYfVouJTDbP8GiEk2dHeO6lD4nG0nztNx/B6bh+endUApOiYtWuPwESzqX4b2deI1XI4jXbqbd5WOP0s9FTT4ezhka7lyqLA5tqQpRoc2wYlYsSnB8MLKofx7LRNXTlba4RVrPGni1tyyZAdEPSPRRYVKJ1ldtOdRlLI1UeOw3V7rKfa+cHg6SyS+uX0j0UJJ0rL4KnKIL1rTVlLRc213mxmU1lG/bFU1mGxiOsbfYvmxi2KA78llZG0mcYSB3jR0P/iVb7LTTbN+HUqhEIknqYgeRxepNHSOsXluU0YWab9+E5pbYXI4TArnq5t/aL/GRkklBuCIlBT/IQgcE+2hzbabJtwqH5EAhSeoTh9Fn6EkeIFS48Dxyql73+Z/CYVma3bIFCm2M7I+mz9CWPMDk4SLvjVprsG7CrxeW6WH6CvuRRBlLHZ5UVV5mb2F39SUyi8jYEix6pGv1uvvbM/Xz9u29wsnesbPW8GE6eHeGdA13s2bmGX//yfTQ1+FCV4mAkZbECZGQ0zF/93T7e+6CH46eHuXNX57Kf10pCFQo2bTnMdZYXu2Zmq7eRnniAcC5FIBPnSGgAAVhVMz6znUa7hw5nDetnRIkHr9mOVTWhzCNKikY6q9VANxqpTI6+0fCiXlvvd+O4QnnqxdgtZta2+Dl6fvjKG1/ESCBKMJxYtACZjqKUe/vaLWY6yxQEdT4nHqe1bAFS0A26hoLcf1vlmpNdiipM3On/DAcn/5WB1DEShRCnYm9wKrYPdcpvw5CFOSZbCipbPA+y3nXXFa+FEIIm20Yea/hNfj72NwSyfQDEC5OciL7Giejrlz2WU6vivtovs9a1e0WKDyiWHO+p/iSDqZMcmPwh8UKQ49GfcTz686n3BrrUubSE2aX5eaD2K9RalyfZeNECRAjBlo56/uOvP8Hzb51k35FuRoJR0tn8VFOpxZ/UQm+0b2ASKeFTT+2ktWl2YpEQU/06mqr41FO3ceT4IH0DkzefAFEEt/obyek6G7ylZcKvBOqsbv74tk8TzaUZz8QYTIboTQTpiQcYTkWYzCY4Hh7m8OQAAFbNRJXZQaPdyyZPA1/suJM62+zMdSllRTxAVllZhGMpxheRgArQUucrqQJmGkURbO6oR3njWFmTrEgiTf9YiDVNpbU/v5RkOruoLs7V3mLEphw8Tht1VS5GguVf0+V2RNVlHqdWzeMNX+XtwD9xPrF/anYu0eX8S3A21c0278PcUf1pzAtUwFyKEApt9u18rOnf8F7w+3QnDpI1phP55z+WJsw02jZwl/+ztDm2l+yvcS2wqU585gaabZuxKHY+CD1HvBBkofemoFJvW8vdNV9gjePWiud+TLOkWL0Qgka/h1/52B188oFbGBqPMBKMEo6nyeX1sq1fp7GaTfjcc28cVVEwmVTcLtuCA6sQAo/bhtmk3pRdeTWh8Btb7+DXtuxGFSvRDmd+hBA4NAsOzUKj3csOXwuSYnO9RCFDKJtkLB1lMBlmIDlJX3KS7tgEB4O9nIyM8FjjljkCpJgIeW3ezyrLx0gwRjRZfgKqENDRWF22KO9oqsZpsxAr45j5vM6Zvgnu27l2UZOAwCINyFpqfXic5S07Wy0mWut9HDlXXpQHitbz8QqUHC+ExKAgc9Sb1/JYw1fZmLyHs/F3mcj0kNKjFGQegcCkWHBqVTRY17PBvZcm20ZUYSrr2gshqLG085HG32YkdZbzifcZSZ8jUQiRNzJIJJowY1Pd1Fra6HTtpt2xA7t6eVv/a4XL5Kd+quLFb2nDpnowqzZur/44bY5bOBXdx2DqJIlCiILMIlAwK3aqzI10unaz3nUHLm35ltdgiQJkGlVVqPE6qfE6uXXDwhnHS2VtRy2qqtDdF2BtR+28pXRSSgaGQ6iawvrOumU7l5WKEAKzqkKJdrsrFTElnkyKik01Y1PzmBUNiSSt50nms+SMYoKpJpR5vySKEKs9im4wpJR0DwXLskefxmo2Lar3SX2Vi7oqV1kCRAJnBybI5gtYzeUtiUop6RsNE0uW72Gzoe3/Z++9o+O6zzP/z507vTcMeicB9iZSpERRhZIlW7IsK5KLYit2fJJsHGfjLdmS7GY3m7Ilm+yJ1/s7ydpx4qwT19iWZFvNoiSSEkmJYhE7id4xKDOD6TN37v3+/hgABEAQwAwGICnz8dE5Jjl32r3zvc/3fZ/3eQIFVyNknURjtW+ylV3YpnFsIsFoOL5yBEQIhNCQJAmTbGWtYw/Njl2k1ThpNU5OZCcJiBmLbMeosy6rEiFJEkbJQr1tK3W2LWS1JCk1Nm1jrpeMmGU7Ztk2S5x6M2Kr+2E2uh4A8vbwUxoOWdJTaWmh3LyGjJYglYtOf49G2YpVdqKXTKvy2W5ataIQglxOm/WDaKr3c9/dLfzghfewmA1sWl+NzWJElnVomiCZznK5Pcg/vfAeD+5bz/qWhdXPK/PGV/8lPyiY0mwkchmC6Sid8TEuRAa5ODFEb2KcUCZBRs1h0Ml4TDaaHWW0ujaz2V1Nve3aUrekk2a5e97GrQ9NE0WLgZ02M+XehTNg5oPDZqax2lvw6/YOh4nEUlT4CiUgcKV3BCVXGMnSyzpa6wOLP3AOpiZhjAa5oHFjgEQyQ+9wmJa61Wn3SpKEjB6b3o1Nv3LeSvkNkDRJNgq/Zm4G6HVG9FzfN0gn6bDIjhs6NnzTEpBsNsfX/+Et+gauuh1KEiiKxsBQhP/2lZeoCLjwuK0YDXpyqkpkIsVQcAJJgo3rqonF0piXOI5WCgi4LXosEolchgNDFzkd6uNKNMhgMsyEkkIVAotswG92sKesifWuKta7Kmmw+/Cb7NOjutergJgK6Pffxs2PZDpL73BxAlS/21ZUdole1rGuvpzX3rlS0O97LJJgcDRKRYGajKySK4pkOW1masuX6nEyG5V+Jw6rqWACoqgaHf1jPLir5Xa78zYKxk1LQFRN0NE9yuX24Wv+bSoDY3Q8xuicOO6pH8GBQxfZt2ctZf7VY3f5SZziCEh3NMyLPZdQS0hg1rh8PFLXcku0IUZSMf7XhZ8znonjNlppdZbT6qygxVVBg81HhcWF22jBqFt62VPWSQWXv2/j5sb4RJKRIkf9awJuLEVsSCRJoqUugNmkJ5le+lhsKqPQ3j/GjnWFtaUj8RR9w4UbkFX4nJS5i9ute51W/G4bY5HCHZTb+8dQcuqqhzXexq2Pm/aKMZn0/M6v7yddwA9+JiRJorZ6tSPyBFmlcHMkgM5oiL98/+1pXUMp8Gh9Kw/XruVW2JoIxHS7TZYkzLIBu8GMY1KYapb1yAUqsXU6CbPppr3Eb6NA5M25IkVpIySgodJbdJ5PbbkLn8tGMl0YMWjrG0HTREGC+OHxGOPRwolAU7UPa5FW/TazkeoyN5e6Rwo+tn8kQjSRpsx4a7YqbuPGoeSrsxCCnKqRTGeJJTMk01kUVQMhkGUdZqMBh9WE3WLCuIBduqzT0Vi30kmLpUcx8eDlEmc7AAAgAElEQVQAFr0ej9lCKJ1CKSEJuVXgMVp5om4b58ID9CfDHBvt5FCwDaNOxmm0UGF2scYZYIOrkjXOADVWD26jFdMCFRFZ1i0aSX4btxY6B8bJFEHy9XqZ+sr5M0GWAo/DSm25m75gYQSkdzhMOqtgNS+dGPQMhUgVuPHSSRKt9QHkIif/ZFlHU7WPA8cLP3YskmAkHKPMc5uA3EZhKAkBmcpn6RkOc+JSH++3DdIXjDCRSJHKKORUDQTIsoTJoMduNVHpc7K+sYJd62tprQ8UbN0+5fGQy6n5jA5JwqDXrXgGxcLvKe/WWgy2+av45v5PcHykn7+9eJyBRJQys42A1Y7HZMVmMGDS6ScXmKV9vi2+62cZ3GzwmGz8i/UPkVIVxjMJ+hIhrkSDXIgM0hUfpS8Z4uLEIM/3nsKiN+I32aiz+WhxlrPJU80efzN2w2yyoZMknL9gTrgfZORUrWgBan6HX5gWYyaMBj3r6ss5cqa7oOOC4zEisdSSCYimCa70Fu7yajEZlu1I2ljlm045LwSJdJaeoTAbm26A6P8WhBCCnMiQ1VLktCyKyJLVUmTUBBNK4RWoWxnLJiCqptHWO8oPXn+fI2e7GJ9ILGL+lGE0kqBrMMSRs9189+cn2bqmiqf2b2X3xnpMhoXfkhCCdCbHhcuDHD/VTe9AiGQqi9lkoLbaw+4djWxaV43JdGNGpGLJNGKSEBUCg05mIBHlnzrOIkkS/2nXg9xT2YDPbMUk6zHo5FvG06NY6CTdtBdIrdXD3WXNqEIjqqQJpqJ0xke5Eh2mPTbKQCLM6XAfb4204TBY+Npdz7LRPTuFUpIkPE4rEreHk1YTkiStiAdPIpWlp0gBqttpwV+kPgLyXcx1DeUY9TLZAqZTIvEUwVCMqrLFo+QB0lmFzmIMyFzWJb/GfJAkiZqAC6vZWNC4MYCqalzpG+XDQtwSerMbDYHg+PjzXIgeJKulUbQ0qlBQRQ5VFLeBvVWxLAKi5FR+/u5lvv78UQZGJopa5BOpLEfOdnOuc5in92/lsx/eid0yfzVECEE4kuTvvnuE1w9fIpHMTP+9QS9z7EQnL752jkce2MDnPnU3Tod51UlIoT9eyL//90b6+c/v/pzRVII/3v0hnl6zuWDNwwcJU+dNRodNb6TMbAcJzLIBp8GCVTaSieSIK2lUoV53x1jmtiHpJMQqRAXcRh6SJK2Ic+L4pOdEMajwOrAvI5dFkiTqKz047eaChJrpbI6e4TDbWqqXtBZFYimGinAkrSl343YUPuEzEz6XDa/TWtQa1jUZDriaU4e3MiJKcNry/RcZRRMQVdV48chFvvqDQ0zMicWWyJcsrWYDZpMBvaxDQkLVNDJKjmQ6Szqbm2VtHE2k+dZL75HKKPzmk3fPW7LMKirf/O4RXnnjPNs31bJvz1oOH2vjSucIX/z8fSSSGQ4cushPXjmDyWTgC8/sxbDKY5gT8XTB1sQ5ofHDjnMMJKK4TWY2est/4chHPtFSkFYVItkkwXSU3sQ4V6JBuuJjDCUnCGUTJHMZFE1Fr5Ox602sdZaz1hHAa5o/ftzntmHUy0Vrc6YgSWAy3NzGQ8uBEGLZ39EUZJ2EXl/663dK7FgM6id9LpaDMredKr+rIAKiaXnjNE0I5CVcO0PjUSLRwhNwW+oCi1aPF4PDZqLS76R7KLT4g+dgYGSCicTybQ8kSYfHWIk2aQ+u15kw6D54Oi673ovfWLfo46aC4j6oKOqKFUJwoTvI3zx/dBb5sJoNbGis4M4NdbTUBQh47FjNRox6GUnK93BTGYVwLEXnwDgnLvVx8nI/ockfnJJTee7gWZqrfTy+b9M15bz2rhHePHKFB/et47d+9X7sNhNXOoP09I2zZUM15WVO9u5q5r9/9WVefeM8D927nuaGsmV8PYUjHEui5NTCCIim0Z+YACCpKLw/Pkyrp+y6Dp8fRISyCb5+5RCXJoYZTk0QziZJqcqk/XG+NeM329nurWOtI0CLs5x6u5+A2YHDYEZ/HcLmcVjzacnLvLl6nTZ+97MP4HfPT3RudQRDcf7nt15nIp5a/MGLQC/rln0znAshxPS4Z6HQSRKNVd5ltwes5nww3Zn2wYKO6xocJ5PNLaoDEULQNTBecAKuQa+bNAIr6LBrYDLoaaj0cvRsd8HHjkcTBEMxyr3Lsz0w6aw8WvVlNJE/z1PunB8kSEjs8T/FTu/jiz72g0i+ZqKoVSKnajx38AzDM+bx19T4+cLju9m9sR671TQZmT7/8Y3A9pZqPnrPBi51j/B3P32Hd873oGqCVEbhR2+e4Z6tTfhcsxf79q4RFEXlQ/dtwG671ipWkiTK/A4euX8jf/5Xr3KlI7jqBCQSS5PKFKZ6lyUdfnP+s2Y1lb98/y26oiH2VTZQYXVg1uvRFaEAsegN+MzWW4LETGRTvDhwlkg2hVVvxG+2U2P1sMYRoNVVQYPdT4XFidMw6QXC9UMLZ8LtsOCymYnElndjFULQUOmluebWm8xaCnqGQujl0lwner1ccgKSUzU6+8eKChc0GvXUBIoz6JoJnU5iQ2M5z70pFSQSHR6LEk2kF10TNJF3eS30M9qt5mVN+ExBkiSaqn3odFLB6eaptELPUJjNzZXLeh+SpLtlnUeXiim796UG5X2QUdQqMRyK8d7Fvuk/N1b5+IMvPMz6hvIlX3ySlDeJ2rq2iv/w+Q/x3//fAQ6/3wlAR/84l3pG2LulcdYxyWQWWZbmJR8zn7eywoWs0zEeKq5fvBzEkmmiifQ15GkhGHQ6Hq5byxsDHcSVLKOpBH9z4Tj/cPkUdoMRo6ynmIL2AzXN/OGdD3EryFftehOfqN9JtdVDo8NPpcWFy2DBJBuWTDbmfV6rCb/bXrR4cQqpjFJUANqtgpyqFXzTuR5MBn3JtQDxVIbeIsy5AJxWE+UFupFeD801fmwWI7Hk0r1IwrG8EHUxR9R0RqFrsPD2R7nHTqBEI7C1FR4sRgOJdGFiSE0IrvSOABtK8j5u4xcDRRGQ/mCY8Yl820Qv6/jUQ9tYVwD5mAlJkijz2PmVR3dxpn2QiUSajJLj8jwExOuxoSgqvf3jrG0KXPf1VFVDcNUxdTURT2UZiyRorFp6DLckSTxUs4bBzXfztxffYyQVRwBpNUdaLb51MJ5O5sc/bn7+QZnZwW+v21/yao3JoKcm4OLEpb7FH7wAlJzKaDhe1ITTrYBsTi3axXcu7FYT5hK7Yo5Pek0UA7/bhmeZAs0pVPicBLyOgghIcrI6sGVN1YLXTiiaZHi8cAFqQ5WvZH435V4HLoelYAICkx4tt4Wot1EAilolQtHU9Cia22Fhe2vNsvqrkiSxpsZPfaWHM+1DAPMuNuvWVuBxWfnOj49jtZpoXVOOMicVUwjBeCiB0AR+3+qX8rLZHAOjE+ws8EZllvV8Yf1Otvgr+F+n3+L4SD8w5QqqR6+TkQv0OHEYTLcE+YDiKhxzkzvnew5ZJ9FU7UcnFVY2n4ucqjE0NlH08Tc7UmmFnFoaAzynzVRyW+7+kYmCbvozUVXmwmouzU3RYTXTWOmlo39syceomkbnwDhCLGxKPDgavUbQvxSsawiUbOzZZc8H9g2OFn6tD41FicRTVCyTgAghEJogEk4QGo2hKCpmswG3z47TbUWnu7oO5kNLVUaHJohOJNHrZfzlTlxuGzlVI53KYrWZZm1GFSVHKpHFaNJjMhuWvPYIIdA0wfholMhYAk0IbHYT/nIXZothOk04Ec8gJv9tZhimEIJ0SkHJ5rDaTOhv51QVR0BULe9sCuC0mnGVwOzJYjLMalvMZ4ZTU+nhU0/u4m++dZg/+vOf4vfZiUZTs+yHNU1wsW0Iq9VIY+3q9+s1IejoG1t0sZkP3bEw377yPlciY7S6/dxf3cwWXwUBiw2bwYRBV5go1W4wFqUdmYtS7YwXeidLIRPXHAO8MniOk+M9fK55LzW2a633JUmiqcaHyagnlSnO1n8KPUNhVFVDX2Dc+a2ARCqDkivMgOp6KHPbC46EXwhCCNr7Rgs2yJpCQ6UXuUSpyAa9jnWN5Rx4r62g6PquwXGyyvWrA0IIOgbGChZLm4161tSUTudmNhqoq/By6vJAwceGY0mGxxdvNS0EIQTh8Tg/+/67vH3gIuOjUVRVw2DU4/HZ2b2vhU//+v1YrPk1PxpJ8t1vHOLIgQukklkMBhlfwMnHntmDrNfx8o9O8OX/9ARVtd7p17hwqpev/cXLPPSx7TzxzJ4lr9OZtMLz3z7Gz184xUQ4kddymPR8+tfu47FP7AIglczy1T95gXg0xb/6oyfxzTC/E5rguX88wpHXL/Lbv/84rZsLywj6IKIoAmK35BllTtUQJbJ4mvss7nlSK2VZx2Mf2ozbaeUnr7xPV19eFW+e4aKqqhrVlW4+89RualY9CyaP/EKydCGqEILuWJh/d/QlTo0O8XDtGv7Dzv3U2F03hbFPMZMH82GhXdp4JsG3u47RYPfzWM2WJelWNCF4d6yLlwbO8rHabfMSEIDqMhceh2XZBKQvGCaZUXB+AAlIKJYsWQWkqsxVUiOynKrRXkDFYSZknURjta9kbTNJkmitC2AukNAOjk4QTWauS0BUVaO9b6wgUgP5ELnqgKtkn0/WSTRVead384UglVHoGhxn69qFW00LIRpJ8lf/40WOH77Mhq113P+RzVhtJmLRFD0dI3S1B8mkFSxWI5omePX5k/z0u++wZVcjD398B0ajnsvnBvinbx5GVTXisTTKHFKXTGbp7RxlokCN4MmjHXz3bw5SUe3hs1/cj9NlIZnI0Li2YvoxQhMMD4SJhhPklNmEWQChsTi9naOki3TM/qChKAJS6XdisxiZiKeJJTMFiy7nQ1bJTU8q6HR5NfZ8MBr03L+3hV3bGxgZixKLZzDodXhc+VEtg0Hm4x/ZDty4DLaBkQnGJ5JLt19G8MOOc5weG8Kq1/Ns6w5q7aVbVJaL5d64p7DQLjSqpPinnhNs89bySNWmJel3BIJEbvEfss9lo7bcw2ARBk8zMRyKEZpIfuDs3YUQBMdjRU2YzIWsk6guc5W08xdPZegbKU6AajUbqfIX7xA6H2rK3XidVgYKaFOEoknGwvHrikWTGYWeIvw3psh1qZA3XMt7pmQKrMZomqC9bwxNE8hFTFRpmuDNl87wzsFLPPT4dj732w/idF8dwVUUlfhECrvTPPnnHGeOd2Ew5qsQm3bUI0kSd+5roX5NgK/+yQuYStR6E0Jw7mQ3iqLy9OfvYf9jW4siabcxG0XVJWsCbtZMjiNGYinOdQ4v60QIIRgci04vMuUeBxsbK677eEnKT8I01ZexdWMNG1qrME72nKdsoGf2CVcboWhysue7tO8kq6q8PzaEJkTeYMtQXKLlSkAIUbT500zks3oWrxzElDSqWFqpXROCRG5xXYDZqGdj0/Wvp6UiEksVZdJ0s0PTBIOjyyNnUzCbDCUZeZ2JsXCCsSIdUN0OS8m9W7xOK3UVhVVXE+nsgiRqfCIxy9ZgqVhTW4bZWFrRZ6XfibNI19jOgXHSBfqYTCGVyPD26xex2c089oldON3W6WwvSZIwGvV4yxxXW6ACVDW/xupmbFhkvczOu9dQ3xQo6n3MByEgHktjMMiUVVzdHM58f7dROIoiIHaLkY/u3YjZqJ/0BDnL8HisaBKSUVR++vZ5QhNJZJ3Eh3a3Uh1Y+q5lKgwvFE4wNh4nnVFuKDPNKDlOX+lfsuhx5phpTMnw/Y6z9MUnSKs5cpqGKjS0ov4Ty/4eNCGW7aEBk0GERj2qpjGSjhJMRcnNk/obU9JEskniSnrR/6JKakkEBGDL2qplT2ZkFZUz7YMlG1e9WZDOKgXt5heCx2Eh4C2d+FsIQW8wTDxVnAC13OvAsQwL9vlgMuhprS/s5pavDoxe9/c4MDJRsAmcXtbRWkIB6hS8TmvRuTlDYxOEi1wvYtEUwYEwTo8Vk9nARDhBJBS/5r9UMpuP3zDKbN3ViKLkeP7bR+luC5KYbLnoDTJ2V4l9NgRwm2yUFEWtyJIkcd+ONbx3qY+Xjl7kXOcQf/ndg/zGx++iYdJxcLGTNPVDjCbSPHfwLM8fOocQgp3r6/jE/q3zluuFEEQmklgsRkxG/XQJLBRJ8r3njnP8VDeqqtFQ5+NTT+xiQ+vyTHGWg/fbBoklMkvKZzDIMhs8AQ4PdqEJwffbznBsuJdml5eAxY5FNhSlBVnnKePjTRuXVQ7PKiqRWOHW0HOhl3WYjHoOjVzhqxcPoArBP2u5j49Ub5p1jnoSIf7NiR9c19l0JlQh6Igtnh4pSRLNNX7KfQ56hpbnB3KuY4hEOlvym9qNRDiWKnrEdS6qy5afSTITgvyuuliBbF2Fp+QTOZIErfUBDHq5IH1U12AIJadinGPSVqzLq91iorHSu/gDC4TVbKS6zMXF7mDBx0bi+SybmkDhFuJKNoeiqET6w/zpv/nurAmSmXjk4zt4/NO70el0PPLkHYTH4xz++Tn+8+/8I4FKFw6XBaPJQPeV4QVfbyX3qB+sLcrKYdYvQQhBRsktusOTpLwa/DeeuIusovL6iTbeONnG5d4R7t3WxM4NddQE3DitZsxG/SyGruQ0kukso5E4F7qGeeNEO+c6hsipGns2NfAvn7mPcq9jXuKQSit85WsH8Hvt/Pqz92Iy6VEUlX/4wTGef/k0dpsZg17HW++0Mzg8wR//+yeoLC9t/3ep6B4M0dE/xh3raxd9rE7S8fGmDbw52Mml8Cg5odEZDdEZXV65/9H6Vp5o3LAsMUwynZ32fFkODHoZm9nI62PnaZskDe+OdfLh6k2zCFJaVTgT7i/ouW36xVtWXqeVDY0VyyYgnQPj9A6HS9LSuRkghKA/GCFcRP7IfGipLyupC2oup9LeN1rUsTpJoqFy+RbscyFNWrs7bWbGJ5aeCzMwOkE8lcU75/vJqdpkdaSw9xHw2gks0/p8PuhlHU01Pjhe+LHpTI7OgXF2rq8tPBHcqMdo1JM16mlYUz7dVp9Cd3uQy+cGiISufucuj5UvfPlhHn5iO51XhgkORkjE0qRTSr4ts8DkVDaTm2Qhpd+k5hSV3HyEcuoc3y6iAHMISCKV5c+//caiaYxTwVx2qwlN0zAZZJJpjYHRCb7z81P88I0zOGxmnDYTFpMBoz5PQlRNI53NEU9mmIinSKSvtkqMehmf28blnhFSGYU1Nf5rdgp9AyFOnu3j0Yc2TYdd9Q+FOXysjbt2NvMrn9yDxWzkxQNn+dFPT3LmfP8NIyDxVIa33u9kW2v1oiOAEtDiLuN/3v0oXz//Lu+O9BNOJ1Em2yg3EuMTCSIlyAcxGfXYLEb2WtdyJtyPAB6q2jD9O7TqjewNrCWuLF1vogqNM+F+cmLxnaNe1nH3lkZee/fKsqZ6Yok075zvYUNjccZ7NxsEcK5zuCRBdAa9vKjZVqGIJTP0BYsToBoNckksyudDmcdBld9ZEAGZSvP1OmdnmyRS2aKcehsqvTisKyOIbqzyoZ+cdCwEU3byxQhRHU4LgUo3mhbis7+5n+r6q4MImib4+//zGm0XBvH6r7aHpkZhm1oraWqtnP57JZvjT373u7RdGLzu+e/rGs1P1NhKX81MxNKMBSeoqp1x/QlBNqMg6SRk+YM3SVcMZt3hc6rGha7houyAZyKbUxmfSBT048zmVH761nlePnqRCp+Dv/yXT1JfMbu82N2Xj3zesqFmuqrS3TtOLqfy6Sd30dJcDsAjD2zklTfOMzpemrJysTh6tptPfWjHZEVn4cfqJIlN3nL+x90foS8+QVc0xEAiSiSTIqteP25+IazzlC1r8RVC0BeMkCiy/z4TDqsZi8nIHlcjG935hcJhME+/v3Kzkz/a9kRBz5nKZfkXx7/LhYnFw8EkSWJzcyWVPie9weKrIAJ4+/1OnnpgC655RsVvNaQzCqevFO75MB/8blvJs3JGw3HGClhHZsJhNS87HO16sJkNNNX4OdsxtORjEqksA6ORyeC4q7/LsUliUggkCVrqAxhWIHVYkvKTTDazsaj4ge6hEKmMgr3ANqXFZuLOfS18669e59ibF3nil+9Cnvx84bEYZ0904/LYaNlUM8uILJnIoNfLGE1Xb2fjI1GG+8OYzYZpz5C5aL84yLGDl9n3oY3Tr6NpAomrotarmp2Z6+/82rqZ5zSVzPLmS2dp2ViD2ZIXCUfCSXo6RrBajThKrU+5RVHa5mgJkFM1YsnMtLp5JsKRJHq9Dr/XPn2yh0eieD02qiuuKu9lWZfXHNxgS+De4TDHznXzxL2bWErNTZIkLHoDLW4/Le78Qn4jxbRCCC50DZfEoMptN2M1G9BJOlzGa9MtJUnCIBW2KxCyAesS2i9TKPPY2bmhdlkEBKC9b4z32wbZt63plq+C9A6Hi25xzMW6+gBlRYoXr4fe4XDRBNjntl1TbSgVdDodG5sqeOHQ2SW3TpScSudAiAfuuPp3Uy2wQl1eTQY9a2uXt8FYCH63Da/LWhQBGR6PEoomCyYgOp3EA49u4dQ7HXz/m28xNhJj/dZaMmmFt147T+flIR7/9B4a15ZPH6Nkc/z9V19jZCjC5p2NlFe6SacVDr16jv6eMe7/8Bbc3munoGRZxx171/LD//c2Z090sXZDNbmcSteVIPd/ZDOb72hAkiSG+kIce/MSqqrR3R4kp+R48+WzXD57lbS3bKpm8x0Ns57fYjNy8mg7/99//Qk77lqDJEkceeMi7ZeG2HPfOsqrCtfIfBAxi4BIUl6AZLPc2DFQm9k4r7JbkvIpjdlsbjqTI57MYLOaME/Oewsh6O4dQ1XFqifhzkVO1fjZW+e5b3szniIXwht5g4unspxtX/oObyFU+JwYS2zgJUkSNv3SFzm9rOOBnWt59djloqcqIO+L8rO3zrNzfW1Bqcc3GzRNcPRsd0mmnPSyjt2bGjCW0F5amxZnFkeAq8ucK3p+mmv82Mymgq6ljv4xFFWb9Vto7x8tuC3odlioLULouVTYrWYq/c6iquETsTSDYxPUlhc+ju0tc/Cl3/8o3/vGYd567Tw/f/4kSOD22Hj68/t44pf3zLIwFwLKqzxcPtfPD/7u8HQ0h8Vi5J4HN/DMr993jeW52WKgpsHHhx7fRjKR5XvfOMShV86Ry6lYrCYaW8qnCUUmrXDlwiCDveP094yRUzSOvXkJ44zNrapq1xAQj8/BJ7+wj1efO8nxt14ip+QwmPTsuqeFZ39rf8n8SW51zCIgNouR3/uVh4qe4y4VZFlHxTyl00CZA0VRefPIFeprfdisJjIZBePkRIyiqHT2jPJPPznJXbuaWb/2xgsFL3YHOXSqg8fv3XRTuJoWgp6hEF2D4yV5rpqAu+ThgBKFERBJktjQUM76xgDHLywvnO69i32cujzA3VsabtkqSDiW5ODJ9pLojPxuO9tbq0v6XSiKWlDmylw0VPqmtWIrgUqfgzKPvSAC0j8SIZHMYJzckORUjba+wj9jld+F17Uy1R0Ak0GmvsLLkTPdBR+bUfJC1N0b6ws+VpIkKmu8fOn3HiM4GCE8FkcnS5RVuPAFnMjy7DgKo0nPk8/exUNPbGNsOEo8lkKSJNxeG4FK97xZLxu31fFHX30Wh8uCXi+zfkstQwMhlEwOh8tKefVVYtewtpzf/eNfIpnI8P2/O8zPfvAuX/x3j7Fuy9XhgvlaPEITbN/dxJ771jHcHyKTVrC7LFRWe7HYjLfsmlFqzCIgelkueL59NdHaXE5FuYvnXzrNlY4gNZVuLlwZIp7I8Jd//RrxZIYrHUEUReXBfetKlmGyHGQVlR++/j53bqyn0l+aSPDVgKYJjpzpJppYvv7DoJdpqCq9GFAnSez05QmAx7g0sym71cQje9Zz+srg8sSoyQw/OHCazWsqb0lnVCEEx852F21xPhc7WqupLiut4DuWTDMwUpw/iV7WUV/pWdFhA6fNTGOVtyCSPhbJa+OmKqKxZIb+IlqCzTX+khuQzcTU6HqxIY5XekfRhEAuMiHdaDJQ21hGbePCVewpEzCX24ZriYZzRpMBb9nV787jt+Pxz986lCQJvUHG6baybXcTB356GpfHhj+w2Fqen65xe23ztoBuI4/Vz6tfBioCLn7j2X001Plo6xzh1YMX6B8ME5lIcuDwRd450Uk4kiCeSPN333mbzp7S9LaXiyt9o/zT66dLlqmyGhiLxDl4sr0kGhS71UhteenLxRLwkepN/IfNj1FtXdrzS5LE3VsaaK6Z3+q/ELx3sZfX3r18SxqThaNJnjt4lqyy/GvSYjKwf1dLSQPoAEaWIUBdCUfWuTDoZdY1lBc05R5LpmeZvo2G44xGCvuMOklifYGvWwxqy93Xza5ZDD1DIZLpG1tJLzUamgNsvqMB83VErbdROG46EepC0Okk9t65hg0tlQwGJ0ilstdl57JOR33t8m8ypYCmCX5y6DzbW2rYu7Xxpi+/CSE4dKqjZLbjFV4nAU/ppxGm7ZALPM7rsvHY3o20940VnbAK+erWP758gk3NVayt9d/053UKqqbxyrHLXOhc2KhpqWipK1tWANn1sJwJLLe99BbscyFJEq31ZZiMBtJLzEvKC1HHuXd7M1CcyNZmMa5IRXEuAl4HbruZZLrw4LSRcJzQROIDZdjnLXPy5T94ApPltn6jVLilCAjkSYjPa8dXQrvn1UAknuJrPz5CTcC1Yt4EpYAQguHxGM8dPLusm/NMrK0ru6kWIp0ksX/nWl46cpELXcu7CfcFI3ztx0f4vc8/tOxAxtWAEIIrPaN8/7VTKCU4v7Ks48N3rS95G0oIQVvvaNFt1IDHviqtsdpyD16nlcElWtkLkTezy6kask5XlMjW77ZT4VuZ8eKZcNnNBLyOokIco4l8pad+BZxabxR0OgmbY+FrSm+Q2fvgBtLJLBbb7UrJYrilWjC3OgZ8pvYAACAASURBVC73jvDV7x9mJBy/aVMUszmVHxw4VTJtgCzr2NFas2hehRCCkVSUgWQEVSsN8VkIfreNp/ZvWXY+DMCRM1387QvvLGuyZjUgRN5z4v/++EjJsl/W1vq5d3tzyQl1VlHpGCj+Gqwpd6+oRmIKXqe14GmU3mCYZDpLNqfS3l94m7i+0rMq5MpsNFBfYOjeFLLZHB39YzftOrdSMJkNfPJX9/ErX3oQ5wqKhD8ouKUqIKqm0T8QxuOx4bTfisI/ePtMF1/93iH+xTP34XPZbqpKiKYJDp5o54VD50uma/A5raxfgmtoRsvxP8+/wmgmxl/s/BQ+08qXz+/bsYY3T7Rz+HTnsp4rp2o8f+gsdquJzz22C4vpWuX9jYYQgngqyzeeP8Y757pL8pxGvczH9m3CtwKtjmiieAEqQFO1r+QhbfPBbDTQWh/gnfM9Sz5mNBzP+2RYTPQHC/uMEvmWV6n1NvNB1kk0VvuKEqIKoK1vlJyqrcp7LTWEEMQzWfrGI3SPRhiJxklmskiShNmox2uzEnDaCDjt+B02HBbTkqYcM7kcE8n0LO8Yu9mI1bjwmjH1fpIzWn2SBE6LGXOR0QdT0SuDkRjdo2EGwlHi6QySJOEwm6jyOKj3e6h0OzAb9CuyppWMgAghpkv2+jmjUothIp5ifCKJQKCTJMq9jnnn9xOJDF/5+gE++cRO9tzRVKq3vqrQNMGB41fQhOCff/JeKnzz596sNoQQvN82wF//6AjRIsyHrof1jRVU+hefjsiqOfqSIdI5BSFWvgIC4LCaeOaRHZzrHF52FkpWUfnOKydQVY1nH92F02a6Kc4rXCUff/vCMX56+HzJpsM2r6lk/861KzJePhKOE4oWJ0A16OWid+6FQpJgXUPekXSprZRoIs3QWLTgLBkAg0GmpS6wKteWNJmlYzTIRVn15/Ut2ZKGE64GEuksr1/s4Pn3LnB5aJRYOkNO06ZJgySBLOkw6GUcZiNryv38wZP7qfMtXAkTQnCsrZc/f/HwrPb2x3as5zf237ngxJCqafz1a+/w+oWO6b+TJPjth+/mI1taCroehBCksgrH2vt44eRFzvUPE4onUdSr0R86ScIg6/DYrGysCfDo1lb2tjRgN5d2hHhZBEQIQVZROdsxxNGzXfRPlnWry1zctamBzWsqMS2BObX1jfKn3/w5ybSCrNPxa0/s4cn7Nl9zXCiSYGAoQq4Ezpw3EqomeP14G+Foki8+fQ8bmyoWzYtZSWiaxvttg/zZtw7QP1Jc7sZ80Ms67t3ehGkJ5lRJNUtcySwpBbdUkCSJrWurefL+zfz9T99d9o05nc3xnVdPEgzF+PWP31WUEVOpIYRgNBznGy8c42dvXSBbokksu9XEM4/cUbTB3kIQQtAzHCKRKm6Kwm41UeFbnZH3fDCdb5JMLI3EZhWVrsFx3A4riVRhAk+33UJd+eqQK4BKvxOH1Uw6W5hVPEAwlJ9iulUIiBCCcCLF/37lCD89dZGUMj/pEgJyQiOX1UhlFRRVI5FZ/DwK4Fx/kM6R2eL+4539/Mq+HdhM19eMxNNZTnQP0Ds+e30+3TPIhze3LHkiSghB12iYr7/xLgfOt5O4jnhaE4JMTmV4IsbwRIy3r/Rwd0s9X3xwN+uqAiXbdBRNQIQQxJIZvvmzd3n+0Llrds3PHTzLR+5az699bA9uh2XBhbip2o/LZqF/suR64PgVHtm9DpvFmGdrqSzBsRhvHWsjMpHk3ZNdjM+TnSAhYTYbqK/x0ljvx6CXb/gN4HrQhODEpX7+4K9f5LMf3skjd63DYV3dXbMQgmxO5eCJdv76R0dKSj4gP8a3c33ddT+TEIL8/yCuZIjn0rgMVlQhUAusguiQivruDHqZpx7YyukrA5y8VFgK73xQciqvvnOJ7qEQX3h8N3s2N2A2rkz5ciEIIVA1wbmOIb724yOcvNxfsraaJMHDu1vZvbF+RT6XEHm7+2K1QH6XdUWI0fVQ5rFT4XMWlBp9sSuI3Woq+DNW+p343Kv32bxOK36PjdFI4QQklkzTH4ywpsT5QCsFRVX5xpvv8aP3zl9zXqTJisBUO0qdrIgU0ppScipXhq7VNfWFJhiLJRYkICPRBEORa8XAHcFx0oqCdYFjpyCE4GzfMH/6/Buc7w8y953LOgn95EY4p2mzNmRpJcfr5zvoGQ3z7x6/n7vW1JWkxVk0AVFyKt9+5QTf+/mpeXdVsWSGH715Br1exxd/ae+CgjCX3czO9bWcn5xI6BwYJxiK0VTto7NnjL/65kE6e0aJTCTJ5TReePn9685e6iQJp9PCUx/dwaee2HlNpPPNhqGxKP/7e4c4dq6bTzy4ja0t1atyw9KEYHgsyg8OnOYnh8+VxHBsJiRJ4t7tzQQ8104rKZpKR2yEk+O99CbGSaoKkWyCqJImq6r8xYVXMOmWLiA0yXo+37yXGltxO0O/28ZvfPxu/vBrLzEcWn6AoRBwuWeEP/nbV7lvxxqe2r+FlrpAwa3JYqEJQXA8xotvX+DHB88wEir85rEQmqv9PPPwjpLars9ENpejcxkC1Eq/a1XjJOwWI03VPs4XMNb81ulOpCIW8OYaP5Yl3GxKBavZSHWZi4tdwYKPVSZFtvftKL1IudQQQnCuP8gLJy/MIh8GWcf2+iru39BEvd+DQZbJqSrJrEIkmWYsliCZUXBaFtckxtKZ6QqGxGS0iBCE4kl6xiLU+6+/fnWPhZmYzAvSSdLk5g0GwlHCyfSiBEQIQcdIiD+ZJB9T0EkS9X43e9bUsam2Aq8tX60KJVJc6A9ytK2X7rHwNNHqGAnxX194gz/9xMNsratc9nkt6u4shOBsxxA/evPMNPmQZR0Oi4mcqpJIZ/NlKlXjJ4fPc0dr7YLBXTpJYltLNd997RSZbI6JRIqB0QhN1T7MJgNbN9awaV0VwyMTHDh0iX171lJXc+14lxCCyESKo+918IPn32Pbplo2r68u5iMWhRmpywUho+Q4fLqT01cG2LmhjkfvXs/m5krcDgu6ErZmhBBomiAYinHwZAc/OXyOzoHxklhxz0WF18Eje9ZdY7+eURW+0/Uu3+o8ymg6Pln/uApFU3lp4FxBr2XTG3midlvRBCTfiqni84/fyVe+e4jUEj0dFkMsmeGnb53n6Nlu9m5t5OHdraxrKMduXZpgrRAIIVByGoNjExw62cFLRy/SPThecjdgl83Mr318D3UVnhW7qUTjyxOg1ld6Sp47tBDywXSV/PSt80v+7SeLuMZknURrfQB5FcS1U9DLOpqr/bzGlYKPFWIy+yanrRhZLRU0IThwvoNQ4moukqzT8ek9W/mNB+/EY52/ii+EQAiW1AIJTsQZjeU1Py6rmQq3g0uDo2RyOS4OjLCvdf5YByEEFwdGUNT8vbYp4CWcSDEeTxKKpxgMR6n2LNxynEim+d+vvM2FGeTDYtDz9J2b+eW926j2OK+RATy+fR2D4Sj/8PYpfnj8PKnJiJbu0TBfeflt/uyZR/E7rMtaB4oiIKqm8fKxS4QnQ6ycNjPPfmQnezbVk0orPHfoLK++c3k62fb7B06zvaUax3VGxyRJor7Cg9tuIRiKTS6k+XJTVYWLzz69G4D3z/dz+Fg7+/etY++dzfM+lyYEWzZU82f/5xWudARXlYDs39mC323jR2+cKcr1NJbM8MZ7bRw900VDlY87N9Sxc30tDVVe3A4LRr0eSVp6QN3UCJySU4nEUnQMjHH0bE9erxOMrJhVvSRJPLynlYaq2SRRCMF74z18ve0wUSWFVTbiM9kx6w0oWo6+RAhZ0lFr9RakibHIRszy8kYudTqJR+/eQF8wwvd+fqpkHigA4xMJXjh0jgPvXmFtXRl3bqxje0sNtRUe3HYzelku6LzCJJkUgnRGYTSc4FJPkKNnuzl9eYBgKLYipNKgl/nkh7Zzz9aVTQEOhmKEihQFy7KOxqrVNyBcU+vHajYWrOkoBBazkebq1Te8a6jyopd1Rf0meofzZnJGw809kprMKJztm13Bai738vl777gu+YApK/ilvUbPWJh4Ol/F8NqtbKur5NLgKELAhcERsjkV0zwTLZmcyqWhq+PaG2vKuTw0yng8SSqr0BEcZ2fj9XOYNCF48f3LHL7cPb3d0+t0fGbvdn7zwd3XnXCRdTpqvC6+/MheLAYD3zx8Yto76ET3IM+fvMCv3ntHUXb7UyiKgISjKc60DU7/+dG71/PLD+/AaNAjhKCuwsNYJMG7F3oBONM+yKm2AfYtsHC5HRZ8LivByRL42KQ98UInfj7IkkRDnR+TyUAyuXKLwVwY9Dr271zLnRvr6B+J8Pb7XUU/Vzqb41J3kMvdQX5w4DQBj53aCg/N1T5qyt0EPA7cdgtmkx6jQY+sk6aTgnOqSjqbI57MMBKO0x+M0N4/SudAiGAouir2yPUVHj66b9M1JEIgeHP4ElElRZO9jC+vf5B1rkqMOpneRIgvv/sdXEYrf7bzE3iXmO0Ck+NohuUJ3SRJwmwy8Oyjuxgai/LmidKEtM1EIp3l9JUB3m8bwGo2EvA4qK/w0FjtpSbgpsxjx2W79rwKIcjlNLK5HIlUlnA0RTAUo2tonM6BcQZGJghFkytq9S9J8MAda/jUQ9tXdKxSCEHPULioCgGAxainJuBa9Zt0pc9JmdtOIlUa9+D54HNZqVjlPClJkqguy7e0JuKFT8eNRvJC1NXU5BSDeCbL2Jypq611lQScpbFKEEJwZXhs+gbusVlYXx3AIOtQVI2ukRDRVJoyw7Ut60gydbV1I0msrwowHk8C+bydtuGxBXN3xmIJfvze+VlSiS11lTx7z3Ysi3jlSJKExWjgs/ds51TPIO91DQD5IsRPTl7k0a2tVC1SfVkIRRGQYCjGyKQoyWo2cv+ONdOLkiRJeJ1Wnt6/lbMdQ6QyCqmMwstHL7F7Y/28DA/AZNDjcVy9SGPJ4jUJqqohhMC6ip79VrOR6oALp83MFx7fTdfAeFEOgjMhyEe/9wyH6RkO89bpzvx4lF7GaJAxGfUY9PIcAqKRUXJksjmUnFrSnfxSYDLo+fTDO6idJ4cjrebojI8hIfFU/Q4eqFg3/Zioks4HP0k6vEYrfvONcbr1OCz8zqfuJZVROHauu+B22lIgBCRSWbpS43QNjvPmyXwFxqCXMepnnlcdkpQf3VY1jayiklFyKIqKoqor8t7mgwTcsa6W33r6HhwrPF4shKCtfxS1yOvWZbesiO3/4q9rpqHKW7L4gvlQV56vmK02/G47Xqe1KAISS2boC0ZYW7twqNyNRkbJXTP1Uu1xlqwFns2ptA1fDS0sc9hYU+7DajIykUwzEo0zGI5R5rx23RsMR6fJkdmgpzngpXPk6nO1B8dJZRXs5vndpk90Dcx6baNe5pd2bcRnXxoplCQJn93KL+3axPu9Q9MkqmcszPHOfj62Y33Ra0JR3+5oJE5mcofitpup8DlnvQFJkrhjXS3rZiTrnrrcT/dQ6LrOeLKsmxV8lJ1nBMpokPF77ZgWEZbmciqV5S7qSxA4tlR4HFb8bns+8r2pgi98bM+KCOG0SfOYWDLDWCTB0FiU/pEJ+oIRBkYnCIZiRGIpUhll1cmHJMF9O5r50O7WeRXSqtBIKBkMOh31Nt9NKUyTJIlKv5N//ZkH2NFau6JpqjOhaYJMdu55jUyf1+HxfFsikco7aK6mweTG5kr+1WceoNLvXPFzlsnms1KKRcDruCEmhQa9zLr6wIoGxLXUB26IqZfDalqSl898UFWNtt7Rm94RVRPimvdokEv3XUdTGfpmjNBWe5xUuh3Tos94RqEteK3wWghB+/A4iUn9hctiosrrpNrjml6bBiOxWdqVmchpGm9d7p7WjwBUuBzsaqop6LcsSRJ3NFZT4bpK7hVV42hb77IiHYoiIIlUltykUthsMmCZJzHRYTVx/x1rpsV2oWiSo2eXt6Nsbijjv/7HJ9m0vmrhxzUG+NPf/zhbNqye/qPc55jOO5F1Oh7e3covPbAFvfyL43a/pqaMX318N/brEC+JSQX36r6tgiFJErXlbv7tr+xnx7raFU8dvZmxvqGcf/vsfpqrV4cwTiRSS85VmQ81gdWxYJ+LfDBd4LoV3uXCoNfRcoOqCEbD8ozd2vuXF/r4QcBI9KoAVSdJVHuduKyW6faFEIJzfcFrRuU1IbgwMDJNjspdDrw2KzVe5/S9JZzIC1HnQyyV4fLQbLv/5oAXv6Nw92K/w0ZjYLaur214jNgyIiiKujvm1BmucMw/EStJEndtaqBscgxTm0xYjcTnZ2qqqs1KlJyP1JhMBqor3FjmcUmd9TijnjKfY1VHcOsrPLMMt0xGPZ977E4euWvdqqrWbxTKPHZ++5P7aFrgRqXXybiMVlRNYzwzu98qTf57Xjdy47+vKRfI3//Vh7h3e/MvxDmcCUmCLWsq+b3PP0Rr/eo4bwLTlZ5iIAFN1d4bdq7qKjwrpnVw2szUVa7c5NFCkCSJ5hp/0ZNb/SPhZbXUPwjoGQuTmEwVNuplqj0uTHqZ5sDVKn3b8Ng1hmbJOZWRhjIPNpOBCrdzWr+RVnK0B8fnrTKNx5PTxGcKjQEvxiKqOya9TMOcUeHRWIJQongX6aIISN7PIP//M5N96flQXeZie8vVKkRb3yinLvfP+0WlMgpjM2yJVzpKu5SQJK658UqShMNq4ktP38ODu1o+0Dcwt93Cl56+hzs3Xt90DMCo09PsKCNgdqBouVnXQZnZwe9vepQvr38Ih+HmSM6VJImagJt//7mHeHzfppt+lLBUkHUSd29p5D9+4ZFVJR8APUMhUkUKpQ0GmbqKG5e+6nPZCg6mWyoqJkWuNwp1Fe55N4VLwVgkwUgJ/HVuVQghuDQ4ijq53tlMRgKu/LlcV1U2TewGwlFGorM9e0ZjCQbD+e9OAtZV5h9f5rBOe48IIbg8ODqvaD6SSM3OjwHKXfaiqrqSJFHhnn1sKqsQvk77ZykoqkRgsxjR6/Lq3XgyQzSRntf62KCXeeCOtbx5sp10Nkc6m+Nnb19g96Z67JarNxkhBP0jEwTH81+0rMsrr7t7x4pejHQ6iZoqD7ZViIE3GQ3UBK7dnUiShM9l48ufvg+dTuK1d6984EqRboeFLz61lw/tbl10dFYnSTzTeCdP1m2nyjJ7obYbzDxUtWEl32pRmBJV//NP3UtVmYtvv3KCSKz4H9zNDpNB5iN3b+DXnthDmce+quRDE4K2vvkX0qXAZjFReQOzlcxGPWvryqan/0qJxirfvPlYq4UyjwOXwzK9iy8EiVSW3mB41cnszYKsqtIevKpr8tgs+Gz50d7GyYpGLJ1lIpWmazRMU8A7/T31jkWYSObFv2aDnrUV+Y2u02om4LTRH8q3K7tGwySzCo45QtSpHJsp6HQSdlPxeS4OswkJadq/SVG1oifWoEgC4nVaMRr0KGqWeCpD76TKeb4b8PaWalrrArzfnh/bPX6xjzdOtPPo3eunb1iZbI6Xjl5gYpJJuR1WqnxOvvL1A1xqK9yBD8Bk0vNf/u3jbN1YW9TxhcBpNVHhm195L0kSfreNf/XLD+BxWPnxm2eKCna6GVHhc/KlT9zD/p1rlyyOq7auXo5FqTBVzfrMh+9gTY2frz93lEs9Ize9sK5QBDx2PvORnXxs3yas5tVP9M1kFLoGi58i8Tqt+Fw3rnIqSRLrG8qL9sy4HnTS6huQzYXbbqbc6yhKn5NTNdr7xnhoV+svpJ4qmszQF7r6vVW4HdMTKxVuBwGnnVg6RDancnFwhP0bm5GYrJwMjZDN5e8XXruVGm9eDGwxGqjzuTnZnb+vDkWijMeT1xCQ/LTc1XVKQlqWuHauwZ8mNBSt+PH/ogiI323HZTeTSGfJqRpn2wfZf8eaeRcst8PCR+/ZyIXuIEpOJZ1V+Ksfvk0ylWXHuhqyisprxy/zkxkugpubK6kp99DcEMA4R9Sl5FQuXB5CVTUqy134vDYMBv01qgGDQca+CtUPyH8fCwUuSZKE22HhN5/aS025m2+9eJzh8Vu3JKmbnPT50tP3sL21ZlViz28GGPQye7c20ljt4x9feo9X37lc0uTgGwWDXscd62r51cd3s2VN1TXutauFSDy9LAFqpd+5qhbscyFJ+fh6h8287HTlmTCbDKypXX0DspkwGQ3UV3g4dbm4vKT2/jGyudwNEQjfaAxPxBibocNo8Lunb+Ruq5mmgJeOyYC6CwMjZJX895QnJKPTov0anwvv5OisLEmsrbiasRNJphkITVDvm21/oJN0SHPujsvxN5prXilJEvIyAkSLIiAeh4XqMte0z8X7bYNEE5l5b8JTmSAvH73IicmLdzQS5yvfP4jDakbVNGKJzPSXYrea+Og9G3DZzfyzz907i71lsyp/+523CY5E+czTu9m5rQGH3ZSvpMz5bUqAXMIxqoVQXebCal78h2UxGXjy/i00V/v5xgvHOHW5/5ZryVjNRh7Zs45nP7KT6hUyfJo650k1y1g6TjibJKMq6HUybqOFMrMDhz7f/1ztRVmSJKr8Tn7n0/dy15YG/vGlE5xpH7zlziPkfyNVZS6evH8LH923Ec8ioZErjeHx6LLaW/UVnhsypjoT5R4HFV5HSQmI12mlqsgx2FJB1kk0Vnmnw9gKxcBIhGgi8wtHQIQQdI/NNtZrLr+qFzTIMuurArx2rh0B9IcmmEjlv6doKkPP2NXR3ZYKP+YZG/KGsnzkQDanklZydARD3L22ftbrW4yG/AZxskihCUEyqyCEKOq3nsxkZ00x6nW6We+pUBR1pMVkYOvaat671IcQ0DMcpr1/jJ3r5293eBwWvvD4bnqDkelURSWnXaN2N+h1fPzezdMpm3MXk8vtQV4/dIlnP7mHD+/fWNKclOWgoWrp1uF6Wcf21mr++Dcf5Wdvnee5g2fpH5m46cv5BlnH+sYKnnlkB3u3NGJaocA8IQSjmRivDl7gjeFL9MTHiefSqEIgIWHTG6m2unmgYh2P1Wyh3Lzy3hRzIUkSZqOBe7Y2sampkjdOtPHcwXO0943eEkREAnxuG/t3ruXJ+7cUdP2uFIQQdA+Fis7hmU8IfiNgs+aD6S52F9c6ng+15e4bHmkvSRINVV6MBrmoFvL4RJJgKDZvOOUHGULAlaGxq7YVBj31vqv6N0mS2FCdH99OKznG40mCEzHKXXaC0Rijk6JUvU7H+qrAtGBVkiSqPU4cZtOkKypcmhSiznREdVvNGPUy6clBkanwu+I+i2A0lph1rzIb9LivE7GyFBRFQCRJYs+mep47dBaX3cK925qoWsAieMqY7F8+cx//98dH6A1GrrnhOm1mnrh3E59/7E5MhvlZclvnCDlVY2Nr1U1DPmRZR1NVYQvflLDxMx++g33bm/M5IcevEBxfmQyP5cCgl1lT4+fxfRt5YOdavM7lhQ8tBCEE5yID/MWFVzkd6kMVcyKxkUipWcYycc5GBjgYvMK/3vAwWzyFmeqUCpIk4XFaefL+Lezb1szh0528dOQCV3pHSxZoV0rodBIVXgf3bGvisb0bWVPrn86hudHQhKCtt3gBqtlooGaFJlAKgazTsbGpghffvlAyv5u1dWUr5i9SCCp9Lhw2M+ls4enKiXSWnqEQm5srV+Cd3bzI5HK0DV8do3VZ8iF0M1Hv9+CzWxkIR0lksvSMRdhcW0n3aJj4pOjXbjbSXO6dtc75HTbKnLZpAtI1GiKRyc5K5vXaLbitFqIzvDp6xiLkNK1gLUhO0+gdn90i9disS3ZUnQ9FX9UtdQH+8Nc+TH2FhzK3fVEdgCzns1Kaqn0cON7GuY4hYsk0ZpOB5mo/+7Y1sW1tNUbD9RfEbDaHpmnkJoU1N3q3A2AzG6ksK84LX6fTUV/h4YtP7eWxvRt4/b02Dp5sp3soRFZZuVyPpcBpM7OhsZwH72zhrs2N+N22kie4zoQQgq74GH969mecjwziMljY4qnBZ7Lz8uA5DDqZT9bvIqMpnI8McDEyxKlQL//t3Iv8jx1PU2fz3rDrQZIkyjx2nrx/Mw/csYb32wd5/Xgbpy73MxaJr1jo31JhNRtZU5P/jd27o5magHtylP7G/36mkMnm6FqGjbnLbp72HLrRWFNbhsVsJFnExMhcGPQ6WurKbgqS6HFa8LttjIYLJyCqqtEXDK/Au7q5MZFKMxC6ahJW5rThts6uZvkcVmp9bgbC0bxgNziOEBqXZ1ROyl32WS6kkB/nrfG4uDSYNxoLTsQZjyVnERC31UKN1zWdJQPQMTJONJUpmDhEkxk6R2b/RpsCHlzWVa6AQL4Ns3tj/eIPnAFZl492bqz0kc3lyKkask6H0SCjk6RFF8Qynz0vWj14keoKNw67+frHSCzpOafgdVpZU+Nf/IFzUO5zLCt7YqrV1Fzjp7HKy5P3b+Zs+xBvn+niXMcQQ2NR0hllxd1DZVmHy5bPs7hjXS17NtXTVO1ftWkIRVP5h85jXIgM0eIs53c3PsJWTy2DyQhvDl/CJBt4qn4H1VYPMSXFa0MX+eql17kQGeQ7Xe/wuxsfQS/d2P7/VEXkvu3N3L25gaGxKGfaBzl2tpvLvaOMhuOrUhmRdTqcNhO1FR52tNZw58Z61tb6cdjMK0oil4NkWsFiNBT1G4R8+8Vzg9sUU6gJuPj/2Xvv8MjO8z77fk+ZPgNg0Duwi+29kMtdcpdcUiJpiZIoWZZlWlEkRbF9xXFsy7Fy5UocX4ntxM6XzzUuivxZlmPJtqwuqlAiRS65vfeOssCi1+nllPf7Y9AGMwAGwO4SK+KWVqs9c+bMe/rzPuX3bF9be0+0L/weJy11uRWGbwdel4Pta2oxFjk5CniXx/l5kPSNRRiKTiWg1pcW4ZmRB+PSNTbUlHP8dqZ8u7V/mEgynVW621wezDIsIBMWX1URhCuZf4cSSbpGQllqpS5dY3dzLcdu+/fhcAAAIABJREFU3Zl8h3QOjXG9Z5B9a+bWbZqOlJJrPQNZcvKqInh0dT1O7QHngCwVRRGLSkbatL6Ghtog3/nhRa7d6qO+pgRtlqQzXVP48Pt3FdwP5r2Pb+KZR9YteEyqIvDco8x7RVEoK/bx1K4WDuxYzUg4Tlv3MNfv9HO1rY+ugTFGw3Gi8TSmZS1qZq0oAlVRcDt1isZL61rqyljfVMmahnJqygJ4XIuvE18svYkQRwZu4VZ1fnndQR4rG++cPGMYihAUOTy8WL+DiJHkT669yqH+m/z8qseo9759IlTTEULg0DUaq4M0VJXw/N4NjITitPcOc+POADfuDNDVP8ZIOE40niJtWti2veA2BYoQqGrmXAa8TqpKAzTXlLKhuZK1DeVUlxXhcz/4c7kYSgJu/usvPo+9yBQaTVUKSgR/EASLvPzuL73nnni+FIW3Vf9jOqqq8Es//Tifev9ji/q+8x0i5DeBlDKjzzE+6RBkDImZ7TkUIdhUVznZGbdrJMTdkVDWy37jeOfc6QghWFNViqooWHamCemtviH2r2uavOeFEDyxrom/P3Jusl9MNJXmO2evsbOpZt5uuBMkDZNvn71GPD01gaoq8rNvTeOSni9vf2BxAVSUBfg3n3ySL/7TMdruDNHaPjDrQ9vp1Hh6//qCDRCnQ5u3yd2DQgiBqmbc+mXFXh7d1IBhWkTiKUbCcQZHowyMRBkYzTSeiyZSmSZlRqb7rS1tFKGgqQpOh4bbqePzOCnyuigt8lIRzGy3tMhLwOvC6dAW5C26H9yNjzKcitHgDbItWD/vWFRF4amqdfxD+0kGkxHao0PLxgCZzoSHq7LUT0XQx55NjRimTSyRYiyaYHA0yuBYjMHRKCPhGNF4imgiTTJtYpoZI1OIzAtW11Q8Lgdet4NinztzLkt8lJf4KC3yEPC6cTnf/nO5GFRFwb8EV+5yQhHigUkAPEiEELhn6f21Qi4zE1C1cY9FPr2sVRUZD8dwNM5QJMblu/0MRTK5HS5dY21Vfs9gXbAIrzNTMSOBm32ZvjvTCzhWV5byxLomvn322uSy16+1cuBqE89vzd84dDqWbfOjy7c4dL1t2pjh2S1raChdWnXW8njjFoiiCHZta2TNqkp6+scIh5NYs0yZFEWwqnF5t4AuhImL1aFrlBZplBZ5J1tby/EOjpYtp7o5Zv6bcRxMC0MpiljWL6aIkSRtWxQ5PLjVwmZ8QaePCpef3kSIgWT+ZkzLialzqeLQPZQEPDTXZAzkzLnMJGNOeEOklJNu04wzaOo8KsryPZcrrLBCJgF1ehjF63RMConNpKrIT3Wxn+FonGgyzRtXWyf7whR73DSUFee93ysCPoI+z2SSacfgKNFUmhJtKtzl1FRe2redM+3ddI83rYsm0/zh9w8DgoMbV+HSc6sapZQkDJMfXbrFn7xyZDIhFmBtVTkf2bN1ydVzD5UBApmHeFHATVHgnRdPnImYNC7e7pEsHYeiogpB0kpjFqispwqBpqhIJMZifffLhMy5BAUB76AOyius8KCwpeRa9wC9Y7m5Of3hKCkzu7z4Vt8Qr16+Pe92VUWwpb4qp8PsWDw5KZUOGQn28kB+pV6fy8GaqjIu3+3HtG2O3u6crAirCwYo9eX/XsDjoqY4QMdgJsG3L5TpulsyLd9motT30wcf4X99961Jw6Z3LMJ/+8ar/PhqM+/e3MKqiiBeZ2byF02maB0Y4UeXbnH4ZgexablrZX4Pv/LsXupLl64D9dAZICv8ZFLhDuDVnNyNj9EWHWRbyfxhGMO2SFoGihC41RW38AorrDA7tm3zpSPnefn89TyfypycnW+fvcZ3zuVbNxunpvKHH3sv+9c1Zy3vC0WyNDeqi/0EXPlDc4oQbK6r5JunryAhS0+opbI0J3F1+m83l5dw9NYdAMKJJF3DYzkhG1VReP/ODQxH4/zNG6cnczkiyTTfv3CD167cJuB2ZnJCJMTTBpFEirSVPRks9Xn41ece54lpeSZLYWWqtcKyoMEbZF1RFWPpOH954w1uhPtIWQZzlf9EjSSj6RgORaPCtfhKpBVWWOGdgaKI8bC1PeNP7oPGzrte7h9zlgTyjsFRYtOSNpvKSubUc1lbXTbpgZgcrxBsrKucNU9DEYLVlaWT4mOGaXGzdyivsKVL1/nE/l38xnv2U1uSLR2RNi2GInG6hkN0jYQYjsazjA8hBGuryvjtDz3D+3ZuWFI/memseEBWWBb4NRcvNe/hZrifY4OttJ0YZENxDU5FI24ZOPN4ODpjI4ym4gQdHuq8D1+TuxVWWOHBoSoK/+KJHWxvrKa1f5i2wVF6R8OMRBNEUymMGSrGqqKgFdDnyqFpOeXtUkpa+4dxjIdThRC0VJXNWgafUTYtoqYkwJ2hKb0Un8vJmsrZCymEEKwqLyHgdhFPZ0IrHUOjOYmoE7gdOj+zZwvbGqv55xOXeOtGB4PhaM6+T+6bqlJTEuCZzS389CObaCjNn4uyWIRc7hrgDwlSSmxpYsgEtjQRKKiKA004ERQu+pRJPMyckvFCqnm/O/07hZBvu5nLYCFbySRF3suLMW2ZfK3zLJ+7eYjhVLbYUaUrwBce/+RkpYstbf739R/zN7cPc7BqPb+/86fzGinTmdjHrD24j71sZv4WPPjeNdOZdVzjCa65697/Y7XCCg+aiYTvtGkSSaYYCMe41jPAn/3w6GTlCcBH9mzh3VvWzLs9RQjWVZdn5V1IKbnVNzypAaIIQUtlaU6eyHRMy+ZazwCR5JRqqUNV2VRXOWe5bDSZ5lrPAMa4x6LI7WJ9TfmcCaJSSkzL5u5oiCt3+7neM0jPaJhoKo2U4Hc5qCkJsKmuki31VVQV+VHvQ+L7igGyRKSURM1B7kSP0xU/S9jow7STKELDqfop1mup8WylxrMNv1Yx5wmUUnI9/EPuRE8A4NFKeKT0X+DW5paYHkze5tzIV7BlYT0aHIqH3aUfI+ComlyWtMKcHPo74mbhapQbi99Dg3d3wesXgmFbnBvp5Ot3znJ5rJvRdAzTtqlwB/jLPR+b9HRY0ub0UAf9yTDrAlWsDVTOeWxNO8lA4gT9iZOkrTGcapBy924q3Y8QTrcTN3up8jyBprhIWiP0xY8Q0JspcW5CCMFg4ixxs49qz34cqp+0FaI3fhivVkuZe/vk70hpETG66E+cIJS6iSWT6IqfgGMVpa6tFDlaUMSU4zGS7mQweZpixzqCrk3zHp+R5BVGU3PHpUtdmyl2Zmva2NIklL7NQOIk4XQ7lkzjGB9XhftR/PpUPb9lpxhMnqEvfpyUNYxDKaLMvZMqz2PEjB7C6XaqvU+gK97xfbjDYPIMxY71BF0bZxz3BL3xwwBUe/ajKT8ZpbYr/GQRT6X5zJe+y1s3OiaX/eZ7D/CJA7vevkE9ICYMMtO2JxNfFSHQFCVTfXcfJx4rIZglYEuLrthpTgz9LYPJ20gsBOr4bFJiY9PDBa6HXqEl8BRPV/0mmpi9xDRphbk8+m36k9cRCFShU+fZQbPv8TkvgpQVoSd+kbQdw5Zm5pelhSTjVlNQEUJBoKIKDY8WxJDZXUctaTCQuM5ougtbGthYSGljj7dRFCgoQh3/W0MVOo2+PUs/iDPQFZVHSpvYXlLPcCrGaDpG0jLQFZVy15TUtioU9pSvKmibtjS5HfoHro19AU248eq1RIw73I29Rq3nKWJmD3GzjzLXDjTFRdzo5cLQH7Eq8CFKnBmjoDP6fXpib1Hi3IhD9ZMwB7k4/CfUep+eNEBsadAZfYVro/8fCXMAh1KEInRsmeZO5Ht49CqeqPpjvHrN5NhGUpc5O/g/WFf8icIMkNQVWsNfxbJTWDJJyhoBFFxqEFU4UZXMn+kGiGknaA3/M7fGvkzKDuNUilCEY3xc36XB/x52lv0HQCClRXvkm1we+SsUVHx6PRG66I6/QX/8MUyZZCR5mVLXlkkDZDh1iTODv8eGkk/nGCCGHeXqyP9BIikfP74rrLDccDl0tjfWcPhGx31XnV5uTFTgOZQHLxS3YoAsEiklXbEzvNH3R0TMAbxaKY3ePVS61+NQfFgyTdwcYSR1h8HULUw7zVwZlVJKBpI3GEl14FaLCOjV9Cev0RY5QqP3UdQ5DJcK9zpeqPs9DJnEtFMYdoKO6DGuhr6HJpzsKn2JctcaNOFCUxzoipuiaS9BALdaxDPVnyVlx7BkCsNOMpxq4/TQlzBkgrWBZ1jtP4CuuNCEE01x4tcr79XhzEIIgUPVqPYUUe1ZehvyuNlHe/hb6IqPR8p/mxLnRiQWI6mrXBn5S0KpW/gdC2srMBMpJQOJ01wc/hM04WFH2Wcpc21HVVyYdoK42UMo3YoqliZQ1eR/P3Xed2FjEDW6ONH/n3Eofh6t/G841SAKOroy1eNBSsnd2GtcHf1rXEqQHWW/RJlrG5riwbTjxIzurO0nrRHawl9HESq7yv8z5a5dSGxC6VtcGflLRlJXcasPv77OCitMRwDbGqpwO/Qstc8V7i8rBsgiiZnDnBz6IhFzgGJHPU9V/irVni0oTAm6SCmxsUhaIRJmKMv1PhMbk7boEQyZoMK5jtX+/Qwmb9GduEDI6CXonP0F6VA8lLlWZy2LmyNcDX0PRejUeXdS7Z57dq0IjRJnQ9Yyt1rCOeUrGFaCMlcLq/yPz3dYliVJa5ikPULQuYlS11Y0JROrrXLvxSpOcnLgt5b8G5ZM0Rr6KqadYFv5Z2jwPYcQUzFYv6ORSvdj5GjLLxBNcU16EWxpjnujnHi1GhxqrrFm2BHaw98EKdlc+svUeZ/JHpfelLV+yhojaQ7h1espd+3EoWaqi8pdu9hQ8q851v/ZJY3/JwUpJaZMkbKipO0YlswkACpCQ1fcOBUfuuJeUP7XOw0pbUyZIm3HSFtxLJnGxs7kzwkNTbjQVTe6cKGK+9tSYEKNtLLIR/vgO69p3tvFigGyCKSUdMZOMpi8iSp0dgY/Sq1nR16JXRUNr1aKV5tbEj5iDHA3dhYQ1Hl2UO/ZhUcLEjUG6YqdocRReOOgFbLRhBtVOElZo6TtEKpwTYq4lTjX41ILk+ufi4Q5wGj6Oj69lgr3I1kveRhP8nwbzl/c7CWcbsfvaMo/rhljUhUXquIibY+RskbQFf/ksSp2tOBRK7FkiqUwmLzN1bHvTob37jeqcLC15EWKHXVL2o6UkrQdYzB5i7vxc/QnrxMx+klbuQaIWy2mxNlIrWcrNe4t+PXKTHj2AV0DKSvC+ZGvErfyv0yLHfVsKX4/mvLgJOMzyfIWUWOIgeR1ehKXGE51EDeHSdsxTDuNRI6HnzU0xYVD8eLVSil21FHuWkuZcxUBvQpd8dzzYxn0eVhXXb5igDxAVgyQRWBj0RU7g41FsVZNvXfnkm4GKSV34+eIGP24FD/13l0E9CoqXGtpix6mPXqE9UXP4lSXR7vxhw2fXk+Vey9dsR9xYeiPaQ68H69WOxmGEPegi27aDmFYEVxqKRHjDnGzL+96TrUIr1b3wF5ESWsUSybwaJVoyvzttz1qJdWe/bRHvsWF4T9mVeCn8en16IoH004ghAZLNEAiRh9XQt8tOGl6qejCRYv/wKINECklhkzSFTvFlbGX6UtcI23HZl0/YY0RNnrpT17jZuhH+PUqmv372Fj0U+MTifsrvySlpC9xjfMjX83J9ZrAq5VS59lBuavlvo4FMrV1UlqMpDq4Hv4RHdHjRIw+LDlPqGPcPh1K3eZO7AQCFbcaIOhspsH7CI2+Ryl21KPO4VleCJqisKu5lh9eugW8LfOFdxwrBsgiMO0EIaMHAJ9egSuP63tB25NJ2iNHsDEpda0i6GhEGU/ybI8eZTB5i+FUOzWeLfdi+O84VOFic+kv41RL6I0f5tTAf0UVLhShIxDEzT78ekOebxaejpZJ+JWMpW5wtO83mC3UUu9793jC50yj536lvmUSkUXO7+VHETobS/41DjVAd+wNzgz+LqpwoggHAkHM7JnVYySljZTyJ8pTJ6UkZHRzevhLtEXeIm3H5//SNGwsQkY350e+Skf0GDuCP8vawNPoyv1rJWFj0R49OqvxARA3R+mMnaLMueq+GkRSSpJWiCtjL3Ml9D0iRj+LvdYlFnFrlHh8lO74eS6PfZuDVZ+h3nvvKlX2r2si/vzjWJbN9saa+b+wwpJYMUAWgSmNyQdR2Ojj2OBfoxQgKlvl3sxq//6cB/RIqoP+5DUEgmbfvkn3Yq1nGz69nIjRT3v0KNXuTfd99vSTiBACj1bJltJfYU3xzxE3+khZI5n4szXG9bEvks9gmD5DzyikZFzIU8um0BUfmuLGKYKsKfpZ1BnVHoOJs3RGf4CUZs5vSSBtR5DSvufnV1cCKEInaY1gS2POZGbIHCuXVsrGkl9kdeDDxMxeUtYIlp0kbUe4OfZ/Z/2uYUeY1gox39Yn/xYPUoRZKCwm90ZKm77kNQ73/zn9yRsszUiUjKXvcrj/zxlJdbC77GO4lzhxmY2I0U9X7Mw8o7Fpjx5lU/F7camBOdddLFJKRtOdHB38P3RGT97TkJvEJmoMkjDH5l+5QIQQ1JcW8+mnHrln21xhblYMkEUw/VEWNnq4OPr1gr63WaZZ7d+ftUxKm47ocZJWGK9WmmXN+/VKatzbuGH8kM7YSbYHPzxvLskKs6MIDY9WhUeb0j+JmwPcDn8l80KcYRim7DEg02XYttOZ6iAr08jKxgRpTyYWu9VyvFotSWuYKs/j+PSpnB0p5XhIRuDV68h9GUrGUtdJWWM41ZJ76kHwaJV4tCoiRgfhdBtB5+aCtq8IFbdWgVurmFyWskZpC38DSybyhq1C6VsYdiQrGdaSKUyZRFd8mfANUOpcxb7yXyBlRzHsOGk7Mf53HMNOYtkpTJkaNxDj43kM2S9/Veh41CCa4hyvynKgCie64saheLL+dqp+ihwLm81mwhhXeb3vDxlJd+Q/Rmi4tSI8WhCH4kWgYMk0CXOMmDWCYSdyxm3IJJdGv4Up0+wr/zQOxXdPz7eUku7xcO50Ano1pp0ibk3p/Ayn2hhI3rznWj4T4xhM3eJQ35/Sn7zG7MZbRm5AV1yoQkegTMoIWDKNaafHDZd3WnHsO4MVA2QRKELHMe5C9WqlNPn2osxyKGPmEB3RY9hYeatgklaYO7GM8FiVexNFes3kA0lBo9m3l9bIIcbS3fTGL7Paf+AnysX9oLDsNKH0bTx6FQ6lCCEUpLQYSpwlaQ5S5t6JJrLd4pF0BylrDEWoRM27mHaC4dQlgq4tJMx+TJnAqWaUWXXFR53vXVwe+QvaI99kffEn0RU/IAkb7fTE3sKlllDhfjTP+RPEzF5uhf6BNUUfxakWI8l4FDJJjbm5PxMJffM9mJ1qkFrvQa6NfoGro59na/Df4XM0oKBhY5KyRtGEZ7LaBTJ6JqH0bVxqecYgGn8pDCcvEjd7CThWoYncfJLR1A06o6/Q5H8/qnAiMemPHydpDVPsXIsmMl6hIkc1W4MfHB+6HP+PPblPljSxpZnRpkne5LXeP8jJuSh3ruHp6n+PQ/GhCg1l4g8KCCWj0otgMQquEslYuou3Bv4ir/GhCSc1nq2s8R+k0r0et1qMpjgRCCxpkrZjjKXv0hE9TmvkLaLmQNb3bUyuh36AVwuyK/hz83qlFoIpk7SNh3OnU+fZScIapT16dHKZYSdojxyhzrMD5R7kQU0nZPTwVv//pj95Ne/nuuKhwrWWOs8OylwteLVSdMWNgorEwrTTpO0YcXOMkNHDaKqDkfQdwkYvKSsyTbN55Vn4MLNigCwCXXHh16sYSN7EpRaxp+yTeLT8vUg6oie4EzsJ0sKjZq8zMcsaSXWiCp1VvsezHkZCCKrcmyh21DGUaqUtepgm3945xcxWyE/YaOVE/39EU3wUOVbjVEtIWsMMJE4CCnXed6GK6WETgSqcnBv6fUAwlrpOmXs7vbE3iaQ7GEvfQKBQ4swIbwkhaPS/l9HUNVrDX2MkdY1iRwuWTDGUOE/CGmB98ScomaFQChmhuJbAh+lLHKc/cQy/3ogEYkYX9b5nWVP085MvUVua3Im8zEjqKglzMOM1UWbvg6MIlVWBDxMx7tAde4PDfb9GsWMtuuonbYWJGp00+z/A2uKPTYZ/osZdTvT/ForQKHK04FJLSdljDMRPYUuDOu8zkyJkU0dLodS1lRtj/5e++DF8ej1Ja4j++AlU4aDR91Mo06/tcQn4KRF4dfJdMl10Om4O5w3XqOM6NPcjl8Kw4pwc/jsGkjdyPvNp5ewu/RhrAgczXo8Zxo0GOFUffr2SWs921gbexYmhL9AVOz0pDAgZ4b+LI9+gzLl6XqHBhTCSujPucZhCoFLn3U7cHKUjejxrHF3xs0TNQQJ61cxNLZq0FePk0N/Sm7iS85lApdazjW3Bn6bGvSXvMZxJxjC1SdsxQule+hJXuBM7yXCqdWUy9pCzYoAsAgWNWs922iKHiRj94+JhuU16pJSMpNqxxmPvpc7sds0T2h+mTFLiaKTasyVnGx6thHrvboZSrfTELxIyunO2s8L8uLVK1hS/RF/8OKOpa5gygSJ0ihwt1Pueo9737OSx1xUfVZ69NPpfoDf2Jn2Jo5S5drCl9FeIGz1cG/sCpp2gpeijlLm2jv+CwKEUsb3sNyiOrKMn9gY9sUMIoeLV6lhf8ilqvQcRM245t1pOtfcJqr0HqPEe5Fboy4wkL2HKJA4lkPEMYE8mkUpsYkY3sfEk6DLXDvx6w2R4Ix8utZQdZf+BMtcOemKHCBvt2Ok0qnDh1irQVd94+ePU+muLX6IvfpSx9E1MO44iNHyOeuq8n6TR/56sXBW3Wk615wDrS/4lUaObjsi36IkdAqDYuY4m/wtUex8Oz52UktboYdojR5jpXfKoQQ5U/krG41mAx0ARKhWutRys+gxv9v/ZuPdhaptJO8zZkX+i0r3hnoRWpZR0RI+RtMLZ49ZKKHO2YOgJXGqAhDWVNxFO99Idv4B/nlYGhY/B5nbkEG2Rw8w8fgoaG4p/ikfL/iWeBYQahRAIVFxqAKfbT4VrLRuLf4qR1J37lr+ywoNhxQBZJA3e3RQ5ahlLd3F57NuUOlfhUgNZcf+I0cftyCFAUuJooNy1NuumCxt9dMfPA1Dn2YFXK8v5HYFCk28PV8ZeJmaO0Bk7TdDR9FA8zJcTLjXI6sBHaPJ/AMOOYMs0Yjy8oQl31gvVp9ezu+K/oKBR5trOOuvjaIoHXfFT7FhLqWsbNiZOtQRl2nxdCIFTLWFt0c/T7P8Ahh1FoKCrfjSRX7eg3L2TUve28RCeYGfZfyRth7BlGlW4caj+LA+Ags7G4C8g5bTulUKZNQQ4Na5iVgc+TKP/vRh2dFzETEdXvOP7PzU2hxqg2f9BGn3vIW1HsWUKgYqu+sb3I9sjUeHeTZl7BwoaQedmajz7SdsRBEzb94cjeTpujXJ59DuYM0qNVaGzPfgzNPkeW1C4QgiBTyvnsfJPMZbuYjTdmfX5QOIG7ZGjbCp+Ycn3dNIKZbytMyh1NuPXK7ClRdDZSHd8ygCxMWmPHKHF/yS6WLpMfswc5vLYt3OOHwhW+/fzWNmncGmBnOaHhTLhOdOFm0r3+iWPd4W3lwdugEw2vrFsbNvO5MwL0FQFVXk4VAOFEBTpNWwv+TBHBj+XiblKiw1Fz1PkqAUko+kuLo9+m8HkLXTFw7aSD+HVgpPbyEhknyVqDKArbpr9+1DylEoKIShztlDmXE1P4iLtkaNsLHoe57SYPWRcukkzhCFTmHaSsNF7vw/DksgkdkpM20baUxFdRQgURYxfC/e2EZIQYlyOfu4HrRAKKplwQWb96e7pTJXIfN93qAEcBczOhFBRp513VThwK7NLnWdmgzqICaVdo+CHuRAKuvDmhE9m+x1VuHAX0Ltl5j7oqg/9IdSsybRXOM1Q6nbOZ5WuDawvenZONePZEEIQdDSyufh9HBn4q6xqEBuTG+FXaQk8hWvGPb3QsWfCuXeyfxuFes+uTP6NkNR5dtIdv8h070Rf4gqjqTtUuHPDgwsdQ0f0OEOptpzPih117C77WGaStpK3scI4D9QAsaXk2MV2jl+6w8BolGg8hWlZOHSN0iIv6xor2LWhnqbqILq2vI0RIRTWFz1L2o5zbuSfaIse5k7sJI5xsae0nZEWdqkBdgQ/wprAwaxZoGHHx5PFLModTVTM8I5Mx6F4afLtpSdxiaHULQaTrdR5t2etM5xq58e9/4uENYYl0xh28v7t/CKYMDiGQzFa7w5zq2uArv4QI+EY8aSBZdmoisCha/g8DkoCHqpLAzTVBGmoClJe4sWpa8v6mnjQpOxRLg//bxxqMRtLPp03MXSFwjFlitbIW5OqphMoaKwNPINbnbsr9dwImv2Pc3nsOzlekOFUK0PJ29R6ti/6+ralSVv0MKbMvu9dahG13sx2pcx4Ws8r/0zKjk6uk7DG6IidoNy1ZkmeKsNO0Bp9K0dgTqCwPvDuFTXnFXJ4oAaItCWvnbzJy4fzZ0b/4Ng1yoq9vOvRdbz03E7KS+5tidq9RlOcbCv5EOWuFq6FXmEweXMy/urXKyhztrC+6DnqPDvQlOzE0bg1iiIUKl0bWBt4Bqcy9+yn0fconbFTGHaCkHGXWrkt69gIFJyqD1XoWd/LlCPeP9GjQpBS0j0Q4ntHrvLG2dt0D4RIpg3kPJV1QggcukppkZf1TRU8vXsNezY3EvC6lvV18aBImoN0x95AV/ysDvxMQUqnK8xOxOhnMHkzZ7lHCy7JOICJUEwZ1e4tOQZI2o7THb9ArWcbi63qyIRzL+QsL3e1UKzXTY6hxNlIiaOBvmnVKRLJnegJthS/H7e2eCMrbPQylGzNWe5Wi2ny7X2w2i8rPBQ8WAMEsOd46di2ZGAkyj/+8CztPcN89uPPUFMWWNYvG1XRqfPspMZmP50QAAAgAElEQVS9lYQVmiwXdCgeXGpRprY9z/gDejXP1f4XkJltzMWEC/e9db+DlDJvDLrU2cx76343typTiLe1asaybY5d7OAvv3qE1rtD2PNZHdOQUpJKm/QMhugZDHHkfBtbWmr4+HsfYffGBjT1nf1A82q1rCl6CV3x4lKD839hhTkZTrUTN3P7gASdjfj1ijzfWBhCZCpArodeySmT7U9ew5TpReVhSCnpip8hamSX+woUGr17siqFnIqPOu/OLAMEMvven7xOk++xBf/+BEOpVpJWKGd50NlEkaN2WT/HV3h7eKAGiACcukqx341DV1EVBcuyiacM4on05MvJtiXHL3Xw5195i89+/BmK/W/vDH4+MvFyHZ9SBuQmkuZDESqOBbjMM/H72Y/DQrf3IJBScuZaF3/wxdfoH4lkfaapCsV+NyV+D163A1VVsG2btGERTaSIxFJE4ynS5lS8PGVYnL7WRVvPML/84Sf4qcc3LtgIsaVkJBHn5sgwt0eHGYzHMGwbh6pS7HRR7fNT6w9Q5w9Q4nLP+tCUUjKWShIzJtz1E+vJAv//xHckqlAo93jRlKl9kVIynIiTtDJaH25NJzhjPJripcn/cUaTSXpjSVSRpsztQVezDVTLthlKxDHsTOJqwOEg4Jz/RScB27YZTsTpCI3SNjZKfyxKwjRRhMDvcFDh9VHvL6IuUESp241DeXAN1+4lUkqGkrdzDAPICKfdC60OgaDEUY9D9eRUqoSNXpJWGL2AnJuZGHZ8vJVDttKoRwtS592R09Ok3ruLi6PfyNJWyeiHHKbBu3tReS4Tx296ie8E5a4WNPHgmt6t8PDwQA0QRRF89LmdfPDg1sxLR1EwLZuRUIxzN7v57uGrdPZlZiBSwptnW1nfVMnPP78L9R0+210oUkoMO4Ei1Pveyno2QtEkX/jOySzjQ1MVtq2t5T37NrBxVRXFfjdOXUNRBLaUWJZNKm0yFk1yt3+UM9fvcvxSB90DoUkDdSQU5y+/doSqsgC7N9QXvG8xI83Lt27wj9cucmtkmLhpZHlkFCHQhILX4eC55hb+6/5ncGr5bxFLSj537hQv376+hCOUodzj5c+efYE6/5SCaNqy+B/H3uRETxcATzWs4refOJhlXAghOHy3k987+gaWbRN0efjDd/0ULSXZSbIjyQS/8dr36Qhl7q1Pbt3Jv9o2t/qlLSUdY6N889Y1XutopTMcIm5kJgnTzSdVUXBrOhVeL5vLKnmmaRUH6psodi3vScNMMj1bevJ8Iih21N6z33FrxTgVf44BkrQiJKyxRXlahtMdDOQJHVW6NlCk1zI9rCOEIOhsosTRkKMX0h0/T8QYWLBqLGSSacNG/gaMxY7C79EV3lk8WA+IEDTX5FYQNFSVsHVNLfu2NvMHX3yNy62ZCo60afHV1y7w2JZG1jYs3QX6TiEjx3yek0N/i0cLsq/iFxcsNDQh/rOUMVy83cOV1qlqHEUIXti/iV/60D5KAnO3064I+lnbUM6TO1voHgzxz6+d51uHLpFMZWaoQ2Mx/v57p1nXWEHAO/+sMW4Y/Nnp43zx0jkSZv4unLaUpKVFOpmgNxrBnkdldDSZ4G4kPOc6hWDYNqadfawlkqF4bHL7w4l43tHEjTTd4TCmtEmaJoaV22/DkjZ9scjktkKpubvZJk2Db9+6zufOnaJ9bHTW4yAB07aJpFNE0ilaR0f4QdtNfufAu/jIhoercaIl08TNkZzlitBw30N5fF1x41IDhIzurOWmncwxSgpBSpuOyFFSdraHUUFllf/xnJwwAJfip8H7CP3J60yP2UaMfu7GzxHQqxe8v5ZtELdy+7IoaDkCjCusMMGy0QFRFMHahnL+7Uf281t/9T0GRzNZ2n3DYb75xiV+/aWn0LV7Kxf8k4ukLXqEnsQlBCqr/E8UZICYdor26BFC6R6SVoSQ0TPez2IxI4ArbX0k01Mu7dqKIv7Fex6Z1/iYjqoqNFSV8MsffgJdVfnyK2ewxxOJLt7u4XpHP49uapx7LFLyakcrf3d5yvgQQJnHS0tJkJLx2XrcMIgZaUKpJKUez5zlggLYXVVLNJ0mZqRJmiZJ0yBhmiRNk3A6yWhyqiLBqzsIuty4NG3aHx2PplHjC+DTl4eLOmEafP78aT537tS08BI4VJWgy03Q5capaVhSEjfSRFJpwukUSdNEIklZFnFjnjbryxB7XEJ9JgoqDnX+suVCUYUjb5jFlhYpK5rnG3MTt0bzan/49WpqPFvz3mdCKDT69nB57NtZomQ2Fm2RwxmV1wWGc21MjDydgoVQMOzErN6Re4FA4FKLCg5fSSmxbBtbjktATJN/kFJmru1Umng64yF1aho+lwOHurjwopSSlGkRTWVCykKAQ9XwOnUcmoYybZtSjksTyMw7URWLaCUgJYZlEzcMkoaBZUuEAF1RcTt0XJqGqsy/3eljAVDH5REK+X1rvOpxgtn2ZdkYIJDxkGxpqeb5vev5+++fntzxt8618aGD21hdV7riyisIgV+vHG/y5C64fNCwE5wZ/keGUq0stfmTbUuGx7If6E3VQSoWWdnkcup86OBW3jh7m7v9mYdmPJnmcmsfj2ycu7wvbhp87caVyRejAJ6oa+TXH32ctcEynONhDVtmXqBJ00CSeenOhiIEH1q3kRfXbsCWEsO2MWwL07YxLIsftt/md468jjV+Eb+vZR2/vOsxHKqKrijoiprRvhEKisjcnG83lm3zjRtX+T/TjA+HqrK3toEX125gS3klxU4XmqIgJaRti3AqRU80zJXBAU71dXN5sD/rgfqwYEkTS+bmfwihoOXxIiwWgYKSd3sSK0e8a24mtD/G0ndzPqvzbs8rbDhB0NFIuWstnTOMl4HkDUZSHVS6NizoPrWlhS3zed8MDg/8xT3tdzMTVeg8WfWrWY0858KwLP7i0Amu9w9S4ffx6888TrHbhWHZXOzu5ZWrt7jSM8BILI4lJV6ng+bSEp5a28yBNc0UuwurwpNSMhSN8/rNNt681UHX6BixtIEAvE4H1QE/uxtreWb9ahqCxShC0D0W5k9+fJRIKsWBNc18dPfWguqiJl76nSNjHG/v4kxnN3dHQoSTKdKWhSIEbl2j2OOmMVjM1toqdjXW0hgsntWoGIzG+KPXjjAaz0xCn9u4hg9u3zTPOCCcTPH5w6e4PTgMgK6q/MzOzexvacpZf1kZIJDJEXh+7wZ+cOz6pBdkYDTKobO3WVUbXDFACmRj0fMUO+rQhYsq99wXzQS64uGx8k+RsiI5n5W71i54DDNPlUNXUZTFn7+KoI+WurJJA0RK6B4Yw7Ilmjr7dnsiEa4PD07+u8rr5z/sPcCmsoqc68mpaQSc83sjxLjRMGGizPxGmSd7Bhlwuqj1B5bty1lKyfWRIf7q3Emi48aHW9P4xR2P8oktOylyOvPee5VeH2uCpRyob+ITpklHaBT3LHkzyxtJPqN7oi3kvSSfZ02SOQcLwZIGbZHDOaqjunDT7MsvbDi5jpJZpyt2ZrypYYaEFaIjepwK1/oFCYaJWdeW492M7x+q0DHtwo03y5acv9vL8fYu/E4HH9y+kcZgMX9z9AxfO3dl8oU7net9g7x2vZXdjbX82jOPs7mmcs57WUrJlZ5+/uCHb3H+bg+GlRvOvt43yKFb7Xzt3GV+4YlHec/mtVztHeCVq7dIWxZVAX/mmijAUzEQifEPpy7wnUvX6QtFJic++TjZcZevn79Cc2mQP/3ZF1hVlr+CLpE2ONbWSV848x5uKZ+/XUDKNPmbo2f44vFzGOOGzwtb1rO1tirv82PZPSmEEDRWB9m5ro5XjmcS/KSUvHm2lRef3EJp8b1zh/6kkpHe9tPs27ug72mKY0lleNNRFUFVaWC8ziPDcChOyjAXHUpTFAWve4aeSsqY98E9EI8STk2FQzaXV7CmZMWbNh3TtvnKtUt0hTNllAJ4ce1GfmH7bjz6/LNXIQQeXWdj2cOZq6Wg5i1vl0hknpn94pE51SqQeYEvtPokZPTk1f4IOpuocK2b8/oWQlDn2YFPLyNi9GeN7070BFtKXsxSbp4PIdRFVc+83URTaY62dfK1c1f45vmrmLadmYS4nOiqStoyCScyXoS0ZXG0rZOhaIz//uJzbKrOncBA5n3VE4rwu99/g/N3p3LgvA4HlQEffpcT07IYjScYisVpGxrl937wBpFUiu6xMOk8eVyzIaWkdWiE//GDQxxr68xKqleFwKGp6Kqa8VhaFqZlYUmJZUsGozGSRq7Xb7GYls03zl/h70+cm8xFe7Spjl97Zh9F7vzhsWV5xeiawtOPrOH1M7dIG5kdae8d5lJrL0/uXL3y4nhI2NJSjdftIJrIzKg7ekdo7x5m8+qFJ7kBGKbFaDg7zuzQ1HnnaTEjnTUjKPf65gyvvBPpjUY41Nk+aSxWen18bNM23Nq9Cz8sZxSh5Q0TSGljyHunKmxLE8tO5ywXQkyqKBdCRjb+DDFzeOaWaPA+gkstyvu96QQcVVS7N88wQGA03Ul/4hrNvn0F36cK6n3pTFwwi3wnSODvjp8jkTZQFMG717Xwvi3raS4rwa3rxNMGV3sH+KczF7lwtw9bSm4ODPOnrx/lDz74PCWe3H2WwPcu3+BS91Tey7baKn7pwB42VJfj1nVsWxJKJrl4t49/PnuZs109/Nnrx3AscHI2EInx+z84xNHWO5P3rt/lZE9THftWNdJYWozHoWNLSTxl0BMKc3NgaDLEdK+wpeSt2x38xZsniKUzoe7V5UF+8937qQ74Z72OlqUBIoRg65oamqqD3OzMuM6TKZPXT99i39YmHPr9GbaUEtOyiSbGNSiM8YQhXcPnceJ1OdDUeysRP/GbsUSaaDxFatwidWgqPo8Tn8d5z3/zQSCEYNOqah7b0sRrJ28igbFIgi985yT//mMHqV6gwJyUkmvt/VzvmBJbEkBNedG8JdqWLbNUV/WHpOfQg+TK0AA9kanQ247KalaXvHNCnqrQ83ZWtaRJyoogpbwnx8KU6bzJrqpw5PR3mou0HaM9eiQrfALgUgM0+fYUFD5R0Fjle4LWyJtYcipx2JQp2iJv0eh7FJXCDFBVyX/8AHxaBc570BvItFOEjd481XkCdQmvslAiiUNV+cRjO/nXTzyCz5ktW7CmopTdjbX89suvcaQ102vneHsXr167zYd3bs65LuKpNIdvd0xOeoJeN5997gA762uy1i3xZvIx9q5q4M8PHeerZy8TThYeSjItmy+dPM+xts5J42NNRSm/9vTj7FvVgCtP6wopJbaURFNpusfC1JXMb6jOh5SSS919/D8/epPBSObarvT7+Oy7D7BhFi/RBMvSAAFw6lqOu/3s9bvcHQixqnbpraunY0vJ0GiUU1e7OHnlDq13hxiLJkinLRDgcmgU+90015SyZ3MjO9fXU1HiW1I+g5SZvignr3Ry/FIHbd3DhKLJjAEiM/kSxX43q+vK2Le1iUc2NVLizwhR2VLy6ombXLqd0S1wOTU+dHAr1WX5L6ZYIsU/v3qe4dCUxbt5dTXv2rO2oKzmyeNkS7575Ao370zlU1QG/Xzo6a14XLmzR49L5xc+uJfhUIwLN3uwpeTohXb+UzjOe5/YyObV1RT73KiqkjWBkeP/Y9uSlGEyEopxtb2fbx26xMg0D4jH7WD72hWFxaUipeTK0ABpO/MyE8CWiiqc6rJ9PNxzFKHlTdqUWERmKIwuhZQVJZGn3NahePEsQAZ9KNXKYPJWzvIK11qCzsK6ZQshqHJvpEivZSTdkfVZd/wC4XQvJc6GgsajoOHXK/N+tj34YdYXPVvQduZiKNnK97r/S44Bp6CiKUurItteX80n9u7E78rdjhCC2uIA/+bJPVzvG2Q4FidtWrx8+QbPbVpLYMZ3Iqk0veGpiqZVZUHWVZbPUpEkKPN5+bdP7aVtaISTHbkJxfmQUtI+PMJ3Ll2fNHSqAj5+6z1P80jj7M/Eidy1Irdr1rDIQpBS0jkS4vdfeZO2oUyuj9/p4FcO7uXxlsZ5c96W5RNGSsnNzkFudQ1lLR8cjXLi8h2aa+7NzExKSSJl8PrpW3zl1fPc7hrCMPPH3/qGI1zvGODVkzdprgnyoYNbefax9XjdCxf5siyb45c7+MJ3TnK9vT9L7XM6A6NRbnYO8tqpm2xtqeFTH9jDjrV1GJbN949e5ciFdgD8XidP7miZ1QBJpEy+d/QaHT1TOgfxZJpnHl1YYqkkY0C8dmrqwbeusYL37t+Y1wCZyOf5z//qOb78gzO8fvoWo+E4V9r6uN4xgN/rxOd2omtqjgd1wjOUSpvEk2niKSOrrAtg94Z6Nq5amL7JCrnYUnI3MiWhrSoKtb7l3QLhXiNQKHE0QFbWUoaRdAcSGzFHUmehRMz+vEneXq0MV4HVara0aY8czXkRCxSafHsznW8LxKMFqffuzDFAouYgd+PnChYRywicNZPv+MXNUZzK7G74QlGEipS5yZya4lyQ9yh3u4JnN6zJG06ZQAjBxuoKdjXU8MNrmW7JN/uH6BweY3NttuFljudaTOB1OLJUjnO3DaVeNx/YtoEznT1YdmH6S8faOukfN3QE8IFtG9nZUPPA7lspJSPxBH/02mHO381MhnVV4WN7tvPClvVz7vMEy9IAsW3JaydvEI1nu6NsKTl09jYv7N+E37M0i3fCA/H5bxzjB8euk0gVpl1gmBY3Owf5oy8f4sKtHn7pp/dlki0LPOmWbfPqqZv88ZcPMRzKdcXmIz0uQd41MMavfvQAW1tq6BlcugDWg0AIQV1FEb/+0pO8/8BmfnTiBt86dIlIPMVYJMFYZHE6I2sbyvn0i3vxud++Pjc/KZi2TWSGONmVoYHFhtUBqPb52VlVg7qE7qoPEiEEZa7VaMKZ01F2ONVOyori1pbmrpZSMpC8mVO1AlDuWl1wDkjcHKYzdipnuVcro96zc0H97BSh0uTby7XQK1kGjcSmLXKYdYF3FayDUuZsxqF4cgyj4VQ7ljSW1JNKSkncHM0KFU3gUotmDf8Ugs/pYEtt5bzPcJem8UhTHa9eb8WWknAyyc2BoRwDxKXreBxT+zoQiRJLp3HNkToghGBTdSUBlzNvFc5M0pbFqTvdk0mnRR4X71q/+oGW88fTBp978ySvXm/N6JYIwXs3r+cTe3fhLDCXZVkaID1DIY5e6pj893Sb+uadAW509LNrARLcM5FSMhKO80dfPsRrp25mzaw1VaG82Ed1WQC/N2PkhGNJeofCDI3FMMfLqVKGySvHrhOOJfnsx5+hqnR+C19KyY07A/zVV4/kGB+aqlBe4qO2vAifx4ltSyLxJH3DEYbGYhimRf9whD/9x7d46fmdBRsvywEhBLqmUlbiZXA0miVOtlC8bgePbGzg0x94jDUN+d2aKywMG5mlxGraNn994fQi+7JmeLZ5DVsrqh6qFgpBRwN+vSKnW20o3c1wqp1adduSrjfDjnM3dpaZHgJV6JluuwWU+0op6UlcylFSBajxbCGgVy2ofBag3LWGUucqehOXspYPJG8ylGqj2p2b55CPIr2WYkdtjiz8SLqDqDm4ZEn7kXRH3l49xY5anMric0yK3S7K/fMbWUIIVpUFcWoqCcPEsiXtw6M5+UEBt5N1lWWTOhjtQ6O8cbONF7dtnDPk7Xc58TkdBRkgsVSarpEpr2VtUYD6kqL7+jzsD0cJJZIEXE4M2+YfT1/kK2cvYdo2AnisuZ5ffXrvgkI7y84AsaXk6MUO+oamZvhrGyu41TmYSZ5JpHnzXCvb19XNqf0wF8m0yd++fJIfn7o1aXwIoLm2lA8e3MpjmxspK/ZOJrumDJOhsRjHLnbw9dcvcKd3dHKsxy528NffPMZnfv5gTs7KTAzT4huvX6RnMLtjZFmxl48+u5Mnd66mvMSHQ1OR4787Eopz/kY3X3/jItfa++kbDvP5bxybrCx5WLBtyddeu8CrJ29gTVfIEwKXU8eh56oMZnqNZD4PFnlY21DBvq3NbFtTs6jQ18OMzKNRca9QEDkN7BbStTgf93O89wu3FqTGsy3HAEnbMdqib1Lt2VRwUuZMJrwfg3l6tgT0aqrcGwu6ni2Zpj1yJMcToApHRvtjEaJpTsVHk28PfYnLWectZUfpiB7PjK2A8JNTDVDv2cVA8hbTjayYMcTd2FmK9MWHBww7QW/8cs5ygaDavXlJQmdepwOvo7DvF7tduHSdxHixwHA0ji1llufBoaq8b+sG3rrdQTiZUQn+0x8fI542eGbdasr9U40npx8PRYiCdYKiqTThaUrLlQEfbsf9rVj74bVbJAyDT+3bTfdYmM8fOTVZxru2sozffPd+qgILC4UtOwMkHE3y2smbky8pl0PjmUfX0jsUJhzLHPDjl+7w0eci1MyS8zAXE5oiL791JSvWtmtDPb/xsYM015TmJJfqmorP7aShsoSd6+v4f//+dc7fzMxAbCn50Ykb7FhXx3ue2DjnBdQ7FObE5TtZj+Yin4vP/PxBDu5qyZktTvxufWUxuzbW86f/eIhDZ1qJxBemmLgcCMWSHD7flmV8rK4r48WntrCusQK/x5l3tqwKgcOh4XU5cDt1lAIkhH8SKSQunF9Ka340RSHgyA5p1vj8FBfQMXeCgXiMocRUgrAqZpemWq4oqKz27+dW+HXSdrYsemvkMGsCz1DlKsxQmIlhJ7g89m1S9ky5dUGz7/E5VUunM5a+S88MTwVkvACFeipmIoRCg/cRLox8bYZomKQzdpKtJR/Ep88/PkUoNPuf4FroFeLWVL6Zjcm10Cs0+R7Dp5cveHxSSvqT1/M23HOrxdR5dizpmeAclyYvBJeuoU97TiWMjFz7dPNMCMHeVfV8at8uPn/4NLF0mv5IlP/5wzf58qkLrK8sp6WilEp/RhPEpWk4NZVoKk1qlnzAmaRMM0vczOd0LqigYDGkTYtXr7dy/m4vli0Zi2fex5UBH7/57v2sq1q4R3pZGSATDcxu3JnKOi8v8bF3cyNvnLnN1bZMXXX3YIgzV7uo3r/wRLmRUJx/+tE5YtM8CPWVxfzaS0+yqnZucaqJfjW/9tKT/Kc//y7d456MZNrkq6+dZ8/mRspLZncF3u4aYmiGPPnTu9dwYMeqOV3VQghqygL825/ZT/dAaLI0+WEinkxPGpAAfo+Tz7z0FLs3rnTKLISUZc3rlbDGZeBzmMcqUYSgLjBlzCsIPr55Bz+3aWvB4/uz08f46wtnJv/t1R3LVvV1NiaqQuq9O2mNvJn1Wcwc4tTQ3/F01W/i1RYmYmdJg2uhH9ARPZ7zWUCvZl3Ru/OKoM1ESpvO2Km8TfPqvbvxLEA4bCbFjnoq3Rtojx7NWj6a7qI3cZkW7cmC9rnMuZpm/z6ujH2X6RfeYPIG50e/yp6yTxbcs2WCpBXiwujXchruAdR5d1LinLsX1Hxkdquw8ylmGNbTu0NPx6lpfGLvLmqKA3zpxHmu9w+RMk3ah0ZpHxqFK1PdpFUl4/kQiFkbZRayD/fzbtNVhUca6zjb1cNQdGqiEXA5+XcH97J3VcOi7vdlFaBNmxavnriRlRC6sbmKxpogW1umWkQbpsUbZ2+TLDBxdAIpJaeudmYZOKqi8OJTW2ipK8x6E0KwrrGCF/Zvyjrgt7uGOHW1c1ZVTiklbT3DkzkkkOlvcmBnS0HKoEIIaiuKed+Bzffd0r0fuB06XvfULNvjclBZQN7MChkSpjFLp1s56TZP2xbxPA+wjMz31L9nPiiEEKwvLUdXxnviIOmNRfDpDoqcrnn/+HRHVgM6QSYJdTn0t1kounCzteSDeNTcl3lX7AxHBz9HxOwvSDZdSolhJ7k69j1ODf/fnORTVehsKX4fJY76gsaWsqO0R4/l6GA4FC9N3r0F5ZDMhiaceeXbLZmmLXo4b/JnPjL79AECenXWchuLK6Pf4dzIV0hZ0YKPX9IKc2r47+mM5ibdutViNhW/gCaWVpBgWHbBIUfDsrK8kQ5NRZnl1e/SNV7Ysp4//7n38z8/9Dw/t3sruxpqqS8pIuhx43M6xoUUBaZtkzJNCo18OlQNbdqkNZ42srzL9xop4cXtG/nZXVuyPED7VjXw3MaFyTlMZ1l5QDp7Rzl9rWvy37qm8tiWJpy6xqObGvjWoUuTxsnl272094wsqAzTMG0OnWvNKrWtDPo4sGP1gjQ9FCF4clcLX//xBQbHPRpp0+Lw+Tbe9ejaWYXSJnrbTFDkdVFfWVy42qAieHRTA6VFHgZGF9458+2kyOdi94Z62rqHkDIjSnbzzsCC9v+dTCiVImEa+Gf0qYml05MzsLRlMRDLTU62bDtL42PC0JjOhtIyKr1e7kYyuVcX+vsYSyUpdc9fmZEwDdrGplz3DlVlfenDmSCc8YJsYkvJ+zk9/KWsF6/E5lb4dcJGH1tLPkidZwcutShnViylxJAJRlJ3uDL2Mrcjb+TpKi1o8u1jQ/HzBXk/AAaTt8YbRWZT6lxFuWtpCtFCCGo82/DpFYSN3qzPeuOXCBs9BJ1NBW0n6GxmZ/AjHB74q6yKIkMmOTP8ZYZT7Wwpfh/lrrU4FG9esSzDjjOQ/P/bO9PgOM47vf/e7rkvDIABBhdxECAB8BTv+5BkrWRrJVlaHymvN1bsza433iTOumLHm8pWKrWuXW/l2I0dx1FVVLZrvfYqlr22JVuSJVEkRYkUJRAEL4DEQRAXcc99d7/5MMAQQwCDAW9a8/vAD4OZ7p6eZvf/fd/n/zyX6Jh+kcvhE/PEpwKF1qLH8tbO5CKaSJJIpZif6DSfUDydfD2L22rJuXyjzPh8/E5rEw+3NBJNJAnE4oTiCSKJBImURlLTSGo6k+EI337r3Uz2Si7sZiMO8zXdyngwTCyVWraTar5oUkdB8MV9O/BFY7zUkfYfOdk/yCvnLvLUxtZ5OrJ8uGcKkNkW2+KfQdIAABqSSURBVLndHVUeFw80p01VWurLWeF1Z5YffKEoR9t7aan35l08TPrDdF3ONhVqriunonR5LVxCCKrLimhc4ckUIAAXr4wzFYgsuD1dynkzNnarCZtlecIhb4mTGq/7vitAVFXhEw9vpKN7mAt9o8STKb738ntUlRfRUpf/b/hhZSoaYSIaodx+bYlPl5KhYCAzetN0nc7JcZ6QLVmzHKFkgujMDIUiBC7zfMFdldPF7upaXuhMC/26piY4NtjPE00tOW/wUkq6pibomrrm2VPtdLG27P7MhAFQhYH1xU/jT4zQFXg9y21UonM1eo6JWDfFplrKrc0Um2qxqm6EUEhoYQLJkZlioZuo5l9wH5XWtewq+wJmJb97jy41eoPHFoi8F9Q7dmK6iS6QWZxGL9W2jQT82QVIODXJlfD7FJvq8nrYK0KhuegRphMDnPH9HH1OyrAmE/QEDzMQ/gCPeSVlllUUmaqxqE5AkNBC+JPD6Q6cWM+Cyy4gqLNvZ2PJJ1BuwSMsEIvji8TwOHJ3wkgpGfIFMsJLIci780QIgUEInBbzgmZnkE6f/d6715Yxc23VYTZT7XZxaSzdaTPkC3DVH8Rpvk3ifAmhRAK3zcKfPbyXaDLF6xe6mQxH+a+/OUpS03hm01rMywyivGcKkOlAhMNt3VlTUNvW1uKd0VQUO21sX1uXKUCkhGOne/nkww9QUpRf//zIRICpQPYIcXVdOSbj8is3i8lAU00Zx8/0Z16b9IcZnQouWIBIybwpMlVVlr1uZjEZqSoroq0zP8e8ewUhBLUVxXz1Dx7i7358hI7uYS72j/Ofn3uFj+5uxaAoxFMaBlWhyG6h0uOiptxNeYljxqjsw12g+OIxTo9epXXOzEI4meDM+LUcDwkcHx5gKhbFMzNzIaVkIOAnmEhrnlRFodw2/2FlUlR+r2Utb/T3MhmNEE0lee7USZpLylhdsrDmQUqJPx7nex1tTMfSI3wBfKS+kUrHjRtD3QuYFQc7y76AJpP0BA/PC5BLyTjj8UuMxy+RnQUrl+gAElRa17Lf+28oMubv4htOTTAYaZv3ulV1U2vfmt+XWgIFlQbHbi4FDmUtF0l0+kLv0Fr0WN6W6gZhYWvpZ2f0L7+et4ST0EMMRzsYjnYw9/zJJaXUghrbA+wp/yI2tfiW3Bf8sRiXJ6dpLMttcKlJyenBkUzLutVopKk8P/FwPiRTWpYINdeyhtmg8kBNJYcvpvObJsMR3um9QlN56W3RgkjSrb9CCMqddr7+6AGklLzR2YMvGuNv3zhGUtP51Jb1Of1OrueeKECklHxwYYC+OU6ddquJg3M6QxRFsGdjA/90+EzGoOzy8BRneobZv2np6UcpJSMTAeJzPChUVaHKc2MGNrMGW8qMNTpALJ5kbCr/mQkx59/89wvlOYSu9zJCCFbVlvHUgfVcHpnCF4xyeXiK7774DswRcylKOsWxpMjG+qYqHt+zhk3NNZhNuS9XKSU6ct796/oHQroYzN1Vkp5W54ZucHIRYdrN8qPzHWyqqGR1iQddSt7q76Nj7FrgldNk5sLEOD86d5pnN2zGYTQRSMR5qbuLuJa+7l0mc5bgdBYhBJu8VXy6dR3Ptb9PStc5NzHG1w69ype27GBrZTUukzlTMMe0FH2+aZ4//QGv9HZnttNUXMqnWzdguE8MyBZDCIHdUMo+75ewG0s57/vVghkuaZYqOtKowsRKxx62lz2L21iT97UlpWQo0oE/OTzvbxXW1rzdSpdCCIF3ZnsT8e6sv03EuhmPdVNty88LRQiBRXWxq+wPsRmK6Zj+GbEFLOjT5Hv+jKx07GVH2edvqqX3ehIpjSPdl9m/qiHnEsawL8C7vddatGvcRTQuEmW/XNIJuoEsDxC3zZLzO+5urOMHJ04xFY6iS8lP2s6yr6mOlZ7bk+EUjqcHMUIIKlwO/vyxgwjg9c4e/LE43zr0DglN47PbN2Ix5jezf08UINF4kt+cuJhJvgVoqStnTUNF5kQKIVhdV8aqFR5OdaVbYGOJFIfe72bX+vwC6qYCkaxZCIOi4HbabvjHKnbZUBSBrqW3qc8YnN1uHDfpAns3kFISjib44Ssf8OIbp/GFoll/m4uuS2KJFMPjAYbHA7xzuo+P7VnDs09sp8S1+O/lj8f5TtsJJqLZD4rhYABtjoXzscF+/v2hV3Ieb7XDxRc3b8e+RBR9NJWkfXSEyWgUfzzGdCyKLxbl/MT4TXtpzCKARxtW0TY6zJde/SXbKqtJ6TpHBi4TSqZvChbVwB8/sI0Xu87xnbYTnBwZosFdzGX/NO8OXdNVNRWXssK5cNFtVBS+sHErAwE/v+q5iCYl7WMjfPn1l1lVXEpjcSlFZgtJXWMw4Of85Dhj4VDm0VFmtfGV7XtocN+akendRgiBzVDMTs/nqbSuo2P6Z4xGLyzoZJoLBRW3uZb17idZ7Xp4Qd1DLmbD4eYuZaS3a6DBseemRZhzSc+obJvRmmR7gvSFjlFlW5+3Jb0QArPqYEvpZ/BaWjk9/SLDkTPznGaX3A4qxaYa1rmfpLnoI5gUxy2/vt7o7OGh5pXsb2qYtxwspSSaTPLD99q5POkD0kuZDzY34HEsPvsupWQsGCKe0qgscmJYJAQzvf0UPz99gdDMQ96gKNSXFi86PBVC0Oz18FBzIy+2nUUCPeOT/NWrh/nqI/tpKitBWWQGRUpJPJUCxLJmK+aK4OcWIYoQvHahm2A8wXcOHyepaXxu52ZsefiS3PUCRErJpYFxTl+65uynKIKHtq2eZ+zlsJrZ+8BK2i8OZZZq2joH8gqok0A0lm3eJUQ6yO1GMZsM6YtVm/0u8/dxO8ina+ZeI5HU+Ptfv8/f//r9rELTYjJQU+6masYBNplKMToVon9kCn8ofaMKRuL85I12AuEYf/b7B3HZFx4ZRFNJXu29RH/Al/NYenxT9PjmtzLOZY2nnM9v3IJ9if9DY+EwXzv0akaLcTtmPoyqyscaV1PrKuK59pMLHvvmiio+vWY9dpORbx4/ypGByxwZuJz1Hotq4OOrW3GaFn5gCSEosVj5j3sexGY08ctLnURSScLJJO1jV2mfM9uS9TmgrsjNV7bv5SMNTfdd++1SGBQzKx17qbJuYDByit7gUcZiFwmnJtFkYsF0VkUYsChOSs0NNDj3UO/YidNQjriBmaFQcoxgchS7Ifse5zCU5z0jkS8ChQbHLnpDb8/Tm0zG+4hpAWyG4mVtUxVGau3b8FpbGYq00xM8wmi0M6/zV2Kup8Gxi3rHblxG7w2dvyWPT1GYjkT5xq/fYnRPiH2r6im2WTEqCglNZ9gf4IX3z/D/2s5kBhX1pcU8uSG371NS0/nukfd4p/cKOxtWsKepjtXlHkrsViwGI4qAeEpj2B/kxVNneelMZ+azFUVO1lXltoc3qSqf27mZM0NX6RqdQALHuvv5t76XeGrDGnatXEGFy5mxRY8mU4wGQpwbGeV43wA7Glbw+9vyv36uv7cJIfC6HHz9sYNI4DcXuokkkjx39CRJTePzu7diNxlzbv+uFyC6Ljn0fjf+OSPiilIXO9YtLHjasbaOf3B9kEl2TQfUXc4roO76EakQN2dqJZhvtnSrRr0593vLbjh3xq1ytv35J2+czio+VteW8c9/dzubVlfjclhQhUCSXsrqGZrkx6+1caSth5Smo+mS19/roqG6lM9+dOuCLrgOk4mnVrfSPjrCcCjARCRCOJkgmWe4042gS0lc0zKJlLcDh9FEg7uYbVU1DAYDvNp7KdPVoghBa2kZX9m+B4/Vxidb1nE1FOKH508TSiSytvHp1vU83tSc8/oRQuC12flPew6yo6qGH5/v4PzEOOFkYt7VogqBx2pjf20Dn1u/idbSsvuyRTwfhBBYDUU0OQ/Q4NhNJDWJPzmMPzlMODlJQg+hSx2DYsamFuMyVeI2VuM0ejEqNz7LCuAwlvNY9V/MW6ZQhWleUXKzCCEotzbzZM1fz9O9KKh5a0AW2q5FdbLSsZc6+w4iqSn8ySH8iWHCqQniehiQGIQFm8GN01iJ21SNw1CO6SbP31Ksr/KiKgptV4b4xitvUX3cRVWRC6vRQDiRpH9ymquBUObe7rKY+eN922gozT3T1zsxxZtdvYwGQ/RP+fin0xcotVvxuhy4rVZURRCMJbgy7WN0zvYNisKTG1qocec22hRC0FhWwn949AB/+atD9ExMIUlbv//PQ+/wvXfNFNus2GdE58FYHF80RigWR5OSsWCYx9c15wzhW4q5mhCA1y90E00mef6dD0ikNL64bzv2HMLYu16AjE4Febu9N0t8unNdHZULaDNmhYzrGis53JZuR9N0yeG2Hh7fuxaXfXGDGwHzxKa6lIum3+ZD6jpzKAGYlzGldTdJaXrePec3SySW5KeHOrKMyFZ43fz5v3iE1ob5Vb7RoLJxVRV1FcVomp75rZMpnV8cPsvBLU3UV85fe3WazHx5227iqRSBRJzxSJgrAR/HBq/wwoUzmUJkV/UKnmhqyXnMJRYrNsPSU4geq42v79qf5YOxEK2e8mWpfQyKyrMbNvPoylU4TCZqXW7sRiP/Zf/DHKxt4P2rQ2i6TqunnIfqVlLrSqvx7UYTX96+m53VK3h7sJ+paBSv3c6u6lq2VdZgy2NtVgiBw2Tm6dVreKhuJZ2TE5ybGKXf7yMQj6MqAo/VzqqSUtaXeakvKl62+v1+Jd3NYMJlqsRlqmQFW277Po2KhaKbzFFZDqow4jJVLv3GG+Da+avAZapghf32n7+lcNssfOnATv7b629zsn/wmlnYAnhdDv5k/w4+urZ5yc69eCpFdbGLYDxOJJEknkox7A8y7F+osyeN3WTkiQ2t/MGOTVk+H4uhCMGOhhX8zTOP8b+PnOCd3itEEml3Vl80hi+6+HJXz/gk50fG2L2y9qZbuL1zl2POXyKWTPGDE6dIajpfOrADp8W84D7u6l1DSsnxs/0MjV2bMnfYzDy0bdWiJ99sMrB/cyPHTvdlTL26+sfo6h9ja2stuc6jy27JCrbTdTkvcXc5BCPxLDGjEAK388aryTtJJJbIywzoVnDl6jRne6619gkh+NieNbTULz7FOHsuP/XIJt6/MJBxrh2ZDNDWOUhdxcKjD0UIrEYjVqMRr93BWk85LSVlHOrvZTiU/o+/usTDZ9ZuvCXfzWk28/HVa27JtuZiUBQerFs57/Vii5VnmtfwdHN6n7NnYK5WymowcrC2gQO1DQu+J1+EELgtVnZU1bCjqiZr/H2j2yxQ4F4jkdJoKivlm08/xs/az/GbC90M+gJEE0mklGlBvN3G1rpqPrV5PetrKvKKmt9QXcH/+mdPcmboKke7L3N68CpXA0FC8QRJTUPKmawrgwG3zcqaynI+tq6Z3Y21eQ0UZlGEYE1lOX/18Uc5cXmA1y/0cHZ4lIlQmFgylenaMagKFoOBYpuV2hI3W+uqqS9x3/B5m0tmJuSxAxgUhff6B0HCm109lNitfG7npgWFqXe1AAnHElm5LwCt9V5al3gwbWquodLjYmA0XbiEowkOt/WwublmUUtzIQQetwODQc3MeqQ0jbHp0Lw0w3yQUnJ1Moicc+wmo4rHfX90qPiCURJJLS/x7s3SOzSZNfthsxjZ3FKz5AhCCEFjjYcqj4tLA2mfCU3T6bw8iq6vQ80jjFAIQYXDSWNxSaYAud+Z7dC52fcsZ39we62eCxS4WyQ1DR1JudPOv9y7jU9sXsewL8hUJN204DCbqCxy4nU5MKn5WwIIISi2WdnXVM/uxjpCsTgT4QgToQjheAKJxKQaKLKaKXPYKbHbMN+g5YCY8Rh5uLmR/U0NTEeijIfC+CJRYqkUYkZwWmS1UGq34bZaMBsNt1SvJYSgzGHnLx5/iOlIFEn6nmFQFAwLmB/CXSxApJSc773K+b5rwjZVVXho26oluzy8JU62tq7IFCAAJ85eZmx6y4JLN7NUlbmwW034gtGZY0g/HDVdLjtZN6Xp9A1NXhcsZ825/3uJcV8Yfyi6rI4aKcmkB88iBEuGjo1NB7M+ZzMbKS1aOv4a0sVKaZE9U4AATPjCpDQ976h3q8HAlopqjg70L/3mAgUKfKjQZbp1XwiR1jU57Euaki2HWRMyt82K22alqezW6nau35fJoOJ1OfC67vxgeLYQWsxs7XrummIspem8/t7FrFC4Ko+LnYuIT+diUBX2bWrEar42pTM05ueDzoGcywreEhfVZdnCns6+UQKh622Sl2Y6EOHilWxX1fqqEjzuW3fh3k6m/GF6hyaXtQyT0jTC13X5GA3qkjMZ8rqiRZkJYMoHIcS8rp+Upi877n2ztwprHpqOW4WUkkgyyWg4RDARv2PLXQUKFFgehf+Zd4+7VoAMjvo4cTZ7RLpjXV1etuhCCNasrKBujhAxpem89UE3sURq0c85bWY2t9RkvdZ/dYqzPVeX9YCQUtJ+cSiThgvptbyd6+qyiqJ7mVgixdH23qxwvKUIReLz8mwcVvOSTrJOuyVLm5NIpbICB3Ohafq8osdpMy2r20IIQVNxCRX2OzMikFIyEPTz1UOv8Jmfv8C/fu0lOsaWd40VKFCgwG87d6UA0aXkaHsvo1PX1uTtVhMPbVud97S622Fl94b6rNfOdo/QNzS56GcURXBwS1OWUDQSS/LiodMEwrG8ExqnAhF+eqgjq6W0qqyIvQ+svK9EeUdP9XK+N78Ho5SSC32jXJ3M1lHUlBct6UtS6XFlvSccTTA45s9rv/5QLMtdVgioqyzJSyE+F4/NzmfWbuCTLevY5L09Cv+5/OJiJy93d9Hjm+KtK338n/aTxBdIsy1QoECBDyt3pQDxBaO8+f6lLF3AmoYKWuryD7ASAvZsbMhqvZ0ORni7vRc9h+/D6tpyDmxuzBqRnzx3hX945QOi8WTOh6KU6a6Z7790ko5L12yRVVXhd/eupab81iiK7xST/jDf/ek7SxYDs0XXi2+ezpq5MKgKaxsrlxQy1VeWZIlzE0mNI209WQXcYvtt6xzMKlQdVjObW5ZvPW1UFP5w41b+5sFHeWpV67I+eyMMBv1ZU7tDwQCxVH6zPgUKFCjwYeCOFyBSQselYXrmiAoNqsKDW5vmOZ/mQgjByupSmucULVLCsY4+poOLazpMRpVPP7Ipy0cipen86LVTfPuFo/QNT5G6zhtEzviFXBoY57//8C1+duh01tLFpuZqnti/9r5KdJ19gJ/qHOQv/+9rHD/bv2BrrqbrXLk6zbf+8SjvnbuS9beKUhcbmpbOZCgvcbJtTW3Wa0dOdXPog0uLLgFJKekZnODHr7VlebXsWFdHa7037+85y6zp3M2az+VLbZE7S5pbYXd+aLwybgYpJVLqaDJJUo+S0KMUVukLFPjt5I7fERPJFK8d7ySevKbVqCorYue6+mU/GGwWE/s3raStcyDTyts3NMmZ7mEObG5acHvpwsXDv/rEXr75/TeY8KdzQ2LxJC++2cGx9j7Wr6qkua6cEpcNKWHcF6Krf4yz3SOMT4eyboeNNR7+9FP7KC1aXr7D3URRBI/saKa9a4jRqSCnugbpHhinpd7LusYKqsqKMBlVAuE4l66M09Y5yNB49iyJqgge291CZdnSmh2jQeGZB9dz8vwVhmd0M4FwnP/xw7foGZzk4JYmvCVOzEaVlK7jD0Zp6xzkJ2+ezipUFSGIJ1O8/PY5vKVOPG4HxU4r5SXOZS/J3G6eWtVKn2+acxNjeG12/uiBrVjUQgEyF11qjEYvEEyNEdeCRDU/Mc1PTAuS0MMktDARbZrEvAj6AgUK/DZwR++IUkp6hydp68qOkt+1vp4Kz/Lju4UQbFtbh8ftyEzTzwbU7d6wclFxpKII9j6wkngyxbdfOJrRNUgpGZkMMDIZ4LXjXUvsO+1Z8u8+czCnb8m9iMVk4Ml969jauoJv/eNRAuEYwUick+evcPL8lSU/L4Rgx7p6nnlwQ15i0HSQYDl/9PQu/u5HhzMzVNPBKD94+T1+dqiDUrcdi8lAStPxBSLzggNhRjt0qpejp3rTpjpmIzXlRfz1nz5BVVlu2+I7iRCCKoeTbxx4hEgyiVlVsRgM99U1cidI6TGOTzzPUOQ0hVmOAncKIQQeh42qovQzx2O35zSw/LCiKgpelzOzxO6yLu40fqPc0QJEl5IjbT1Mz0mMddjMHNzSdMMZEtVlRWxcXZVVMJzqGmRo3EdD1eL91qqq8PC21ZS67Xz/l+/R1jW4pCZhFpvFxIHNjTz7xHbqK29P9PHtxGW3UlnmYuPq9PLJ8784zvD4YlHZ2ZiMKvs2NfInv7cnby8PSF/Mj+xoxqAqPP+LE/QNT81Mt0MgHMsyKsuHlKZnunJuxk7/diGEwKSqmNT7LzjwTiFhJuG1UHwUuHOYDCpfe/RAZhbebDDkHR//YaLC5eBvP/l4xu07X2+P5XBHC5BQJE7/yBT1cwqD5tqynJbcS2EyqnxkezN9Q1MZy1lVEfQNTS5ZHKiqwubmGppqPLx75jKvn7jIxStj+IJRkiktMwJXFYHJaKDEZWN9UyW/s7OFzS01WM25k/7mIoDyEgcNc1J7q8vdebl5Xk+R3ZK1HYfVhNm0+E+pqoIV5e7MsTbVeCh2WjEZDTy+N22J/vLb5zh+pp/RqSDxZApd05Gklz0MBgWX3UJjjYfHdrWwf1MjDtvC3v65MBrSv1Vrg5ffnOjiaHsvQ6N+wrHETDbNzPlWFSwmA8VOG8YlWnyLHdb7Mh24QIECdwdlxrGzQG4Mqkpl0fJXJpaDkHfQnEDTdcLRRFaAm8mgLutBvhCpVNoga+4XsRgNmE35T3tLKUkkNcanQwyN+xmfDqX9J2S6Rdhb4qS6vIiyYgcGVbkh6/ZoPElizmhdVRTsFtOyxKuzxxlNXOuoUBDYrKZFdRC6LglH45nEVoOa3u/c76DpOlP+CINjPq5OBgiG4+i6xGI24nHbqS4roqLUieUmf6u53yMYiTMyEWBkIsBUIEI8kURR0sVOlcdFpceFKUdhBembid26PF+QAvcGST3GifHnmUxcXvZny8yNbPc8i0G59aOyAgUK3Bn+Pz8ZCoE1G5oyAAAAAElFTkSuQmCC\" y=\"-30.917187\"/>\n",
       "   </g>\n",
       "   <g id=\"text_1\">\n",
       "    <!-- Most Frequent words in TOP 1000 rated movies -->\n",
       "    <defs>\n",
       "     <path d=\"M 66.703125 0 \n",
       "L 66.703125 45.90625 \n",
       "Q 66.703125 48.390625 66.75 50.96875 \n",
       "Q 66.796875 53.5625 66.890625 55.71875 \n",
       "Q 67 58.203125 67.140625 60.546875 \n",
       "Q 66.453125 58.0625 65.71875 55.609375 \n",
       "Q 65.09375 53.515625 64.328125 51.140625 \n",
       "Q 63.578125 48.78125 62.84375 46.875 \n",
       "L 45.0625 0 \n",
       "L 38.53125 0 \n",
       "L 20.515625 46.875 \n",
       "Q 20.21875 47.609375 19.890625 48.578125 \n",
       "Q 19.578125 49.5625 19.203125 50.65625 \n",
       "Q 18.84375 51.765625 18.46875 52.90625 \n",
       "Q 18.109375 54.046875 17.78125 55.171875 \n",
       "Q 16.9375 57.765625 16.15625 60.546875 \n",
       "Q 16.21875 57.8125 16.3125 55.125 \n",
       "Q 16.40625 52.828125 16.453125 50.3125 \n",
       "Q 16.5 47.796875 16.5 45.90625 \n",
       "L 16.5 0 \n",
       "L 8.203125 0 \n",
       "L 8.203125 68.796875 \n",
       "L 20.453125 68.796875 \n",
       "L 38.765625 21.09375 \n",
       "Q 39.109375 20.125 39.59375 18.578125 \n",
       "Q 40.09375 17.046875 40.53125 15.421875 \n",
       "Q 40.96875 13.8125 41.328125 12.375 \n",
       "Q 41.703125 10.9375 41.84375 10.15625 \n",
       "Q 42 10.9375 42.390625 12.40625 \n",
       "Q 42.78125 13.875 43.28125 15.484375 \n",
       "Q 43.796875 17.09375 44.28125 18.609375 \n",
       "Q 44.78125 20.125 45.171875 21.09375 \n",
       "L 63.140625 68.796875 \n",
       "L 75.09375 68.796875 \n",
       "L 75.09375 0 \n",
       "z\n",
       "\" id=\"LiberationSans-77\"/>\n",
       "     <path d=\"M 51.421875 26.46875 \n",
       "Q 51.421875 12.59375 45.3125 5.796875 \n",
       "Q 39.203125 -0.984375 27.59375 -0.984375 \n",
       "Q 22.078125 -0.984375 17.71875 0.671875 \n",
       "Q 13.375 2.34375 10.375 5.765625 \n",
       "Q 7.375 9.1875 5.78125 14.328125 \n",
       "Q 4.203125 19.484375 4.203125 26.46875 \n",
       "Q 4.203125 53.8125 27.875 53.8125 \n",
       "Q 34.03125 53.8125 38.5 52.09375 \n",
       "Q 42.96875 50.390625 45.828125 46.96875 \n",
       "Q 48.6875 43.5625 50.046875 38.421875 \n",
       "Q 51.421875 33.296875 51.421875 26.46875 \n",
       "z\n",
       "M 42.1875 26.46875 \n",
       "Q 42.1875 32.625 41.234375 36.625 \n",
       "Q 40.28125 40.625 38.453125 43.015625 \n",
       "Q 36.625 45.40625 33.984375 46.359375 \n",
       "Q 31.34375 47.3125 28.03125 47.3125 \n",
       "Q 24.65625 47.3125 21.9375 46.3125 \n",
       "Q 19.234375 45.3125 17.328125 42.890625 \n",
       "Q 15.4375 40.484375 14.421875 36.46875 \n",
       "Q 13.421875 32.46875 13.421875 26.46875 \n",
       "Q 13.421875 20.3125 14.5 16.28125 \n",
       "Q 15.578125 12.25 17.453125 9.859375 \n",
       "Q 19.34375 7.46875 21.90625 6.484375 \n",
       "Q 24.46875 5.515625 27.484375 5.515625 \n",
       "Q 30.859375 5.515625 33.59375 6.46875 \n",
       "Q 36.328125 7.421875 38.234375 9.8125 \n",
       "Q 40.140625 12.203125 41.15625 16.25 \n",
       "Q 42.1875 20.3125 42.1875 26.46875 \n",
       "z\n",
       "\" id=\"LiberationSans-111\"/>\n",
       "     <path d=\"M 46.390625 14.59375 \n",
       "Q 46.390625 10.890625 44.9375 7.984375 \n",
       "Q 43.5 5.078125 40.765625 3.09375 \n",
       "Q 38.03125 1.125 34.046875 0.0625 \n",
       "Q 30.078125 -0.984375 24.953125 -0.984375 \n",
       "Q 20.359375 -0.984375 16.671875 -0.265625 \n",
       "Q 12.984375 0.4375 10.203125 2 \n",
       "Q 7.421875 3.5625 5.53125 6.125 \n",
       "Q 3.65625 8.6875 2.78125 12.40625 \n",
       "L 10.546875 13.921875 \n",
       "Q 11.671875 9.671875 15.1875 7.6875 \n",
       "Q 18.703125 5.71875 24.953125 5.71875 \n",
       "Q 27.78125 5.71875 30.140625 6.109375 \n",
       "Q 32.515625 6.5 34.21875 7.453125 \n",
       "Q 35.9375 8.40625 36.890625 9.984375 \n",
       "Q 37.84375 11.578125 37.84375 13.921875 \n",
       "Q 37.84375 16.3125 36.71875 17.84375 \n",
       "Q 35.59375 19.390625 33.59375 20.40625 \n",
       "Q 31.59375 21.4375 28.734375 22.1875 \n",
       "Q 25.875 22.953125 22.46875 23.875 \n",
       "Q 19.28125 24.703125 16.15625 25.734375 \n",
       "Q 13.03125 26.765625 10.515625 28.4375 \n",
       "Q 8.015625 30.125 6.453125 32.609375 \n",
       "Q 4.890625 35.109375 4.890625 38.875 \n",
       "Q 4.890625 46.09375 10.03125 49.875 \n",
       "Q 15.1875 53.65625 25.046875 53.65625 \n",
       "Q 33.796875 53.65625 38.9375 50.578125 \n",
       "Q 44.09375 47.515625 45.453125 40.71875 \n",
       "L 37.546875 39.75 \n",
       "Q 37.109375 41.796875 35.9375 43.1875 \n",
       "Q 34.765625 44.578125 33.109375 45.4375 \n",
       "Q 31.453125 46.296875 29.375 46.65625 \n",
       "Q 27.296875 47.015625 25.046875 47.015625 \n",
       "Q 19.09375 47.015625 16.25 45.203125 \n",
       "Q 13.421875 43.40625 13.421875 39.75 \n",
       "Q 13.421875 37.59375 14.46875 36.203125 \n",
       "Q 15.53125 34.8125 17.40625 33.859375 \n",
       "Q 19.28125 32.90625 21.921875 32.203125 \n",
       "Q 24.5625 31.5 27.734375 30.71875 \n",
       "Q 29.828125 30.171875 32.03125 29.5625 \n",
       "Q 34.234375 28.953125 36.296875 28.09375 \n",
       "Q 38.375 27.25 40.203125 26.09375 \n",
       "Q 42.046875 24.953125 43.40625 23.34375 \n",
       "Q 44.78125 21.734375 45.578125 19.578125 \n",
       "Q 46.390625 17.4375 46.390625 14.59375 \n",
       "z\n",
       "\" id=\"LiberationSans-115\"/>\n",
       "     <path d=\"M 27.046875 0.390625 \n",
       "Q 25.046875 -0.140625 22.96875 -0.453125 \n",
       "Q 20.90625 -0.78125 18.171875 -0.78125 \n",
       "Q 7.625 -0.78125 7.625 11.1875 \n",
       "L 7.625 46.4375 \n",
       "L 1.515625 46.4375 \n",
       "L 1.515625 52.828125 \n",
       "L 7.953125 52.828125 \n",
       "L 10.546875 64.65625 \n",
       "L 16.40625 64.65625 \n",
       "L 16.40625 52.828125 \n",
       "L 26.171875 52.828125 \n",
       "L 26.171875 46.4375 \n",
       "L 16.40625 46.4375 \n",
       "L 16.40625 13.09375 \n",
       "Q 16.40625 9.28125 17.640625 7.734375 \n",
       "Q 18.890625 6.203125 21.96875 6.203125 \n",
       "Q 23.25 6.203125 24.4375 6.390625 \n",
       "Q 25.640625 6.59375 27.046875 6.890625 \n",
       "z\n",
       "\" id=\"LiberationSans-116\"/>\n",
       "     <path id=\"LiberationSans-32\"/>\n",
       "     <path d=\"M 17.53125 61.1875 \n",
       "L 17.53125 35.59375 \n",
       "L 55.90625 35.59375 \n",
       "L 55.90625 27.875 \n",
       "L 17.53125 27.875 \n",
       "L 17.53125 0 \n",
       "L 8.203125 0 \n",
       "L 8.203125 68.796875 \n",
       "L 57.078125 68.796875 \n",
       "L 57.078125 61.1875 \n",
       "z\n",
       "\" id=\"LiberationSans-70\"/>\n",
       "     <path d=\"M 6.9375 0 \n",
       "L 6.9375 40.53125 \n",
       "Q 6.9375 42.1875 6.90625 43.921875 \n",
       "Q 6.890625 45.65625 6.828125 47.265625 \n",
       "Q 6.78125 48.875 6.734375 50.28125 \n",
       "Q 6.6875 51.703125 6.640625 52.828125 \n",
       "L 14.9375 52.828125 \n",
       "Q 14.984375 51.703125 15.0625 50.265625 \n",
       "Q 15.140625 48.828125 15.203125 47.3125 \n",
       "Q 15.28125 45.796875 15.296875 44.40625 \n",
       "Q 15.328125 43.015625 15.328125 42.046875 \n",
       "L 15.53125 42.046875 \n",
       "Q 16.453125 45.0625 17.5 47.28125 \n",
       "Q 18.5625 49.515625 19.96875 50.953125 \n",
       "Q 21.390625 52.390625 23.34375 53.09375 \n",
       "Q 25.296875 53.8125 28.078125 53.8125 \n",
       "Q 29.15625 53.8125 30.125 53.640625 \n",
       "Q 31.109375 53.46875 31.640625 53.328125 \n",
       "L 31.640625 45.265625 \n",
       "Q 30.765625 45.515625 29.59375 45.625 \n",
       "Q 28.421875 45.75 26.953125 45.75 \n",
       "Q 23.921875 45.75 21.796875 44.375 \n",
       "Q 19.671875 43.015625 18.328125 40.59375 \n",
       "Q 17 38.1875 16.359375 34.84375 \n",
       "Q 15.71875 31.5 15.71875 27.546875 \n",
       "L 15.71875 0 \n",
       "z\n",
       "\" id=\"LiberationSans-114\"/>\n",
       "     <path d=\"M 13.484375 24.5625 \n",
       "Q 13.484375 20.40625 14.328125 16.90625 \n",
       "Q 15.1875 13.421875 16.96875 10.90625 \n",
       "Q 18.75 8.40625 21.53125 7 \n",
       "Q 24.3125 5.609375 28.21875 5.609375 \n",
       "Q 33.9375 5.609375 37.375 7.90625 \n",
       "Q 40.828125 10.203125 42.046875 13.71875 \n",
       "L 49.75 11.53125 \n",
       "Q 48.921875 9.328125 47.4375 7.109375 \n",
       "Q 45.953125 4.890625 43.453125 3.09375 \n",
       "Q 40.96875 1.3125 37.234375 0.15625 \n",
       "Q 33.5 -0.984375 28.21875 -0.984375 \n",
       "Q 16.5 -0.984375 10.375 6 \n",
       "Q 4.25 12.984375 4.25 26.765625 \n",
       "Q 4.25 34.1875 6.09375 39.328125 \n",
       "Q 7.953125 44.484375 11.171875 47.703125 \n",
       "Q 14.40625 50.921875 18.703125 52.359375 \n",
       "Q 23 53.8125 27.875 53.8125 \n",
       "Q 34.515625 53.8125 38.984375 51.65625 \n",
       "Q 43.453125 49.515625 46.15625 45.71875 \n",
       "Q 48.875 41.9375 50.015625 36.8125 \n",
       "Q 51.171875 31.6875 51.171875 25.734375 \n",
       "L 51.171875 24.5625 \n",
       "z\n",
       "M 42.09375 31.296875 \n",
       "Q 41.359375 39.65625 37.84375 43.484375 \n",
       "Q 34.328125 47.3125 27.734375 47.3125 \n",
       "Q 25.53125 47.3125 23.109375 46.609375 \n",
       "Q 20.703125 45.90625 18.65625 44.09375 \n",
       "Q 16.609375 42.28125 15.1875 39.171875 \n",
       "Q 13.765625 36.078125 13.578125 31.296875 \n",
       "z\n",
       "\" id=\"LiberationSans-101\"/>\n",
       "     <path d=\"M 23.640625 -0.984375 \n",
       "Q 13.578125 -0.984375 8.890625 5.796875 \n",
       "Q 4.203125 12.59375 4.203125 26.171875 \n",
       "Q 4.203125 39.9375 9 46.875 \n",
       "Q 13.8125 53.8125 23.640625 53.8125 \n",
       "Q 26.90625 53.8125 29.421875 53.21875 \n",
       "Q 31.9375 52.640625 33.90625 51.484375 \n",
       "Q 35.890625 50.34375 37.375 48.625 \n",
       "Q 38.875 46.921875 40.09375 44.625 \n",
       "L 40.1875 44.625 \n",
       "Q 40.1875 45.84375 40.25 47.328125 \n",
       "Q 40.328125 48.828125 40.40625 50.140625 \n",
       "Q 40.484375 51.46875 40.578125 52.421875 \n",
       "Q 40.671875 53.375 40.765625 53.515625 \n",
       "L 49.21875 53.515625 \n",
       "Q 49.125 52.6875 49 49.171875 \n",
       "Q 48.875 45.65625 48.875 39.109375 \n",
       "L 48.875 -20.75 \n",
       "L 40.09375 -20.75 \n",
       "L 40.09375 0.6875 \n",
       "Q 40.09375 1.953125 40.109375 3.3125 \n",
       "Q 40.140625 4.6875 40.1875 5.90625 \n",
       "Q 40.234375 7.28125 40.28125 8.6875 \n",
       "L 40.1875 8.6875 \n",
       "Q 38.921875 6.203125 37.375 4.375 \n",
       "Q 35.84375 2.546875 33.84375 1.34375 \n",
       "Q 31.84375 0.140625 29.328125 -0.421875 \n",
       "Q 26.8125 -0.984375 23.640625 -0.984375 \n",
       "z\n",
       "M 40.09375 27.046875 \n",
       "Q 40.09375 32.8125 39.09375 36.71875 \n",
       "Q 38.09375 40.625 36.25 42.96875 \n",
       "Q 34.421875 45.3125 31.8125 46.3125 \n",
       "Q 29.203125 47.3125 25.984375 47.3125 \n",
       "Q 22.609375 47.3125 20.21875 46.0625 \n",
       "Q 17.828125 44.828125 16.328125 42.265625 \n",
       "Q 14.84375 39.703125 14.125 35.765625 \n",
       "Q 13.421875 31.84375 13.421875 26.46875 \n",
       "Q 13.421875 21.1875 14.078125 17.28125 \n",
       "Q 14.75 13.375 16.234375 10.828125 \n",
       "Q 17.71875 8.296875 20.09375 7.046875 \n",
       "Q 22.46875 5.8125 25.875 5.8125 \n",
       "Q 28.8125 5.8125 31.390625 6.71875 \n",
       "Q 33.984375 7.625 35.90625 9.984375 \n",
       "Q 37.84375 12.359375 38.96875 16.484375 \n",
       "Q 40.09375 20.609375 40.09375 27.046875 \n",
       "z\n",
       "\" id=\"LiberationSans-113\"/>\n",
       "     <path d=\"M 15.328125 52.828125 \n",
       "L 15.328125 19.34375 \n",
       "Q 15.328125 15.484375 15.890625 12.890625 \n",
       "Q 16.453125 10.296875 17.71875 8.703125 \n",
       "Q 19 7.125 21.0625 6.46875 \n",
       "Q 23.140625 5.8125 26.21875 5.8125 \n",
       "Q 29.34375 5.8125 31.859375 6.90625 \n",
       "Q 34.375 8.015625 36.15625 10.078125 \n",
       "Q 37.9375 12.15625 38.90625 15.203125 \n",
       "Q 39.890625 18.265625 39.890625 22.21875 \n",
       "L 39.890625 52.828125 \n",
       "L 48.6875 52.828125 \n",
       "L 48.6875 11.28125 \n",
       "Q 48.6875 9.625 48.703125 7.78125 \n",
       "Q 48.734375 5.953125 48.78125 4.3125 \n",
       "Q 48.828125 2.6875 48.875 1.515625 \n",
       "Q 48.921875 0.34375 48.96875 0 \n",
       "L 40.671875 0 \n",
       "Q 40.625 0.25 40.578125 1.3125 \n",
       "Q 40.53125 2.390625 40.453125 3.78125 \n",
       "Q 40.375 5.171875 40.328125 6.609375 \n",
       "Q 40.28125 8.0625 40.28125 9.03125 \n",
       "L 40.140625 9.03125 \n",
       "Q 38.875 6.734375 37.359375 4.875 \n",
       "Q 35.84375 3.03125 33.84375 1.734375 \n",
       "Q 31.84375 0.4375 29.25 -0.265625 \n",
       "Q 26.65625 -0.984375 23.25 -0.984375 \n",
       "Q 18.84375 -0.984375 15.671875 0.09375 \n",
       "Q 12.5 1.171875 10.453125 3.421875 \n",
       "Q 8.40625 5.671875 7.453125 9.1875 \n",
       "Q 6.5 12.703125 6.5 17.625 \n",
       "L 6.5 52.828125 \n",
       "z\n",
       "\" id=\"LiberationSans-117\"/>\n",
       "     <path d=\"M 40.28125 0 \n",
       "L 40.28125 33.5 \n",
       "Q 40.28125 37.359375 39.71875 39.9375 \n",
       "Q 39.15625 42.53125 37.890625 44.109375 \n",
       "Q 36.625 45.703125 34.546875 46.359375 \n",
       "Q 32.46875 47.015625 29.390625 47.015625 \n",
       "Q 26.265625 47.015625 23.75 45.921875 \n",
       "Q 21.234375 44.828125 19.453125 42.75 \n",
       "Q 17.671875 40.671875 16.6875 37.625 \n",
       "Q 15.71875 34.578125 15.71875 30.609375 \n",
       "L 15.71875 0 \n",
       "L 6.9375 0 \n",
       "L 6.9375 41.546875 \n",
       "Q 6.9375 43.21875 6.90625 45.046875 \n",
       "Q 6.890625 46.875 6.828125 48.5 \n",
       "Q 6.78125 50.140625 6.734375 51.3125 \n",
       "Q 6.6875 52.484375 6.640625 52.828125 \n",
       "L 14.9375 52.828125 \n",
       "Q 14.984375 52.59375 15.03125 51.515625 \n",
       "Q 15.09375 50.4375 15.15625 49.046875 \n",
       "Q 15.234375 47.65625 15.28125 46.21875 \n",
       "Q 15.328125 44.78125 15.328125 43.796875 \n",
       "L 15.484375 43.796875 \n",
       "Q 16.75 46.09375 18.265625 47.953125 \n",
       "Q 19.78125 49.8125 21.78125 51.09375 \n",
       "Q 23.78125 52.390625 26.359375 53.09375 \n",
       "Q 28.953125 53.8125 32.375 53.8125 \n",
       "Q 36.765625 53.8125 39.9375 52.734375 \n",
       "Q 43.109375 51.65625 45.15625 49.40625 \n",
       "Q 47.21875 47.171875 48.171875 43.625 \n",
       "Q 49.125 40.09375 49.125 35.203125 \n",
       "L 49.125 0 \n",
       "z\n",
       "\" id=\"LiberationSans-110\"/>\n",
       "     <path d=\"M 57.328125 0 \n",
       "L 47.125 0 \n",
       "L 38.671875 34.078125 \n",
       "Q 38.28125 35.40625 37.859375 37.359375 \n",
       "Q 37.453125 39.3125 37.0625 41.15625 \n",
       "Q 36.578125 43.3125 36.140625 45.609375 \n",
       "Q 35.6875 43.40625 35.203125 41.265625 \n",
       "Q 34.8125 39.40625 34.34375 37.40625 \n",
       "Q 33.890625 35.40625 33.5 33.890625 \n",
       "L 24.8125 0 \n",
       "L 14.65625 0 \n",
       "L -0.140625 52.828125 \n",
       "L 8.546875 52.828125 \n",
       "L 17.484375 16.9375 \n",
       "Q 17.828125 15.828125 18.15625 14.1875 \n",
       "Q 18.5 12.546875 18.84375 10.984375 \n",
       "Q 19.1875 9.1875 19.578125 7.28125 \n",
       "Q 19.96875 9.125 20.40625 10.890625 \n",
       "Q 20.796875 12.40625 21.1875 13.96875 \n",
       "Q 21.578125 15.53125 21.875 16.546875 \n",
       "L 31.453125 52.828125 \n",
       "L 40.875 52.828125 \n",
       "L 50.09375 16.546875 \n",
       "Q 50.4375 15.28125 50.828125 13.671875 \n",
       "Q 51.21875 12.0625 51.5625 10.640625 \n",
       "Q 51.953125 8.984375 52.34375 7.28125 \n",
       "Q 52.734375 9.125 53.125 10.890625 \n",
       "Q 53.46875 12.40625 53.828125 14.03125 \n",
       "Q 54.203125 15.671875 54.546875 16.9375 \n",
       "L 63.875 52.828125 \n",
       "L 72.46875 52.828125 \n",
       "z\n",
       "\" id=\"LiberationSans-119\"/>\n",
       "     <path d=\"M 40.09375 8.5 \n",
       "Q 37.640625 3.421875 33.609375 1.21875 \n",
       "Q 29.59375 -0.984375 23.640625 -0.984375 \n",
       "Q 13.625 -0.984375 8.90625 5.75 \n",
       "Q 4.203125 12.5 4.203125 26.171875 \n",
       "Q 4.203125 53.8125 23.640625 53.8125 \n",
       "Q 29.640625 53.8125 33.640625 51.609375 \n",
       "Q 37.640625 49.421875 40.09375 44.625 \n",
       "L 40.1875 44.625 \n",
       "Q 40.1875 45.125 40.15625 46.171875 \n",
       "Q 40.140625 47.21875 40.109375 48.359375 \n",
       "Q 40.09375 49.515625 40.09375 50.53125 \n",
       "Q 40.09375 51.5625 40.09375 52 \n",
       "L 40.09375 72.46875 \n",
       "L 48.875 72.46875 \n",
       "L 48.875 10.890625 \n",
       "Q 48.875 8.984375 48.890625 7.21875 \n",
       "Q 48.921875 5.46875 48.96875 4 \n",
       "Q 49.03125 2.546875 49.078125 1.484375 \n",
       "Q 49.125 0.4375 49.171875 0 \n",
       "L 40.765625 0 \n",
       "Q 40.671875 0.484375 40.59375 1.390625 \n",
       "Q 40.53125 2.296875 40.453125 3.46875 \n",
       "Q 40.375 4.640625 40.328125 5.9375 \n",
       "Q 40.28125 7.234375 40.28125 8.5 \n",
       "z\n",
       "M 13.421875 26.46875 \n",
       "Q 13.421875 21 14.109375 17.09375 \n",
       "Q 14.796875 13.1875 16.3125 10.671875 \n",
       "Q 17.828125 8.15625 20.171875 6.984375 \n",
       "Q 22.515625 5.8125 25.875 5.8125 \n",
       "Q 29.34375 5.8125 32 6.9375 \n",
       "Q 34.671875 8.0625 36.453125 10.578125 \n",
       "Q 38.234375 13.09375 39.15625 17.140625 \n",
       "Q 40.09375 21.1875 40.09375 27.046875 \n",
       "Q 40.09375 32.671875 39.15625 36.546875 \n",
       "Q 38.234375 40.4375 36.421875 42.828125 \n",
       "Q 34.625 45.21875 32 46.265625 \n",
       "Q 29.390625 47.3125 25.984375 47.3125 \n",
       "Q 22.75 47.3125 20.40625 46.1875 \n",
       "Q 18.0625 45.0625 16.5 42.578125 \n",
       "Q 14.9375 40.09375 14.171875 36.109375 \n",
       "Q 13.421875 32.125 13.421875 26.46875 \n",
       "z\n",
       "\" id=\"LiberationSans-100\"/>\n",
       "     <path d=\"M 6.6875 64.0625 \n",
       "L 6.6875 72.46875 \n",
       "L 15.484375 72.46875 \n",
       "L 15.484375 64.0625 \n",
       "z\n",
       "M 6.6875 0 \n",
       "L 6.6875 52.828125 \n",
       "L 15.484375 52.828125 \n",
       "L 15.484375 0 \n",
       "z\n",
       "\" id=\"LiberationSans-105\"/>\n",
       "     <path d=\"M 35.15625 61.1875 \n",
       "L 35.15625 0 \n",
       "L 25.875 0 \n",
       "L 25.875 61.1875 \n",
       "L 2.25 61.1875 \n",
       "L 2.25 68.796875 \n",
       "L 58.796875 68.796875 \n",
       "L 58.796875 61.1875 \n",
       "z\n",
       "\" id=\"LiberationSans-84\"/>\n",
       "     <path d=\"M 73 34.71875 \n",
       "Q 73 26.65625 70.671875 20.0625 \n",
       "Q 68.359375 13.484375 63.96875 8.796875 \n",
       "Q 59.578125 4.109375 53.21875 1.5625 \n",
       "Q 46.875 -0.984375 38.8125 -0.984375 \n",
       "Q 30.328125 -0.984375 23.921875 1.671875 \n",
       "Q 17.53125 4.34375 13.28125 9.109375 \n",
       "Q 9.03125 13.875 6.875 20.40625 \n",
       "Q 4.734375 26.953125 4.734375 34.71875 \n",
       "Q 4.734375 42.78125 6.984375 49.265625 \n",
       "Q 9.234375 55.765625 13.578125 60.328125 \n",
       "Q 17.921875 64.890625 24.296875 67.359375 \n",
       "Q 30.671875 69.828125 38.921875 69.828125 \n",
       "Q 47.125 69.828125 53.484375 67.328125 \n",
       "Q 59.859375 64.84375 64.171875 60.25 \n",
       "Q 68.5 55.671875 70.75 49.171875 \n",
       "Q 73 42.671875 73 34.71875 \n",
       "z\n",
       "M 63.484375 34.71875 \n",
       "Q 63.484375 40.921875 61.890625 46 \n",
       "Q 60.296875 51.078125 57.203125 54.6875 \n",
       "Q 54.109375 58.296875 49.515625 60.25 \n",
       "Q 44.921875 62.203125 38.921875 62.203125 \n",
       "Q 32.765625 62.203125 28.125 60.25 \n",
       "Q 23.484375 58.296875 20.375 54.6875 \n",
       "Q 17.28125 51.078125 15.734375 46 \n",
       "Q 14.203125 40.921875 14.203125 34.71875 \n",
       "Q 14.203125 28.515625 15.796875 23.359375 \n",
       "Q 17.390625 18.21875 20.484375 14.484375 \n",
       "Q 23.578125 10.75 28.1875 8.671875 \n",
       "Q 32.8125 6.59375 38.8125 6.59375 \n",
       "Q 45.265625 6.59375 49.921875 8.6875 \n",
       "Q 54.59375 10.796875 57.59375 14.53125 \n",
       "Q 60.59375 18.265625 62.03125 23.4375 \n",
       "Q 63.484375 28.609375 63.484375 34.71875 \n",
       "z\n",
       "\" id=\"LiberationSans-79\"/>\n",
       "     <path d=\"M 61.421875 48.09375 \n",
       "Q 61.421875 43.609375 59.9375 39.71875 \n",
       "Q 58.453125 35.84375 55.5 32.984375 \n",
       "Q 52.546875 30.125 48.09375 28.46875 \n",
       "Q 43.65625 26.8125 37.75 26.8125 \n",
       "L 17.53125 26.8125 \n",
       "L 17.53125 0 \n",
       "L 8.203125 0 \n",
       "L 8.203125 68.796875 \n",
       "L 37.15625 68.796875 \n",
       "Q 43.265625 68.796875 47.796875 67.3125 \n",
       "Q 52.34375 65.828125 55.375 63.109375 \n",
       "Q 58.40625 60.40625 59.90625 56.5625 \n",
       "Q 61.421875 52.734375 61.421875 48.09375 \n",
       "z\n",
       "M 52.046875 48 \n",
       "Q 52.046875 54.546875 48.046875 57.9375 \n",
       "Q 44.046875 61.328125 36.03125 61.328125 \n",
       "L 17.53125 61.328125 \n",
       "L 17.53125 34.1875 \n",
       "L 36.421875 34.1875 \n",
       "Q 44.484375 34.1875 48.265625 37.75 \n",
       "Q 52.046875 41.3125 52.046875 48 \n",
       "z\n",
       "\" id=\"LiberationSans-80\"/>\n",
       "     <path d=\"M 7.625 0 \n",
       "L 7.625 7.46875 \n",
       "L 25.140625 7.46875 \n",
       "L 25.140625 60.40625 \n",
       "L 9.625 49.3125 \n",
       "L 9.625 57.625 \n",
       "L 25.875 68.796875 \n",
       "L 33.984375 68.796875 \n",
       "L 33.984375 7.46875 \n",
       "L 50.734375 7.46875 \n",
       "L 50.734375 0 \n",
       "z\n",
       "\" id=\"LiberationSans-49\"/>\n",
       "     <path d=\"M 51.703125 34.421875 \n",
       "Q 51.703125 24.515625 49.828125 17.75 \n",
       "Q 47.953125 10.984375 44.703125 6.8125 \n",
       "Q 41.453125 2.640625 37.0625 0.828125 \n",
       "Q 32.671875 -0.984375 27.6875 -0.984375 \n",
       "Q 22.65625 -0.984375 18.3125 0.828125 \n",
       "Q 13.96875 2.640625 10.765625 6.78125 \n",
       "Q 7.5625 10.9375 5.734375 17.703125 \n",
       "Q 3.90625 24.46875 3.90625 34.421875 \n",
       "Q 3.90625 44.828125 5.734375 51.640625 \n",
       "Q 7.5625 58.453125 10.78125 62.5 \n",
       "Q 14.015625 66.546875 18.40625 68.1875 \n",
       "Q 22.796875 69.828125 27.984375 69.828125 \n",
       "Q 32.90625 69.828125 37.21875 68.1875 \n",
       "Q 41.546875 66.546875 44.765625 62.5 \n",
       "Q 48 58.453125 49.84375 51.640625 \n",
       "Q 51.703125 44.828125 51.703125 34.421875 \n",
       "z\n",
       "M 42.78125 34.421875 \n",
       "Q 42.78125 42.625 41.796875 48.0625 \n",
       "Q 40.828125 53.515625 38.921875 56.765625 \n",
       "Q 37.015625 60.015625 34.25 61.359375 \n",
       "Q 31.5 62.703125 27.984375 62.703125 \n",
       "Q 24.265625 62.703125 21.4375 61.328125 \n",
       "Q 18.609375 59.96875 16.671875 56.71875 \n",
       "Q 14.75 53.46875 13.765625 48.015625 \n",
       "Q 12.796875 42.578125 12.796875 34.421875 \n",
       "Q 12.796875 26.515625 13.796875 21.09375 \n",
       "Q 14.796875 15.671875 16.71875 12.375 \n",
       "Q 18.65625 9.078125 21.4375 7.640625 \n",
       "Q 24.21875 6.203125 27.78125 6.203125 \n",
       "Q 31.25 6.203125 34.03125 7.640625 \n",
       "Q 36.8125 9.078125 38.734375 12.375 \n",
       "Q 40.671875 15.671875 41.71875 21.09375 \n",
       "Q 42.78125 26.515625 42.78125 34.421875 \n",
       "z\n",
       "\" id=\"LiberationSans-48\"/>\n",
       "     <path d=\"M 20.21875 -0.984375 \n",
       "Q 12.25 -0.984375 8.25 3.21875 \n",
       "Q 4.25 7.421875 4.25 14.75 \n",
       "Q 4.25 19.96875 6.21875 23.3125 \n",
       "Q 8.203125 26.65625 11.390625 28.5625 \n",
       "Q 14.59375 30.46875 18.6875 31.203125 \n",
       "Q 22.796875 31.9375 27.046875 32.03125 \n",
       "L 38.921875 32.234375 \n",
       "L 38.921875 35.109375 \n",
       "Q 38.921875 38.375 38.234375 40.671875 \n",
       "Q 37.546875 42.96875 36.125 44.375 \n",
       "Q 34.71875 45.796875 32.59375 46.453125 \n",
       "Q 30.46875 47.125 27.59375 47.125 \n",
       "Q 25.046875 47.125 23 46.75 \n",
       "Q 20.953125 46.390625 19.4375 45.4375 \n",
       "Q 17.921875 44.484375 16.984375 42.84375 \n",
       "Q 16.0625 41.21875 15.765625 38.71875 \n",
       "L 6.59375 39.546875 \n",
       "Q 7.078125 42.671875 8.4375 45.28125 \n",
       "Q 9.8125 47.90625 12.328125 49.796875 \n",
       "Q 14.84375 51.703125 18.625 52.75 \n",
       "Q 22.40625 53.8125 27.78125 53.8125 \n",
       "Q 37.75 53.8125 42.765625 49.234375 \n",
       "Q 47.796875 44.671875 47.796875 36.03125 \n",
       "L 47.796875 13.28125 \n",
       "Q 47.796875 9.375 48.828125 7.390625 \n",
       "Q 49.859375 5.421875 52.734375 5.421875 \n",
       "Q 53.46875 5.421875 54.203125 5.515625 \n",
       "Q 54.9375 5.609375 55.609375 5.765625 \n",
       "L 55.609375 0.296875 \n",
       "Q 53.953125 -0.09375 52.3125 -0.28125 \n",
       "Q 50.6875 -0.484375 48.828125 -0.484375 \n",
       "Q 46.34375 -0.484375 44.5625 0.171875 \n",
       "Q 42.78125 0.828125 41.65625 2.171875 \n",
       "Q 40.53125 3.515625 39.9375 5.484375 \n",
       "Q 39.359375 7.46875 39.203125 10.109375 \n",
       "L 38.921875 10.109375 \n",
       "Q 37.5 7.5625 35.8125 5.515625 \n",
       "Q 34.125 3.46875 31.875 2.03125 \n",
       "Q 29.640625 0.59375 26.78125 -0.1875 \n",
       "Q 23.921875 -0.984375 20.21875 -0.984375 \n",
       "z\n",
       "M 22.21875 5.609375 \n",
       "Q 26.421875 5.609375 29.5625 7.140625 \n",
       "Q 32.71875 8.6875 34.78125 11.078125 \n",
       "Q 36.859375 13.484375 37.890625 16.3125 \n",
       "Q 38.921875 19.140625 38.921875 21.734375 \n",
       "L 38.921875 26.078125 \n",
       "L 29.296875 25.875 \n",
       "Q 26.078125 25.828125 23.171875 25.40625 \n",
       "Q 20.265625 25 18.0625 23.78125 \n",
       "Q 15.875 22.5625 14.578125 20.359375 \n",
       "Q 13.28125 18.171875 13.28125 14.59375 \n",
       "Q 13.28125 10.296875 15.59375 7.953125 \n",
       "Q 17.921875 5.609375 22.21875 5.609375 \n",
       "z\n",
       "\" id=\"LiberationSans-97\"/>\n",
       "     <path d=\"M 37.5 0 \n",
       "L 37.5 33.5 \n",
       "Q 37.5 37.359375 37.015625 39.9375 \n",
       "Q 36.53125 42.53125 35.375 44.109375 \n",
       "Q 34.234375 45.703125 32.375 46.359375 \n",
       "Q 30.515625 47.015625 27.828125 47.015625 \n",
       "Q 25.046875 47.015625 22.796875 45.921875 \n",
       "Q 20.5625 44.828125 18.96875 42.75 \n",
       "Q 17.390625 40.671875 16.53125 37.625 \n",
       "Q 15.671875 34.578125 15.671875 30.609375 \n",
       "L 15.671875 0 \n",
       "L 6.9375 0 \n",
       "L 6.9375 41.546875 \n",
       "Q 6.9375 43.21875 6.90625 45.046875 \n",
       "Q 6.890625 46.875 6.828125 48.5 \n",
       "Q 6.78125 50.140625 6.734375 51.3125 \n",
       "Q 6.6875 52.484375 6.640625 52.828125 \n",
       "L 14.9375 52.828125 \n",
       "Q 14.984375 52.59375 15.03125 51.515625 \n",
       "Q 15.09375 50.4375 15.15625 49.046875 \n",
       "Q 15.234375 47.65625 15.28125 46.21875 \n",
       "Q 15.328125 44.78125 15.328125 43.796875 \n",
       "L 15.484375 43.796875 \n",
       "Q 16.65625 46.09375 18.015625 47.953125 \n",
       "Q 19.390625 49.8125 21.21875 51.09375 \n",
       "Q 23.046875 52.390625 25.40625 53.09375 \n",
       "Q 27.78125 53.8125 30.90625 53.8125 \n",
       "Q 36.921875 53.8125 40.40625 51.421875 \n",
       "Q 43.890625 49.03125 45.265625 43.796875 \n",
       "L 45.40625 43.796875 \n",
       "Q 46.578125 46.09375 48.046875 47.953125 \n",
       "Q 49.515625 49.8125 51.46875 51.09375 \n",
       "Q 53.421875 52.390625 55.859375 53.09375 \n",
       "Q 58.296875 53.8125 61.421875 53.8125 \n",
       "Q 65.4375 53.8125 68.328125 52.734375 \n",
       "Q 71.234375 51.65625 73.09375 49.40625 \n",
       "Q 74.953125 47.171875 75.828125 43.625 \n",
       "Q 76.703125 40.09375 76.703125 35.203125 \n",
       "L 76.703125 0 \n",
       "L 68.015625 0 \n",
       "L 68.015625 33.5 \n",
       "Q 68.015625 37.359375 67.53125 39.9375 \n",
       "Q 67.046875 42.53125 65.890625 44.109375 \n",
       "Q 64.75 45.703125 62.890625 46.359375 \n",
       "Q 61.03125 47.015625 58.34375 47.015625 \n",
       "Q 55.5625 47.015625 53.3125 45.96875 \n",
       "Q 51.078125 44.921875 49.484375 42.875 \n",
       "Q 47.90625 40.828125 47.046875 37.75 \n",
       "Q 46.1875 34.671875 46.1875 30.609375 \n",
       "L 46.1875 0 \n",
       "z\n",
       "\" id=\"LiberationSans-109\"/>\n",
       "     <path d=\"M 29.9375 0 \n",
       "L 19.53125 0 \n",
       "L 0.34375 52.828125 \n",
       "L 9.71875 52.828125 \n",
       "L 21.34375 18.453125 \n",
       "Q 21.6875 17.390625 22.140625 15.84375 \n",
       "Q 22.609375 14.3125 23.09375 12.640625 \n",
       "Q 23.578125 10.984375 24 9.4375 \n",
       "Q 24.421875 7.90625 24.703125 6.890625 \n",
       "Q 25 7.90625 25.453125 9.4375 \n",
       "Q 25.921875 10.984375 26.40625 12.59375 \n",
       "Q 26.90625 14.203125 27.421875 15.734375 \n",
       "Q 27.9375 17.28125 28.328125 18.359375 \n",
       "L 40.328125 52.828125 \n",
       "L 49.65625 52.828125 \n",
       "z\n",
       "\" id=\"LiberationSans-118\"/>\n",
       "    </defs>\n",
       "    <g style=\"fill:#262626;\" transform=\"translate(13.585938 25.317187)scale(0.25 -0.25)\">\n",
       "     <use xlink:href=\"#LiberationSans-77\"/>\n",
       "     <use x=\"83.300781\" xlink:href=\"#LiberationSans-111\"/>\n",
       "     <use x=\"138.916016\" xlink:href=\"#LiberationSans-115\"/>\n",
       "     <use x=\"188.916016\" xlink:href=\"#LiberationSans-116\"/>\n",
       "     <use x=\"216.699219\" xlink:href=\"#LiberationSans-32\"/>\n",
       "     <use x=\"244.482422\" xlink:href=\"#LiberationSans-70\"/>\n",
       "     <use x=\"305.566406\" xlink:href=\"#LiberationSans-114\"/>\n",
       "     <use x=\"338.867188\" xlink:href=\"#LiberationSans-101\"/>\n",
       "     <use x=\"394.482422\" xlink:href=\"#LiberationSans-113\"/>\n",
       "     <use x=\"450.097656\" xlink:href=\"#LiberationSans-117\"/>\n",
       "     <use x=\"505.712891\" xlink:href=\"#LiberationSans-101\"/>\n",
       "     <use x=\"561.328125\" xlink:href=\"#LiberationSans-110\"/>\n",
       "     <use x=\"616.943359\" xlink:href=\"#LiberationSans-116\"/>\n",
       "     <use x=\"644.726562\" xlink:href=\"#LiberationSans-32\"/>\n",
       "     <use x=\"672.509766\" xlink:href=\"#LiberationSans-119\"/>\n",
       "     <use x=\"744.726562\" xlink:href=\"#LiberationSans-111\"/>\n",
       "     <use x=\"800.341797\" xlink:href=\"#LiberationSans-114\"/>\n",
       "     <use x=\"833.642578\" xlink:href=\"#LiberationSans-100\"/>\n",
       "     <use x=\"889.257812\" xlink:href=\"#LiberationSans-115\"/>\n",
       "     <use x=\"939.257812\" xlink:href=\"#LiberationSans-32\"/>\n",
       "     <use x=\"967.041016\" xlink:href=\"#LiberationSans-105\"/>\n",
       "     <use x=\"989.257812\" xlink:href=\"#LiberationSans-110\"/>\n",
       "     <use x=\"1044.873047\" xlink:href=\"#LiberationSans-32\"/>\n",
       "     <use x=\"1070.90625\" xlink:href=\"#LiberationSans-84\"/>\n",
       "     <use x=\"1130.240234\" xlink:href=\"#LiberationSans-79\"/>\n",
       "     <use x=\"1208.023438\" xlink:href=\"#LiberationSans-80\"/>\n",
       "     <use x=\"1272.972656\" xlink:href=\"#LiberationSans-32\"/>\n",
       "     <use x=\"1300.755859\" xlink:href=\"#LiberationSans-49\"/>\n",
       "     <use x=\"1356.371094\" xlink:href=\"#LiberationSans-48\"/>\n",
       "     <use x=\"1411.986328\" xlink:href=\"#LiberationSans-48\"/>\n",
       "     <use x=\"1467.601562\" xlink:href=\"#LiberationSans-48\"/>\n",
       "     <use x=\"1523.216797\" xlink:href=\"#LiberationSans-32\"/>\n",
       "     <use x=\"1551\" xlink:href=\"#LiberationSans-114\"/>\n",
       "     <use x=\"1584.300781\" xlink:href=\"#LiberationSans-97\"/>\n",
       "     <use x=\"1639.916016\" xlink:href=\"#LiberationSans-116\"/>\n",
       "     <use x=\"1667.699219\" xlink:href=\"#LiberationSans-101\"/>\n",
       "     <use x=\"1723.314453\" xlink:href=\"#LiberationSans-100\"/>\n",
       "     <use x=\"1778.929688\" xlink:href=\"#LiberationSans-32\"/>\n",
       "     <use x=\"1806.712891\" xlink:href=\"#LiberationSans-109\"/>\n",
       "     <use x=\"1890.013672\" xlink:href=\"#LiberationSans-111\"/>\n",
       "     <use x=\"1945.628906\" xlink:href=\"#LiberationSans-118\"/>\n",
       "     <use x=\"1995.628906\" xlink:href=\"#LiberationSans-105\"/>\n",
       "     <use x=\"2017.845703\" xlink:href=\"#LiberationSans-101\"/>\n",
       "     <use x=\"2073.460938\" xlink:href=\"#LiberationSans-115\"/>\n",
       "    </g>\n",
       "   </g>\n",
       "  </g>\n",
       " </g>\n",
       " <defs>\n",
       "  <clipPath id=\"p1b8a8713b9\">\n",
       "   <rect height=\"543.6\" width=\"543.6\" x=\"7.2\" y=\"31.317187\"/>\n",
       "  </clipPath>\n",
       " </defs>\n",
       "</svg>\n"
      ],
      "text/plain": [
       "<Figure size 720x720 with 1 Axes>"
      ]
     },
     "metadata": {},
     "output_type": "display_data"
    }
   ],
   "source": [
    "import nltk\n",
    "from nltk.corpus import stopwords\n",
    "from nltk.tokenize import RegexpTokenizer\n",
    "from wordcloud import WordCloud\n",
    "\n",
    "stop_words = set(stopwords.words('english'))\n",
    "tokenizer = RegexpTokenizer(r'\\w+')\n",
    "\n",
    "df_aux['overview'] = df_aux.overview.apply(lambda x : x.lower())\n",
    "df_aux['overview'] = df_aux.overview.apply(lambda x : tokenizer.tokenize(x))\n",
    "df_aux['overview'] = df_aux.overview.apply(lambda x : [w for w in x if w not in stop_words])\n",
    "df_aux['overview'] = df_aux.overview.apply(lambda x : ' '.join(x))\n",
    "\n",
    "word_count = df_aux.overview.apply(lambda x: pd.value_counts(x.split(\" \"))).sum(axis = 0).sort_values(ascending=False)\n",
    "word_count = pd.DataFrame({'word' : word_count.index, 'count': word_count.values})\n",
    "# Plot the WordCloud\n",
    "d = {}\n",
    "for a, x in word_count.values:\n",
    "    d[a] = x\n",
    "\n",
    "wordcloud = WordCloud(background_color = 'white',\n",
    "                      max_words = 50,\n",
    "                      width = 2000,\n",
    "                      height = 2000)\n",
    "wordcloud.generate_from_frequencies(frequencies=d)\n",
    "plt.rcParams['figure.figsize'] = (10, 10)\n",
    "plt.imshow(wordcloud, interpolation=\"bilinear\")\n",
    "plt.axis(\"off\")\n",
    "plt.title('Most Frequent words in TOP 1000 rated movies', fontsize = 25)\n",
    "plt.show();"
   ]
  },
  {
   "cell_type": "markdown",
   "metadata": {},
   "source": [
    "The words \"Life\" and \"World\" are commons and connecting with other words like \"Love\", \"Family\", \"Father\" and \"Wife\", we caan conclude most of the movies are Family Friendly. <br>\n",
    "As we can see, the word \"Man\" have a big presence on the Word Cloud, and looking at the Top 10 Movies Rated most movies have a male protagonist. <br>\n",
    "This concludes the EDA and it's time to start to build the model."
   ]
  },
  {
   "cell_type": "code",
   "execution_count": 21,
   "metadata": {
    "_kg_hide-input": true,
    "_kg_hide-output": true
   },
   "outputs": [
    {
     "data": {
      "text/plain": [
       "1646"
      ]
     },
     "execution_count": 21,
     "metadata": {},
     "output_type": "execute_result"
    }
   ],
   "source": [
    "del ratings, df_aux, df_movies\n",
    "gc.collect()"
   ]
  },
  {
   "cell_type": "markdown",
   "metadata": {},
   "source": [
    "<br>\n",
    "<a id='bkground'></a>\n",
    "<div class=\"h2\"><center>Model using PySpark</center></div>\n",
    "<br>"
   ]
  },
  {
   "cell_type": "markdown",
   "metadata": {},
   "source": [
    "Let's start importing all needed models and setting Spark."
   ]
  },
  {
   "cell_type": "code",
   "execution_count": 22,
   "metadata": {
    "_kg_hide-output": true
   },
   "outputs": [],
   "source": [
    "import pyspark.sql.functions as sql_func\n",
    "from pyspark.sql.types import *\n",
    "from pyspark.ml.recommendation import ALS, ALSModel\n",
    "from pyspark.context import SparkContext\n",
    "from pyspark.sql.session import SparkSession\n",
    "from pyspark.mllib.evaluation import RegressionMetrics, RankingMetrics\n",
    "from pyspark.ml.evaluation import RegressionEvaluator\n",
    "\n",
    "sc = SparkContext('local')\n",
    "spark = SparkSession(sc)"
   ]
  },
  {
   "cell_type": "markdown",
   "metadata": {},
   "source": [
    "Create the Schema."
   ]
  },
  {
   "cell_type": "code",
   "execution_count": 23,
   "metadata": {
    "_kg_hide-output": true
   },
   "outputs": [],
   "source": [
    "data_schema = StructType([\n",
    "    StructField('userId', IntegerType(), False),\n",
    "    StructField('movieId', IntegerType(), False),\n",
    "    StructField('rating', FloatType(), False),\n",
    "    StructField('timestamp',IntegerType(), False)\n",
    "])\n",
    "final_stat = spark.read.csv(\n",
    "    '/kaggle/input/the-movies-dataset/ratings.csv', header=True, schema=data_schema\n",
    ").cache()\n",
    "\n",
    "ratings = (final_stat.select(\n",
    "    'userId',\n",
    "    'movieId',\n",
    "    'rating'\n",
    ")).cache()"
   ]
  },
  {
   "cell_type": "markdown",
   "metadata": {},
   "source": [
    "Split in Train (70%) and Test (30%)."
   ]
  },
  {
   "cell_type": "code",
   "execution_count": 24,
   "metadata": {
    "_kg_hide-input": true
   },
   "outputs": [],
   "source": [
    "(training, test) = ratings.randomSplit([0.7, 0.3], seed=42)"
   ]
  },
  {
   "cell_type": "markdown",
   "metadata": {},
   "source": [
    "And train the model, the evaluation will be made on test set using Mean Absolute Error (MAE)."
   ]
  },
  {
   "cell_type": "code",
   "execution_count": 25,
   "metadata": {
    "_kg_hide-input": true,
    "_kg_hide-output": true
   },
   "outputs": [
    {
     "name": "stdout",
     "output_type": "stream",
     "text": [
      "MAE (Test) = 0.6532503679581625\n"
     ]
    }
   ],
   "source": [
    "als = ALS(\n",
    "          rank=30,\n",
    "          maxIter=4, \n",
    "          regParam=0.1,\n",
    "          userCol='userId', \n",
    "          itemCol='movieId', \n",
    "          ratingCol='rating',\n",
    "          coldStartStrategy='drop',\n",
    "          implicitPrefs=False\n",
    "         )\n",
    "model = als.fit(training)\n",
    "\n",
    "predictions = model.transform(test)\n",
    "evaluator = RegressionEvaluator(metricName='mae', labelCol='rating',\n",
    "                                predictionCol='prediction')\n",
    "\n",
    "mae = evaluator.evaluate(predictions)\n",
    "print(f'MAE (Test) = {mae}')"
   ]
  },
  {
   "cell_type": "markdown",
   "metadata": {},
   "source": [
    "And finally, generate the Best recommendation for each user (User Based Recommendation System).\n",
    "The movieId, the first element in recommendations vector, is the same of ratings dataframe."
   ]
  },
  {
   "cell_type": "code",
   "execution_count": 26,
   "metadata": {
    "_kg_hide-input": true
   },
   "outputs": [
    {
     "name": "stdout",
     "output_type": "stream",
     "text": [
      "+------+--------------------+\n",
      "|userId|     recommendations|\n",
      "+------+--------------------+\n",
      "|   148|[[141359, 5.41910...|\n",
      "|   463|[[164937, 4.249379]]|\n",
      "|   471|[[164937, 5.657048]]|\n",
      "|   496|[[173939, 5.35721...|\n",
      "|   833|[[164937, 5.53437...|\n",
      "+------+--------------------+\n",
      "only showing top 5 rows\n",
      "\n"
     ]
    }
   ],
   "source": [
    "model.recommendForAllUsers(1).show(5)"
   ]
  },
  {
   "cell_type": "markdown",
   "metadata": {},
   "source": [
    "Let's see which movie was recommended for a particular userId."
   ]
  },
  {
   "cell_type": "code",
   "execution_count": 27,
   "metadata": {
    "_kg_hide-input": true
   },
   "outputs": [
    {
     "data": {
      "text/html": [
       "<div>\n",
       "<style scoped>\n",
       "    .dataframe tbody tr th:only-of-type {\n",
       "        vertical-align: middle;\n",
       "    }\n",
       "\n",
       "    .dataframe tbody tr th {\n",
       "        vertical-align: top;\n",
       "    }\n",
       "\n",
       "    .dataframe thead th {\n",
       "        text-align: right;\n",
       "    }\n",
       "</style>\n",
       "<table border=\"1\" class=\"dataframe\">\n",
       "  <thead>\n",
       "    <tr style=\"text-align: right;\">\n",
       "      <th></th>\n",
       "      <th>title</th>\n",
       "      <th>overview</th>\n",
       "      <th>vote_average</th>\n",
       "      <th>release_date</th>\n",
       "    </tr>\n",
       "  </thead>\n",
       "  <tbody>\n",
       "    <tr>\n",
       "      <th>0</th>\n",
       "      <td>Hate Story 2</td>\n",
       "      <td>The movie is a revenge thriller with Surveen C...</td>\n",
       "      <td>4.5</td>\n",
       "      <td>2014-07-18</td>\n",
       "    </tr>\n",
       "  </tbody>\n",
       "</table>\n",
       "</div>"
      ],
      "text/plain": [
       "          title                                           overview  \\\n",
       "0  Hate Story 2  The movie is a revenge thriller with Surveen C...   \n",
       "\n",
       "   vote_average release_date  \n",
       "0           4.5   2014-07-18  "
      ]
     },
     "execution_count": 27,
     "metadata": {},
     "output_type": "execute_result"
    }
   ],
   "source": [
    "get_movie_metadata(156589)"
   ]
  },
  {
   "cell_type": "markdown",
   "metadata": {},
   "source": [
    "Show the most recommended user for each movie (Item Based Recommendation System).\n",
    "Again, the movieId is the same of ratings dataframe."
   ]
  },
  {
   "cell_type": "code",
   "execution_count": 28,
   "metadata": {
    "_kg_hide-input": true
   },
   "outputs": [
    {
     "name": "stdout",
     "output_type": "stream",
     "text": [
      "+-------+--------------------+\n",
      "|movieId|     recommendations|\n",
      "+-------+--------------------+\n",
      "|    148|[[88431, 4.3009787]]|\n",
      "|    463|[[159891, 5.03424...|\n",
      "|    471|  [[88431, 5.04418]]|\n",
      "|    496|[[204810, 5.08577...|\n",
      "|    833|[[25578, 4.9585485]]|\n",
      "+-------+--------------------+\n",
      "only showing top 5 rows\n",
      "\n"
     ]
    }
   ],
   "source": [
    "model.recommendForAllItems(1).show(5)"
   ]
  },
  {
   "cell_type": "markdown",
   "metadata": {},
   "source": [
    "And this finish the work!"
   ]
  },
  {
   "cell_type": "markdown",
   "metadata": {},
   "source": [
    "<br>\n",
    "<a id='bkground'></a>\n",
    "<div class=\"h2\"><center>End Notes</center></div>\n",
    "<br>"
   ]
  },
  {
   "cell_type": "markdown",
   "metadata": {},
   "source": [
    "As the Kernel have memory and storage limitations, I couldn't get better results, but what I got was enough to demonstrate how to work with Recommendation Systems in PySpark.\n",
    "\n",
    "Thanks for your reading!"
   ]
  }
 ],
 "metadata": {
  "kernelspec": {
   "display_name": "Python 3",
   "language": "python",
   "name": "python3"
  },
  "language_info": {
   "codemirror_mode": {
    "name": "ipython",
    "version": 3
   },
   "file_extension": ".py",
   "mimetype": "text/x-python",
   "name": "python",
   "nbconvert_exporter": "python",
   "pygments_lexer": "ipython3",
   "version": "3.6.6"
  }
 },
 "nbformat": 4,
 "nbformat_minor": 4
}
